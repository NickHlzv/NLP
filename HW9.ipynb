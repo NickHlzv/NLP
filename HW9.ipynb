{
 "cells": [
  {
   "cell_type": "code",
   "execution_count": 1,
   "metadata": {
    "collapsed": true
   },
   "outputs": [],
   "source": [
    "import tensorflow as tf\n",
    "import numpy as np\n",
    "import os"
   ]
  },
  {
   "cell_type": "code",
   "execution_count": 2,
   "outputs": [],
   "source": [
    "path_to_file = 'evgenyi_onegin.txt'\n",
    "text = open(path_to_file, 'rb').read().decode(encoding='utf-8')"
   ],
   "metadata": {
    "collapsed": false
   }
  },
  {
   "cell_type": "code",
   "execution_count": 3,
   "outputs": [],
   "source": [
    "vocab = sorted(set(text))\n",
    "\n",
    "char2idx = {u: i for i, u in enumerate(vocab)}\n",
    "idx2char = np.array(vocab)\n",
    "text_as_int = np.array([char2idx[c] for c in text])\n",
    "\n",
    "seq_length = 100\n",
    "\n",
    "\n",
    "char_dataset = tf.data.Dataset.from_tensor_slices(text_as_int)\n",
    "sequences = char_dataset.batch(seq_length + 1, drop_remainder=True)"
   ],
   "metadata": {
    "collapsed": false
   }
  },
  {
   "cell_type": "code",
   "execution_count": 4,
   "outputs": [],
   "source": [
    "def split_input_target(chunk):\n",
    "    input_text = chunk[:-1]  # Removes the last character\n",
    "    target_text = chunk[1:]  # Removes the first character\n",
    "    return input_text, target_text"
   ],
   "metadata": {
    "collapsed": false
   }
  },
  {
   "cell_type": "code",
   "execution_count": 5,
   "outputs": [],
   "source": [
    "dataset = sequences.map(split_input_target)"
   ],
   "metadata": {
    "collapsed": false
   }
  },
  {
   "cell_type": "code",
   "execution_count": 6,
   "outputs": [
    {
     "name": "stdout",
     "output_type": "stream",
     "text": [
      "Input data:  'Александр Сергеевич Пушкин\\n\\n                                Евгений Онегин\\n                         '\n",
      "Target data: 'лександр Сергеевич Пушкин\\n\\n                                Евгений Онегин\\n                          '\n"
     ]
    }
   ],
   "source": [
    "for input_example, target_example in  dataset.take(1):\n",
    "  print ('Input data: ', repr(''.join(idx2char[input_example.numpy()])))\n",
    "  print ('Target data:', repr(''.join(idx2char[target_example.numpy()])))"
   ],
   "metadata": {
    "collapsed": false
   }
  },
  {
   "cell_type": "code",
   "execution_count": 7,
   "outputs": [],
   "source": [
    "BATCH_SIZE = 64\n",
    "BUFFER_SIZE = 10000\n",
    "dataset = dataset.shuffle(BUFFER_SIZE).batch(BATCH_SIZE, drop_remainder=True)"
   ],
   "metadata": {
    "collapsed": false
   }
  },
  {
   "cell_type": "code",
   "execution_count": 8,
   "outputs": [],
   "source": [
    "vocab_size = len(vocab)\n",
    "embedding_dim = 256\n",
    "rnn_units = 1024"
   ],
   "metadata": {
    "collapsed": false
   }
  },
  {
   "cell_type": "code",
   "execution_count": 9,
   "outputs": [],
   "source": [
    "def build_model(vocab_size, embedding_dim, rnn_units, batch_size):\n",
    "    model = tf.keras.Sequential([\n",
    "        tf.keras.layers.Embedding(vocab_size, embedding_dim,\n",
    "                                  batch_input_shape=[batch_size, None]),\n",
    "        tf.keras.layers.GRU(rnn_units,\n",
    "                            return_sequences=True,\n",
    "                            stateful=True,\n",
    "                            recurrent_initializer='glorot_uniform'),\n",
    "        tf.keras.layers.Dense(vocab_size)])\n",
    "    return model"
   ],
   "metadata": {
    "collapsed": false
   }
  },
  {
   "cell_type": "code",
   "execution_count": 10,
   "outputs": [],
   "source": [
    "model = build_model(vocab_size=vocab_size,\n",
    "                    embedding_dim=embedding_dim,\n",
    "                    rnn_units=rnn_units,\n",
    "                    batch_size=BATCH_SIZE)"
   ],
   "metadata": {
    "collapsed": false
   }
  },
  {
   "cell_type": "code",
   "execution_count": 11,
   "outputs": [
    {
     "name": "stdout",
     "output_type": "stream",
     "text": [
      "Model: \"sequential\"\n",
      "_________________________________________________________________\n",
      " Layer (type)                Output Shape              Param #   \n",
      "=================================================================\n",
      " embedding (Embedding)       (64, None, 256)           33536     \n",
      "                                                                 \n",
      " gru (GRU)                   (64, None, 1024)          3938304   \n",
      "                                                                 \n",
      " dense (Dense)               (64, None, 131)           134275    \n",
      "                                                                 \n",
      "=================================================================\n",
      "Total params: 4,106,115\n",
      "Trainable params: 4,106,115\n",
      "Non-trainable params: 0\n",
      "_________________________________________________________________\n"
     ]
    }
   ],
   "source": [
    "model.summary()"
   ],
   "metadata": {
    "collapsed": false
   }
  },
  {
   "cell_type": "code",
   "execution_count": 12,
   "outputs": [],
   "source": [
    "def loss(labels, logits):\n",
    "    return tf.keras.losses.sparse_categorical_crossentropy(labels, logits, from_logits=True)\n",
    "\n",
    "model.compile(optimizer='adam', loss=loss)"
   ],
   "metadata": {
    "collapsed": false
   }
  },
  {
   "cell_type": "code",
   "execution_count": 13,
   "outputs": [],
   "source": [
    "# Define checkpoint path for each batch\n",
    "checkpoint_path = \"model_checkpoints/cp-{epoch:04d}.ckpt\"\n",
    "checkpoint_dir = os.path.dirname(checkpoint_path)\n",
    "checkpoint_callback = tf.keras.callbacks.ModelCheckpoint(\n",
    "    filepath=checkpoint_path,\n",
    "    verbose=1,\n",
    "    save_weights_only=True)"
   ],
   "metadata": {
    "collapsed": false
   }
  },
  {
   "cell_type": "code",
   "execution_count": 14,
   "outputs": [
    {
     "name": "stdout",
     "output_type": "stream",
     "text": [
      "Epoch 1/80\n",
      "44/44 [==============================] - ETA: 0s - loss: 2.7666\n",
      "Epoch 1: saving model to model_checkpoints\\cp-0001.ckpt\n",
      "44/44 [==============================] - 74s 2s/step - loss: 2.7666\n",
      "Epoch 2/80\n",
      "44/44 [==============================] - ETA: 0s - loss: 1.7376\n",
      "Epoch 2: saving model to model_checkpoints\\cp-0002.ckpt\n",
      "44/44 [==============================] - 65s 1s/step - loss: 1.7376\n",
      "Epoch 3/80\n",
      "44/44 [==============================] - ETA: 0s - loss: 1.5484\n",
      "Epoch 3: saving model to model_checkpoints\\cp-0003.ckpt\n",
      "44/44 [==============================] - 66s 1s/step - loss: 1.5484\n",
      "Epoch 4/80\n",
      "44/44 [==============================] - ETA: 0s - loss: 1.4109\n",
      "Epoch 4: saving model to model_checkpoints\\cp-0004.ckpt\n",
      "44/44 [==============================] - 68s 2s/step - loss: 1.4109\n",
      "Epoch 5/80\n",
      "44/44 [==============================] - ETA: 0s - loss: 1.3368\n",
      "Epoch 5: saving model to model_checkpoints\\cp-0005.ckpt\n",
      "44/44 [==============================] - 68s 2s/step - loss: 1.3368\n",
      "Epoch 6/80\n",
      "44/44 [==============================] - ETA: 0s - loss: 1.2982\n",
      "Epoch 6: saving model to model_checkpoints\\cp-0006.ckpt\n",
      "44/44 [==============================] - 67s 2s/step - loss: 1.2982\n",
      "Epoch 7/80\n",
      "44/44 [==============================] - ETA: 0s - loss: 1.2719\n",
      "Epoch 7: saving model to model_checkpoints\\cp-0007.ckpt\n",
      "44/44 [==============================] - 71s 2s/step - loss: 1.2719\n",
      "Epoch 8/80\n",
      "44/44 [==============================] - ETA: 0s - loss: 1.2439\n",
      "Epoch 8: saving model to model_checkpoints\\cp-0008.ckpt\n",
      "44/44 [==============================] - 71s 2s/step - loss: 1.2439\n",
      "Epoch 9/80\n",
      "44/44 [==============================] - ETA: 0s - loss: 1.2174\n",
      "Epoch 9: saving model to model_checkpoints\\cp-0009.ckpt\n",
      "44/44 [==============================] - 69s 2s/step - loss: 1.2174\n",
      "Epoch 10/80\n",
      "44/44 [==============================] - ETA: 0s - loss: 1.1926\n",
      "Epoch 10: saving model to model_checkpoints\\cp-0010.ckpt\n",
      "44/44 [==============================] - 69s 2s/step - loss: 1.1926\n",
      "Epoch 11/80\n",
      "44/44 [==============================] - ETA: 0s - loss: 1.1711\n",
      "Epoch 11: saving model to model_checkpoints\\cp-0011.ckpt\n",
      "44/44 [==============================] - 67s 2s/step - loss: 1.1711\n",
      "Epoch 12/80\n",
      "44/44 [==============================] - ETA: 0s - loss: 1.1456\n",
      "Epoch 12: saving model to model_checkpoints\\cp-0012.ckpt\n",
      "44/44 [==============================] - 67s 2s/step - loss: 1.1456\n",
      "Epoch 13/80\n",
      "44/44 [==============================] - ETA: 0s - loss: 1.1224\n",
      "Epoch 13: saving model to model_checkpoints\\cp-0013.ckpt\n",
      "44/44 [==============================] - 68s 2s/step - loss: 1.1224\n",
      "Epoch 14/80\n",
      "44/44 [==============================] - ETA: 0s - loss: 1.1127\n",
      "Epoch 14: saving model to model_checkpoints\\cp-0014.ckpt\n",
      "44/44 [==============================] - 68s 2s/step - loss: 1.1127\n",
      "Epoch 15/80\n",
      "44/44 [==============================] - ETA: 0s - loss: 1.0774\n",
      "Epoch 15: saving model to model_checkpoints\\cp-0015.ckpt\n",
      "44/44 [==============================] - 67s 2s/step - loss: 1.0774\n",
      "Epoch 16/80\n",
      "44/44 [==============================] - ETA: 0s - loss: 1.0512\n",
      "Epoch 16: saving model to model_checkpoints\\cp-0016.ckpt\n",
      "44/44 [==============================] - 76s 2s/step - loss: 1.0512\n",
      "Epoch 17/80\n",
      "44/44 [==============================] - ETA: 0s - loss: 1.0248\n",
      "Epoch 17: saving model to model_checkpoints\\cp-0017.ckpt\n",
      "44/44 [==============================] - 90s 2s/step - loss: 1.0248\n",
      "Epoch 18/80\n",
      "44/44 [==============================] - ETA: 0s - loss: 1.0022\n",
      "Epoch 18: saving model to model_checkpoints\\cp-0018.ckpt\n",
      "44/44 [==============================] - 96s 2s/step - loss: 1.0022\n",
      "Epoch 19/80\n",
      "44/44 [==============================] - ETA: 0s - loss: 0.9704\n",
      "Epoch 19: saving model to model_checkpoints\\cp-0019.ckpt\n",
      "44/44 [==============================] - 77s 2s/step - loss: 0.9704\n",
      "Epoch 20/80\n",
      "44/44 [==============================] - ETA: 0s - loss: 0.9390\n",
      "Epoch 20: saving model to model_checkpoints\\cp-0020.ckpt\n",
      "44/44 [==============================] - 71s 2s/step - loss: 0.9390\n",
      "Epoch 21/80\n",
      "44/44 [==============================] - ETA: 0s - loss: 0.9167\n",
      "Epoch 21: saving model to model_checkpoints\\cp-0021.ckpt\n",
      "44/44 [==============================] - 69s 2s/step - loss: 0.9167\n",
      "Epoch 22/80\n",
      "44/44 [==============================] - ETA: 0s - loss: 0.8821\n",
      "Epoch 22: saving model to model_checkpoints\\cp-0022.ckpt\n",
      "44/44 [==============================] - 70s 2s/step - loss: 0.8821\n",
      "Epoch 23/80\n",
      "44/44 [==============================] - ETA: 0s - loss: 0.8553\n",
      "Epoch 23: saving model to model_checkpoints\\cp-0023.ckpt\n",
      "44/44 [==============================] - 68s 2s/step - loss: 0.8553\n",
      "Epoch 24/80\n",
      "44/44 [==============================] - ETA: 0s - loss: 0.8278\n",
      "Epoch 24: saving model to model_checkpoints\\cp-0024.ckpt\n",
      "44/44 [==============================] - 69s 2s/step - loss: 0.8278\n",
      "Epoch 25/80\n",
      "44/44 [==============================] - ETA: 0s - loss: 0.7878\n",
      "Epoch 25: saving model to model_checkpoints\\cp-0025.ckpt\n",
      "44/44 [==============================] - 69s 2s/step - loss: 0.7878\n",
      "Epoch 26/80\n",
      "44/44 [==============================] - ETA: 0s - loss: 0.7643\n",
      "Epoch 26: saving model to model_checkpoints\\cp-0026.ckpt\n",
      "44/44 [==============================] - 69s 2s/step - loss: 0.7643\n",
      "Epoch 27/80\n",
      "44/44 [==============================] - ETA: 0s - loss: 0.7196\n",
      "Epoch 27: saving model to model_checkpoints\\cp-0027.ckpt\n",
      "44/44 [==============================] - 72s 2s/step - loss: 0.7196\n",
      "Epoch 28/80\n",
      "44/44 [==============================] - ETA: 0s - loss: 0.6796\n",
      "Epoch 28: saving model to model_checkpoints\\cp-0028.ckpt\n",
      "44/44 [==============================] - 73s 2s/step - loss: 0.6796\n",
      "Epoch 29/80\n",
      "44/44 [==============================] - ETA: 0s - loss: 0.6426\n",
      "Epoch 29: saving model to model_checkpoints\\cp-0029.ckpt\n",
      "44/44 [==============================] - 67s 2s/step - loss: 0.6426\n",
      "Epoch 30/80\n",
      "44/44 [==============================] - ETA: 0s - loss: 0.6162\n",
      "Epoch 30: saving model to model_checkpoints\\cp-0030.ckpt\n",
      "44/44 [==============================] - 68s 2s/step - loss: 0.6162\n",
      "Epoch 31/80\n",
      "44/44 [==============================] - ETA: 0s - loss: 0.5706\n",
      "Epoch 31: saving model to model_checkpoints\\cp-0031.ckpt\n",
      "44/44 [==============================] - 71s 2s/step - loss: 0.5706\n",
      "Epoch 32/80\n",
      "44/44 [==============================] - ETA: 0s - loss: 0.5288\n",
      "Epoch 32: saving model to model_checkpoints\\cp-0032.ckpt\n",
      "44/44 [==============================] - 66s 1s/step - loss: 0.5288\n",
      "Epoch 33/80\n",
      "44/44 [==============================] - ETA: 0s - loss: 0.5135\n",
      "Epoch 33: saving model to model_checkpoints\\cp-0033.ckpt\n",
      "44/44 [==============================] - 69s 2s/step - loss: 0.5135\n",
      "Epoch 34/80\n",
      "44/44 [==============================] - ETA: 0s - loss: 0.4727\n",
      "Epoch 34: saving model to model_checkpoints\\cp-0034.ckpt\n",
      "44/44 [==============================] - 70s 2s/step - loss: 0.4727\n",
      "Epoch 35/80\n",
      "44/44 [==============================] - ETA: 0s - loss: 0.4406\n",
      "Epoch 35: saving model to model_checkpoints\\cp-0035.ckpt\n",
      "44/44 [==============================] - 68s 2s/step - loss: 0.4406\n",
      "Epoch 36/80\n",
      "44/44 [==============================] - ETA: 0s - loss: 0.4223\n",
      "Epoch 36: saving model to model_checkpoints\\cp-0036.ckpt\n",
      "44/44 [==============================] - 70s 2s/step - loss: 0.4223\n",
      "Epoch 37/80\n",
      "44/44 [==============================] - ETA: 0s - loss: 0.3925\n",
      "Epoch 37: saving model to model_checkpoints\\cp-0037.ckpt\n",
      "44/44 [==============================] - 69s 2s/step - loss: 0.3925\n",
      "Epoch 38/80\n",
      "44/44 [==============================] - ETA: 0s - loss: 0.3891\n",
      "Epoch 38: saving model to model_checkpoints\\cp-0038.ckpt\n",
      "44/44 [==============================] - 66s 1s/step - loss: 0.3891\n",
      "Epoch 39/80\n",
      "44/44 [==============================] - ETA: 0s - loss: 0.3649\n",
      "Epoch 39: saving model to model_checkpoints\\cp-0039.ckpt\n",
      "44/44 [==============================] - 68s 2s/step - loss: 0.3649\n",
      "Epoch 40/80\n",
      "44/44 [==============================] - ETA: 0s - loss: 0.3563\n",
      "Epoch 40: saving model to model_checkpoints\\cp-0040.ckpt\n",
      "44/44 [==============================] - 68s 2s/step - loss: 0.3563\n",
      "Epoch 41/80\n",
      "44/44 [==============================] - ETA: 0s - loss: 0.3416\n",
      "Epoch 41: saving model to model_checkpoints\\cp-0041.ckpt\n",
      "44/44 [==============================] - 70s 2s/step - loss: 0.3416\n",
      "Epoch 42/80\n",
      "44/44 [==============================] - ETA: 0s - loss: 0.3409\n",
      "Epoch 42: saving model to model_checkpoints\\cp-0042.ckpt\n",
      "44/44 [==============================] - 77s 2s/step - loss: 0.3409\n",
      "Epoch 43/80\n",
      "44/44 [==============================] - ETA: 0s - loss: 0.3271\n",
      "Epoch 43: saving model to model_checkpoints\\cp-0043.ckpt\n",
      "44/44 [==============================] - 71s 2s/step - loss: 0.3271\n",
      "Epoch 44/80\n",
      "44/44 [==============================] - ETA: 0s - loss: 0.3105\n",
      "Epoch 44: saving model to model_checkpoints\\cp-0044.ckpt\n",
      "44/44 [==============================] - 72s 2s/step - loss: 0.3105\n",
      "Epoch 45/80\n",
      "44/44 [==============================] - ETA: 0s - loss: 0.3007\n",
      "Epoch 45: saving model to model_checkpoints\\cp-0045.ckpt\n",
      "44/44 [==============================] - 75s 2s/step - loss: 0.3007\n",
      "Epoch 46/80\n",
      "44/44 [==============================] - ETA: 0s - loss: 0.3081\n",
      "Epoch 46: saving model to model_checkpoints\\cp-0046.ckpt\n",
      "44/44 [==============================] - 74s 2s/step - loss: 0.3081\n",
      "Epoch 47/80\n",
      "44/44 [==============================] - ETA: 0s - loss: 0.3060\n",
      "Epoch 47: saving model to model_checkpoints\\cp-0047.ckpt\n",
      "44/44 [==============================] - 69s 2s/step - loss: 0.3060\n",
      "Epoch 48/80\n",
      "44/44 [==============================] - ETA: 0s - loss: 0.2869\n",
      "Epoch 48: saving model to model_checkpoints\\cp-0048.ckpt\n",
      "44/44 [==============================] - 70s 2s/step - loss: 0.2869\n",
      "Epoch 49/80\n",
      "44/44 [==============================] - ETA: 0s - loss: 0.2768\n",
      "Epoch 49: saving model to model_checkpoints\\cp-0049.ckpt\n",
      "44/44 [==============================] - 72s 2s/step - loss: 0.2768\n",
      "Epoch 50/80\n",
      "44/44 [==============================] - ETA: 0s - loss: 0.2914\n",
      "Epoch 50: saving model to model_checkpoints\\cp-0050.ckpt\n",
      "44/44 [==============================] - 72s 2s/step - loss: 0.2914\n",
      "Epoch 51/80\n",
      "44/44 [==============================] - ETA: 0s - loss: 0.2793\n",
      "Epoch 51: saving model to model_checkpoints\\cp-0051.ckpt\n",
      "44/44 [==============================] - 74s 2s/step - loss: 0.2793\n",
      "Epoch 52/80\n",
      "44/44 [==============================] - ETA: 0s - loss: 0.2630\n",
      "Epoch 52: saving model to model_checkpoints\\cp-0052.ckpt\n",
      "44/44 [==============================] - 68s 2s/step - loss: 0.2630\n",
      "Epoch 53/80\n",
      "44/44 [==============================] - ETA: 0s - loss: 0.2573\n",
      "Epoch 53: saving model to model_checkpoints\\cp-0053.ckpt\n",
      "44/44 [==============================] - 72s 2s/step - loss: 0.2573\n",
      "Epoch 54/80\n",
      "44/44 [==============================] - ETA: 0s - loss: 0.2547\n",
      "Epoch 54: saving model to model_checkpoints\\cp-0054.ckpt\n",
      "44/44 [==============================] - 70s 2s/step - loss: 0.2547\n",
      "Epoch 55/80\n",
      "44/44 [==============================] - ETA: 0s - loss: 0.2636\n",
      "Epoch 55: saving model to model_checkpoints\\cp-0055.ckpt\n",
      "44/44 [==============================] - 73s 2s/step - loss: 0.2636\n",
      "Epoch 56/80\n",
      "44/44 [==============================] - ETA: 0s - loss: 0.2447\n",
      "Epoch 56: saving model to model_checkpoints\\cp-0056.ckpt\n",
      "44/44 [==============================] - 72s 2s/step - loss: 0.2447\n",
      "Epoch 57/80\n",
      "44/44 [==============================] - ETA: 0s - loss: 0.2440\n",
      "Epoch 57: saving model to model_checkpoints\\cp-0057.ckpt\n",
      "44/44 [==============================] - 73s 2s/step - loss: 0.2440\n",
      "Epoch 58/80\n",
      "44/44 [==============================] - ETA: 0s - loss: 0.2493\n",
      "Epoch 58: saving model to model_checkpoints\\cp-0058.ckpt\n",
      "44/44 [==============================] - 74s 2s/step - loss: 0.2493\n",
      "Epoch 59/80\n",
      "44/44 [==============================] - ETA: 0s - loss: 0.2311\n",
      "Epoch 59: saving model to model_checkpoints\\cp-0059.ckpt\n",
      "44/44 [==============================] - 76s 2s/step - loss: 0.2311\n",
      "Epoch 60/80\n",
      "44/44 [==============================] - ETA: 0s - loss: 0.2506\n",
      "Epoch 60: saving model to model_checkpoints\\cp-0060.ckpt\n",
      "44/44 [==============================] - 76s 2s/step - loss: 0.2506\n",
      "Epoch 61/80\n",
      "44/44 [==============================] - ETA: 0s - loss: 0.2426\n",
      "Epoch 61: saving model to model_checkpoints\\cp-0061.ckpt\n",
      "44/44 [==============================] - 73s 2s/step - loss: 0.2426\n",
      "Epoch 62/80\n",
      "44/44 [==============================] - ETA: 0s - loss: 0.2252\n",
      "Epoch 62: saving model to model_checkpoints\\cp-0062.ckpt\n",
      "44/44 [==============================] - 73s 2s/step - loss: 0.2252\n",
      "Epoch 63/80\n",
      "44/44 [==============================] - ETA: 0s - loss: 0.2369\n",
      "Epoch 63: saving model to model_checkpoints\\cp-0063.ckpt\n",
      "44/44 [==============================] - 73s 2s/step - loss: 0.2369\n",
      "Epoch 64/80\n",
      "44/44 [==============================] - ETA: 0s - loss: 0.2260\n",
      "Epoch 64: saving model to model_checkpoints\\cp-0064.ckpt\n",
      "44/44 [==============================] - 73s 2s/step - loss: 0.2260\n",
      "Epoch 65/80\n",
      "44/44 [==============================] - ETA: 0s - loss: 0.2137\n",
      "Epoch 65: saving model to model_checkpoints\\cp-0065.ckpt\n",
      "44/44 [==============================] - 77s 2s/step - loss: 0.2137\n",
      "Epoch 66/80\n",
      "44/44 [==============================] - ETA: 0s - loss: 0.2350\n",
      "Epoch 66: saving model to model_checkpoints\\cp-0066.ckpt\n",
      "44/44 [==============================] - 80s 2s/step - loss: 0.2350\n",
      "Epoch 67/80\n",
      "44/44 [==============================] - ETA: 0s - loss: 0.2081\n",
      "Epoch 67: saving model to model_checkpoints\\cp-0067.ckpt\n",
      "44/44 [==============================] - 76s 2s/step - loss: 0.2081\n",
      "Epoch 68/80\n",
      "44/44 [==============================] - ETA: 0s - loss: 0.2016\n",
      "Epoch 68: saving model to model_checkpoints\\cp-0068.ckpt\n",
      "44/44 [==============================] - 77s 2s/step - loss: 0.2016\n",
      "Epoch 69/80\n",
      "44/44 [==============================] - ETA: 0s - loss: 0.2303\n",
      "Epoch 69: saving model to model_checkpoints\\cp-0069.ckpt\n",
      "44/44 [==============================] - 76s 2s/step - loss: 0.2303\n",
      "Epoch 70/80\n",
      "44/44 [==============================] - ETA: 0s - loss: 0.2018\n",
      "Epoch 70: saving model to model_checkpoints\\cp-0070.ckpt\n",
      "44/44 [==============================] - 78s 2s/step - loss: 0.2018\n",
      "Epoch 71/80\n",
      "44/44 [==============================] - ETA: 0s - loss: 0.1919\n",
      "Epoch 71: saving model to model_checkpoints\\cp-0071.ckpt\n",
      "44/44 [==============================] - 77s 2s/step - loss: 0.1919\n",
      "Epoch 72/80\n",
      "44/44 [==============================] - ETA: 0s - loss: 0.2224\n",
      "Epoch 72: saving model to model_checkpoints\\cp-0072.ckpt\n",
      "44/44 [==============================] - 80s 2s/step - loss: 0.2224\n",
      "Epoch 73/80\n",
      "44/44 [==============================] - ETA: 0s - loss: 0.1931\n",
      "Epoch 73: saving model to model_checkpoints\\cp-0073.ckpt\n",
      "44/44 [==============================] - 78s 2s/step - loss: 0.1931\n",
      "Epoch 74/80\n",
      "44/44 [==============================] - ETA: 0s - loss: 0.2023\n",
      "Epoch 74: saving model to model_checkpoints\\cp-0074.ckpt\n",
      "44/44 [==============================] - 77s 2s/step - loss: 0.2023\n",
      "Epoch 75/80\n",
      "44/44 [==============================] - ETA: 0s - loss: 0.2014\n",
      "Epoch 75: saving model to model_checkpoints\\cp-0075.ckpt\n",
      "44/44 [==============================] - 77s 2s/step - loss: 0.2014\n",
      "Epoch 76/80\n",
      "44/44 [==============================] - ETA: 0s - loss: 0.1882\n",
      "Epoch 76: saving model to model_checkpoints\\cp-0076.ckpt\n",
      "44/44 [==============================] - 76s 2s/step - loss: 0.1882\n",
      "Epoch 77/80\n",
      "44/44 [==============================] - ETA: 0s - loss: 0.1880\n",
      "Epoch 77: saving model to model_checkpoints\\cp-0077.ckpt\n",
      "44/44 [==============================] - 76s 2s/step - loss: 0.1880\n",
      "Epoch 78/80\n",
      "44/44 [==============================] - ETA: 0s - loss: 0.2353\n",
      "Epoch 78: saving model to model_checkpoints\\cp-0078.ckpt\n",
      "44/44 [==============================] - 75s 2s/step - loss: 0.2353\n",
      "Epoch 79/80\n",
      "44/44 [==============================] - ETA: 0s - loss: 0.1969\n",
      "Epoch 79: saving model to model_checkpoints\\cp-0079.ckpt\n",
      "44/44 [==============================] - 74s 2s/step - loss: 0.1969\n",
      "Epoch 80/80\n",
      "44/44 [==============================] - ETA: 0s - loss: 0.1888\n",
      "Epoch 80: saving model to model_checkpoints\\cp-0080.ckpt\n",
      "44/44 [==============================] - 75s 2s/step - loss: 0.1888\n"
     ]
    }
   ],
   "source": [
    "EPOCHS = 80\n",
    "history = model.fit(dataset, epochs=EPOCHS, callbacks=[checkpoint_callback])"
   ],
   "metadata": {
    "collapsed": false
   }
  },
  {
   "cell_type": "code",
   "execution_count": 15,
   "outputs": [],
   "source": [
    "def generate_text(model, start_string, num_generate=1000, temperature=1.0):\n",
    "\n",
    "    input_eval = [char2idx[s] for s in start_string]\n",
    "    input_eval = tf.expand_dims(input_eval, 0)\n",
    "\n",
    "    text_generated = []\n",
    "    model.reset_states()\n",
    "\n",
    "    for _ in range(num_generate):\n",
    "        predictions = model(input_eval)\n",
    "        predictions = tf.squeeze(predictions, 0)\n",
    "\n",
    "        predictions = predictions / temperature\n",
    "        predicted_id = tf.random.categorical(\n",
    "            predictions, num_samples=1)[-1, 0].numpy()\n",
    "\n",
    "        input_eval = tf.expand_dims([predicted_id], 0)\n",
    "\n",
    "        text_generated.append(idx2char[predicted_id])\n",
    "\n",
    "    return (start_string + ''.join(text_generated))"
   ],
   "metadata": {
    "collapsed": false
   }
  },
  {
   "cell_type": "code",
   "execution_count": 16,
   "outputs": [],
   "source": [
    "model = build_model(vocab_size, embedding_dim, rnn_units, batch_size=1)\n",
    "model.load_weights(tf.train.latest_checkpoint(checkpoint_dir))\n",
    "model.build(tf.TensorShape([1, None]))"
   ],
   "metadata": {
    "collapsed": false
   }
  },
  {
   "cell_type": "code",
   "execution_count": 17,
   "outputs": [
    {
     "name": "stdout",
     "output_type": "stream",
     "text": [
      "И вот идет уже друг;\n",
      "                        Крястила при лане музу век\n",
      "                        Знака зы не замечает,\n",
      "                         Походкой твердой, тихо, ровно\n",
      "                        Четыре перешли шага,\n",
      "                               И об Глаза С мечты;\n",
      "                                  S, взорем, я знаю, краса\n",
      "                        Вражда, надежда и забир,\n",
      "                        Что нас за столовые заставил,\n",
      "                             Лета шалун и жизнь робает,\n",
      "                         Была наука страсти нежной,\n",
      "                       Кучты, милые друзья! {40}\n",
      "\n",
      "                                     By, мой пред астой шаровил:\n",
      "                        Она глядит ему в лицо.\n",
      "                       \".\n",
      "                Погрейся о  На шубах у свест гостей                  LII\n",
      "\n",
      "                        Не так ли я? где же вхлу.\n",
      "                        Не разойтиться ль полюбовно?..\n",
      "                       Но, шумом бала утомленный\n",
      "                        И утром должен быть уверен,\n",
      "        \n"
     ]
    }
   ],
   "source": [
    "predicted_text = generate_text(\n",
    "    model, start_string='И вот идет уже ', num_generate=1000, temperature=1.0)\n",
    "\n",
    "print(predicted_text)"
   ],
   "metadata": {
    "collapsed": false
   }
  }
 ],
 "metadata": {
  "kernelspec": {
   "display_name": "Python 3",
   "language": "python",
   "name": "python3"
  },
  "language_info": {
   "codemirror_mode": {
    "name": "ipython",
    "version": 2
   },
   "file_extension": ".py",
   "mimetype": "text/x-python",
   "name": "python",
   "nbconvert_exporter": "python",
   "pygments_lexer": "ipython2",
   "version": "2.7.6"
  }
 },
 "nbformat": 4,
 "nbformat_minor": 0
}
