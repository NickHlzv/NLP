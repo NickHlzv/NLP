{
 "cells": [
  {
   "cell_type": "markdown",
   "source": [
    "### Task_1. GPT для цитат"
   ],
   "metadata": {
    "collapsed": false
   }
  },
  {
   "cell_type": "code",
   "execution_count": 1,
   "outputs": [],
   "source": [
    "import numpy as np\n",
    "import pandas as pd"
   ],
   "metadata": {
    "collapsed": false
   }
  },
  {
   "cell_type": "code",
   "execution_count": 2,
   "outputs": [],
   "source": [
    "pd.options.display.max_colwidth = 300"
   ],
   "metadata": {
    "collapsed": false
   }
  },
  {
   "cell_type": "code",
   "execution_count": 3,
   "outputs": [],
   "source": [
    "import logging\n",
    "from transformers.trainer import logger as noisy_logger\n",
    "noisy_logger.setLevel(logging.WARNING)"
   ],
   "metadata": {
    "collapsed": false
   }
  },
  {
   "cell_type": "code",
   "execution_count": 4,
   "outputs": [],
   "source": [
    "model_name = \"bankholdup/rugpt3_song_writer\""
   ],
   "metadata": {
    "collapsed": false
   }
  },
  {
   "cell_type": "code",
   "execution_count": 5,
   "outputs": [
    {
     "data": {
      "text/plain": "                            date   rating  \\\nid                                          \n1      2004-08-30 11:24:00+00:00  22010.0   \n2      2004-08-30 11:25:00+00:00  25105.0   \n3      2004-08-30 11:27:00+00:00   7192.0   \n4      2004-08-30 11:28:00+00:00  29169.0   \n5      2004-08-30 11:26:00+00:00   7140.0   \n...                          ...      ...   \n463644 2020-11-26 06:12:00+00:00    698.0   \n463645 2020-11-26 06:12:00+00:00    816.0   \n463646 2020-11-26 06:46:00+00:00     88.0   \n463647 2020-11-26 07:11:00+00:00    226.0   \n463648 2020-11-26 07:11:00+00:00    299.0   \n\n                                                                                                                                                                                                                                                                                                               text  \nid                                                                                                                                                                                                                                                                                                                   \n1                                                                                                                                                                                                                               <Ares> ppdv, все юниксы очень дружелюбны.. они просто очень разборчивы в друзьях ;)  \n2                                                                                                       <томатик_рад> а ты не чувствуешь красоту мира?\\n<fox> честно говоря, я сейчас чувствую только отсутствие http.\\n<томатик_рад> не туда смотришь, глянь вокруг!\\n<fox> как я гляну, если http не работает? :/  \n3                                                                                                                                                                                                                                  <Дор> \"мышка, почему у тебя такие большие глаза?\" УЙДИ!!! я ХАРАКИРИ делаю!!!!!!  \n4                                                                                                                                                                                    <PPDV[os2]> \"Мальчики, вы что больные, бегать в палату к девочкам?! - Если б мы были больные - мы б бегали к другим мальчикам\"  \n5                                                                                                                                                                                           <Ohtori_Akio> мы - как разработчики - живём с субейзом под одбц. \\n<Ohtori_Akio> лучше бы мы жили в пещере с гоблинами.  \n...                                                                                                                                                                                                                                                                                                             ...  \n463644                                                                                                                                                                                   xxx: угадайте не гугля, что такое жопиздан!\\nyyy: намекни хотя бы, это география или порнуха?\\nxxx: это бл#%^ job is done!  \n463645  xxx:\\nПосетила шальная мысль заняться собой, жирок сбросить и подкачаться малость. Начал штудировать теорию. Выяснил, что у человека бывает три типа телосложения - эктоморфное, мезоморфное и эндоморфное. Решил с утра начать бегать. Утром проснулся, попытался встать..., понял, что у меня телослож...  \n463646  #всебожьяроса\\nxxx: Судьба айтишников вообще незавидная\\nxxx: Вы должны за копейки обслуживать все компы в организации\\nxxx: Вы должны за копейки поддерживать всех сотрудников организации\\nxxx: Но самое главное\\nxxx: Руководство получает большие бабки и строит из себя \"эффективных менеджеров\"\\nx...  \n463647  Прибывшие на место правоохранители установили, что мужчине нанесли по меньшей мере 12 ударов ножом в область живота и шеи. При этом половые органы убитого были засыпаны кофе и сахаром.\\nxxx: ну вот, а вы не верили, что кофе вреден, а сахар - белая смерть\\nyyy: Мы верили, но не думали, что это де...  \n463648  ххх: вот ребята из английской фирмы TVR (давным-давно, в девяностых) решили построить такой суперкар чтоб все охренели. купили где-то двигло V12 и вточили по заветам Чамберлена. поставили на стенд чтоб мощность померить и порвали дино-стенд.\\nтак что хватит уже про свою уникальность, энтузиасты ...  \n\n[81497 rows x 3 columns]",
      "text/html": "<div>\n<style scoped>\n    .dataframe tbody tr th:only-of-type {\n        vertical-align: middle;\n    }\n\n    .dataframe tbody tr th {\n        vertical-align: top;\n    }\n\n    .dataframe thead th {\n        text-align: right;\n    }\n</style>\n<table border=\"1\" class=\"dataframe\">\n  <thead>\n    <tr style=\"text-align: right;\">\n      <th></th>\n      <th>date</th>\n      <th>rating</th>\n      <th>text</th>\n    </tr>\n    <tr>\n      <th>id</th>\n      <th></th>\n      <th></th>\n      <th></th>\n    </tr>\n  </thead>\n  <tbody>\n    <tr>\n      <th>1</th>\n      <td>2004-08-30 11:24:00+00:00</td>\n      <td>22010.0</td>\n      <td>&lt;Ares&gt; ppdv, все юниксы очень дружелюбны.. они просто очень разборчивы в друзьях ;)</td>\n    </tr>\n    <tr>\n      <th>2</th>\n      <td>2004-08-30 11:25:00+00:00</td>\n      <td>25105.0</td>\n      <td>&lt;томатик_рад&gt; а ты не чувствуешь красоту мира?\\n&lt;fox&gt; честно говоря, я сейчас чувствую только отсутствие http.\\n&lt;томатик_рад&gt; не туда смотришь, глянь вокруг!\\n&lt;fox&gt; как я гляну, если http не работает? :/</td>\n    </tr>\n    <tr>\n      <th>3</th>\n      <td>2004-08-30 11:27:00+00:00</td>\n      <td>7192.0</td>\n      <td>&lt;Дор&gt; \"мышка, почему у тебя такие большие глаза?\" УЙДИ!!! я ХАРАКИРИ делаю!!!!!!</td>\n    </tr>\n    <tr>\n      <th>4</th>\n      <td>2004-08-30 11:28:00+00:00</td>\n      <td>29169.0</td>\n      <td>&lt;PPDV[os2]&gt; \"Мальчики, вы что больные, бегать в палату к девочкам?! - Если б мы были больные - мы б бегали к другим мальчикам\"</td>\n    </tr>\n    <tr>\n      <th>5</th>\n      <td>2004-08-30 11:26:00+00:00</td>\n      <td>7140.0</td>\n      <td>&lt;Ohtori_Akio&gt; мы - как разработчики - живём с субейзом под одбц. \\n&lt;Ohtori_Akio&gt; лучше бы мы жили в пещере с гоблинами.</td>\n    </tr>\n    <tr>\n      <th>...</th>\n      <td>...</td>\n      <td>...</td>\n      <td>...</td>\n    </tr>\n    <tr>\n      <th>463644</th>\n      <td>2020-11-26 06:12:00+00:00</td>\n      <td>698.0</td>\n      <td>xxx: угадайте не гугля, что такое жопиздан!\\nyyy: намекни хотя бы, это география или порнуха?\\nxxx: это бл#%^ job is done!</td>\n    </tr>\n    <tr>\n      <th>463645</th>\n      <td>2020-11-26 06:12:00+00:00</td>\n      <td>816.0</td>\n      <td>xxx:\\nПосетила шальная мысль заняться собой, жирок сбросить и подкачаться малость. Начал штудировать теорию. Выяснил, что у человека бывает три типа телосложения - эктоморфное, мезоморфное и эндоморфное. Решил с утра начать бегать. Утром проснулся, попытался встать..., понял, что у меня телослож...</td>\n    </tr>\n    <tr>\n      <th>463646</th>\n      <td>2020-11-26 06:46:00+00:00</td>\n      <td>88.0</td>\n      <td>#всебожьяроса\\nxxx: Судьба айтишников вообще незавидная\\nxxx: Вы должны за копейки обслуживать все компы в организации\\nxxx: Вы должны за копейки поддерживать всех сотрудников организации\\nxxx: Но самое главное\\nxxx: Руководство получает большие бабки и строит из себя \"эффективных менеджеров\"\\nx...</td>\n    </tr>\n    <tr>\n      <th>463647</th>\n      <td>2020-11-26 07:11:00+00:00</td>\n      <td>226.0</td>\n      <td>Прибывшие на место правоохранители установили, что мужчине нанесли по меньшей мере 12 ударов ножом в область живота и шеи. При этом половые органы убитого были засыпаны кофе и сахаром.\\nxxx: ну вот, а вы не верили, что кофе вреден, а сахар - белая смерть\\nyyy: Мы верили, но не думали, что это де...</td>\n    </tr>\n    <tr>\n      <th>463648</th>\n      <td>2020-11-26 07:11:00+00:00</td>\n      <td>299.0</td>\n      <td>ххх: вот ребята из английской фирмы TVR (давным-давно, в девяностых) решили построить такой суперкар чтоб все охренели. купили где-то двигло V12 и вточили по заветам Чамберлена. поставили на стенд чтоб мощность померить и порвали дино-стенд.\\nтак что хватит уже про свою уникальность, энтузиасты ...</td>\n    </tr>\n  </tbody>\n</table>\n<p>81497 rows × 3 columns</p>\n</div>"
     },
     "execution_count": 5,
     "metadata": {},
     "output_type": "execute_result"
    }
   ],
   "source": [
    "df_rec = pd.read_json('dataset.jsonl', lines=True).set_index('id')\n",
    "df_rec"
   ],
   "metadata": {
    "collapsed": false
   }
  },
  {
   "cell_type": "code",
   "execution_count": 6,
   "outputs": [
    {
     "data": {
      "text/plain": "(81497, 3)"
     },
     "execution_count": 6,
     "metadata": {},
     "output_type": "execute_result"
    }
   ],
   "source": [
    "df_rec.shape"
   ],
   "metadata": {
    "collapsed": false
   }
  },
  {
   "cell_type": "code",
   "execution_count": 7,
   "outputs": [],
   "source": [
    "import re\n",
    "\n",
    "def clear_text(text):\n",
    "    clr_text = re.sub(r\"<.*?>\", \" \", text).lower()\n",
    "    clr_text = summary = re.sub(r\"\\s\", \" \", clr_text)\n",
    "    return clr_text"
   ],
   "metadata": {
    "collapsed": false
   }
  },
  {
   "cell_type": "code",
   "execution_count": 8,
   "outputs": [
    {
     "data": {
      "text/plain": "                            date   rating  \\\nid                                          \n1      2004-08-30 11:24:00+00:00  22010.0   \n2      2004-08-30 11:25:00+00:00  25105.0   \n3      2004-08-30 11:27:00+00:00   7192.0   \n4      2004-08-30 11:28:00+00:00  29169.0   \n5      2004-08-30 11:26:00+00:00   7140.0   \n...                          ...      ...   \n463644 2020-11-26 06:12:00+00:00    698.0   \n463645 2020-11-26 06:12:00+00:00    816.0   \n463646 2020-11-26 06:46:00+00:00     88.0   \n463647 2020-11-26 07:11:00+00:00    226.0   \n463648 2020-11-26 07:11:00+00:00    299.0   \n\n                                                                                                                                                                                                                                                                                                               text  \\\nid                                                                                                                                                                                                                                                                                                                    \n1                                                                                                                                                                                                                               <Ares> ppdv, все юниксы очень дружелюбны.. они просто очень разборчивы в друзьях ;)   \n2                                                                                                       <томатик_рад> а ты не чувствуешь красоту мира?\\n<fox> честно говоря, я сейчас чувствую только отсутствие http.\\n<томатик_рад> не туда смотришь, глянь вокруг!\\n<fox> как я гляну, если http не работает? :/   \n3                                                                                                                                                                                                                                  <Дор> \"мышка, почему у тебя такие большие глаза?\" УЙДИ!!! я ХАРАКИРИ делаю!!!!!!   \n4                                                                                                                                                                                    <PPDV[os2]> \"Мальчики, вы что больные, бегать в палату к девочкам?! - Если б мы были больные - мы б бегали к другим мальчикам\"   \n5                                                                                                                                                                                           <Ohtori_Akio> мы - как разработчики - живём с субейзом под одбц. \\n<Ohtori_Akio> лучше бы мы жили в пещере с гоблинами.   \n...                                                                                                                                                                                                                                                                                                             ...   \n463644                                                                                                                                                                                   xxx: угадайте не гугля, что такое жопиздан!\\nyyy: намекни хотя бы, это география или порнуха?\\nxxx: это бл#%^ job is done!   \n463645  xxx:\\nПосетила шальная мысль заняться собой, жирок сбросить и подкачаться малость. Начал штудировать теорию. Выяснил, что у человека бывает три типа телосложения - эктоморфное, мезоморфное и эндоморфное. Решил с утра начать бегать. Утром проснулся, попытался встать..., понял, что у меня телослож...   \n463646  #всебожьяроса\\nxxx: Судьба айтишников вообще незавидная\\nxxx: Вы должны за копейки обслуживать все компы в организации\\nxxx: Вы должны за копейки поддерживать всех сотрудников организации\\nxxx: Но самое главное\\nxxx: Руководство получает большие бабки и строит из себя \"эффективных менеджеров\"\\nx...   \n463647  Прибывшие на место правоохранители установили, что мужчине нанесли по меньшей мере 12 ударов ножом в область живота и шеи. При этом половые органы убитого были засыпаны кофе и сахаром.\\nxxx: ну вот, а вы не верили, что кофе вреден, а сахар - белая смерть\\nyyy: Мы верили, но не думали, что это де...   \n463648  ххх: вот ребята из английской фирмы TVR (давным-давно, в девяностых) решили построить такой суперкар чтоб все охренели. купили где-то двигло V12 и вточили по заветам Чамберлена. поставили на стенд чтоб мощность померить и порвали дино-стенд.\\nтак что хватит уже про свою уникальность, энтузиасты ...   \n\n                                                                                                                                                                                                                                                                                                         clear_text  \nid                                                                                                                                                                                                                                                                                                                   \n1                                                                                                                                                                                                                                      ppdv, все юниксы очень дружелюбны.. они просто очень разборчивы в друзьях ;)  \n2                                                                                                                                            а ты не чувствуешь красоту мира?   честно говоря, я сейчас чувствую только отсутствие http.   не туда смотришь, глянь вокруг!   как я гляну, если http не работает? :/  \n3                                                                                                                                                                                                                                        \"мышка, почему у тебя такие большие глаза?\" уйди!!! я харакири делаю!!!!!!  \n4                                                                                                                                                                                                \"мальчики, вы что больные, бегать в палату к девочкам?! - если б мы были больные - мы б бегали к другим мальчикам\"  \n5                                                                                                                                                                                                                      мы - как разработчики - живём с субейзом под одбц.    лучше бы мы жили в пещере с гоблинами.  \n...                                                                                                                                                                                                                                                                                                             ...  \n463644                                                                                                                                                                                     xxx: угадайте не гугля, что такое жопиздан! yyy: намекни хотя бы, это география или порнуха? xxx: это бл#%^ job is done!  \n463645  xxx: посетила шальная мысль заняться собой, жирок сбросить и подкачаться малость. начал штудировать теорию. выяснил, что у человека бывает три типа телосложения - эктоморфное, мезоморфное и эндоморфное. решил с утра начать бегать. утром проснулся, попытался встать..., понял, что у меня телосложе...  \n463646  #всебожьяроса xxx: судьба айтишников вообще незавидная xxx: вы должны за копейки обслуживать все компы в организации xxx: вы должны за копейки поддерживать всех сотрудников организации xxx: но самое главное xxx: руководство получает большие бабки и строит из себя \"эффективных менеджеров\" xxx: т....  \n463647  прибывшие на место правоохранители установили, что мужчине нанесли по меньшей мере 12 ударов ножом в область живота и шеи. при этом половые органы убитого были засыпаны кофе и сахаром. xxx: ну вот, а вы не верили, что кофе вреден, а сахар - белая смерть yyy: мы верили, но не думали, что это дейс...  \n463648  ххх: вот ребята из английской фирмы tvr (давным-давно, в девяностых) решили построить такой суперкар чтоб все охренели. купили где-то двигло v12 и вточили по заветам чамберлена. поставили на стенд чтоб мощность померить и порвали дино-стенд. так что хватит уже про свою уникальность, энтузиасты в...  \n\n[81497 rows x 4 columns]",
      "text/html": "<div>\n<style scoped>\n    .dataframe tbody tr th:only-of-type {\n        vertical-align: middle;\n    }\n\n    .dataframe tbody tr th {\n        vertical-align: top;\n    }\n\n    .dataframe thead th {\n        text-align: right;\n    }\n</style>\n<table border=\"1\" class=\"dataframe\">\n  <thead>\n    <tr style=\"text-align: right;\">\n      <th></th>\n      <th>date</th>\n      <th>rating</th>\n      <th>text</th>\n      <th>clear_text</th>\n    </tr>\n    <tr>\n      <th>id</th>\n      <th></th>\n      <th></th>\n      <th></th>\n      <th></th>\n    </tr>\n  </thead>\n  <tbody>\n    <tr>\n      <th>1</th>\n      <td>2004-08-30 11:24:00+00:00</td>\n      <td>22010.0</td>\n      <td>&lt;Ares&gt; ppdv, все юниксы очень дружелюбны.. они просто очень разборчивы в друзьях ;)</td>\n      <td>ppdv, все юниксы очень дружелюбны.. они просто очень разборчивы в друзьях ;)</td>\n    </tr>\n    <tr>\n      <th>2</th>\n      <td>2004-08-30 11:25:00+00:00</td>\n      <td>25105.0</td>\n      <td>&lt;томатик_рад&gt; а ты не чувствуешь красоту мира?\\n&lt;fox&gt; честно говоря, я сейчас чувствую только отсутствие http.\\n&lt;томатик_рад&gt; не туда смотришь, глянь вокруг!\\n&lt;fox&gt; как я гляну, если http не работает? :/</td>\n      <td>а ты не чувствуешь красоту мира?   честно говоря, я сейчас чувствую только отсутствие http.   не туда смотришь, глянь вокруг!   как я гляну, если http не работает? :/</td>\n    </tr>\n    <tr>\n      <th>3</th>\n      <td>2004-08-30 11:27:00+00:00</td>\n      <td>7192.0</td>\n      <td>&lt;Дор&gt; \"мышка, почему у тебя такие большие глаза?\" УЙДИ!!! я ХАРАКИРИ делаю!!!!!!</td>\n      <td>\"мышка, почему у тебя такие большие глаза?\" уйди!!! я харакири делаю!!!!!!</td>\n    </tr>\n    <tr>\n      <th>4</th>\n      <td>2004-08-30 11:28:00+00:00</td>\n      <td>29169.0</td>\n      <td>&lt;PPDV[os2]&gt; \"Мальчики, вы что больные, бегать в палату к девочкам?! - Если б мы были больные - мы б бегали к другим мальчикам\"</td>\n      <td>\"мальчики, вы что больные, бегать в палату к девочкам?! - если б мы были больные - мы б бегали к другим мальчикам\"</td>\n    </tr>\n    <tr>\n      <th>5</th>\n      <td>2004-08-30 11:26:00+00:00</td>\n      <td>7140.0</td>\n      <td>&lt;Ohtori_Akio&gt; мы - как разработчики - живём с субейзом под одбц. \\n&lt;Ohtori_Akio&gt; лучше бы мы жили в пещере с гоблинами.</td>\n      <td>мы - как разработчики - живём с субейзом под одбц.    лучше бы мы жили в пещере с гоблинами.</td>\n    </tr>\n    <tr>\n      <th>...</th>\n      <td>...</td>\n      <td>...</td>\n      <td>...</td>\n      <td>...</td>\n    </tr>\n    <tr>\n      <th>463644</th>\n      <td>2020-11-26 06:12:00+00:00</td>\n      <td>698.0</td>\n      <td>xxx: угадайте не гугля, что такое жопиздан!\\nyyy: намекни хотя бы, это география или порнуха?\\nxxx: это бл#%^ job is done!</td>\n      <td>xxx: угадайте не гугля, что такое жопиздан! yyy: намекни хотя бы, это география или порнуха? xxx: это бл#%^ job is done!</td>\n    </tr>\n    <tr>\n      <th>463645</th>\n      <td>2020-11-26 06:12:00+00:00</td>\n      <td>816.0</td>\n      <td>xxx:\\nПосетила шальная мысль заняться собой, жирок сбросить и подкачаться малость. Начал штудировать теорию. Выяснил, что у человека бывает три типа телосложения - эктоморфное, мезоморфное и эндоморфное. Решил с утра начать бегать. Утром проснулся, попытался встать..., понял, что у меня телослож...</td>\n      <td>xxx: посетила шальная мысль заняться собой, жирок сбросить и подкачаться малость. начал штудировать теорию. выяснил, что у человека бывает три типа телосложения - эктоморфное, мезоморфное и эндоморфное. решил с утра начать бегать. утром проснулся, попытался встать..., понял, что у меня телосложе...</td>\n    </tr>\n    <tr>\n      <th>463646</th>\n      <td>2020-11-26 06:46:00+00:00</td>\n      <td>88.0</td>\n      <td>#всебожьяроса\\nxxx: Судьба айтишников вообще незавидная\\nxxx: Вы должны за копейки обслуживать все компы в организации\\nxxx: Вы должны за копейки поддерживать всех сотрудников организации\\nxxx: Но самое главное\\nxxx: Руководство получает большие бабки и строит из себя \"эффективных менеджеров\"\\nx...</td>\n      <td>#всебожьяроса xxx: судьба айтишников вообще незавидная xxx: вы должны за копейки обслуживать все компы в организации xxx: вы должны за копейки поддерживать всех сотрудников организации xxx: но самое главное xxx: руководство получает большие бабки и строит из себя \"эффективных менеджеров\" xxx: т....</td>\n    </tr>\n    <tr>\n      <th>463647</th>\n      <td>2020-11-26 07:11:00+00:00</td>\n      <td>226.0</td>\n      <td>Прибывшие на место правоохранители установили, что мужчине нанесли по меньшей мере 12 ударов ножом в область живота и шеи. При этом половые органы убитого были засыпаны кофе и сахаром.\\nxxx: ну вот, а вы не верили, что кофе вреден, а сахар - белая смерть\\nyyy: Мы верили, но не думали, что это де...</td>\n      <td>прибывшие на место правоохранители установили, что мужчине нанесли по меньшей мере 12 ударов ножом в область живота и шеи. при этом половые органы убитого были засыпаны кофе и сахаром. xxx: ну вот, а вы не верили, что кофе вреден, а сахар - белая смерть yyy: мы верили, но не думали, что это дейс...</td>\n    </tr>\n    <tr>\n      <th>463648</th>\n      <td>2020-11-26 07:11:00+00:00</td>\n      <td>299.0</td>\n      <td>ххх: вот ребята из английской фирмы TVR (давным-давно, в девяностых) решили построить такой суперкар чтоб все охренели. купили где-то двигло V12 и вточили по заветам Чамберлена. поставили на стенд чтоб мощность померить и порвали дино-стенд.\\nтак что хватит уже про свою уникальность, энтузиасты ...</td>\n      <td>ххх: вот ребята из английской фирмы tvr (давным-давно, в девяностых) решили построить такой суперкар чтоб все охренели. купили где-то двигло v12 и вточили по заветам чамберлена. поставили на стенд чтоб мощность померить и порвали дино-стенд. так что хватит уже про свою уникальность, энтузиасты в...</td>\n    </tr>\n  </tbody>\n</table>\n<p>81497 rows × 4 columns</p>\n</div>"
     },
     "execution_count": 8,
     "metadata": {},
     "output_type": "execute_result"
    }
   ],
   "source": [
    "df_rec[\"clear_text\"] = df_rec[\"text\"].apply(lambda x: clear_text(x))\n",
    "df_rec"
   ],
   "metadata": {
    "collapsed": false
   }
  },
  {
   "cell_type": "code",
   "execution_count": 9,
   "outputs": [],
   "source": [
    "data = df_rec.loc[:, 'clear_text']"
   ],
   "metadata": {
    "collapsed": false
   }
  },
  {
   "cell_type": "code",
   "execution_count": 10,
   "outputs": [],
   "source": [
    "from sklearn.model_selection import train_test_split\n",
    "\n",
    "def build_text_files(data_json, dest_path):\n",
    "    f = open(dest_path, 'w', encoding='UTF-8')\n",
    "    data = ''\n",
    "    for texts in data_json:\n",
    "        summary = str(texts).strip()\n",
    "        data += summary + \"  \"\n",
    "    f.write(data)"
   ],
   "metadata": {
    "collapsed": false
   }
  },
  {
   "cell_type": "code",
   "execution_count": 11,
   "outputs": [],
   "source": [
    "train, test = train_test_split(data, test_size=0.15)\n",
    "\n",
    "build_text_files(train,'train_dataset.txt')\n",
    "build_text_files(test,'test_dataset.txt')"
   ],
   "metadata": {
    "collapsed": false
   }
  },
  {
   "cell_type": "code",
   "execution_count": 12,
   "outputs": [
    {
     "name": "stdout",
     "output_type": "stream",
     "text": [
      "Train dataset length: 69272\n",
      "Test dataset length: 12225\n"
     ]
    }
   ],
   "source": [
    "print(\"Train dataset length: \"+ str(len(train)))\n",
    "print(\"Test dataset length: \"+ str(len(test)))"
   ],
   "metadata": {
    "collapsed": false
   }
  },
  {
   "cell_type": "code",
   "execution_count": 13,
   "outputs": [
    {
     "data": {
      "text/plain": "id\n428854    из жж zems - а почему у вас в иерархии наверху мастер, а внизу - заказчик? наоборот же? - это чтобы было больше нормальных людей. а мудаков меньше. а то они считают, что на объекте главный - это заказчик. с тем же успехом можно иметь гнойный аппендицит, 1000 долларов и святую уверенность, что ра...\n416246    mmm: сижу, проверяю сочинения на тему \"моя любимая игрушка\". один мальчик написал, что его любимая игрушка - майнкрафт. и что у него была проблема ее установить, потому что он не мог скачать джаву, а потом брат ему помог и теперь это его любимая игрушка.  mmm: я даже не знаю, что ему за это став...\n438960                                                                                                                                                                               к новости о новых денежных банкнотах номиналом 200 и 2000 рублей:  xxx: эльдорадо: не, 200 не надо. надо 199,99. чтобы без сдачи\n402247    машечка: просто в основном все эти неформальные группирровки складываются из детишек в переходном возрасте, а им заняться нечем. вот у меня друг детства был. начал общаться с какими то неформалами все - я неформал, причем какой конкретно он сам сказать не мог, неформал и все, потом его типа посв...\n422874                                                                                                                                                                                                                                         комментарий под фото визы в сша: - так вот они какие, права на трактор\n                                                                                                                                                             ...                                                                                                                                                     \n418735                                                                                                                                                                                                                                                  \"опять мужика по стенке гоняешь?\" (отец про assassin's creed)\n448271    из обсуждения австралийских эвкалиптов в лесах калифорнии: ххх: австралия напоминает какой-то фентези мир: огнеопасные деревья, огромные ядовитые пауки, и другие странные звери. yyy: злые кенгуру боксируют на улицах, кролики вместо саранчи, какая-то пьяная утка отдалась бобру и теперь там живут ...\n409890                                                ххх: эхх, молодость.. ххх: у меня окна на школу выходят. ххх: там по двору мальчик с девочкой гуляют. мальчик ну очень хотел её поцеловать ууу: а она? ххх: а девочка всё ломалась. ххх: в конце концов он свалил её в сугроб и закидал снежками  ууу: завалил!\n401232                                                                                             nightwolf: вся жопа в занозах >_< noname: почему? nightwolf: лист фанеры большой, 2х2 метра. чтобы разметку в центре сделать, надо сесть на лист nightwolf: и не двигаясь разметить его nightwolf: а я двинулся...\n442122                                                                                                                                                                                          жена: интересно, что когда я пишу слово вадим (сын), скайп предлагает мне снизу слова: сопли, забрать и расстроилась.\nName: clear_text, Length: 69272, dtype: object"
     },
     "execution_count": 13,
     "metadata": {},
     "output_type": "execute_result"
    }
   ],
   "source": [
    "train"
   ],
   "metadata": {
    "collapsed": false
   }
  },
  {
   "cell_type": "code",
   "execution_count": 14,
   "outputs": [
    {
     "data": {
      "text/plain": "Downloading:   0%|          | 0.00/591 [00:00<?, ?B/s]",
      "application/vnd.jupyter.widget-view+json": {
       "version_major": 2,
       "version_minor": 0,
       "model_id": "faee660e8b594b8e91200be620fb7f9f"
      }
     },
     "metadata": {},
     "output_type": "display_data"
    },
    {
     "name": "stderr",
     "output_type": "stream",
     "text": [
      "C:\\Users\\nikit\\.conda\\envs\\NLP\\lib\\site-packages\\huggingface_hub\\file_download.py:123: UserWarning: `huggingface_hub` cache-system uses symlinks by default to efficiently store duplicated files but your machine does not support them in C:\\Users\\nikit\\.cache\\huggingface\\hub. Caching files will still work but in a degraded version that might require more space on your disk. This warning can be disabled by setting the `HF_HUB_DISABLE_SYMLINKS_WARNING` environment variable. For more details, see https://huggingface.co/docs/huggingface_hub/how-to-cache#limitations.\n",
      "To support symlinks on Windows, you either need to activate Developer Mode or to run Python as an administrator. In order to see activate developer mode, see this article: https://docs.microsoft.com/en-us/windows/apps/get-started/enable-your-device-for-development\n",
      "  warnings.warn(message)\n"
     ]
    },
    {
     "data": {
      "text/plain": "Downloading:   0%|          | 0.00/668 [00:00<?, ?B/s]",
      "application/vnd.jupyter.widget-view+json": {
       "version_major": 2,
       "version_minor": 0,
       "model_id": "c0069fbb8c27469892129886a20e926a"
      }
     },
     "metadata": {},
     "output_type": "display_data"
    },
    {
     "data": {
      "text/plain": "Downloading:   0%|          | 0.00/1.71M [00:00<?, ?B/s]",
      "application/vnd.jupyter.widget-view+json": {
       "version_major": 2,
       "version_minor": 0,
       "model_id": "623d67ac08e14297829256a4d55673d9"
      }
     },
     "metadata": {},
     "output_type": "display_data"
    },
    {
     "data": {
      "text/plain": "Downloading:   0%|          | 0.00/1.27M [00:00<?, ?B/s]",
      "application/vnd.jupyter.widget-view+json": {
       "version_major": 2,
       "version_minor": 0,
       "model_id": "d6f5edef3dc84bc790914582684d1721"
      }
     },
     "metadata": {},
     "output_type": "display_data"
    },
    {
     "data": {
      "text/plain": "Downloading:   0%|          | 0.00/357 [00:00<?, ?B/s]",
      "application/vnd.jupyter.widget-view+json": {
       "version_major": 2,
       "version_minor": 0,
       "model_id": "8728d770943242209cbc25f80a082930"
      }
     },
     "metadata": {},
     "output_type": "display_data"
    },
    {
     "name": "stderr",
     "output_type": "stream",
     "text": [
      "Special tokens have been added in the vocabulary, make sure the associated word embeddings are fine-tuned or trained.\n"
     ]
    }
   ],
   "source": [
    "from transformers import AutoTokenizer\n",
    "\n",
    "tokenizer = AutoTokenizer.from_pretrained(model_name)\n",
    "\n",
    "train_path = 'train_dataset.txt'\n",
    "test_path = 'test_dataset.txt'"
   ],
   "metadata": {
    "collapsed": false
   }
  },
  {
   "cell_type": "code",
   "execution_count": 15,
   "outputs": [
    {
     "name": "stderr",
     "output_type": "stream",
     "text": [
      "C:\\Users\\nikit\\.conda\\envs\\NLP\\lib\\site-packages\\transformers\\data\\datasets\\language_modeling.py:54: FutureWarning: This dataset will be removed from the library soon, preprocessing should be handled with the 🤗 Datasets library. You can have a look at this example script for pointers: https://github.com/huggingface/transformers/blob/main/examples/pytorch/language-modeling/run_mlm.py\n",
      "  warnings.warn(\n"
     ]
    }
   ],
   "source": [
    "from transformers import TextDataset, DataCollatorForLanguageModeling\n",
    "\n",
    "def load_dataset(train_path, test_path, tokenizer):\n",
    "    train_dataset = TextDataset(\n",
    "          tokenizer=tokenizer,\n",
    "          file_path=train_path,\n",
    "          block_size=128)\n",
    "\n",
    "    test_dataset = TextDataset(\n",
    "          tokenizer=tokenizer,\n",
    "          file_path=test_path,\n",
    "          block_size=128)\n",
    "\n",
    "    data_collator = DataCollatorForLanguageModeling(\n",
    "        tokenizer=tokenizer, mlm=False,\n",
    "    )\n",
    "    return train_dataset, test_dataset, data_collator\n",
    "\n",
    "train_dataset, test_dataset, data_collator = load_dataset(train_path, test_path, tokenizer)"
   ],
   "metadata": {
    "collapsed": false
   }
  },
  {
   "cell_type": "code",
   "execution_count": 16,
   "outputs": [
    {
     "data": {
      "text/plain": "Downloading:   0%|          | 0.00/551M [00:00<?, ?B/s]",
      "application/vnd.jupyter.widget-view+json": {
       "version_major": 2,
       "version_minor": 0,
       "model_id": "622d590aa9a54ef79b257d4545ac548e"
      }
     },
     "metadata": {},
     "output_type": "display_data"
    }
   ],
   "source": [
    "from transformers import Trainer, TrainingArguments, AutoModelForCausalLM\n",
    "\n",
    "model = AutoModelForCausalLM.from_pretrained(model_name)"
   ],
   "metadata": {
    "collapsed": false
   }
  },
  {
   "cell_type": "code",
   "execution_count": 17,
   "outputs": [],
   "source": [
    "training_args = TrainingArguments(\n",
    "\n",
    "    \"phrase\",\n",
    "    evaluation_strategy = \"epoch\",\n",
    "    per_device_train_batch_size=4,\n",
    "    per_device_eval_batch_size=4,\n",
    "    num_train_epochs=2,\n",
    "    learning_rate=1e-5,\n",
    "    weight_decay=0.01,\n",
    "    save_strategy='no',\n",
    "    report_to='none',\n",
    "\n",
    "    )"
   ],
   "metadata": {
    "collapsed": false
   }
  },
  {
   "cell_type": "code",
   "execution_count": 18,
   "outputs": [],
   "source": [
    "trainer = Trainer(\n",
    "    model=model,\n",
    "    args=training_args,\n",
    "    data_collator=data_collator,\n",
    "    train_dataset=train_dataset,\n",
    "    eval_dataset=test_dataset\n",
    ")"
   ],
   "metadata": {
    "collapsed": false
   }
  },
  {
   "cell_type": "code",
   "execution_count": 19,
   "outputs": [
    {
     "name": "stderr",
     "output_type": "stream",
     "text": [
      "C:\\Users\\nikit\\.conda\\envs\\NLP\\lib\\site-packages\\transformers\\optimization.py:306: FutureWarning: This implementation of AdamW is deprecated and will be removed in a future version. Use the PyTorch implementation torch.optim.AdamW instead, or set `no_deprecation_warning=True` to disable this warning\n",
      "  warnings.warn(\n"
     ]
    },
    {
     "data": {
      "text/plain": "<IPython.core.display.HTML object>",
      "text/html": "\n    <div>\n      \n      <progress value='2' max='18002' style='width:300px; height:20px; vertical-align: middle;'></progress>\n      [    2/18002 : < :, Epoch 0.00/2]\n    </div>\n    <table border=\"1\" class=\"dataframe\">\n  <thead>\n <tr style=\"text-align: left;\">\n      <th>Epoch</th>\n      <th>Training Loss</th>\n      <th>Validation Loss</th>\n    </tr>\n  </thead>\n  <tbody>\n  </tbody>\n</table><p>"
     },
     "metadata": {},
     "output_type": "display_data"
    },
    {
     "data": {
      "text/plain": "TrainOutput(global_step=18002, training_loss=4.106529771692289, metrics={'train_runtime': 77960.8984, 'train_samples_per_second': 0.924, 'train_steps_per_second': 0.231, 'total_flos': 4703648514048000.0, 'train_loss': 4.106529771692289, 'epoch': 2.0})"
     },
     "execution_count": 19,
     "metadata": {},
     "output_type": "execute_result"
    }
   ],
   "source": [
    "trainer.train()"
   ],
   "metadata": {
    "collapsed": false
   }
  },
  {
   "cell_type": "code",
   "execution_count": 59,
   "outputs": [],
   "source": [
    "def generate_text(prefix):\n",
    "    tokens = tokenizer(prefix, return_tensors='pt')\n",
    "    size = tokens['input_ids'].shape[1]\n",
    "\n",
    "    output = model.generate(\n",
    "        **tokens,\n",
    "        do_sample=False,\n",
    "        max_length=size+50,\n",
    "        early_stopping=True,\n",
    "        length_penalty=2.0,\n",
    "        repetition_penalty=8.,\n",
    "        temperature=0.5,\n",
    "        num_beams=3,\n",
    "        no_repeat_ngram_size=5\n",
    "    )\n",
    "\n",
    "    decoded = tokenizer.decode(output[0])\n",
    "    result = decoded[len(prefix):]\n",
    "    return prefix + result"
   ],
   "metadata": {
    "collapsed": false
   }
  },
  {
   "cell_type": "code",
   "execution_count": 60,
   "outputs": [
    {
     "name": "stderr",
     "output_type": "stream",
     "text": [
      "Setting `pad_token_id` to `eos_token_id`:50256 for open-end generation.\n"
     ]
    },
    {
     "name": "stdout",
     "output_type": "stream",
     "text": [
      "Саня Спи: привет=))  xxx: а у нас на работе в отделе есть один сотрудник, который постоянно что-то делает. и вот однажды он приходит к нам с просьбой помочь ему сделать какую-нибудь работу по дому... ну мы его конечно же не стали ждать\n"
     ]
    }
   ],
   "source": [
    "print(generate_text(\"Саня Спи: привет=))\"))"
   ],
   "metadata": {
    "collapsed": false
   }
  },
  {
   "cell_type": "code",
   "execution_count": 61,
   "outputs": [
    {
     "name": "stderr",
     "output_type": "stream",
     "text": [
      "Setting `pad_token_id` to `eos_token_id`:50256 for open-end generation.\n"
     ]
    },
    {
     "name": "stdout",
     "output_type": "stream",
     "text": [
      "Махакамский спирт.  xxx: у нас на работе есть один чувак, который работает в одной компании с одним и тем же человеком (всё время что-то не так) yyy: а ты его знаешь? ххх: да\n"
     ]
    }
   ],
   "source": [
    "print(generate_text(\"Махакамский спирт\"))"
   ],
   "metadata": {
    "collapsed": false
   }
  },
  {
   "cell_type": "code",
   "execution_count": 62,
   "outputs": [
    {
     "name": "stderr",
     "output_type": "stream",
     "text": [
      "Setting `pad_token_id` to `eos_token_id`:50256 for open-end generation.\n"
     ]
    },
    {
     "name": "stdout",
     "output_type": "stream",
     "text": [
      "Остров сокровищ\"  xxx: у нас на работе есть один сотрудник, который работает в нашей компании. и вот однажды он приходит к нам с вопросом \"а вы не могли бы мне помочь?\". я ему говорю - ну как ты можешь так говорить? а\n"
     ]
    }
   ],
   "source": [
    "print(generate_text(\"Остров сокровищ\"))"
   ],
   "metadata": {
    "collapsed": false
   }
  },
  {
   "cell_type": "markdown",
   "source": [
    "### Task_2. Обучить GPT или T5 для генерации заголовков статьей"
   ],
   "metadata": {
    "collapsed": false
   }
  },
  {
   "cell_type": "code",
   "execution_count": 28,
   "outputs": [
    {
     "data": {
      "text/plain": "LentaRecord(\n    url='https://lenta.ru/news/1914/09/16/hungarnn/',\n    title='1914. Русские войска вступили в\\xa0пределы Венгрии  ',\n    text='Бои у Сопоцкина и Друскеник закончились отступлением германцев. Неприятель, приблизившись с севера к Осовцу начал артиллерийскую борьбу с крепостью. В артиллерийском бою принимают участие тяжелые калибры. С раннего утра 14 сентября огонь достиг значительного напряжения. Попытка германской пехоты пробиться ближе к крепости отражена. В Галиции мы заняли Дембицу. Большая колонна, отступавшая по шоссе от Перемышля к Саноку, обстреливалась с высот нашей батареей и бежала, бросив парки, обоз и автомобили. Вылазки гарнизона Перемышля остаются безуспешными. При продолжающемся отступлении австрийцев обнаруживается полное перемешивание их частей, захватываются новые партии пленных, орудия и прочая материальная часть. На перевале Ужок мы разбили неприятельский отряд, взяли его артиллерию и много пленных и, продолжая преследовать, вступили в пределы Венгрии. «Русский инвалид», 16 сентября 1914 года.',\n    topic='Библиотека',\n    tags='Первая мировая',\n    date=datetime.datetime(1914, 9, 16, 0, 0)\n)"
     },
     "execution_count": 28,
     "metadata": {},
     "output_type": "execute_result"
    }
   ],
   "source": [
    "from corus import load_lenta2\n",
    "\n",
    "path = 'lenta-ru-news.csv.bz2'\n",
    "records = load_lenta2(path)\n",
    "next(records)"
   ],
   "metadata": {
    "collapsed": false
   }
  },
  {
   "cell_type": "code",
   "execution_count": 29,
   "outputs": [],
   "source": [
    "def load_lenta_to_list(path, max_number=None):\n",
    "    records = load_lenta2(path)\n",
    "    texts, titles = [], []\n",
    "    for i, record in enumerate(records):\n",
    "        texts.append(record.text)\n",
    "        titles.append(record.title)\n",
    "        if not max_number is None:\n",
    "            if i >= max_number-1:\n",
    "                break\n",
    "    return texts, titles"
   ],
   "metadata": {
    "collapsed": false
   }
  },
  {
   "cell_type": "code",
   "execution_count": 30,
   "outputs": [
    {
     "name": "stdout",
     "output_type": "stream",
     "text": [
      "20000\n",
      "20000\n"
     ]
    }
   ],
   "source": [
    "texts, titles = load_lenta_to_list(path, max_number=20000)\n",
    "print(len(texts))\n",
    "print(len(titles))"
   ],
   "metadata": {
    "collapsed": false
   }
  },
  {
   "cell_type": "code",
   "execution_count": 31,
   "outputs": [
    {
     "data": {
      "text/plain": "                                                                                                                                                                                                                                                                                                              text  \\\n0      Бои у Сопоцкина и Друскеник закончились отступлением германцев. Неприятель, приблизившись с севера к Осовцу начал артиллерийскую борьбу с крепостью. В артиллерийском бою принимают участие тяжелые калибры. С раннего утра 14 сентября огонь достиг значительного напряжения. Попытка германской пехоты...   \n1      Министерство народного просвещения, в виду происходящих чрезвычайных событий, признало соответственным в день годовщины со дня рождения М.Ю. Лермонтова (2-го октября 1914 года) ограничиться совершением в учебных заведениях панихиды по поэту, отложив празднование юбилея до более благоприятного вр...   \n2      Штабс-капитан П. Н. Нестеров на днях, увидев в районе Желтиева, в Галиции, летящий над нашим расположением австрийский аэроплан, собиравшийся бросить бомбы, взлетел на воздух, атаковал неприятеля и протаранил неприятельский аппарат, предотвратив жертвы в наших войсках. Сам Нестеров при этом поги...   \n3      Фотограф-корреспондент Daily Mirror рассказывает случай, который порадует всех друзей животных. Лейтенант бельгийской артиллерии, руководивший обороной одного из фортов Льежа, ни за что не хотел расстаться с своей собакой — бульдогом. Когда пруссаки пробрались между фортов в самый город, офицеру...   \n4      Лица, приехавшие в Варшаву из Люблина, передают, что туда доставлен «швабский зверь» — взятый в плен прусский майор Прейскер, бывший комендант Калиша. Это — здоровый детина, с типично прусским наглым лицом и мутными глазами. Когда этого «зверя» вели с партией пленных по улице и из толпы раздалис...   \n...                                                                                                                                                                                                                                                                                                            ...   \n19995  Москвич Александр Морозевич одержал черными победу над голландцем Люком ван Вели в третьем туре крупного шахматного турнира в Вейк-ан-Зее. Теперь у российского гроссмейстера 2 1/2 очка после трех туров, и он лидирует вместе со своим соотечественником Гарри Каспаровым. Экс-чемпион мира сыграл бел...   \n19996  19 ведущих высокотехнологичных компаний США объявили о создании альянса, направленного на борьбу с компьютерной преступностью. Главный метод борьбы - координация усилий по защите информации, сообщает CNN. Так, если один из членов организации обнаружит новый вирус или способ взломать защищенную к...   \n19997  В центре Москвы, вблизи станции метро \"Цветной бульвар\", по адресу Печатников переулок, 16, загорелся жилой дом старой постройки, сообщает собственный корреспондент Lenta.Ru. Возгорание возникло в подвале дома, но затем огонь быстро перекинулся выше и открытое горение началось на всех трех этажа...   \n19998  Две бывшие учительницы - американка Энн Бэнкрофт и норвежка Лив Арнесен -  во вторник  на лыжах добрались до Южного полюса, сообщает ИТАР-ТАСС. Женщины намереваются пересечь всю Антарктиду. Стартовав из района Земли Королевы Мод 64 дня назад, они преодолели 2080 километров - это примерно две тре...   \n19999  Компания Kimberly-Clark Corp., производитель всемирно известных гигиенических средств Kleenex, Huggies и Kotex, объявила о скором поступлении в продажу туалетной бумаги нового поколения, сообщает Associated Press. Речь идет о бумаге, которая будет продаваться в привычных рулонах, но при этом вла...   \n\n                                                                           title  \n0                              1914. Русские войска вступили в пределы Венгрии    \n1                          1914. Празднование столетия М.Ю. Лермонтова отложено   \n2                                                       1914. Das ist Nesteroff!  \n3                                                1914. Бульдог-гонец под Льежем   \n4                                       1914. Под Люблином пойман швабский зверь  \n...                                                                          ...  \n19995  Шахматный турнире в Вейк-ан-Зее: Морозевич побеждает и догоняет Каспарова  \n19996                    Компьютерные гиганты объединяются для борьбы с хакерами  \n19997       Пожарные так спешили на пожар, что попали в аварию на Садовом кольце  \n19998                     Две бывшие учительницы дошли на лыжах до Южного полюса  \n19999           В США идут секретные испытания туалетной бумаги нового поколения  \n\n[20000 rows x 2 columns]",
      "text/html": "<div>\n<style scoped>\n    .dataframe tbody tr th:only-of-type {\n        vertical-align: middle;\n    }\n\n    .dataframe tbody tr th {\n        vertical-align: top;\n    }\n\n    .dataframe thead th {\n        text-align: right;\n    }\n</style>\n<table border=\"1\" class=\"dataframe\">\n  <thead>\n    <tr style=\"text-align: right;\">\n      <th></th>\n      <th>text</th>\n      <th>title</th>\n    </tr>\n  </thead>\n  <tbody>\n    <tr>\n      <th>0</th>\n      <td>Бои у Сопоцкина и Друскеник закончились отступлением германцев. Неприятель, приблизившись с севера к Осовцу начал артиллерийскую борьбу с крепостью. В артиллерийском бою принимают участие тяжелые калибры. С раннего утра 14 сентября огонь достиг значительного напряжения. Попытка германской пехоты...</td>\n      <td>1914. Русские войска вступили в пределы Венгрии</td>\n    </tr>\n    <tr>\n      <th>1</th>\n      <td>Министерство народного просвещения, в виду происходящих чрезвычайных событий, признало соответственным в день годовщины со дня рождения М.Ю. Лермонтова (2-го октября 1914 года) ограничиться совершением в учебных заведениях панихиды по поэту, отложив празднование юбилея до более благоприятного вр...</td>\n      <td>1914. Празднование столетия М.Ю. Лермонтова отложено</td>\n    </tr>\n    <tr>\n      <th>2</th>\n      <td>Штабс-капитан П. Н. Нестеров на днях, увидев в районе Желтиева, в Галиции, летящий над нашим расположением австрийский аэроплан, собиравшийся бросить бомбы, взлетел на воздух, атаковал неприятеля и протаранил неприятельский аппарат, предотвратив жертвы в наших войсках. Сам Нестеров при этом поги...</td>\n      <td>1914. Das ist Nesteroff!</td>\n    </tr>\n    <tr>\n      <th>3</th>\n      <td>Фотограф-корреспондент Daily Mirror рассказывает случай, который порадует всех друзей животных. Лейтенант бельгийской артиллерии, руководивший обороной одного из фортов Льежа, ни за что не хотел расстаться с своей собакой — бульдогом. Когда пруссаки пробрались между фортов в самый город, офицеру...</td>\n      <td>1914. Бульдог-гонец под Льежем</td>\n    </tr>\n    <tr>\n      <th>4</th>\n      <td>Лица, приехавшие в Варшаву из Люблина, передают, что туда доставлен «швабский зверь» — взятый в плен прусский майор Прейскер, бывший комендант Калиша. Это — здоровый детина, с типично прусским наглым лицом и мутными глазами. Когда этого «зверя» вели с партией пленных по улице и из толпы раздалис...</td>\n      <td>1914. Под Люблином пойман швабский зверь</td>\n    </tr>\n    <tr>\n      <th>...</th>\n      <td>...</td>\n      <td>...</td>\n    </tr>\n    <tr>\n      <th>19995</th>\n      <td>Москвич Александр Морозевич одержал черными победу над голландцем Люком ван Вели в третьем туре крупного шахматного турнира в Вейк-ан-Зее. Теперь у российского гроссмейстера 2 1/2 очка после трех туров, и он лидирует вместе со своим соотечественником Гарри Каспаровым. Экс-чемпион мира сыграл бел...</td>\n      <td>Шахматный турнире в Вейк-ан-Зее: Морозевич побеждает и догоняет Каспарова</td>\n    </tr>\n    <tr>\n      <th>19996</th>\n      <td>19 ведущих высокотехнологичных компаний США объявили о создании альянса, направленного на борьбу с компьютерной преступностью. Главный метод борьбы - координация усилий по защите информации, сообщает CNN. Так, если один из членов организации обнаружит новый вирус или способ взломать защищенную к...</td>\n      <td>Компьютерные гиганты объединяются для борьбы с хакерами</td>\n    </tr>\n    <tr>\n      <th>19997</th>\n      <td>В центре Москвы, вблизи станции метро \"Цветной бульвар\", по адресу Печатников переулок, 16, загорелся жилой дом старой постройки, сообщает собственный корреспондент Lenta.Ru. Возгорание возникло в подвале дома, но затем огонь быстро перекинулся выше и открытое горение началось на всех трех этажа...</td>\n      <td>Пожарные так спешили на пожар, что попали в аварию на Садовом кольце</td>\n    </tr>\n    <tr>\n      <th>19998</th>\n      <td>Две бывшие учительницы - американка Энн Бэнкрофт и норвежка Лив Арнесен -  во вторник  на лыжах добрались до Южного полюса, сообщает ИТАР-ТАСС. Женщины намереваются пересечь всю Антарктиду. Стартовав из района Земли Королевы Мод 64 дня назад, они преодолели 2080 километров - это примерно две тре...</td>\n      <td>Две бывшие учительницы дошли на лыжах до Южного полюса</td>\n    </tr>\n    <tr>\n      <th>19999</th>\n      <td>Компания Kimberly-Clark Corp., производитель всемирно известных гигиенических средств Kleenex, Huggies и Kotex, объявила о скором поступлении в продажу туалетной бумаги нового поколения, сообщает Associated Press. Речь идет о бумаге, которая будет продаваться в привычных рулонах, но при этом вла...</td>\n      <td>В США идут секретные испытания туалетной бумаги нового поколения</td>\n    </tr>\n  </tbody>\n</table>\n<p>20000 rows × 2 columns</p>\n</div>"
     },
     "execution_count": 31,
     "metadata": {},
     "output_type": "execute_result"
    }
   ],
   "source": [
    "df = pd.DataFrame({'text':texts, 'title':titles})\n",
    "df"
   ],
   "metadata": {
    "collapsed": false
   }
  },
  {
   "cell_type": "code",
   "execution_count": 32,
   "outputs": [],
   "source": [
    "from sklearn.model_selection import train_test_split\n",
    "\n",
    "df_train, df_test = train_test_split(df, test_size=0.1, random_state=1)"
   ],
   "metadata": {
    "collapsed": false
   }
  },
  {
   "cell_type": "code",
   "execution_count": 33,
   "outputs": [
    {
     "data": {
      "text/plain": "DatasetDict({\n    train: Dataset({\n        features: ['text', 'title', '__index_level_0__'],\n        num_rows: 18000\n    })\n    test: Dataset({\n        features: ['text', 'title', '__index_level_0__'],\n        num_rows: 2000\n    })\n})"
     },
     "execution_count": 33,
     "metadata": {},
     "output_type": "execute_result"
    }
   ],
   "source": [
    "from datasets import Dataset, DatasetDict\n",
    "\n",
    "ds_data = DatasetDict({\n",
    "    'train': Dataset.from_pandas(df_train),\n",
    "    'test': Dataset.from_pandas(df_test)\n",
    "})\n",
    "\n",
    "ds_data"
   ],
   "metadata": {
    "collapsed": false
   }
  },
  {
   "cell_type": "code",
   "execution_count": 34,
   "outputs": [
    {
     "data": {
      "text/plain": "(1111, 18)"
     },
     "execution_count": 34,
     "metadata": {},
     "output_type": "execute_result"
    }
   ],
   "source": [
    "max_len_text = max(map(lambda txt: len(txt.split()), ds_data['train']['text']))\n",
    "max_len_tl = max(map(lambda txt: len(txt.split()), ds_data['train']['title']))\n",
    "max_len_text, max_len_tl"
   ],
   "metadata": {
    "collapsed": false
   }
  },
  {
   "cell_type": "code",
   "execution_count": 35,
   "outputs": [],
   "source": [
    "max_len_text, max_len_tl = 512, 20"
   ],
   "metadata": {
    "collapsed": false
   }
  },
  {
   "cell_type": "code",
   "execution_count": 36,
   "outputs": [],
   "source": [
    "model_name_2 = \"IlyaGusev/rut5_base_sum_gazeta\""
   ],
   "metadata": {
    "collapsed": false
   }
  },
  {
   "cell_type": "code",
   "execution_count": 37,
   "outputs": [
    {
     "data": {
      "text/plain": "Downloading:   0%|          | 0.00/279 [00:00<?, ?B/s]",
      "application/vnd.jupyter.widget-view+json": {
       "version_major": 2,
       "version_minor": 0,
       "model_id": "d13250c063b54828932f0721d9f9ac4d"
      }
     },
     "metadata": {},
     "output_type": "display_data"
    },
    {
     "data": {
      "text/plain": "Downloading:   0%|          | 0.00/828k [00:00<?, ?B/s]",
      "application/vnd.jupyter.widget-view+json": {
       "version_major": 2,
       "version_minor": 0,
       "model_id": "0e8f2d8860a4421698520b0d241fe5b1"
      }
     },
     "metadata": {},
     "output_type": "display_data"
    },
    {
     "data": {
      "text/plain": "Downloading:   0%|          | 0.00/1.31M [00:00<?, ?B/s]",
      "application/vnd.jupyter.widget-view+json": {
       "version_major": 2,
       "version_minor": 0,
       "model_id": "495693ece47c41e882f8ff0b926cf644"
      }
     },
     "metadata": {},
     "output_type": "display_data"
    },
    {
     "data": {
      "text/plain": "Downloading:   0%|          | 0.00/65.0 [00:00<?, ?B/s]",
      "application/vnd.jupyter.widget-view+json": {
       "version_major": 2,
       "version_minor": 0,
       "model_id": "e1d30a1b26ed4e92b75589b52615369c"
      }
     },
     "metadata": {},
     "output_type": "display_data"
    },
    {
     "name": "stderr",
     "output_type": "stream",
     "text": [
      "loading file spiece.model from cache at C:\\Users\\nikit/.cache\\huggingface\\hub\\models--IlyaGusev--rut5_base_sum_gazeta\\snapshots\\f09a08cae5d74c70e55da1a6ebb49f88c26f433b\\spiece.model\n",
      "loading file tokenizer.json from cache at C:\\Users\\nikit/.cache\\huggingface\\hub\\models--IlyaGusev--rut5_base_sum_gazeta\\snapshots\\f09a08cae5d74c70e55da1a6ebb49f88c26f433b\\tokenizer.json\n",
      "loading file added_tokens.json from cache at None\n",
      "loading file special_tokens_map.json from cache at C:\\Users\\nikit/.cache\\huggingface\\hub\\models--IlyaGusev--rut5_base_sum_gazeta\\snapshots\\f09a08cae5d74c70e55da1a6ebb49f88c26f433b\\special_tokens_map.json\n",
      "loading file tokenizer_config.json from cache at C:\\Users\\nikit/.cache\\huggingface\\hub\\models--IlyaGusev--rut5_base_sum_gazeta\\snapshots\\f09a08cae5d74c70e55da1a6ebb49f88c26f433b\\tokenizer_config.json\n"
     ]
    }
   ],
   "source": [
    "tokenizer_2 = AutoTokenizer.from_pretrained(model_name_2)"
   ],
   "metadata": {
    "collapsed": false
   }
  },
  {
   "cell_type": "code",
   "execution_count": 38,
   "outputs": [
    {
     "data": {
      "text/plain": "  0%|          | 0/2250 [00:00<?, ?ba/s]",
      "application/vnd.jupyter.widget-view+json": {
       "version_major": 2,
       "version_minor": 0,
       "model_id": "a3652250e4be42bd8b7fca327d82c9b2"
      }
     },
     "metadata": {},
     "output_type": "display_data"
    },
    {
     "data": {
      "text/plain": "  0%|          | 0/250 [00:00<?, ?ba/s]",
      "application/vnd.jupyter.widget-view+json": {
       "version_major": 2,
       "version_minor": 0,
       "model_id": "641b14c65ab34f348e2f08388371d16b"
      }
     },
     "metadata": {},
     "output_type": "display_data"
    }
   ],
   "source": [
    "def tokenize(batch):\n",
    "    tokenized_input = tokenizer_2(batch['text'], padding='max_length', truncation=True, max_length=max_len_text)\n",
    "    tokenized_label = tokenizer_2(batch['title'], padding='max_length', truncation=True, max_length=max_len_tl)\n",
    "\n",
    "    tokenized_input['labels'] = tokenized_label['input_ids']\n",
    "\n",
    "    return tokenized_input\n",
    "\n",
    "ds_data = ds_data.map(tokenize, batched=True, batch_size=8)\n",
    "\n",
    "ds_data.set_format('numpy', columns=['input_ids', 'attention_mask', 'labels'])"
   ],
   "metadata": {
    "collapsed": false
   }
  },
  {
   "cell_type": "code",
   "execution_count": 39,
   "outputs": [],
   "source": [
    "from transformers import DataCollatorForTokenClassification\n",
    "\n",
    "data_collator_2 = DataCollatorForTokenClassification(tokenizer_2)"
   ],
   "metadata": {
    "collapsed": false
   }
  },
  {
   "cell_type": "code",
   "execution_count": 40,
   "outputs": [
    {
     "data": {
      "text/plain": "Downloading:   0%|          | 0.00/766 [00:00<?, ?B/s]",
      "application/vnd.jupyter.widget-view+json": {
       "version_major": 2,
       "version_minor": 0,
       "model_id": "827740ee717242b0a26daa71a46b8b49"
      }
     },
     "metadata": {},
     "output_type": "display_data"
    },
    {
     "name": "stderr",
     "output_type": "stream",
     "text": [
      "loading configuration file config.json from cache at C:\\Users\\nikit/.cache\\huggingface\\hub\\models--IlyaGusev--rut5_base_sum_gazeta\\snapshots\\f09a08cae5d74c70e55da1a6ebb49f88c26f433b\\config.json\n",
      "Model config T5Config {\n",
      "  \"_name_or_path\": \"cointegrated/rut5-base\",\n",
      "  \"architectures\": [\n",
      "    \"T5ForConditionalGeneration\"\n",
      "  ],\n",
      "  \"bos_token_id\": 2,\n",
      "  \"d_ff\": 2048,\n",
      "  \"d_kv\": 64,\n",
      "  \"d_model\": 768,\n",
      "  \"decoder_start_token_id\": 2,\n",
      "  \"dense_act_fn\": \"gelu_new\",\n",
      "  \"dropout_rate\": 0.1,\n",
      "  \"eos_token_id\": 1,\n",
      "  \"feed_forward_proj\": \"gated-gelu\",\n",
      "  \"initializer_factor\": 1.0,\n",
      "  \"is_encoder_decoder\": true,\n",
      "  \"is_gated_act\": true,\n",
      "  \"layer_norm_epsilon\": 1e-06,\n",
      "  \"max_length\": 200,\n",
      "  \"model_type\": \"t5\",\n",
      "  \"num_beams\": 5,\n",
      "  \"num_decoder_layers\": 12,\n",
      "  \"num_heads\": 12,\n",
      "  \"num_layers\": 12,\n",
      "  \"output_past\": true,\n",
      "  \"pad_token_id\": 0,\n",
      "  \"relative_attention_max_distance\": 128,\n",
      "  \"relative_attention_num_buckets\": 32,\n",
      "  \"tie_word_embeddings\": false,\n",
      "  \"tokenizer_class\": \"T5Tokenizer\",\n",
      "  \"torch_dtype\": \"float32\",\n",
      "  \"transformers_version\": \"4.25.1\",\n",
      "  \"use_cache\": true,\n",
      "  \"vocab_size\": 30000\n",
      "}\n",
      "\n"
     ]
    },
    {
     "data": {
      "text/plain": "Downloading:   0%|          | 0.00/977M [00:00<?, ?B/s]",
      "application/vnd.jupyter.widget-view+json": {
       "version_major": 2,
       "version_minor": 0,
       "model_id": "40e6fe4f6fa143ddb319b5fcbed2dbf5"
      }
     },
     "metadata": {},
     "output_type": "display_data"
    },
    {
     "name": "stderr",
     "output_type": "stream",
     "text": [
      "loading weights file pytorch_model.bin from cache at C:\\Users\\nikit/.cache\\huggingface\\hub\\models--IlyaGusev--rut5_base_sum_gazeta\\snapshots\\f09a08cae5d74c70e55da1a6ebb49f88c26f433b\\pytorch_model.bin\n",
      "All model checkpoint weights were used when initializing T5ForConditionalGeneration.\n",
      "\n",
      "All the weights of T5ForConditionalGeneration were initialized from the model checkpoint at IlyaGusev/rut5_base_sum_gazeta.\n",
      "If your task is similar to the task the model of the checkpoint was trained on, you can already use T5ForConditionalGeneration for predictions without further training.\n"
     ]
    }
   ],
   "source": [
    "from transformers import T5ForConditionalGeneration, Trainer, TrainingArguments\n",
    "\n",
    "\n",
    "model_2 = T5ForConditionalGeneration.from_pretrained(model_name_2)"
   ],
   "metadata": {
    "collapsed": false
   }
  },
  {
   "cell_type": "code",
   "execution_count": 41,
   "outputs": [
    {
     "name": "stderr",
     "output_type": "stream",
     "text": [
      "PyTorch: setting up devices\n"
     ]
    }
   ],
   "source": [
    "training_args_2 = TrainingArguments(\n",
    "    \"gen_title\",\n",
    "    evaluation_strategy = \"epoch\",\n",
    "    learning_rate=1e-5,\n",
    "    per_device_train_batch_size=2,\n",
    "    per_device_eval_batch_size=2,\n",
    "    num_train_epochs= 2,\n",
    "    remove_unused_columns=True, # Removes useless columns from the dataset\n",
    "    save_strategy='no',\n",
    "    report_to='none',\n",
    ")"
   ],
   "metadata": {
    "collapsed": false
   }
  },
  {
   "cell_type": "code",
   "execution_count": 42,
   "outputs": [
    {
     "name": "stderr",
     "output_type": "stream",
     "text": [
      "C:\\Users\\nikit\\.conda\\envs\\NLP\\lib\\site-packages\\transformers\\optimization.py:306: FutureWarning: This implementation of AdamW is deprecated and will be removed in a future version. Use the PyTorch implementation torch.optim.AdamW instead, or set `no_deprecation_warning=True` to disable this warning\n",
      "  warnings.warn(\n",
      "You're using a T5TokenizerFast tokenizer. Please note that with a fast tokenizer, using the `__call__` method is faster than using a method to encode the text followed by a call to the `pad` method to get a padded encoding.\n"
     ]
    },
    {
     "data": {
      "text/plain": "<IPython.core.display.HTML object>",
      "text/html": "\n    <div>\n      \n      <progress value='2' max='18000' style='width:300px; height:20px; vertical-align: middle;'></progress>\n      [    2/18000 : < :, Epoch 0.00/2]\n    </div>\n    <table border=\"1\" class=\"dataframe\">\n  <thead>\n <tr style=\"text-align: left;\">\n      <th>Epoch</th>\n      <th>Training Loss</th>\n      <th>Validation Loss</th>\n    </tr>\n  </thead>\n  <tbody>\n  </tbody>\n</table><p>"
     },
     "metadata": {},
     "output_type": "display_data"
    },
    {
     "ename": "KeyboardInterrupt",
     "evalue": "",
     "output_type": "error",
     "traceback": [
      "\u001B[1;31m---------------------------------------------------------------------------\u001B[0m",
      "\u001B[1;31mKeyboardInterrupt\u001B[0m                         Traceback (most recent call last)",
      "Input \u001B[1;32mIn [42]\u001B[0m, in \u001B[0;36m<cell line: 10>\u001B[1;34m()\u001B[0m\n\u001B[0;32m      1\u001B[0m trainer_2 \u001B[38;5;241m=\u001B[39m Trainer(\n\u001B[0;32m      2\u001B[0m     model\u001B[38;5;241m=\u001B[39mmodel_2,\n\u001B[0;32m      3\u001B[0m     args\u001B[38;5;241m=\u001B[39mtraining_args_2,\n\u001B[1;32m   (...)\u001B[0m\n\u001B[0;32m      7\u001B[0m     tokenizer\u001B[38;5;241m=\u001B[39mtokenizer_2,\n\u001B[0;32m      8\u001B[0m )\n\u001B[1;32m---> 10\u001B[0m \u001B[43mtrainer_2\u001B[49m\u001B[38;5;241;43m.\u001B[39;49m\u001B[43mtrain\u001B[49m\u001B[43m(\u001B[49m\u001B[43m)\u001B[49m\n",
      "File \u001B[1;32m~\\.conda\\envs\\NLP\\lib\\site-packages\\transformers\\trainer.py:1527\u001B[0m, in \u001B[0;36mTrainer.train\u001B[1;34m(self, resume_from_checkpoint, trial, ignore_keys_for_eval, **kwargs)\u001B[0m\n\u001B[0;32m   1522\u001B[0m     \u001B[38;5;28mself\u001B[39m\u001B[38;5;241m.\u001B[39mmodel_wrapped \u001B[38;5;241m=\u001B[39m \u001B[38;5;28mself\u001B[39m\u001B[38;5;241m.\u001B[39mmodel\n\u001B[0;32m   1524\u001B[0m inner_training_loop \u001B[38;5;241m=\u001B[39m find_executable_batch_size(\n\u001B[0;32m   1525\u001B[0m     \u001B[38;5;28mself\u001B[39m\u001B[38;5;241m.\u001B[39m_inner_training_loop, \u001B[38;5;28mself\u001B[39m\u001B[38;5;241m.\u001B[39m_train_batch_size, args\u001B[38;5;241m.\u001B[39mauto_find_batch_size\n\u001B[0;32m   1526\u001B[0m )\n\u001B[1;32m-> 1527\u001B[0m \u001B[38;5;28;01mreturn\u001B[39;00m \u001B[43minner_training_loop\u001B[49m\u001B[43m(\u001B[49m\n\u001B[0;32m   1528\u001B[0m \u001B[43m    \u001B[49m\u001B[43margs\u001B[49m\u001B[38;5;241;43m=\u001B[39;49m\u001B[43margs\u001B[49m\u001B[43m,\u001B[49m\n\u001B[0;32m   1529\u001B[0m \u001B[43m    \u001B[49m\u001B[43mresume_from_checkpoint\u001B[49m\u001B[38;5;241;43m=\u001B[39;49m\u001B[43mresume_from_checkpoint\u001B[49m\u001B[43m,\u001B[49m\n\u001B[0;32m   1530\u001B[0m \u001B[43m    \u001B[49m\u001B[43mtrial\u001B[49m\u001B[38;5;241;43m=\u001B[39;49m\u001B[43mtrial\u001B[49m\u001B[43m,\u001B[49m\n\u001B[0;32m   1531\u001B[0m \u001B[43m    \u001B[49m\u001B[43mignore_keys_for_eval\u001B[49m\u001B[38;5;241;43m=\u001B[39;49m\u001B[43mignore_keys_for_eval\u001B[49m\u001B[43m,\u001B[49m\n\u001B[0;32m   1532\u001B[0m \u001B[43m\u001B[49m\u001B[43m)\u001B[49m\n",
      "File \u001B[1;32m~\\.conda\\envs\\NLP\\lib\\site-packages\\transformers\\trainer.py:1775\u001B[0m, in \u001B[0;36mTrainer._inner_training_loop\u001B[1;34m(self, batch_size, args, resume_from_checkpoint, trial, ignore_keys_for_eval)\u001B[0m\n\u001B[0;32m   1773\u001B[0m         tr_loss_step \u001B[38;5;241m=\u001B[39m \u001B[38;5;28mself\u001B[39m\u001B[38;5;241m.\u001B[39mtraining_step(model, inputs)\n\u001B[0;32m   1774\u001B[0m \u001B[38;5;28;01melse\u001B[39;00m:\n\u001B[1;32m-> 1775\u001B[0m     tr_loss_step \u001B[38;5;241m=\u001B[39m \u001B[38;5;28;43mself\u001B[39;49m\u001B[38;5;241;43m.\u001B[39;49m\u001B[43mtraining_step\u001B[49m\u001B[43m(\u001B[49m\u001B[43mmodel\u001B[49m\u001B[43m,\u001B[49m\u001B[43m \u001B[49m\u001B[43minputs\u001B[49m\u001B[43m)\u001B[49m\n\u001B[0;32m   1777\u001B[0m \u001B[38;5;28;01mif\u001B[39;00m (\n\u001B[0;32m   1778\u001B[0m     args\u001B[38;5;241m.\u001B[39mlogging_nan_inf_filter\n\u001B[0;32m   1779\u001B[0m     \u001B[38;5;129;01mand\u001B[39;00m \u001B[38;5;129;01mnot\u001B[39;00m is_torch_tpu_available()\n\u001B[0;32m   1780\u001B[0m     \u001B[38;5;129;01mand\u001B[39;00m (torch\u001B[38;5;241m.\u001B[39misnan(tr_loss_step) \u001B[38;5;129;01mor\u001B[39;00m torch\u001B[38;5;241m.\u001B[39misinf(tr_loss_step))\n\u001B[0;32m   1781\u001B[0m ):\n\u001B[0;32m   1782\u001B[0m     \u001B[38;5;66;03m# if loss is nan or inf simply add the average of previous logged losses\u001B[39;00m\n\u001B[0;32m   1783\u001B[0m     tr_loss \u001B[38;5;241m+\u001B[39m\u001B[38;5;241m=\u001B[39m tr_loss \u001B[38;5;241m/\u001B[39m (\u001B[38;5;241m1\u001B[39m \u001B[38;5;241m+\u001B[39m \u001B[38;5;28mself\u001B[39m\u001B[38;5;241m.\u001B[39mstate\u001B[38;5;241m.\u001B[39mglobal_step \u001B[38;5;241m-\u001B[39m \u001B[38;5;28mself\u001B[39m\u001B[38;5;241m.\u001B[39m_globalstep_last_logged)\n",
      "File \u001B[1;32m~\\.conda\\envs\\NLP\\lib\\site-packages\\transformers\\trainer.py:2541\u001B[0m, in \u001B[0;36mTrainer.training_step\u001B[1;34m(self, model, inputs)\u001B[0m\n\u001B[0;32m   2539\u001B[0m     loss \u001B[38;5;241m=\u001B[39m \u001B[38;5;28mself\u001B[39m\u001B[38;5;241m.\u001B[39mdeepspeed\u001B[38;5;241m.\u001B[39mbackward(loss)\n\u001B[0;32m   2540\u001B[0m \u001B[38;5;28;01melse\u001B[39;00m:\n\u001B[1;32m-> 2541\u001B[0m     \u001B[43mloss\u001B[49m\u001B[38;5;241;43m.\u001B[39;49m\u001B[43mbackward\u001B[49m\u001B[43m(\u001B[49m\u001B[43m)\u001B[49m\n\u001B[0;32m   2543\u001B[0m \u001B[38;5;28;01mreturn\u001B[39;00m loss\u001B[38;5;241m.\u001B[39mdetach()\n",
      "File \u001B[1;32m~\\AppData\\Roaming\\Python\\Python39\\site-packages\\torch\\_tensor.py:487\u001B[0m, in \u001B[0;36mTensor.backward\u001B[1;34m(self, gradient, retain_graph, create_graph, inputs)\u001B[0m\n\u001B[0;32m    477\u001B[0m \u001B[38;5;28;01mif\u001B[39;00m has_torch_function_unary(\u001B[38;5;28mself\u001B[39m):\n\u001B[0;32m    478\u001B[0m     \u001B[38;5;28;01mreturn\u001B[39;00m handle_torch_function(\n\u001B[0;32m    479\u001B[0m         Tensor\u001B[38;5;241m.\u001B[39mbackward,\n\u001B[0;32m    480\u001B[0m         (\u001B[38;5;28mself\u001B[39m,),\n\u001B[1;32m   (...)\u001B[0m\n\u001B[0;32m    485\u001B[0m         inputs\u001B[38;5;241m=\u001B[39minputs,\n\u001B[0;32m    486\u001B[0m     )\n\u001B[1;32m--> 487\u001B[0m \u001B[43mtorch\u001B[49m\u001B[38;5;241;43m.\u001B[39;49m\u001B[43mautograd\u001B[49m\u001B[38;5;241;43m.\u001B[39;49m\u001B[43mbackward\u001B[49m\u001B[43m(\u001B[49m\n\u001B[0;32m    488\u001B[0m \u001B[43m    \u001B[49m\u001B[38;5;28;43mself\u001B[39;49m\u001B[43m,\u001B[49m\u001B[43m \u001B[49m\u001B[43mgradient\u001B[49m\u001B[43m,\u001B[49m\u001B[43m \u001B[49m\u001B[43mretain_graph\u001B[49m\u001B[43m,\u001B[49m\u001B[43m \u001B[49m\u001B[43mcreate_graph\u001B[49m\u001B[43m,\u001B[49m\u001B[43m \u001B[49m\u001B[43minputs\u001B[49m\u001B[38;5;241;43m=\u001B[39;49m\u001B[43minputs\u001B[49m\n\u001B[0;32m    489\u001B[0m \u001B[43m\u001B[49m\u001B[43m)\u001B[49m\n",
      "File \u001B[1;32m~\\AppData\\Roaming\\Python\\Python39\\site-packages\\torch\\autograd\\__init__.py:197\u001B[0m, in \u001B[0;36mbackward\u001B[1;34m(tensors, grad_tensors, retain_graph, create_graph, grad_variables, inputs)\u001B[0m\n\u001B[0;32m    192\u001B[0m     retain_graph \u001B[38;5;241m=\u001B[39m create_graph\n\u001B[0;32m    194\u001B[0m \u001B[38;5;66;03m# The reason we repeat same the comment below is that\u001B[39;00m\n\u001B[0;32m    195\u001B[0m \u001B[38;5;66;03m# some Python versions print out the first line of a multi-line function\u001B[39;00m\n\u001B[0;32m    196\u001B[0m \u001B[38;5;66;03m# calls in the traceback and some print out the last line\u001B[39;00m\n\u001B[1;32m--> 197\u001B[0m \u001B[43mVariable\u001B[49m\u001B[38;5;241;43m.\u001B[39;49m\u001B[43m_execution_engine\u001B[49m\u001B[38;5;241;43m.\u001B[39;49m\u001B[43mrun_backward\u001B[49m\u001B[43m(\u001B[49m\u001B[43m  \u001B[49m\u001B[38;5;66;43;03m# Calls into the C++ engine to run the backward pass\u001B[39;49;00m\n\u001B[0;32m    198\u001B[0m \u001B[43m    \u001B[49m\u001B[43mtensors\u001B[49m\u001B[43m,\u001B[49m\u001B[43m \u001B[49m\u001B[43mgrad_tensors_\u001B[49m\u001B[43m,\u001B[49m\u001B[43m \u001B[49m\u001B[43mretain_graph\u001B[49m\u001B[43m,\u001B[49m\u001B[43m \u001B[49m\u001B[43mcreate_graph\u001B[49m\u001B[43m,\u001B[49m\u001B[43m \u001B[49m\u001B[43minputs\u001B[49m\u001B[43m,\u001B[49m\n\u001B[0;32m    199\u001B[0m \u001B[43m    \u001B[49m\u001B[43mallow_unreachable\u001B[49m\u001B[38;5;241;43m=\u001B[39;49m\u001B[38;5;28;43;01mTrue\u001B[39;49;00m\u001B[43m,\u001B[49m\u001B[43m \u001B[49m\u001B[43maccumulate_grad\u001B[49m\u001B[38;5;241;43m=\u001B[39;49m\u001B[38;5;28;43;01mTrue\u001B[39;49;00m\u001B[43m)\u001B[49m\n",
      "\u001B[1;31mKeyboardInterrupt\u001B[0m: "
     ]
    }
   ],
   "source": [
    "trainer_2 = Trainer(\n",
    "    model=model_2,\n",
    "    args=training_args_2,\n",
    "    train_dataset=ds_data['train'],\n",
    "    eval_dataset=ds_data['test'],\n",
    "    data_collator=data_collator_2,\n",
    "    tokenizer=tokenizer_2,\n",
    ")\n",
    "\n",
    "trainer_2.train()"
   ],
   "metadata": {
    "collapsed": false
   }
  },
  {
   "cell_type": "code",
   "execution_count": null,
   "outputs": [],
   "source": [
    "INX = 100\n",
    "NMB = 5\n",
    "print(\"TEXT: | {}\".format(ds_data['test']['text'][INX]))\n",
    "print(\"TITLE: | {}\".format(ds_data['test']['title'][INX]))"
   ],
   "metadata": {
    "collapsed": false
   }
  },
  {
   "cell_type": "code",
   "execution_count": null,
   "outputs": [],
   "source": [
    "device = \"cuda\""
   ],
   "metadata": {
    "collapsed": false
   }
  },
  {
   "cell_type": "code",
   "execution_count": null,
   "outputs": [],
   "source": [
    "import torch\n",
    "\n",
    "input_text = ds_data['test']['text'][INX: INX+NMB]\n",
    "\n",
    "with torch.no_grad():\n",
    "    tokenized_text = tokenizer_2(input_text, padding='max_length', truncation=True, max_length=max_len_text, return_tensors='pt')\n",
    "\n",
    "    source_ids = tokenized_text['input_ids'].to(device, dtype = torch.long)\n",
    "    source_mask = tokenized_text['attention_mask'].to(device, dtype = torch.long)\n",
    "\n",
    "    generated_ids = model_2.generate(\n",
    "        input_ids = source_ids,\n",
    "        attention_mask = source_mask,\n",
    "        max_length=512,\n",
    "        num_beams=7,\n",
    "        temperature = 1.3,\n",
    "        repetition_penalty=1,\n",
    "        length_penalty=1,\n",
    "        early_stopping=True,\n",
    "        no_repeat_ngram_size=2\n",
    "    )\n",
    "\n",
    "    for i in range(NMB):\n",
    "        pred = tokenizer_2.decode(generated_ids[i], skip_special_tokens=True, clean_up_tokenization_spaces=True)\n",
    "        print(\"Text: | {}\".format(ds_data['test']['text'][INX+i][:1024]))\n",
    "        print(\"TITLE: | {}\".format(ds_data['test']['title'][INX+i]))\n",
    "        print(\"OUTPUT: | {}\".format(pred))\n",
    "        print()"
   ],
   "metadata": {
    "collapsed": false
   }
  }
 ],
 "metadata": {
  "kernelspec": {
   "display_name": "Python 3",
   "language": "python",
   "name": "python3"
  },
  "language_info": {
   "codemirror_mode": {
    "name": "ipython",
    "version": 2
   },
   "file_extension": ".py",
   "mimetype": "text/x-python",
   "name": "python",
   "nbconvert_exporter": "python",
   "pygments_lexer": "ipython2",
   "version": "2.7.6"
  }
 },
 "nbformat": 4,
 "nbformat_minor": 0
}
