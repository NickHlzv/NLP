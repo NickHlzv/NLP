{
 "cells": [
  {
   "cell_type": "markdown",
   "metadata": {},
   "source": [
    "Осуществим предобработку данных с Твиттера, чтобы отчищенный данные в дальнейшем использовать для задачи классификации. Данный датасет содержит негативные (label = 1) и нейтральные (label = 0) высказывания.\n",
    "Для работы объединим train_df и test_df.\n",
    "\n",
    "Задания:\n",
    "\n",
    "1) Заменим html-сущности (к примеру: &lt; &gt; &amp;). \"&lt;\" заменим на “<” и \"&amp;\" заменим на “&”)\"\"\". Сделаем это с помощью HTMLParser.unescape(). Всю предобработку делаем в новом столбце 'clean_tweet'\n",
    "\n",
    "2) Удалим @user из всех твитов с помощью паттерна \"@[\\w]*\". Для этого создадим функцию: \n",
    " - для того, чтобы найти все вхождения паттерна в тексте, необходимо использовать re.findall(pattern, input_txt)\n",
    " - для для замены @user на пробел, необходимо использовать re.sub()\n",
    "при применении функции необходимо использовать np.vectorize(function).\n",
    "\n",
    "3) Изменим регистр твитов на нижний с помощью .lower().\n",
    "\n",
    "4) Заменим сокращения с апострофами (пример: ain't, can't) на пробел, используя apostrophe_dict. Для этого необходимо сделать функцию: для каждого слова в тексте проверить (for word in text.split()), если слово есть в словаре apostrophe_dict в качестве ключа (сокращенного слова), то заменить ключ на значение (полную версию слова).\n",
    "\n",
    "5) Заменим сокращения на их полные формы, используя short_word_dict. Для этого воспользуемся функцией, используемой в предыдущем пункте.\n",
    "\n",
    "6) Заменим эмотиконы (пример: \":)\" = \"happy\") на пробелы, используя emoticon_dict. Для этого воспользуемся функцией, используемой в предыдущем пункте.\n",
    "\n",
    "7) Заменим пунктуацию на пробелы, используя re.sub() и паттерн r'[^\\w\\s]'.\n",
    "\n",
    "8) Заменим спец. символы на пробелы, используя re.sub() и паттерн r'[^a-zA-Z0-9]'.\n",
    "\n",
    "9) Заменим числа на пробелы, используя re.sub() и паттерн r'[^a-zA-Z]'.\n",
    "\n",
    "10) Удалим из текста слова длиной в 1 символ, используя ' '.join([w for w in x.split() if len(w)>1]).\n",
    "\n",
    "11) Поделим твиты на токены с помощью nltk.tokenize.word_tokenize, создав новый столбец 'tweet_token'.\n",
    "\n",
    "12) Удалим стоп-слова из токенов, используя nltk.corpus.stopwords. Создадим столбец 'tweet_token_filtered' без стоп-слов.\n",
    "\n",
    "13) Применим стемминг к токенам с помощью nltk.stem.PorterStemmer. Создадим столбец 'tweet_stemmed' после применения стемминга.\n",
    "\n",
    "14) Применим лемматизацию к токенам с помощью nltk.stem.wordnet.WordNetLemmatizer. Создадим столбец 'tweet_lemmatized' после применения лемматизации.\n",
    "\n",
    "15) Сохраним результат предобработки в pickle-файл."
   ]
  },
  {
   "cell_type": "code",
   "execution_count": 1,
   "metadata": {},
   "outputs": [],
   "source": [
    "apostrophe_dict = {\n",
    "\"ain't\": \"am not / are not\",\n",
    "\"aren't\": \"are not / am not\",\n",
    "\"can't\": \"cannot\",\n",
    "\"can't've\": \"cannot have\",\n",
    "\"'cause\": \"because\",\n",
    "\"could've\": \"could have\",\n",
    "\"couldn't\": \"could not\",\n",
    "\"couldn't've\": \"could not have\",\n",
    "\"didn't\": \"did not\",\n",
    "\"doesn't\": \"does not\",\n",
    "\"don't\": \"do not\",\n",
    "\"hadn't\": \"had not\",\n",
    "\"hadn't've\": \"had not have\",\n",
    "\"hasn't\": \"has not\",\n",
    "\"haven't\": \"have not\",\n",
    "\"he'd\": \"he had / he would\",\n",
    "\"he'd've\": \"he would have\",\n",
    "\"he'll\": \"he shall / he will\",\n",
    "\"he'll've\": \"he shall have / he will have\",\n",
    "\"he's\": \"he has / he is\",\n",
    "\"how'd\": \"how did\",\n",
    "\"how'd'y\": \"how do you\",\n",
    "\"how'll\": \"how will\",\n",
    "\"how's\": \"how has / how is\",\n",
    "\"i'd\": \"I had / I would\",\n",
    "\"i'd've\": \"I would have\",\n",
    "\"i'll\": \"I shall / I will\",\n",
    "\"i'll've\": \"I shall have / I will have\",\n",
    "\"i'm\": \"I am\",\n",
    "\"i've\": \"I have\",\n",
    "\"isn't\": \"is not\",\n",
    "\"it'd\": \"it had / it would\",\n",
    "\"it'd've\": \"it would have\",\n",
    "\"it'll\": \"it shall / it will\",\n",
    "\"it'll've\": \"it shall have / it will have\",\n",
    "\"it's\": \"it has / it is\",\n",
    "\"let's\": \"let us\",\n",
    "\"ma'am\": \"madam\",\n",
    "\"mayn't\": \"may not\",\n",
    "\"might've\": \"might have\",\n",
    "\"mightn't\": \"might not\",\n",
    "\"mightn't've\": \"might not have\",\n",
    "\"must've\": \"must have\",\n",
    "\"mustn't\": \"must not\",\n",
    "\"mustn't've\": \"must not have\",\n",
    "\"needn't\": \"need not\",\n",
    "\"needn't've\": \"need not have\",\n",
    "\"o'clock\": \"of the clock\",\n",
    "\"oughtn't\": \"ought not\",\n",
    "\"oughtn't've\": \"ought not have\",\n",
    "\"shan't\": \"shall not\",\n",
    "\"sha'n't\": \"shall not\",\n",
    "\"shan't've\": \"shall not have\",\n",
    "\"she'd\": \"she had / she would\",\n",
    "\"she'd've\": \"she would have\",\n",
    "\"she'll\": \"she shall / she will\",\n",
    "\"she'll've\": \"she shall have / she will have\",\n",
    "\"she's\": \"she has / she is\",\n",
    "\"should've\": \"should have\",\n",
    "\"shouldn't\": \"should not\",\n",
    "\"shouldn't've\": \"should not have\",\n",
    "\"so've\": \"so have\",\n",
    "\"so's\": \"so as / so is\",\n",
    "\"that'd\": \"that would / that had\",\n",
    "\"that'd've\": \"that would have\",\n",
    "\"that's\": \"that has / that is\",\n",
    "\"there'd\": \"there had / there would\",\n",
    "\"there'd've\": \"there would have\",\n",
    "\"there's\": \"there has / there is\",\n",
    "\"they'd\": \"they had / they would\",\n",
    "\"they'd've\": \"they would have\",\n",
    "\"they'll\": \"they shall / they will\",\n",
    "\"they'll've\": \"they shall have / they will have\",\n",
    "\"they're\": \"they are\",\n",
    "\"they've\": \"they have\",\n",
    "\"to've\": \"to have\",\n",
    "\"wasn't\": \"was not\",\n",
    "\"we'd\": \"we had / we would\",\n",
    "\"we'd've\": \"we would have\",\n",
    "\"we'll\": \"we will\",\n",
    "\"we'll've\": \"we will have\",\n",
    "\"we're\": \"we are\",\n",
    "\"we've\": \"we have\",\n",
    "\"weren't\": \"were not\",\n",
    "\"what'll\": \"what shall / what will\",\n",
    "\"what'll've\": \"what shall have / what will have\",\n",
    "\"what're\": \"what are\",\n",
    "\"what's\": \"what has / what is\",\n",
    "\"what've\": \"what have\",\n",
    "\"when's\": \"when has / when is\",\n",
    "\"when've\": \"when have\",\n",
    "\"where'd\": \"where did\",\n",
    "\"where's\": \"where has / where is\",\n",
    "\"where've\": \"where have\",\n",
    "\"who'll\": \"who shall / who will\",\n",
    "\"who'll've\": \"who shall have / who will have\",\n",
    "\"who's\": \"who has / who is\",\n",
    "\"who've\": \"who have\",\n",
    "\"why's\": \"why has / why is\",\n",
    "\"why've\": \"why have\",\n",
    "\"will've\": \"will have\",\n",
    "\"won't\": \"will not\",\n",
    "\"won't've\": \"will not have\",\n",
    "\"would've\": \"would have\",\n",
    "\"wouldn't\": \"would not\",\n",
    "\"wouldn't've\": \"would not have\",\n",
    "\"y'all\": \"you all\",\n",
    "\"y'all'd\": \"you all would\",\n",
    "\"y'all'd've\": \"you all would have\",\n",
    "\"y'all're\": \"you all are\",\n",
    "\"y'all've\": \"you all have\",\n",
    "\"you'd\": \"you had / you would\",\n",
    "\"you'd've\": \"you would have\",\n",
    "\"you'll\": \"you shall / you will\",\n",
    "\"you'll've\": \"you shall have / you will have\",\n",
    "\"you're\": \"you are\",\n",
    "\"you've\": \"you have\"\n",
    "}\n",
    "\n",
    "\n",
    "\n",
    "short_word_dict = {\n",
    "\"121\": \"one to one\",\n",
    "\"a/s/l\": \"age, sex, location\",\n",
    "\"adn\": \"any day now\",\n",
    "\"afaik\": \"as far as I know\",\n",
    "\"afk\": \"away from keyboard\",\n",
    "\"aight\": \"alright\",\n",
    "\"alol\": \"actually laughing out loud\",\n",
    "\"b4\": \"before\",\n",
    "\"b4n\": \"bye for now\",\n",
    "\"bak\": \"back at the keyboard\",\n",
    "\"bf\": \"boyfriend\",\n",
    "\"bff\": \"best friends forever\",\n",
    "\"bfn\": \"bye for now\",\n",
    "\"bg\": \"big grin\",\n",
    "\"bta\": \"but then again\",\n",
    "\"btw\": \"by the way\",\n",
    "\"cid\": \"crying in disgrace\",\n",
    "\"cnp\": \"continued in my next post\",\n",
    "\"cp\": \"chat post\",\n",
    "\"cu\": \"see you\",\n",
    "\"cul\": \"see you later\",\n",
    "\"cul8r\": \"see you later\",\n",
    "\"cya\": \"bye\",\n",
    "\"cyo\": \"see you online\",\n",
    "\"dbau\": \"doing business as usual\",\n",
    "\"fud\": \"fear, uncertainty, and doubt\",\n",
    "\"fwiw\": \"for what it's worth\",\n",
    "\"fyi\": \"for your information\",\n",
    "\"g\": \"grin\",\n",
    "\"g2g\": \"got to go\",\n",
    "\"ga\": \"go ahead\",\n",
    "\"gal\": \"get a life\",\n",
    "\"gf\": \"girlfriend\",\n",
    "\"gfn\": \"gone for now\",\n",
    "\"gmbo\": \"giggling my butt off\",\n",
    "\"gmta\": \"great minds think alike\",\n",
    "\"h8\": \"hate\",\n",
    "\"hagn\": \"have a good night\",\n",
    "\"hdop\": \"help delete online predators\",\n",
    "\"hhis\": \"hanging head in shame\",\n",
    "\"iac\": \"in any case\",\n",
    "\"ianal\": \"I am not a lawyer\",\n",
    "\"ic\": \"I see\",\n",
    "\"idk\": \"I don't know\",\n",
    "\"imao\": \"in my arrogant opinion\",\n",
    "\"imnsho\": \"in my not so humble opinion\",\n",
    "\"imo\": \"in my opinion\",\n",
    "\"iow\": \"in other words\",\n",
    "\"ipn\": \"I’m posting naked\",\n",
    "\"irl\": \"in real life\",\n",
    "\"jk\": \"just kidding\",\n",
    "\"l8r\": \"later\",\n",
    "\"ld\": \"later, dude\",\n",
    "\"ldr\": \"long distance relationship\",\n",
    "\"llta\": \"lots and lots of thunderous applause\",\n",
    "\"lmao\": \"laugh my ass off\",\n",
    "\"lmirl\": \"let's meet in real life\",\n",
    "\"lol\": \"laugh out loud\",\n",
    "\"ltr\": \"longterm relationship\",\n",
    "\"lulab\": \"love you like a brother\",\n",
    "\"lulas\": \"love you like a sister\",\n",
    "\"luv\": \"love\",\n",
    "\"m/f\": \"male or female\",\n",
    "\"m8\": \"mate\",\n",
    "\"milf\": \"mother I would like to fuck\",\n",
    "\"oll\": \"online love\",\n",
    "\"omg\": \"oh my god\",\n",
    "\"otoh\": \"on the other hand\",\n",
    "\"pir\": \"parent in room\",\n",
    "\"ppl\": \"people\",\n",
    "\"r\": \"are\",\n",
    "\"rofl\": \"roll on the floor laughing\",\n",
    "\"rpg\": \"role playing games\",\n",
    "\"ru\": \"are you\",\n",
    "\"shid\": \"slaps head in disgust\",\n",
    "\"somy\": \"sick of me yet\",\n",
    "\"sot\": \"short of time\",\n",
    "\"thanx\": \"thanks\",\n",
    "\"thx\": \"thanks\",\n",
    "\"ttyl\": \"talk to you later\",\n",
    "\"u\": \"you\",\n",
    "\"ur\": \"you are\",\n",
    "\"uw\": \"you’re welcome\",\n",
    "\"wb\": \"welcome back\",\n",
    "\"wfm\": \"works for me\",\n",
    "\"wibni\": \"wouldn't it be nice if\",\n",
    "\"wtf\": \"what the fuck\",\n",
    "\"wtg\": \"way to go\",\n",
    "\"wtgp\": \"want to go private\",\n",
    "\"ym\": \"young man\",\n",
    "\"gr8\": \"great\"\n",
    "}\n",
    "\n",
    "\n",
    "emoticon_dict = {\n",
    "\":)\": \"happy\",\n",
    "\":‑)\": \"happy\",\n",
    "\":-]\": \"happy\",\n",
    "\":-3\": \"happy\",\n",
    "\":->\": \"happy\",\n",
    "\"8-)\": \"happy\",\n",
    "\":-}\": \"happy\",\n",
    "\":o)\": \"happy\",\n",
    "\":c)\": \"happy\",\n",
    "\":^)\": \"happy\",\n",
    "\"=]\": \"happy\",\n",
    "\"=)\": \"happy\",\n",
    "\"<3\": \"happy\",\n",
    "\":-(\": \"sad\",\n",
    "\":(\": \"sad\",\n",
    "\":c\": \"sad\",\n",
    "\":<\": \"sad\",\n",
    "\":[\": \"sad\",\n",
    "\">:[\": \"sad\",\n",
    "\":{\": \"sad\",\n",
    "\">:(\": \"sad\",\n",
    "\":-c\": \"sad\",\n",
    "\":-< \": \"sad\",\n",
    "\":-[\": \"sad\",\n",
    "\":-||\": \"sad\"\n",
    "}"
   ]
  },
  {
   "cell_type": "code",
   "execution_count": 2,
   "metadata": {},
   "outputs": [
    {
     "name": "stderr",
     "output_type": "stream",
     "text": [
      "[nltk_data] Downloading package punkt to\n",
      "[nltk_data]     C:\\Users\\nikit\\AppData\\Roaming\\nltk_data...\n",
      "[nltk_data]   Package punkt is already up-to-date!\n",
      "[nltk_data] Downloading package wordnet to\n",
      "[nltk_data]     C:\\Users\\nikit\\AppData\\Roaming\\nltk_data...\n",
      "[nltk_data]   Package wordnet is already up-to-date!\n",
      "[nltk_data] Downloading package omw-1.4 to\n",
      "[nltk_data]     C:\\Users\\nikit\\AppData\\Roaming\\nltk_data...\n"
     ]
    }
   ],
   "source": [
    "import pandas as pd\n",
    "import numpy as np\n",
    "import re\n",
    "import nltk\n",
    "nltk.download('punkt')\n",
    "nltk.download('wordnet')\n",
    "nltk.download('omw-1.4')\n",
    "import warnings \n",
    "warnings.filterwarnings(\"ignore\", category=DeprecationWarning)\n",
    "import os\n",
    "import html\n",
    "from copy import copy"
   ]
  },
  {
   "cell_type": "code",
   "execution_count": 3,
   "metadata": {},
   "outputs": [
    {
     "data": {
      "text/plain": "   id  label                                              tweet\n0   1      0   @user when a father is dysfunctional and is s...\n1   2      0  @user @user thanks for #lyft credit i can't us...\n2   3      0                                bihday your majesty\n3   4      0  #model   i love u take with u all the time in ...\n4   5      0             factsguide: society now    #motivation",
      "text/html": "<div>\n<style scoped>\n    .dataframe tbody tr th:only-of-type {\n        vertical-align: middle;\n    }\n\n    .dataframe tbody tr th {\n        vertical-align: top;\n    }\n\n    .dataframe thead th {\n        text-align: right;\n    }\n</style>\n<table border=\"1\" class=\"dataframe\">\n  <thead>\n    <tr style=\"text-align: right;\">\n      <th></th>\n      <th>id</th>\n      <th>label</th>\n      <th>tweet</th>\n    </tr>\n  </thead>\n  <tbody>\n    <tr>\n      <th>0</th>\n      <td>1</td>\n      <td>0</td>\n      <td>@user when a father is dysfunctional and is s...</td>\n    </tr>\n    <tr>\n      <th>1</th>\n      <td>2</td>\n      <td>0</td>\n      <td>@user @user thanks for #lyft credit i can't us...</td>\n    </tr>\n    <tr>\n      <th>2</th>\n      <td>3</td>\n      <td>0</td>\n      <td>bihday your majesty</td>\n    </tr>\n    <tr>\n      <th>3</th>\n      <td>4</td>\n      <td>0</td>\n      <td>#model   i love u take with u all the time in ...</td>\n    </tr>\n    <tr>\n      <th>4</th>\n      <td>5</td>\n      <td>0</td>\n      <td>factsguide: society now    #motivation</td>\n    </tr>\n  </tbody>\n</table>\n</div>"
     },
     "execution_count": 3,
     "metadata": {},
     "output_type": "execute_result"
    }
   ],
   "source": [
    "train_df = pd.read_csv('train_tweets.csv')\n",
    "train_df.head()"
   ]
  },
  {
   "cell_type": "code",
   "execution_count": 4,
   "metadata": {},
   "outputs": [
    {
     "data": {
      "text/plain": "      id                                              tweet\n0  31963  #studiolife #aislife #requires #passion #dedic...\n1  31964   @user #white #supremacists want everyone to s...\n2  31965  safe ways to heal your #acne!!    #altwaystohe...\n3  31966  is the hp and the cursed child book up for res...\n4  31967    3rd #bihday to my amazing, hilarious #nephew...",
      "text/html": "<div>\n<style scoped>\n    .dataframe tbody tr th:only-of-type {\n        vertical-align: middle;\n    }\n\n    .dataframe tbody tr th {\n        vertical-align: top;\n    }\n\n    .dataframe thead th {\n        text-align: right;\n    }\n</style>\n<table border=\"1\" class=\"dataframe\">\n  <thead>\n    <tr style=\"text-align: right;\">\n      <th></th>\n      <th>id</th>\n      <th>tweet</th>\n    </tr>\n  </thead>\n  <tbody>\n    <tr>\n      <th>0</th>\n      <td>31963</td>\n      <td>#studiolife #aislife #requires #passion #dedic...</td>\n    </tr>\n    <tr>\n      <th>1</th>\n      <td>31964</td>\n      <td>@user #white #supremacists want everyone to s...</td>\n    </tr>\n    <tr>\n      <th>2</th>\n      <td>31965</td>\n      <td>safe ways to heal your #acne!!    #altwaystohe...</td>\n    </tr>\n    <tr>\n      <th>3</th>\n      <td>31966</td>\n      <td>is the hp and the cursed child book up for res...</td>\n    </tr>\n    <tr>\n      <th>4</th>\n      <td>31967</td>\n      <td>3rd #bihday to my amazing, hilarious #nephew...</td>\n    </tr>\n  </tbody>\n</table>\n</div>"
     },
     "execution_count": 4,
     "metadata": {},
     "output_type": "execute_result"
    }
   ],
   "source": [
    "test_df = pd.read_csv('test_tweets.csv')\n",
    "test_df.head()"
   ]
  },
  {
   "cell_type": "code",
   "execution_count": 5,
   "metadata": {},
   "outputs": [
    {
     "name": "stderr",
     "output_type": "stream",
     "text": [
      "C:\\Users\\nikit\\AppData\\Local\\Temp\\ipykernel_16744\\539692593.py:1: FutureWarning: The frame.append method is deprecated and will be removed from pandas in a future version. Use pandas.concat instead.\n",
      "  combine_df = train_df.append(test_df, ignore_index = True, sort = False)\n"
     ]
    },
    {
     "data": {
      "text/plain": "   id  label                                              tweet\n0   1    0.0   @user when a father is dysfunctional and is s...\n1   2    0.0  @user @user thanks for #lyft credit i can't us...\n2   3    0.0                                bihday your majesty\n3   4    0.0  #model   i love u take with u all the time in ...\n4   5    0.0             factsguide: society now    #motivation",
      "text/html": "<div>\n<style scoped>\n    .dataframe tbody tr th:only-of-type {\n        vertical-align: middle;\n    }\n\n    .dataframe tbody tr th {\n        vertical-align: top;\n    }\n\n    .dataframe thead th {\n        text-align: right;\n    }\n</style>\n<table border=\"1\" class=\"dataframe\">\n  <thead>\n    <tr style=\"text-align: right;\">\n      <th></th>\n      <th>id</th>\n      <th>label</th>\n      <th>tweet</th>\n    </tr>\n  </thead>\n  <tbody>\n    <tr>\n      <th>0</th>\n      <td>1</td>\n      <td>0.0</td>\n      <td>@user when a father is dysfunctional and is s...</td>\n    </tr>\n    <tr>\n      <th>1</th>\n      <td>2</td>\n      <td>0.0</td>\n      <td>@user @user thanks for #lyft credit i can't us...</td>\n    </tr>\n    <tr>\n      <th>2</th>\n      <td>3</td>\n      <td>0.0</td>\n      <td>bihday your majesty</td>\n    </tr>\n    <tr>\n      <th>3</th>\n      <td>4</td>\n      <td>0.0</td>\n      <td>#model   i love u take with u all the time in ...</td>\n    </tr>\n    <tr>\n      <th>4</th>\n      <td>5</td>\n      <td>0.0</td>\n      <td>factsguide: society now    #motivation</td>\n    </tr>\n  </tbody>\n</table>\n</div>"
     },
     "execution_count": 5,
     "metadata": {},
     "output_type": "execute_result"
    }
   ],
   "source": [
    "combine_df = train_df.append(test_df, ignore_index = True, sort = False)\n",
    "combine_df.head()"
   ]
  },
  {
   "cell_type": "code",
   "execution_count": 6,
   "metadata": {},
   "outputs": [
    {
     "name": "stdout",
     "output_type": "stream",
     "text": [
      "<class 'pandas.core.frame.DataFrame'>\n",
      "RangeIndex: 49159 entries, 0 to 49158\n",
      "Data columns (total 3 columns):\n",
      " #   Column  Non-Null Count  Dtype  \n",
      "---  ------  --------------  -----  \n",
      " 0   id      49159 non-null  int64  \n",
      " 1   label   31962 non-null  float64\n",
      " 2   tweet   49159 non-null  object \n",
      "dtypes: float64(1), int64(1), object(1)\n",
      "memory usage: 1.1+ MB\n",
      "None\n"
     ]
    }
   ],
   "source": [
    "print(combine_df.info())"
   ]
  },
  {
   "cell_type": "code",
   "execution_count": 7,
   "outputs": [
    {
     "data": {
      "text/plain": "          id  label                                              tweet\n0          1    0.0   @user when a father is dysfunctional and is s...\n1          2    0.0  @user @user thanks for #lyft credit i can't us...\n2          3    0.0                                bihday your majesty\n3          4    0.0  #model   i love u take with u all the time in ...\n4          5    0.0             factsguide: society now    #motivation\n...      ...    ...                                                ...\n49154  49155    NaN  thought factory: left-right polarisation! #tru...\n49155  49156    NaN  feeling like a mermaid ð #hairflip #neverre...\n49156  49157    NaN  #hillary #campaigned today in #ohio((omg)) &am...\n49157  49158    NaN  happy, at work conference: right mindset leads...\n49158  49159    NaN  my   song \"so glad\" free download!  #shoegaze ...\n\n[49159 rows x 3 columns]",
      "text/html": "<div>\n<style scoped>\n    .dataframe tbody tr th:only-of-type {\n        vertical-align: middle;\n    }\n\n    .dataframe tbody tr th {\n        vertical-align: top;\n    }\n\n    .dataframe thead th {\n        text-align: right;\n    }\n</style>\n<table border=\"1\" class=\"dataframe\">\n  <thead>\n    <tr style=\"text-align: right;\">\n      <th></th>\n      <th>id</th>\n      <th>label</th>\n      <th>tweet</th>\n    </tr>\n  </thead>\n  <tbody>\n    <tr>\n      <th>0</th>\n      <td>1</td>\n      <td>0.0</td>\n      <td>@user when a father is dysfunctional and is s...</td>\n    </tr>\n    <tr>\n      <th>1</th>\n      <td>2</td>\n      <td>0.0</td>\n      <td>@user @user thanks for #lyft credit i can't us...</td>\n    </tr>\n    <tr>\n      <th>2</th>\n      <td>3</td>\n      <td>0.0</td>\n      <td>bihday your majesty</td>\n    </tr>\n    <tr>\n      <th>3</th>\n      <td>4</td>\n      <td>0.0</td>\n      <td>#model   i love u take with u all the time in ...</td>\n    </tr>\n    <tr>\n      <th>4</th>\n      <td>5</td>\n      <td>0.0</td>\n      <td>factsguide: society now    #motivation</td>\n    </tr>\n    <tr>\n      <th>...</th>\n      <td>...</td>\n      <td>...</td>\n      <td>...</td>\n    </tr>\n    <tr>\n      <th>49154</th>\n      <td>49155</td>\n      <td>NaN</td>\n      <td>thought factory: left-right polarisation! #tru...</td>\n    </tr>\n    <tr>\n      <th>49155</th>\n      <td>49156</td>\n      <td>NaN</td>\n      <td>feeling like a mermaid ð #hairflip #neverre...</td>\n    </tr>\n    <tr>\n      <th>49156</th>\n      <td>49157</td>\n      <td>NaN</td>\n      <td>#hillary #campaigned today in #ohio((omg)) &amp;am...</td>\n    </tr>\n    <tr>\n      <th>49157</th>\n      <td>49158</td>\n      <td>NaN</td>\n      <td>happy, at work conference: right mindset leads...</td>\n    </tr>\n    <tr>\n      <th>49158</th>\n      <td>49159</td>\n      <td>NaN</td>\n      <td>my   song \"so glad\" free download!  #shoegaze ...</td>\n    </tr>\n  </tbody>\n</table>\n<p>49159 rows × 3 columns</p>\n</div>"
     },
     "execution_count": 7,
     "metadata": {},
     "output_type": "execute_result"
    }
   ],
   "source": [
    "combine_df"
   ],
   "metadata": {
    "collapsed": false
   }
  },
  {
   "cell_type": "markdown",
   "metadata": {},
   "source": [
    "1. Заменим html-сущности (к примеру: &lt; &gt; &amp;). \"&lt;\" заменим на “<” и \"&amp;\" заменим на “&”)\"\"\". Сделаем это с помощью HTMLParser.unescape()"
   ]
  },
  {
   "cell_type": "code",
   "execution_count": 8,
   "outputs": [
    {
     "data": {
      "text/plain": "          id  label                                              tweet\n0          1    0.0   @user when a father is dysfunctional and is s...\n1          2    0.0  @user @user thanks for #lyft credit i can't us...\n2          3    0.0                                bihday your majesty\n3          4    0.0  #model   i love u take with u all the time in ...\n4          5    0.0             factsguide: society now    #motivation\n...      ...    ...                                                ...\n49154  49155    NaN  thought factory: left-right polarisation! #tru...\n49155  49156    NaN  feeling like a mermaid ð #hairflip #neverre...\n49156  49157    NaN  #hillary #campaigned today in #ohio((omg)) & u...\n49157  49158    NaN  happy, at work conference: right mindset leads...\n49158  49159    NaN  my   song \"so glad\" free download!  #shoegaze ...\n\n[49159 rows x 3 columns]",
      "text/html": "<div>\n<style scoped>\n    .dataframe tbody tr th:only-of-type {\n        vertical-align: middle;\n    }\n\n    .dataframe tbody tr th {\n        vertical-align: top;\n    }\n\n    .dataframe thead th {\n        text-align: right;\n    }\n</style>\n<table border=\"1\" class=\"dataframe\">\n  <thead>\n    <tr style=\"text-align: right;\">\n      <th></th>\n      <th>id</th>\n      <th>label</th>\n      <th>tweet</th>\n    </tr>\n  </thead>\n  <tbody>\n    <tr>\n      <th>0</th>\n      <td>1</td>\n      <td>0.0</td>\n      <td>@user when a father is dysfunctional and is s...</td>\n    </tr>\n    <tr>\n      <th>1</th>\n      <td>2</td>\n      <td>0.0</td>\n      <td>@user @user thanks for #lyft credit i can't us...</td>\n    </tr>\n    <tr>\n      <th>2</th>\n      <td>3</td>\n      <td>0.0</td>\n      <td>bihday your majesty</td>\n    </tr>\n    <tr>\n      <th>3</th>\n      <td>4</td>\n      <td>0.0</td>\n      <td>#model   i love u take with u all the time in ...</td>\n    </tr>\n    <tr>\n      <th>4</th>\n      <td>5</td>\n      <td>0.0</td>\n      <td>factsguide: society now    #motivation</td>\n    </tr>\n    <tr>\n      <th>...</th>\n      <td>...</td>\n      <td>...</td>\n      <td>...</td>\n    </tr>\n    <tr>\n      <th>49154</th>\n      <td>49155</td>\n      <td>NaN</td>\n      <td>thought factory: left-right polarisation! #tru...</td>\n    </tr>\n    <tr>\n      <th>49155</th>\n      <td>49156</td>\n      <td>NaN</td>\n      <td>feeling like a mermaid ð #hairflip #neverre...</td>\n    </tr>\n    <tr>\n      <th>49156</th>\n      <td>49157</td>\n      <td>NaN</td>\n      <td>#hillary #campaigned today in #ohio((omg)) &amp; u...</td>\n    </tr>\n    <tr>\n      <th>49157</th>\n      <td>49158</td>\n      <td>NaN</td>\n      <td>happy, at work conference: right mindset leads...</td>\n    </tr>\n    <tr>\n      <th>49158</th>\n      <td>49159</td>\n      <td>NaN</td>\n      <td>my   song \"so glad\" free download!  #shoegaze ...</td>\n    </tr>\n  </tbody>\n</table>\n<p>49159 rows × 3 columns</p>\n</div>"
     },
     "execution_count": 8,
     "metadata": {},
     "output_type": "execute_result"
    }
   ],
   "source": [
    "df = combine_df.copy()\n",
    "df['tweet'] = df['tweet'].apply(html.unescape)\n",
    "df"
   ],
   "metadata": {
    "collapsed": false
   }
  },
  {
   "cell_type": "markdown",
   "metadata": {},
   "source": [
    "2. Удалим @user из всех твитов с помощью паттерна \"@[\\w]*\". Для этого создадим функцию: \n",
    " - для того, чтобы найти все вхождения паттерна в тексте, необходимо использовать re.findall(pattern, input_txt)\n",
    " - для для замены @user на пробел, необходимо использовать re.sub()\n",
    "при применении функции необходимо использовать np.vectorize(function)\n"
   ]
  },
  {
   "cell_type": "code",
   "execution_count": 9,
   "outputs": [
    {
     "data": {
      "text/plain": "          id  label                                              tweet\n0          1    0.0     when a father is dysfunctional and is so se...\n1          2    0.0      thanks for #lyft credit i can't use cause ...\n2          3    0.0                                bihday your majesty\n3          4    0.0  #model   i love u take with u all the time in ...\n4          5    0.0             factsguide: society now    #motivation\n...      ...    ...                                                ...\n49154  49155    NaN  thought factory: left-right polarisation! #tru...\n49155  49156    NaN  feeling like a mermaid ð #hairflip #neverre...\n49156  49157    NaN  #hillary #campaigned today in #ohio((omg)) & u...\n49157  49158    NaN  happy, at work conference: right mindset leads...\n49158  49159    NaN  my   song \"so glad\" free download!  #shoegaze ...\n\n[49159 rows x 3 columns]",
      "text/html": "<div>\n<style scoped>\n    .dataframe tbody tr th:only-of-type {\n        vertical-align: middle;\n    }\n\n    .dataframe tbody tr th {\n        vertical-align: top;\n    }\n\n    .dataframe thead th {\n        text-align: right;\n    }\n</style>\n<table border=\"1\" class=\"dataframe\">\n  <thead>\n    <tr style=\"text-align: right;\">\n      <th></th>\n      <th>id</th>\n      <th>label</th>\n      <th>tweet</th>\n    </tr>\n  </thead>\n  <tbody>\n    <tr>\n      <th>0</th>\n      <td>1</td>\n      <td>0.0</td>\n      <td>when a father is dysfunctional and is so se...</td>\n    </tr>\n    <tr>\n      <th>1</th>\n      <td>2</td>\n      <td>0.0</td>\n      <td>thanks for #lyft credit i can't use cause ...</td>\n    </tr>\n    <tr>\n      <th>2</th>\n      <td>3</td>\n      <td>0.0</td>\n      <td>bihday your majesty</td>\n    </tr>\n    <tr>\n      <th>3</th>\n      <td>4</td>\n      <td>0.0</td>\n      <td>#model   i love u take with u all the time in ...</td>\n    </tr>\n    <tr>\n      <th>4</th>\n      <td>5</td>\n      <td>0.0</td>\n      <td>factsguide: society now    #motivation</td>\n    </tr>\n    <tr>\n      <th>...</th>\n      <td>...</td>\n      <td>...</td>\n      <td>...</td>\n    </tr>\n    <tr>\n      <th>49154</th>\n      <td>49155</td>\n      <td>NaN</td>\n      <td>thought factory: left-right polarisation! #tru...</td>\n    </tr>\n    <tr>\n      <th>49155</th>\n      <td>49156</td>\n      <td>NaN</td>\n      <td>feeling like a mermaid ð #hairflip #neverre...</td>\n    </tr>\n    <tr>\n      <th>49156</th>\n      <td>49157</td>\n      <td>NaN</td>\n      <td>#hillary #campaigned today in #ohio((omg)) &amp; u...</td>\n    </tr>\n    <tr>\n      <th>49157</th>\n      <td>49158</td>\n      <td>NaN</td>\n      <td>happy, at work conference: right mindset leads...</td>\n    </tr>\n    <tr>\n      <th>49158</th>\n      <td>49159</td>\n      <td>NaN</td>\n      <td>my   song \"so glad\" free download!  #shoegaze ...</td>\n    </tr>\n  </tbody>\n</table>\n<p>49159 rows × 3 columns</p>\n</div>"
     },
     "execution_count": 9,
     "metadata": {},
     "output_type": "execute_result"
    }
   ],
   "source": [
    "def del_user(input_text):\n",
    "    return re.sub('@[\\w]*', ' ', input_text)\n",
    "df['tweet'] = df['tweet'].apply(del_user)\n",
    "df"
   ],
   "metadata": {
    "collapsed": false
   }
  },
  {
   "cell_type": "markdown",
   "metadata": {},
   "source": [
    "3. Изменим регистр твитов на нижний с помощью .lower()"
   ]
  },
  {
   "cell_type": "code",
   "execution_count": 10,
   "outputs": [
    {
     "data": {
      "text/plain": "          id  label                                              tweet\n0          1    0.0     when a father is dysfunctional and is so se...\n1          2    0.0      thanks for #lyft credit i can't use cause ...\n2          3    0.0                                bihday your majesty\n3          4    0.0  #model   i love u take with u all the time in ...\n4          5    0.0             factsguide: society now    #motivation\n...      ...    ...                                                ...\n49154  49155    NaN  thought factory: left-right polarisation! #tru...\n49155  49156    NaN  feeling like a mermaid ð #hairflip #neverre...\n49156  49157    NaN  #hillary #campaigned today in #ohio((omg)) & u...\n49157  49158    NaN  happy, at work conference: right mindset leads...\n49158  49159    NaN  my   song \"so glad\" free download!  #shoegaze ...\n\n[49159 rows x 3 columns]",
      "text/html": "<div>\n<style scoped>\n    .dataframe tbody tr th:only-of-type {\n        vertical-align: middle;\n    }\n\n    .dataframe tbody tr th {\n        vertical-align: top;\n    }\n\n    .dataframe thead th {\n        text-align: right;\n    }\n</style>\n<table border=\"1\" class=\"dataframe\">\n  <thead>\n    <tr style=\"text-align: right;\">\n      <th></th>\n      <th>id</th>\n      <th>label</th>\n      <th>tweet</th>\n    </tr>\n  </thead>\n  <tbody>\n    <tr>\n      <th>0</th>\n      <td>1</td>\n      <td>0.0</td>\n      <td>when a father is dysfunctional and is so se...</td>\n    </tr>\n    <tr>\n      <th>1</th>\n      <td>2</td>\n      <td>0.0</td>\n      <td>thanks for #lyft credit i can't use cause ...</td>\n    </tr>\n    <tr>\n      <th>2</th>\n      <td>3</td>\n      <td>0.0</td>\n      <td>bihday your majesty</td>\n    </tr>\n    <tr>\n      <th>3</th>\n      <td>4</td>\n      <td>0.0</td>\n      <td>#model   i love u take with u all the time in ...</td>\n    </tr>\n    <tr>\n      <th>4</th>\n      <td>5</td>\n      <td>0.0</td>\n      <td>factsguide: society now    #motivation</td>\n    </tr>\n    <tr>\n      <th>...</th>\n      <td>...</td>\n      <td>...</td>\n      <td>...</td>\n    </tr>\n    <tr>\n      <th>49154</th>\n      <td>49155</td>\n      <td>NaN</td>\n      <td>thought factory: left-right polarisation! #tru...</td>\n    </tr>\n    <tr>\n      <th>49155</th>\n      <td>49156</td>\n      <td>NaN</td>\n      <td>feeling like a mermaid ð #hairflip #neverre...</td>\n    </tr>\n    <tr>\n      <th>49156</th>\n      <td>49157</td>\n      <td>NaN</td>\n      <td>#hillary #campaigned today in #ohio((omg)) &amp; u...</td>\n    </tr>\n    <tr>\n      <th>49157</th>\n      <td>49158</td>\n      <td>NaN</td>\n      <td>happy, at work conference: right mindset leads...</td>\n    </tr>\n    <tr>\n      <th>49158</th>\n      <td>49159</td>\n      <td>NaN</td>\n      <td>my   song \"so glad\" free download!  #shoegaze ...</td>\n    </tr>\n  </tbody>\n</table>\n<p>49159 rows × 3 columns</p>\n</div>"
     },
     "execution_count": 10,
     "metadata": {},
     "output_type": "execute_result"
    }
   ],
   "source": [
    "df['tweet'] = [txt.lower() for txt in df['tweet']]\n",
    "df"
   ],
   "metadata": {
    "collapsed": false
   }
  },
  {
   "cell_type": "markdown",
   "metadata": {},
   "source": [
    "4. Заменим сокращения с апострофами (пример: ain't, can't) на пробел, используя apostrophe_dict. Для этого необходимо сделать функцию: для каждого слова в тексте проверить (for word in text.split()), если слово есть в словаре apostrophe_dict в качестве ключа (сокращенного слова), то заменить ключ на значение (полную версию слова)."
   ]
  },
  {
   "cell_type": "code",
   "execution_count": 11,
   "outputs": [
    {
     "data": {
      "text/plain": "          id  label                                              tweet\n0          1    0.0     when a father is dysfunctional and is so se...\n1          2    0.0      thanks for #lyft credit i cannot use cause...\n2          3    0.0                                bihday your majesty\n3          4    0.0  #model   i love u take with u all the time in ...\n4          5    0.0             factsguide: society now    #motivation\n...      ...    ...                                                ...\n49154  49155    NaN  thought factory: left-right polarisation! #tru...\n49155  49156    NaN  feeling like a mermaid ð #hairflip #neverre...\n49156  49157    NaN  #hillary #campaigned today in #ohio((omg)) & u...\n49157  49158    NaN  happy, at work conference: right mindset leads...\n49158  49159    NaN  my   song \"so glad\" free download!  #shoegaze ...\n\n[49159 rows x 3 columns]",
      "text/html": "<div>\n<style scoped>\n    .dataframe tbody tr th:only-of-type {\n        vertical-align: middle;\n    }\n\n    .dataframe tbody tr th {\n        vertical-align: top;\n    }\n\n    .dataframe thead th {\n        text-align: right;\n    }\n</style>\n<table border=\"1\" class=\"dataframe\">\n  <thead>\n    <tr style=\"text-align: right;\">\n      <th></th>\n      <th>id</th>\n      <th>label</th>\n      <th>tweet</th>\n    </tr>\n  </thead>\n  <tbody>\n    <tr>\n      <th>0</th>\n      <td>1</td>\n      <td>0.0</td>\n      <td>when a father is dysfunctional and is so se...</td>\n    </tr>\n    <tr>\n      <th>1</th>\n      <td>2</td>\n      <td>0.0</td>\n      <td>thanks for #lyft credit i cannot use cause...</td>\n    </tr>\n    <tr>\n      <th>2</th>\n      <td>3</td>\n      <td>0.0</td>\n      <td>bihday your majesty</td>\n    </tr>\n    <tr>\n      <th>3</th>\n      <td>4</td>\n      <td>0.0</td>\n      <td>#model   i love u take with u all the time in ...</td>\n    </tr>\n    <tr>\n      <th>4</th>\n      <td>5</td>\n      <td>0.0</td>\n      <td>factsguide: society now    #motivation</td>\n    </tr>\n    <tr>\n      <th>...</th>\n      <td>...</td>\n      <td>...</td>\n      <td>...</td>\n    </tr>\n    <tr>\n      <th>49154</th>\n      <td>49155</td>\n      <td>NaN</td>\n      <td>thought factory: left-right polarisation! #tru...</td>\n    </tr>\n    <tr>\n      <th>49155</th>\n      <td>49156</td>\n      <td>NaN</td>\n      <td>feeling like a mermaid ð #hairflip #neverre...</td>\n    </tr>\n    <tr>\n      <th>49156</th>\n      <td>49157</td>\n      <td>NaN</td>\n      <td>#hillary #campaigned today in #ohio((omg)) &amp; u...</td>\n    </tr>\n    <tr>\n      <th>49157</th>\n      <td>49158</td>\n      <td>NaN</td>\n      <td>happy, at work conference: right mindset leads...</td>\n    </tr>\n    <tr>\n      <th>49158</th>\n      <td>49159</td>\n      <td>NaN</td>\n      <td>my   song \"so glad\" free download!  #shoegaze ...</td>\n    </tr>\n  </tbody>\n</table>\n<p>49159 rows × 3 columns</p>\n</div>"
     },
     "execution_count": 11,
     "metadata": {},
     "output_type": "execute_result"
    }
   ],
   "source": [
    "def replace_word(text, dictionary):\n",
    "    regexp = \"|\".join(re.escape(k) for k in dictionary)\n",
    "    return re.sub(regexp, lambda m: dictionary[m.group(0)], text)\n",
    "df['tweet'] = [replace_word(text, apostrophe_dict) for text in df.tweet]\n",
    "df"
   ],
   "metadata": {
    "collapsed": false
   }
  },
  {
   "cell_type": "markdown",
   "metadata": {},
   "source": [
    "5. Заменим сокращения на их полные формы, используя short_word_dict. Для этого воспользуемся функцией, используемой в предыдущем пункте."
   ]
  },
  {
   "cell_type": "code",
   "execution_count": 12,
   "outputs": [
    {
     "data": {
      "text/plain": "          id  label                                              tweet\n0          1    0.0     when a fatheare is dysfyounctional and is s...\n1          2    0.0      thanks foare #lyft careedit i cannot youse...\n2          3    0.0                            bihday yoyouare majesty\n3          4    0.0  #model   i love you take with you all the time...\n4          5    0.0        factsgrinyouide: society now    #motivation\n...      ...    ...                                                ...\n49154  49155    NaN  thoyougrinht factoarey: left-areigrinht polaar...\n49155  49156    NaN  feelingrin like a mearemaid ð #haiareflip #...\n49156  49157    NaN  #hillaarey #campaigrinned today in #ohio((oh m...\n49157  49158    NaN  happy, at woarek confeareence: areigrinht mind...\n49158  49159    NaN  my   songrin \"so grinlad\" fareee download!  #s...\n\n[49159 rows x 3 columns]",
      "text/html": "<div>\n<style scoped>\n    .dataframe tbody tr th:only-of-type {\n        vertical-align: middle;\n    }\n\n    .dataframe tbody tr th {\n        vertical-align: top;\n    }\n\n    .dataframe thead th {\n        text-align: right;\n    }\n</style>\n<table border=\"1\" class=\"dataframe\">\n  <thead>\n    <tr style=\"text-align: right;\">\n      <th></th>\n      <th>id</th>\n      <th>label</th>\n      <th>tweet</th>\n    </tr>\n  </thead>\n  <tbody>\n    <tr>\n      <th>0</th>\n      <td>1</td>\n      <td>0.0</td>\n      <td>when a fatheare is dysfyounctional and is s...</td>\n    </tr>\n    <tr>\n      <th>1</th>\n      <td>2</td>\n      <td>0.0</td>\n      <td>thanks foare #lyft careedit i cannot youse...</td>\n    </tr>\n    <tr>\n      <th>2</th>\n      <td>3</td>\n      <td>0.0</td>\n      <td>bihday yoyouare majesty</td>\n    </tr>\n    <tr>\n      <th>3</th>\n      <td>4</td>\n      <td>0.0</td>\n      <td>#model   i love you take with you all the time...</td>\n    </tr>\n    <tr>\n      <th>4</th>\n      <td>5</td>\n      <td>0.0</td>\n      <td>factsgrinyouide: society now    #motivation</td>\n    </tr>\n    <tr>\n      <th>...</th>\n      <td>...</td>\n      <td>...</td>\n      <td>...</td>\n    </tr>\n    <tr>\n      <th>49154</th>\n      <td>49155</td>\n      <td>NaN</td>\n      <td>thoyougrinht factoarey: left-areigrinht polaar...</td>\n    </tr>\n    <tr>\n      <th>49155</th>\n      <td>49156</td>\n      <td>NaN</td>\n      <td>feelingrin like a mearemaid ð #haiareflip #...</td>\n    </tr>\n    <tr>\n      <th>49156</th>\n      <td>49157</td>\n      <td>NaN</td>\n      <td>#hillaarey #campaigrinned today in #ohio((oh m...</td>\n    </tr>\n    <tr>\n      <th>49157</th>\n      <td>49158</td>\n      <td>NaN</td>\n      <td>happy, at woarek confeareence: areigrinht mind...</td>\n    </tr>\n    <tr>\n      <th>49158</th>\n      <td>49159</td>\n      <td>NaN</td>\n      <td>my   songrin \"so grinlad\" fareee download!  #s...</td>\n    </tr>\n  </tbody>\n</table>\n<p>49159 rows × 3 columns</p>\n</div>"
     },
     "execution_count": 12,
     "metadata": {},
     "output_type": "execute_result"
    }
   ],
   "source": [
    "df['tweet'] = [replace_word(text, short_word_dict) for text in df.tweet]\n",
    "df"
   ],
   "metadata": {
    "collapsed": false
   }
  },
  {
   "cell_type": "markdown",
   "metadata": {},
   "source": [
    "6. Заменим эмотиконы (пример: \":)\" = \"happy\") на пробелы, используя emoticon_dict. Для этого воспользуемся функцией, используемой в предыдущем пункте."
   ]
  },
  {
   "cell_type": "code",
   "execution_count": 13,
   "outputs": [
    {
     "data": {
      "text/plain": "          id  label                                              tweet\n0          1    0.0     when a fatheare is dysfyounctional and is s...\n1          2    0.0      thanks foare #lyft careedit i cannot youse...\n2          3    0.0                            bihday yoyouare majesty\n3          4    0.0  #model   i love you take with you all the time...\n4          5    0.0        factsgrinyouide: society now    #motivation\n...      ...    ...                                                ...\n49154  49155    NaN  thoyougrinht factoarey: left-areigrinht polaar...\n49155  49156    NaN  feelingrin like a mearemaid ð #haiareflip #...\n49156  49157    NaN  #hillaarey #campaigrinned today in #ohio((oh m...\n49157  49158    NaN  happy, at woarek confeareence: areigrinht mind...\n49158  49159    NaN  my   songrin \"so grinlad\" fareee download!  #s...\n\n[49159 rows x 3 columns]",
      "text/html": "<div>\n<style scoped>\n    .dataframe tbody tr th:only-of-type {\n        vertical-align: middle;\n    }\n\n    .dataframe tbody tr th {\n        vertical-align: top;\n    }\n\n    .dataframe thead th {\n        text-align: right;\n    }\n</style>\n<table border=\"1\" class=\"dataframe\">\n  <thead>\n    <tr style=\"text-align: right;\">\n      <th></th>\n      <th>id</th>\n      <th>label</th>\n      <th>tweet</th>\n    </tr>\n  </thead>\n  <tbody>\n    <tr>\n      <th>0</th>\n      <td>1</td>\n      <td>0.0</td>\n      <td>when a fatheare is dysfyounctional and is s...</td>\n    </tr>\n    <tr>\n      <th>1</th>\n      <td>2</td>\n      <td>0.0</td>\n      <td>thanks foare #lyft careedit i cannot youse...</td>\n    </tr>\n    <tr>\n      <th>2</th>\n      <td>3</td>\n      <td>0.0</td>\n      <td>bihday yoyouare majesty</td>\n    </tr>\n    <tr>\n      <th>3</th>\n      <td>4</td>\n      <td>0.0</td>\n      <td>#model   i love you take with you all the time...</td>\n    </tr>\n    <tr>\n      <th>4</th>\n      <td>5</td>\n      <td>0.0</td>\n      <td>factsgrinyouide: society now    #motivation</td>\n    </tr>\n    <tr>\n      <th>...</th>\n      <td>...</td>\n      <td>...</td>\n      <td>...</td>\n    </tr>\n    <tr>\n      <th>49154</th>\n      <td>49155</td>\n      <td>NaN</td>\n      <td>thoyougrinht factoarey: left-areigrinht polaar...</td>\n    </tr>\n    <tr>\n      <th>49155</th>\n      <td>49156</td>\n      <td>NaN</td>\n      <td>feelingrin like a mearemaid ð #haiareflip #...</td>\n    </tr>\n    <tr>\n      <th>49156</th>\n      <td>49157</td>\n      <td>NaN</td>\n      <td>#hillaarey #campaigrinned today in #ohio((oh m...</td>\n    </tr>\n    <tr>\n      <th>49157</th>\n      <td>49158</td>\n      <td>NaN</td>\n      <td>happy, at woarek confeareence: areigrinht mind...</td>\n    </tr>\n    <tr>\n      <th>49158</th>\n      <td>49159</td>\n      <td>NaN</td>\n      <td>my   songrin \"so grinlad\" fareee download!  #s...</td>\n    </tr>\n  </tbody>\n</table>\n<p>49159 rows × 3 columns</p>\n</div>"
     },
     "execution_count": 13,
     "metadata": {},
     "output_type": "execute_result"
    }
   ],
   "source": [
    "df['tweet'] = [replace_word(text, emoticon_dict) for text in df.tweet]\n",
    "df"
   ],
   "metadata": {
    "collapsed": false
   }
  },
  {
   "cell_type": "markdown",
   "metadata": {},
   "source": [
    "7. Заменим пунктуацию на пробелы, используя re.sub() и паттерн r'[^\\w\\s]'"
   ]
  },
  {
   "cell_type": "code",
   "execution_count": 14,
   "outputs": [
    {
     "data": {
      "text/plain": "          id  label                                              tweet\n0          1    0.0     when a fatheare is dysfyounctional and is s...\n1          2    0.0      thanks foare  lyft careedit i cannot youse...\n2          3    0.0                            bihday yoyouare majesty\n3          4    0.0   model   i love you take with you all the time...\n4          5    0.0        factsgrinyouide  society now     motivation\n...      ...    ...                                                ...\n49154  49155    NaN  thoyougrinht factoarey  left areigrinht polaar...\n49155  49156    NaN  feelingrin like a mearemaid ð     haiareflip  ...\n49156  49157    NaN   hillaarey  campaigrinned today in  ohio  oh m...\n49157  49158    NaN  happy  at woarek confeareence  areigrinht mind...\n49158  49159    NaN  my   songrin  so grinlad  fareee download    s...\n\n[49159 rows x 3 columns]",
      "text/html": "<div>\n<style scoped>\n    .dataframe tbody tr th:only-of-type {\n        vertical-align: middle;\n    }\n\n    .dataframe tbody tr th {\n        vertical-align: top;\n    }\n\n    .dataframe thead th {\n        text-align: right;\n    }\n</style>\n<table border=\"1\" class=\"dataframe\">\n  <thead>\n    <tr style=\"text-align: right;\">\n      <th></th>\n      <th>id</th>\n      <th>label</th>\n      <th>tweet</th>\n    </tr>\n  </thead>\n  <tbody>\n    <tr>\n      <th>0</th>\n      <td>1</td>\n      <td>0.0</td>\n      <td>when a fatheare is dysfyounctional and is s...</td>\n    </tr>\n    <tr>\n      <th>1</th>\n      <td>2</td>\n      <td>0.0</td>\n      <td>thanks foare  lyft careedit i cannot youse...</td>\n    </tr>\n    <tr>\n      <th>2</th>\n      <td>3</td>\n      <td>0.0</td>\n      <td>bihday yoyouare majesty</td>\n    </tr>\n    <tr>\n      <th>3</th>\n      <td>4</td>\n      <td>0.0</td>\n      <td>model   i love you take with you all the time...</td>\n    </tr>\n    <tr>\n      <th>4</th>\n      <td>5</td>\n      <td>0.0</td>\n      <td>factsgrinyouide  society now     motivation</td>\n    </tr>\n    <tr>\n      <th>...</th>\n      <td>...</td>\n      <td>...</td>\n      <td>...</td>\n    </tr>\n    <tr>\n      <th>49154</th>\n      <td>49155</td>\n      <td>NaN</td>\n      <td>thoyougrinht factoarey  left areigrinht polaar...</td>\n    </tr>\n    <tr>\n      <th>49155</th>\n      <td>49156</td>\n      <td>NaN</td>\n      <td>feelingrin like a mearemaid ð     haiareflip  ...</td>\n    </tr>\n    <tr>\n      <th>49156</th>\n      <td>49157</td>\n      <td>NaN</td>\n      <td>hillaarey  campaigrinned today in  ohio  oh m...</td>\n    </tr>\n    <tr>\n      <th>49157</th>\n      <td>49158</td>\n      <td>NaN</td>\n      <td>happy  at woarek confeareence  areigrinht mind...</td>\n    </tr>\n    <tr>\n      <th>49158</th>\n      <td>49159</td>\n      <td>NaN</td>\n      <td>my   songrin  so grinlad  fareee download    s...</td>\n    </tr>\n  </tbody>\n</table>\n<p>49159 rows × 3 columns</p>\n</div>"
     },
     "execution_count": 14,
     "metadata": {},
     "output_type": "execute_result"
    }
   ],
   "source": [
    "df['tweet'] = [re.sub(r'[^\\w\\s]', ' ', text) for text in df.tweet]\n",
    "df"
   ],
   "metadata": {
    "collapsed": false
   }
  },
  {
   "cell_type": "markdown",
   "metadata": {},
   "source": [
    "8. Заменим спец. символы на пробелы, используя re.sub() и паттерн r'[^a-zA-Z0-9]'"
   ]
  },
  {
   "cell_type": "code",
   "execution_count": 15,
   "outputs": [
    {
     "data": {
      "text/plain": "          id  label                                              tweet\n0          1    0.0     when a fatheare is dysfyounctional and is s...\n1          2    0.0      thanks foare  lyft careedit i cannot youse...\n2          3    0.0                            bihday yoyouare majesty\n3          4    0.0   model   i love you take with you all the time...\n4          5    0.0        factsgrinyouide  society now     motivation\n...      ...    ...                                                ...\n49154  49155    NaN  thoyougrinht factoarey  left areigrinht polaar...\n49155  49156    NaN  feelingrin like a mearemaid       haiareflip  ...\n49156  49157    NaN   hillaarey  campaigrinned today in  ohio  oh m...\n49157  49158    NaN  happy  at woarek confeareence  areigrinht mind...\n49158  49159    NaN  my   songrin  so grinlad  fareee download    s...\n\n[49159 rows x 3 columns]",
      "text/html": "<div>\n<style scoped>\n    .dataframe tbody tr th:only-of-type {\n        vertical-align: middle;\n    }\n\n    .dataframe tbody tr th {\n        vertical-align: top;\n    }\n\n    .dataframe thead th {\n        text-align: right;\n    }\n</style>\n<table border=\"1\" class=\"dataframe\">\n  <thead>\n    <tr style=\"text-align: right;\">\n      <th></th>\n      <th>id</th>\n      <th>label</th>\n      <th>tweet</th>\n    </tr>\n  </thead>\n  <tbody>\n    <tr>\n      <th>0</th>\n      <td>1</td>\n      <td>0.0</td>\n      <td>when a fatheare is dysfyounctional and is s...</td>\n    </tr>\n    <tr>\n      <th>1</th>\n      <td>2</td>\n      <td>0.0</td>\n      <td>thanks foare  lyft careedit i cannot youse...</td>\n    </tr>\n    <tr>\n      <th>2</th>\n      <td>3</td>\n      <td>0.0</td>\n      <td>bihday yoyouare majesty</td>\n    </tr>\n    <tr>\n      <th>3</th>\n      <td>4</td>\n      <td>0.0</td>\n      <td>model   i love you take with you all the time...</td>\n    </tr>\n    <tr>\n      <th>4</th>\n      <td>5</td>\n      <td>0.0</td>\n      <td>factsgrinyouide  society now     motivation</td>\n    </tr>\n    <tr>\n      <th>...</th>\n      <td>...</td>\n      <td>...</td>\n      <td>...</td>\n    </tr>\n    <tr>\n      <th>49154</th>\n      <td>49155</td>\n      <td>NaN</td>\n      <td>thoyougrinht factoarey  left areigrinht polaar...</td>\n    </tr>\n    <tr>\n      <th>49155</th>\n      <td>49156</td>\n      <td>NaN</td>\n      <td>feelingrin like a mearemaid       haiareflip  ...</td>\n    </tr>\n    <tr>\n      <th>49156</th>\n      <td>49157</td>\n      <td>NaN</td>\n      <td>hillaarey  campaigrinned today in  ohio  oh m...</td>\n    </tr>\n    <tr>\n      <th>49157</th>\n      <td>49158</td>\n      <td>NaN</td>\n      <td>happy  at woarek confeareence  areigrinht mind...</td>\n    </tr>\n    <tr>\n      <th>49158</th>\n      <td>49159</td>\n      <td>NaN</td>\n      <td>my   songrin  so grinlad  fareee download    s...</td>\n    </tr>\n  </tbody>\n</table>\n<p>49159 rows × 3 columns</p>\n</div>"
     },
     "execution_count": 15,
     "metadata": {},
     "output_type": "execute_result"
    }
   ],
   "source": [
    "df['tweet'] = [re.sub(r'[^a-zA-Z0-9]', ' ', text) for text in df.tweet]\n",
    "df"
   ],
   "metadata": {
    "collapsed": false
   }
  },
  {
   "cell_type": "markdown",
   "metadata": {},
   "source": [
    "9. Заменим числа на пробелы, используя re.sub() и паттерн r'[^a-zA-Z]'"
   ]
  },
  {
   "cell_type": "code",
   "execution_count": 16,
   "outputs": [
    {
     "data": {
      "text/plain": "          id  label                                              tweet\n0          1    0.0     when a fatheare is dysfyounctional and is s...\n1          2    0.0      thanks foare  lyft careedit i cannot youse...\n2          3    0.0                            bihday yoyouare majesty\n3          4    0.0   model   i love you take with you all the time...\n4          5    0.0        factsgrinyouide  society now     motivation\n...      ...    ...                                                ...\n49154  49155    NaN  thoyougrinht factoarey  left areigrinht polaar...\n49155  49156    NaN  feelingrin like a mearemaid       haiareflip  ...\n49156  49157    NaN   hillaarey  campaigrinned today in  ohio  oh m...\n49157  49158    NaN  happy  at woarek confeareence  areigrinht mind...\n49158  49159    NaN  my   songrin  so grinlad  fareee download    s...\n\n[49159 rows x 3 columns]",
      "text/html": "<div>\n<style scoped>\n    .dataframe tbody tr th:only-of-type {\n        vertical-align: middle;\n    }\n\n    .dataframe tbody tr th {\n        vertical-align: top;\n    }\n\n    .dataframe thead th {\n        text-align: right;\n    }\n</style>\n<table border=\"1\" class=\"dataframe\">\n  <thead>\n    <tr style=\"text-align: right;\">\n      <th></th>\n      <th>id</th>\n      <th>label</th>\n      <th>tweet</th>\n    </tr>\n  </thead>\n  <tbody>\n    <tr>\n      <th>0</th>\n      <td>1</td>\n      <td>0.0</td>\n      <td>when a fatheare is dysfyounctional and is s...</td>\n    </tr>\n    <tr>\n      <th>1</th>\n      <td>2</td>\n      <td>0.0</td>\n      <td>thanks foare  lyft careedit i cannot youse...</td>\n    </tr>\n    <tr>\n      <th>2</th>\n      <td>3</td>\n      <td>0.0</td>\n      <td>bihday yoyouare majesty</td>\n    </tr>\n    <tr>\n      <th>3</th>\n      <td>4</td>\n      <td>0.0</td>\n      <td>model   i love you take with you all the time...</td>\n    </tr>\n    <tr>\n      <th>4</th>\n      <td>5</td>\n      <td>0.0</td>\n      <td>factsgrinyouide  society now     motivation</td>\n    </tr>\n    <tr>\n      <th>...</th>\n      <td>...</td>\n      <td>...</td>\n      <td>...</td>\n    </tr>\n    <tr>\n      <th>49154</th>\n      <td>49155</td>\n      <td>NaN</td>\n      <td>thoyougrinht factoarey  left areigrinht polaar...</td>\n    </tr>\n    <tr>\n      <th>49155</th>\n      <td>49156</td>\n      <td>NaN</td>\n      <td>feelingrin like a mearemaid       haiareflip  ...</td>\n    </tr>\n    <tr>\n      <th>49156</th>\n      <td>49157</td>\n      <td>NaN</td>\n      <td>hillaarey  campaigrinned today in  ohio  oh m...</td>\n    </tr>\n    <tr>\n      <th>49157</th>\n      <td>49158</td>\n      <td>NaN</td>\n      <td>happy  at woarek confeareence  areigrinht mind...</td>\n    </tr>\n    <tr>\n      <th>49158</th>\n      <td>49159</td>\n      <td>NaN</td>\n      <td>my   songrin  so grinlad  fareee download    s...</td>\n    </tr>\n  </tbody>\n</table>\n<p>49159 rows × 3 columns</p>\n</div>"
     },
     "execution_count": 16,
     "metadata": {},
     "output_type": "execute_result"
    }
   ],
   "source": [
    "df['tweet'] = [re.sub(r'[^a-zA-Z]', ' ', text) for text in df.tweet]\n",
    "df"
   ],
   "metadata": {
    "collapsed": false
   }
  },
  {
   "cell_type": "markdown",
   "metadata": {},
   "source": [
    "10. Удалим из текста слова длиной в 1 символ, используя ' '.join([w for w in x.split() if len(w)>1])"
   ]
  },
  {
   "cell_type": "code",
   "execution_count": 17,
   "outputs": [
    {
     "data": {
      "text/plain": "          id  label                                              tweet\n0          1    0.0  when fatheare is dysfyounctional and is so sel...\n1          2    0.0  thanks foare lyft careedit cannot youse cayous...\n2          3    0.0                            bihday yoyouare majesty\n3          4    0.0  model love you take with you all the time in y...\n4          5    0.0             factsgrinyouide society now motivation\n...      ...    ...                                                ...\n49154  49155    NaN  thoyougrinht factoarey left areigrinht polaare...\n49155  49156    NaN  feelingrin like mearemaid haiareflip nevearear...\n49156  49157    NaN  hillaarey campaigrinned today in ohio oh my go...\n49157  49158    NaN  happy at woarek confeareence areigrinht mindse...\n49158  49159    NaN  my songrin so grinlad fareee download shoegrin...\n\n[49159 rows x 3 columns]",
      "text/html": "<div>\n<style scoped>\n    .dataframe tbody tr th:only-of-type {\n        vertical-align: middle;\n    }\n\n    .dataframe tbody tr th {\n        vertical-align: top;\n    }\n\n    .dataframe thead th {\n        text-align: right;\n    }\n</style>\n<table border=\"1\" class=\"dataframe\">\n  <thead>\n    <tr style=\"text-align: right;\">\n      <th></th>\n      <th>id</th>\n      <th>label</th>\n      <th>tweet</th>\n    </tr>\n  </thead>\n  <tbody>\n    <tr>\n      <th>0</th>\n      <td>1</td>\n      <td>0.0</td>\n      <td>when fatheare is dysfyounctional and is so sel...</td>\n    </tr>\n    <tr>\n      <th>1</th>\n      <td>2</td>\n      <td>0.0</td>\n      <td>thanks foare lyft careedit cannot youse cayous...</td>\n    </tr>\n    <tr>\n      <th>2</th>\n      <td>3</td>\n      <td>0.0</td>\n      <td>bihday yoyouare majesty</td>\n    </tr>\n    <tr>\n      <th>3</th>\n      <td>4</td>\n      <td>0.0</td>\n      <td>model love you take with you all the time in y...</td>\n    </tr>\n    <tr>\n      <th>4</th>\n      <td>5</td>\n      <td>0.0</td>\n      <td>factsgrinyouide society now motivation</td>\n    </tr>\n    <tr>\n      <th>...</th>\n      <td>...</td>\n      <td>...</td>\n      <td>...</td>\n    </tr>\n    <tr>\n      <th>49154</th>\n      <td>49155</td>\n      <td>NaN</td>\n      <td>thoyougrinht factoarey left areigrinht polaare...</td>\n    </tr>\n    <tr>\n      <th>49155</th>\n      <td>49156</td>\n      <td>NaN</td>\n      <td>feelingrin like mearemaid haiareflip nevearear...</td>\n    </tr>\n    <tr>\n      <th>49156</th>\n      <td>49157</td>\n      <td>NaN</td>\n      <td>hillaarey campaigrinned today in ohio oh my go...</td>\n    </tr>\n    <tr>\n      <th>49157</th>\n      <td>49158</td>\n      <td>NaN</td>\n      <td>happy at woarek confeareence areigrinht mindse...</td>\n    </tr>\n    <tr>\n      <th>49158</th>\n      <td>49159</td>\n      <td>NaN</td>\n      <td>my songrin so grinlad fareee download shoegrin...</td>\n    </tr>\n  </tbody>\n</table>\n<p>49159 rows × 3 columns</p>\n</div>"
     },
     "execution_count": 17,
     "metadata": {},
     "output_type": "execute_result"
    }
   ],
   "source": [
    "df['tweet'] = [' '.join([w for w in x.split() if len(w)>1]) for x in df.tweet]\n",
    "df"
   ],
   "metadata": {
    "collapsed": false
   }
  },
  {
   "cell_type": "markdown",
   "metadata": {},
   "source": [
    "11. Поделим твиты на токены с помощью nltk.tokenize.word_tokenize, создав новый столбец 'tweet_token'."
   ]
  },
  {
   "cell_type": "code",
   "execution_count": 18,
   "outputs": [
    {
     "data": {
      "text/plain": "          id  label                                              tweet  \\\n0          1    0.0  when fatheare is dysfyounctional and is so sel...   \n1          2    0.0  thanks foare lyft careedit cannot youse cayous...   \n2          3    0.0                            bihday yoyouare majesty   \n3          4    0.0  model love you take with you all the time in y...   \n4          5    0.0             factsgrinyouide society now motivation   \n...      ...    ...                                                ...   \n49154  49155    NaN  thoyougrinht factoarey left areigrinht polaare...   \n49155  49156    NaN  feelingrin like mearemaid haiareflip nevearear...   \n49156  49157    NaN  hillaarey campaigrinned today in ohio oh my go...   \n49157  49158    NaN  happy at woarek confeareence areigrinht mindse...   \n49158  49159    NaN  my songrin so grinlad fareee download shoegrin...   \n\n                                             tweet_token  \n0      [when, fatheare, is, dysfyounctional, and, is,...  \n1      [thanks, foare, lyft, careedit, can, not, yous...  \n2                            [bihday, yoyouare, majesty]  \n3      [model, love, you, take, with, you, all, the, ...  \n4            [factsgrinyouide, society, now, motivation]  \n...                                                  ...  \n49154  [thoyougrinht, factoarey, left, areigrinht, po...  \n49155  [feelingrin, like, mearemaid, haiareflip, neve...  \n49156  [hillaarey, campaigrinned, today, in, ohio, oh...  \n49157  [happy, at, woarek, confeareence, areigrinht, ...  \n49158  [my, songrin, so, grinlad, fareee, download, s...  \n\n[49159 rows x 4 columns]",
      "text/html": "<div>\n<style scoped>\n    .dataframe tbody tr th:only-of-type {\n        vertical-align: middle;\n    }\n\n    .dataframe tbody tr th {\n        vertical-align: top;\n    }\n\n    .dataframe thead th {\n        text-align: right;\n    }\n</style>\n<table border=\"1\" class=\"dataframe\">\n  <thead>\n    <tr style=\"text-align: right;\">\n      <th></th>\n      <th>id</th>\n      <th>label</th>\n      <th>tweet</th>\n      <th>tweet_token</th>\n    </tr>\n  </thead>\n  <tbody>\n    <tr>\n      <th>0</th>\n      <td>1</td>\n      <td>0.0</td>\n      <td>when fatheare is dysfyounctional and is so sel...</td>\n      <td>[when, fatheare, is, dysfyounctional, and, is,...</td>\n    </tr>\n    <tr>\n      <th>1</th>\n      <td>2</td>\n      <td>0.0</td>\n      <td>thanks foare lyft careedit cannot youse cayous...</td>\n      <td>[thanks, foare, lyft, careedit, can, not, yous...</td>\n    </tr>\n    <tr>\n      <th>2</th>\n      <td>3</td>\n      <td>0.0</td>\n      <td>bihday yoyouare majesty</td>\n      <td>[bihday, yoyouare, majesty]</td>\n    </tr>\n    <tr>\n      <th>3</th>\n      <td>4</td>\n      <td>0.0</td>\n      <td>model love you take with you all the time in y...</td>\n      <td>[model, love, you, take, with, you, all, the, ...</td>\n    </tr>\n    <tr>\n      <th>4</th>\n      <td>5</td>\n      <td>0.0</td>\n      <td>factsgrinyouide society now motivation</td>\n      <td>[factsgrinyouide, society, now, motivation]</td>\n    </tr>\n    <tr>\n      <th>...</th>\n      <td>...</td>\n      <td>...</td>\n      <td>...</td>\n      <td>...</td>\n    </tr>\n    <tr>\n      <th>49154</th>\n      <td>49155</td>\n      <td>NaN</td>\n      <td>thoyougrinht factoarey left areigrinht polaare...</td>\n      <td>[thoyougrinht, factoarey, left, areigrinht, po...</td>\n    </tr>\n    <tr>\n      <th>49155</th>\n      <td>49156</td>\n      <td>NaN</td>\n      <td>feelingrin like mearemaid haiareflip nevearear...</td>\n      <td>[feelingrin, like, mearemaid, haiareflip, neve...</td>\n    </tr>\n    <tr>\n      <th>49156</th>\n      <td>49157</td>\n      <td>NaN</td>\n      <td>hillaarey campaigrinned today in ohio oh my go...</td>\n      <td>[hillaarey, campaigrinned, today, in, ohio, oh...</td>\n    </tr>\n    <tr>\n      <th>49157</th>\n      <td>49158</td>\n      <td>NaN</td>\n      <td>happy at woarek confeareence areigrinht mindse...</td>\n      <td>[happy, at, woarek, confeareence, areigrinht, ...</td>\n    </tr>\n    <tr>\n      <th>49158</th>\n      <td>49159</td>\n      <td>NaN</td>\n      <td>my songrin so grinlad fareee download shoegrin...</td>\n      <td>[my, songrin, so, grinlad, fareee, download, s...</td>\n    </tr>\n  </tbody>\n</table>\n<p>49159 rows × 4 columns</p>\n</div>"
     },
     "execution_count": 18,
     "metadata": {},
     "output_type": "execute_result"
    }
   ],
   "source": [
    "df['tweet_token'] = [nltk.tokenize.word_tokenize(text) for text in df.tweet]\n",
    "df"
   ],
   "metadata": {
    "collapsed": false
   }
  },
  {
   "cell_type": "markdown",
   "metadata": {},
   "source": [
    "12. Удалим стоп-слова из токенов, используя nltk.corpus.stopwords. Создадим столбец 'tweet_token_filtered' без стоп-слов."
   ]
  },
  {
   "cell_type": "code",
   "execution_count": 19,
   "outputs": [
    {
     "data": {
      "text/plain": "['i',\n 'me',\n 'my',\n 'myself',\n 'we',\n 'our',\n 'ours',\n 'ourselves',\n 'you',\n \"you're\",\n \"you've\",\n \"you'll\",\n \"you'd\",\n 'your',\n 'yours',\n 'yourself',\n 'yourselves',\n 'he',\n 'him',\n 'his',\n 'himself',\n 'she',\n \"she's\",\n 'her',\n 'hers',\n 'herself',\n 'it',\n \"it's\",\n 'its',\n 'itself',\n 'they',\n 'them',\n 'their',\n 'theirs',\n 'themselves',\n 'what',\n 'which',\n 'who',\n 'whom',\n 'this',\n 'that',\n \"that'll\",\n 'these',\n 'those',\n 'am',\n 'is',\n 'are',\n 'was',\n 'were',\n 'be',\n 'been',\n 'being',\n 'have',\n 'has',\n 'had',\n 'having',\n 'do',\n 'does',\n 'did',\n 'doing',\n 'a',\n 'an',\n 'the',\n 'and',\n 'but',\n 'if',\n 'or',\n 'because',\n 'as',\n 'until',\n 'while',\n 'of',\n 'at',\n 'by',\n 'for',\n 'with',\n 'about',\n 'against',\n 'between',\n 'into',\n 'through',\n 'during',\n 'before',\n 'after',\n 'above',\n 'below',\n 'to',\n 'from',\n 'up',\n 'down',\n 'in',\n 'out',\n 'on',\n 'off',\n 'over',\n 'under',\n 'again',\n 'further',\n 'then',\n 'once',\n 'here',\n 'there',\n 'when',\n 'where',\n 'why',\n 'how',\n 'all',\n 'any',\n 'both',\n 'each',\n 'few',\n 'more',\n 'most',\n 'other',\n 'some',\n 'such',\n 'no',\n 'nor',\n 'not',\n 'only',\n 'own',\n 'same',\n 'so',\n 'than',\n 'too',\n 'very',\n 's',\n 't',\n 'can',\n 'will',\n 'just',\n 'don',\n \"don't\",\n 'should',\n \"should've\",\n 'now',\n 'd',\n 'll',\n 'm',\n 'o',\n 're',\n 've',\n 'y',\n 'ain',\n 'aren',\n \"aren't\",\n 'couldn',\n \"couldn't\",\n 'didn',\n \"didn't\",\n 'doesn',\n \"doesn't\",\n 'hadn',\n \"hadn't\",\n 'hasn',\n \"hasn't\",\n 'haven',\n \"haven't\",\n 'isn',\n \"isn't\",\n 'ma',\n 'mightn',\n \"mightn't\",\n 'mustn',\n \"mustn't\",\n 'needn',\n \"needn't\",\n 'shan',\n \"shan't\",\n 'shouldn',\n \"shouldn't\",\n 'wasn',\n \"wasn't\",\n 'weren',\n \"weren't\",\n 'won',\n \"won't\",\n 'wouldn',\n \"wouldn't\"]"
     },
     "execution_count": 19,
     "metadata": {},
     "output_type": "execute_result"
    }
   ],
   "source": [
    "stop_words = nltk.corpus.stopwords.words('english')\n",
    "stop_words"
   ],
   "metadata": {
    "collapsed": false
   }
  },
  {
   "cell_type": "code",
   "execution_count": 20,
   "outputs": [
    {
     "data": {
      "text/plain": "          id  label                                              tweet  \\\n0          1    0.0  when fatheare is dysfyounctional and is so sel...   \n1          2    0.0  thanks foare lyft careedit cannot youse cayous...   \n2          3    0.0                            bihday yoyouare majesty   \n3          4    0.0  model love you take with you all the time in y...   \n4          5    0.0             factsgrinyouide society now motivation   \n...      ...    ...                                                ...   \n49154  49155    NaN  thoyougrinht factoarey left areigrinht polaare...   \n49155  49156    NaN  feelingrin like mearemaid haiareflip nevearear...   \n49156  49157    NaN  hillaarey campaigrinned today in ohio oh my go...   \n49157  49158    NaN  happy at woarek confeareence areigrinht mindse...   \n49158  49159    NaN  my songrin so grinlad fareee download shoegrin...   \n\n                                             tweet_token  \\\n0      [when, fatheare, is, dysfyounctional, and, is,...   \n1      [thanks, foare, lyft, careedit, can, not, yous...   \n2                            [bihday, yoyouare, majesty]   \n3      [model, love, you, take, with, you, all, the, ...   \n4            [factsgrinyouide, society, now, motivation]   \n...                                                  ...   \n49154  [thoyougrinht, factoarey, left, areigrinht, po...   \n49155  [feelingrin, like, mearemaid, haiareflip, neve...   \n49156  [hillaarey, campaigrinned, today, in, ohio, oh...   \n49157  [happy, at, woarek, confeareence, areigrinht, ...   \n49158  [my, songrin, so, grinlad, fareee, download, s...   \n\n                                    tweet_token_filtered  \n0      [fatheare, dysfyounctional, selfish, dareagrin...  \n1      [thanks, foare, lyft, careedit, youse, cayouse...  \n2                            [bihday, yoyouare, majesty]  \n3                      [model, love, take, time, youare]  \n4                 [factsgrinyouide, society, motivation]  \n...                                                  ...  \n49154  [thoyougrinht, factoarey, left, areigrinht, po...  \n49155  [feelingrin, like, mearemaid, haiareflip, neve...  \n49156  [hillaarey, campaigrinned, today, ohio, oh, go...  \n49157  [happy, woarek, confeareence, areigrinht, mind...  \n49158  [songrin, grinlad, fareee, download, shoegrina...  \n\n[49159 rows x 5 columns]",
      "text/html": "<div>\n<style scoped>\n    .dataframe tbody tr th:only-of-type {\n        vertical-align: middle;\n    }\n\n    .dataframe tbody tr th {\n        vertical-align: top;\n    }\n\n    .dataframe thead th {\n        text-align: right;\n    }\n</style>\n<table border=\"1\" class=\"dataframe\">\n  <thead>\n    <tr style=\"text-align: right;\">\n      <th></th>\n      <th>id</th>\n      <th>label</th>\n      <th>tweet</th>\n      <th>tweet_token</th>\n      <th>tweet_token_filtered</th>\n    </tr>\n  </thead>\n  <tbody>\n    <tr>\n      <th>0</th>\n      <td>1</td>\n      <td>0.0</td>\n      <td>when fatheare is dysfyounctional and is so sel...</td>\n      <td>[when, fatheare, is, dysfyounctional, and, is,...</td>\n      <td>[fatheare, dysfyounctional, selfish, dareagrin...</td>\n    </tr>\n    <tr>\n      <th>1</th>\n      <td>2</td>\n      <td>0.0</td>\n      <td>thanks foare lyft careedit cannot youse cayous...</td>\n      <td>[thanks, foare, lyft, careedit, can, not, yous...</td>\n      <td>[thanks, foare, lyft, careedit, youse, cayouse...</td>\n    </tr>\n    <tr>\n      <th>2</th>\n      <td>3</td>\n      <td>0.0</td>\n      <td>bihday yoyouare majesty</td>\n      <td>[bihday, yoyouare, majesty]</td>\n      <td>[bihday, yoyouare, majesty]</td>\n    </tr>\n    <tr>\n      <th>3</th>\n      <td>4</td>\n      <td>0.0</td>\n      <td>model love you take with you all the time in y...</td>\n      <td>[model, love, you, take, with, you, all, the, ...</td>\n      <td>[model, love, take, time, youare]</td>\n    </tr>\n    <tr>\n      <th>4</th>\n      <td>5</td>\n      <td>0.0</td>\n      <td>factsgrinyouide society now motivation</td>\n      <td>[factsgrinyouide, society, now, motivation]</td>\n      <td>[factsgrinyouide, society, motivation]</td>\n    </tr>\n    <tr>\n      <th>...</th>\n      <td>...</td>\n      <td>...</td>\n      <td>...</td>\n      <td>...</td>\n      <td>...</td>\n    </tr>\n    <tr>\n      <th>49154</th>\n      <td>49155</td>\n      <td>NaN</td>\n      <td>thoyougrinht factoarey left areigrinht polaare...</td>\n      <td>[thoyougrinht, factoarey, left, areigrinht, po...</td>\n      <td>[thoyougrinht, factoarey, left, areigrinht, po...</td>\n    </tr>\n    <tr>\n      <th>49155</th>\n      <td>49156</td>\n      <td>NaN</td>\n      <td>feelingrin like mearemaid haiareflip nevearear...</td>\n      <td>[feelingrin, like, mearemaid, haiareflip, neve...</td>\n      <td>[feelingrin, like, mearemaid, haiareflip, neve...</td>\n    </tr>\n    <tr>\n      <th>49156</th>\n      <td>49157</td>\n      <td>NaN</td>\n      <td>hillaarey campaigrinned today in ohio oh my go...</td>\n      <td>[hillaarey, campaigrinned, today, in, ohio, oh...</td>\n      <td>[hillaarey, campaigrinned, today, ohio, oh, go...</td>\n    </tr>\n    <tr>\n      <th>49157</th>\n      <td>49158</td>\n      <td>NaN</td>\n      <td>happy at woarek confeareence areigrinht mindse...</td>\n      <td>[happy, at, woarek, confeareence, areigrinht, ...</td>\n      <td>[happy, woarek, confeareence, areigrinht, mind...</td>\n    </tr>\n    <tr>\n      <th>49158</th>\n      <td>49159</td>\n      <td>NaN</td>\n      <td>my songrin so grinlad fareee download shoegrin...</td>\n      <td>[my, songrin, so, grinlad, fareee, download, s...</td>\n      <td>[songrin, grinlad, fareee, download, shoegrina...</td>\n    </tr>\n  </tbody>\n</table>\n<p>49159 rows × 5 columns</p>\n</div>"
     },
     "execution_count": 20,
     "metadata": {},
     "output_type": "execute_result"
    }
   ],
   "source": [
    "df['tweet_token_filtered'] = [[word for word in text if word not in stop_words] for text in df.tweet_token]\n",
    "df"
   ],
   "metadata": {
    "collapsed": false
   }
  },
  {
   "cell_type": "markdown",
   "metadata": {},
   "source": [
    "13. Применим стемминг к токенам с помощью nltk.stem.PorterStemmer. Создадим столбец 'tweet_stemmed' после применения стемминга."
   ]
  },
  {
   "cell_type": "code",
   "execution_count": 21,
   "outputs": [
    {
     "data": {
      "text/plain": "          id  label                                              tweet  \\\n0          1    0.0  when fatheare is dysfyounctional and is so sel...   \n1          2    0.0  thanks foare lyft careedit cannot youse cayous...   \n2          3    0.0                            bihday yoyouare majesty   \n3          4    0.0  model love you take with you all the time in y...   \n4          5    0.0             factsgrinyouide society now motivation   \n...      ...    ...                                                ...   \n49154  49155    NaN  thoyougrinht factoarey left areigrinht polaare...   \n49155  49156    NaN  feelingrin like mearemaid haiareflip nevearear...   \n49156  49157    NaN  hillaarey campaigrinned today in ohio oh my go...   \n49157  49158    NaN  happy at woarek confeareence areigrinht mindse...   \n49158  49159    NaN  my songrin so grinlad fareee download shoegrin...   \n\n                                             tweet_token  \\\n0      [when, fatheare, is, dysfyounctional, and, is,...   \n1      [thanks, foare, lyft, careedit, can, not, yous...   \n2                            [bihday, yoyouare, majesty]   \n3      [model, love, you, take, with, you, all, the, ...   \n4            [factsgrinyouide, society, now, motivation]   \n...                                                  ...   \n49154  [thoyougrinht, factoarey, left, areigrinht, po...   \n49155  [feelingrin, like, mearemaid, haiareflip, neve...   \n49156  [hillaarey, campaigrinned, today, in, ohio, oh...   \n49157  [happy, at, woarek, confeareence, areigrinht, ...   \n49158  [my, songrin, so, grinlad, fareee, download, s...   \n\n                                    tweet_token_filtered  \\\n0      [fatheare, dysfyounctional, selfish, dareagrin...   \n1      [thanks, foare, lyft, careedit, youse, cayouse...   \n2                            [bihday, yoyouare, majesty]   \n3                      [model, love, take, time, youare]   \n4                 [factsgrinyouide, society, motivation]   \n...                                                  ...   \n49154  [thoyougrinht, factoarey, left, areigrinht, po...   \n49155  [feelingrin, like, mearemaid, haiareflip, neve...   \n49156  [hillaarey, campaigrinned, today, ohio, oh, go...   \n49157  [happy, woarek, confeareence, areigrinht, mind...   \n49158  [songrin, grinlad, fareee, download, shoegrina...   \n\n                                           tweet_stemmed  \n0      [fathear, dysfyounct, selfish, dareagrin, kid,...  \n1      [thank, foar, lyft, careedit, yous, cayous, of...  \n2                             [bihday, yoyouar, majesti]  \n3                       [model, love, take, time, youar]  \n4                       [factsgrinyouid, societi, motiv]  \n...                                                  ...  \n49154  [thoyougrinht, factoarey, left, areigrinht, po...  \n49155  [feelingrin, like, mearemaid, haiareflip, neve...  \n49156  [hillaarey, campaigrin, today, ohio, oh, god, ...  \n49157  [happi, woarek, confear, areigrinht, mindset, ...  \n49158  [songrin, grinlad, faree, download, shoegrinaz...  \n\n[49159 rows x 6 columns]",
      "text/html": "<div>\n<style scoped>\n    .dataframe tbody tr th:only-of-type {\n        vertical-align: middle;\n    }\n\n    .dataframe tbody tr th {\n        vertical-align: top;\n    }\n\n    .dataframe thead th {\n        text-align: right;\n    }\n</style>\n<table border=\"1\" class=\"dataframe\">\n  <thead>\n    <tr style=\"text-align: right;\">\n      <th></th>\n      <th>id</th>\n      <th>label</th>\n      <th>tweet</th>\n      <th>tweet_token</th>\n      <th>tweet_token_filtered</th>\n      <th>tweet_stemmed</th>\n    </tr>\n  </thead>\n  <tbody>\n    <tr>\n      <th>0</th>\n      <td>1</td>\n      <td>0.0</td>\n      <td>when fatheare is dysfyounctional and is so sel...</td>\n      <td>[when, fatheare, is, dysfyounctional, and, is,...</td>\n      <td>[fatheare, dysfyounctional, selfish, dareagrin...</td>\n      <td>[fathear, dysfyounct, selfish, dareagrin, kid,...</td>\n    </tr>\n    <tr>\n      <th>1</th>\n      <td>2</td>\n      <td>0.0</td>\n      <td>thanks foare lyft careedit cannot youse cayous...</td>\n      <td>[thanks, foare, lyft, careedit, can, not, yous...</td>\n      <td>[thanks, foare, lyft, careedit, youse, cayouse...</td>\n      <td>[thank, foar, lyft, careedit, yous, cayous, of...</td>\n    </tr>\n    <tr>\n      <th>2</th>\n      <td>3</td>\n      <td>0.0</td>\n      <td>bihday yoyouare majesty</td>\n      <td>[bihday, yoyouare, majesty]</td>\n      <td>[bihday, yoyouare, majesty]</td>\n      <td>[bihday, yoyouar, majesti]</td>\n    </tr>\n    <tr>\n      <th>3</th>\n      <td>4</td>\n      <td>0.0</td>\n      <td>model love you take with you all the time in y...</td>\n      <td>[model, love, you, take, with, you, all, the, ...</td>\n      <td>[model, love, take, time, youare]</td>\n      <td>[model, love, take, time, youar]</td>\n    </tr>\n    <tr>\n      <th>4</th>\n      <td>5</td>\n      <td>0.0</td>\n      <td>factsgrinyouide society now motivation</td>\n      <td>[factsgrinyouide, society, now, motivation]</td>\n      <td>[factsgrinyouide, society, motivation]</td>\n      <td>[factsgrinyouid, societi, motiv]</td>\n    </tr>\n    <tr>\n      <th>...</th>\n      <td>...</td>\n      <td>...</td>\n      <td>...</td>\n      <td>...</td>\n      <td>...</td>\n      <td>...</td>\n    </tr>\n    <tr>\n      <th>49154</th>\n      <td>49155</td>\n      <td>NaN</td>\n      <td>thoyougrinht factoarey left areigrinht polaare...</td>\n      <td>[thoyougrinht, factoarey, left, areigrinht, po...</td>\n      <td>[thoyougrinht, factoarey, left, areigrinht, po...</td>\n      <td>[thoyougrinht, factoarey, left, areigrinht, po...</td>\n    </tr>\n    <tr>\n      <th>49155</th>\n      <td>49156</td>\n      <td>NaN</td>\n      <td>feelingrin like mearemaid haiareflip nevearear...</td>\n      <td>[feelingrin, like, mearemaid, haiareflip, neve...</td>\n      <td>[feelingrin, like, mearemaid, haiareflip, neve...</td>\n      <td>[feelingrin, like, mearemaid, haiareflip, neve...</td>\n    </tr>\n    <tr>\n      <th>49156</th>\n      <td>49157</td>\n      <td>NaN</td>\n      <td>hillaarey campaigrinned today in ohio oh my go...</td>\n      <td>[hillaarey, campaigrinned, today, in, ohio, oh...</td>\n      <td>[hillaarey, campaigrinned, today, ohio, oh, go...</td>\n      <td>[hillaarey, campaigrin, today, ohio, oh, god, ...</td>\n    </tr>\n    <tr>\n      <th>49157</th>\n      <td>49158</td>\n      <td>NaN</td>\n      <td>happy at woarek confeareence areigrinht mindse...</td>\n      <td>[happy, at, woarek, confeareence, areigrinht, ...</td>\n      <td>[happy, woarek, confeareence, areigrinht, mind...</td>\n      <td>[happi, woarek, confear, areigrinht, mindset, ...</td>\n    </tr>\n    <tr>\n      <th>49158</th>\n      <td>49159</td>\n      <td>NaN</td>\n      <td>my songrin so grinlad fareee download shoegrin...</td>\n      <td>[my, songrin, so, grinlad, fareee, download, s...</td>\n      <td>[songrin, grinlad, fareee, download, shoegrina...</td>\n      <td>[songrin, grinlad, faree, download, shoegrinaz...</td>\n    </tr>\n  </tbody>\n</table>\n<p>49159 rows × 6 columns</p>\n</div>"
     },
     "execution_count": 21,
     "metadata": {},
     "output_type": "execute_result"
    }
   ],
   "source": [
    "stemmer = nltk.stem.porter.PorterStemmer()\n",
    "df['tweet_stemmed'] = [[stemmer.stem(plural) for plural in plurals] for plurals in df.tweet_token_filtered]\n",
    "df"
   ],
   "metadata": {
    "collapsed": false
   }
  },
  {
   "cell_type": "markdown",
   "metadata": {},
   "source": [
    "14. Применим лемматизацию к токенам с помощью nltk.stem.wordnet.WordNetLemmatizer. Создадим столбец 'tweet_lemmatized' после применения лемматизации."
   ]
  },
  {
   "cell_type": "code",
   "execution_count": 22,
   "outputs": [
    {
     "data": {
      "text/plain": "          id  label                                              tweet  \\\n0          1    0.0  when fatheare is dysfyounctional and is so sel...   \n1          2    0.0  thanks foare lyft careedit cannot youse cayous...   \n2          3    0.0                            bihday yoyouare majesty   \n3          4    0.0  model love you take with you all the time in y...   \n4          5    0.0             factsgrinyouide society now motivation   \n...      ...    ...                                                ...   \n49154  49155    NaN  thoyougrinht factoarey left areigrinht polaare...   \n49155  49156    NaN  feelingrin like mearemaid haiareflip nevearear...   \n49156  49157    NaN  hillaarey campaigrinned today in ohio oh my go...   \n49157  49158    NaN  happy at woarek confeareence areigrinht mindse...   \n49158  49159    NaN  my songrin so grinlad fareee download shoegrin...   \n\n                                             tweet_token  \\\n0      [when, fatheare, is, dysfyounctional, and, is,...   \n1      [thanks, foare, lyft, careedit, can, not, yous...   \n2                            [bihday, yoyouare, majesty]   \n3      [model, love, you, take, with, you, all, the, ...   \n4            [factsgrinyouide, society, now, motivation]   \n...                                                  ...   \n49154  [thoyougrinht, factoarey, left, areigrinht, po...   \n49155  [feelingrin, like, mearemaid, haiareflip, neve...   \n49156  [hillaarey, campaigrinned, today, in, ohio, oh...   \n49157  [happy, at, woarek, confeareence, areigrinht, ...   \n49158  [my, songrin, so, grinlad, fareee, download, s...   \n\n                                    tweet_token_filtered  \\\n0      [fatheare, dysfyounctional, selfish, dareagrin...   \n1      [thanks, foare, lyft, careedit, youse, cayouse...   \n2                            [bihday, yoyouare, majesty]   \n3                      [model, love, take, time, youare]   \n4                 [factsgrinyouide, society, motivation]   \n...                                                  ...   \n49154  [thoyougrinht, factoarey, left, areigrinht, po...   \n49155  [feelingrin, like, mearemaid, haiareflip, neve...   \n49156  [hillaarey, campaigrinned, today, ohio, oh, go...   \n49157  [happy, woarek, confeareence, areigrinht, mind...   \n49158  [songrin, grinlad, fareee, download, shoegrina...   \n\n                                           tweet_stemmed  \\\n0      [fathear, dysfyounct, selfish, dareagrin, kid,...   \n1      [thank, foar, lyft, careedit, yous, cayous, of...   \n2                             [bihday, yoyouar, majesti]   \n3                       [model, love, take, time, youar]   \n4                       [factsgrinyouid, societi, motiv]   \n...                                                  ...   \n49154  [thoyougrinht, factoarey, left, areigrinht, po...   \n49155  [feelingrin, like, mearemaid, haiareflip, neve...   \n49156  [hillaarey, campaigrin, today, ohio, oh, god, ...   \n49157  [happi, woarek, confear, areigrinht, mindset, ...   \n49158  [songrin, grinlad, faree, download, shoegrinaz...   \n\n                                        tweet_lemmatized  \n0      [fatheare, dysfyounctional, selfish, dareagrin...  \n1      [thanks, foare, lyft, careedit, youse, cayouse...  \n2                            [bihday, yoyouare, majesty]  \n3                      [model, love, take, time, youare]  \n4                 [factsgrinyouide, society, motivation]  \n...                                                  ...  \n49154  [thoyougrinht, factoarey, left, areigrinht, po...  \n49155  [feelingrin, like, mearemaid, haiareflip, neve...  \n49156  [hillaarey, campaigrinned, today, ohio, oh, go...  \n49157  [happy, woarek, confeareence, areigrinht, mind...  \n49158  [songrin, grinlad, fareee, download, shoegrina...  \n\n[49159 rows x 7 columns]",
      "text/html": "<div>\n<style scoped>\n    .dataframe tbody tr th:only-of-type {\n        vertical-align: middle;\n    }\n\n    .dataframe tbody tr th {\n        vertical-align: top;\n    }\n\n    .dataframe thead th {\n        text-align: right;\n    }\n</style>\n<table border=\"1\" class=\"dataframe\">\n  <thead>\n    <tr style=\"text-align: right;\">\n      <th></th>\n      <th>id</th>\n      <th>label</th>\n      <th>tweet</th>\n      <th>tweet_token</th>\n      <th>tweet_token_filtered</th>\n      <th>tweet_stemmed</th>\n      <th>tweet_lemmatized</th>\n    </tr>\n  </thead>\n  <tbody>\n    <tr>\n      <th>0</th>\n      <td>1</td>\n      <td>0.0</td>\n      <td>when fatheare is dysfyounctional and is so sel...</td>\n      <td>[when, fatheare, is, dysfyounctional, and, is,...</td>\n      <td>[fatheare, dysfyounctional, selfish, dareagrin...</td>\n      <td>[fathear, dysfyounct, selfish, dareagrin, kid,...</td>\n      <td>[fatheare, dysfyounctional, selfish, dareagrin...</td>\n    </tr>\n    <tr>\n      <th>1</th>\n      <td>2</td>\n      <td>0.0</td>\n      <td>thanks foare lyft careedit cannot youse cayous...</td>\n      <td>[thanks, foare, lyft, careedit, can, not, yous...</td>\n      <td>[thanks, foare, lyft, careedit, youse, cayouse...</td>\n      <td>[thank, foar, lyft, careedit, yous, cayous, of...</td>\n      <td>[thanks, foare, lyft, careedit, youse, cayouse...</td>\n    </tr>\n    <tr>\n      <th>2</th>\n      <td>3</td>\n      <td>0.0</td>\n      <td>bihday yoyouare majesty</td>\n      <td>[bihday, yoyouare, majesty]</td>\n      <td>[bihday, yoyouare, majesty]</td>\n      <td>[bihday, yoyouar, majesti]</td>\n      <td>[bihday, yoyouare, majesty]</td>\n    </tr>\n    <tr>\n      <th>3</th>\n      <td>4</td>\n      <td>0.0</td>\n      <td>model love you take with you all the time in y...</td>\n      <td>[model, love, you, take, with, you, all, the, ...</td>\n      <td>[model, love, take, time, youare]</td>\n      <td>[model, love, take, time, youar]</td>\n      <td>[model, love, take, time, youare]</td>\n    </tr>\n    <tr>\n      <th>4</th>\n      <td>5</td>\n      <td>0.0</td>\n      <td>factsgrinyouide society now motivation</td>\n      <td>[factsgrinyouide, society, now, motivation]</td>\n      <td>[factsgrinyouide, society, motivation]</td>\n      <td>[factsgrinyouid, societi, motiv]</td>\n      <td>[factsgrinyouide, society, motivation]</td>\n    </tr>\n    <tr>\n      <th>...</th>\n      <td>...</td>\n      <td>...</td>\n      <td>...</td>\n      <td>...</td>\n      <td>...</td>\n      <td>...</td>\n      <td>...</td>\n    </tr>\n    <tr>\n      <th>49154</th>\n      <td>49155</td>\n      <td>NaN</td>\n      <td>thoyougrinht factoarey left areigrinht polaare...</td>\n      <td>[thoyougrinht, factoarey, left, areigrinht, po...</td>\n      <td>[thoyougrinht, factoarey, left, areigrinht, po...</td>\n      <td>[thoyougrinht, factoarey, left, areigrinht, po...</td>\n      <td>[thoyougrinht, factoarey, left, areigrinht, po...</td>\n    </tr>\n    <tr>\n      <th>49155</th>\n      <td>49156</td>\n      <td>NaN</td>\n      <td>feelingrin like mearemaid haiareflip nevearear...</td>\n      <td>[feelingrin, like, mearemaid, haiareflip, neve...</td>\n      <td>[feelingrin, like, mearemaid, haiareflip, neve...</td>\n      <td>[feelingrin, like, mearemaid, haiareflip, neve...</td>\n      <td>[feelingrin, like, mearemaid, haiareflip, neve...</td>\n    </tr>\n    <tr>\n      <th>49156</th>\n      <td>49157</td>\n      <td>NaN</td>\n      <td>hillaarey campaigrinned today in ohio oh my go...</td>\n      <td>[hillaarey, campaigrinned, today, in, ohio, oh...</td>\n      <td>[hillaarey, campaigrinned, today, ohio, oh, go...</td>\n      <td>[hillaarey, campaigrin, today, ohio, oh, god, ...</td>\n      <td>[hillaarey, campaigrinned, today, ohio, oh, go...</td>\n    </tr>\n    <tr>\n      <th>49157</th>\n      <td>49158</td>\n      <td>NaN</td>\n      <td>happy at woarek confeareence areigrinht mindse...</td>\n      <td>[happy, at, woarek, confeareence, areigrinht, ...</td>\n      <td>[happy, woarek, confeareence, areigrinht, mind...</td>\n      <td>[happi, woarek, confear, areigrinht, mindset, ...</td>\n      <td>[happy, woarek, confeareence, areigrinht, mind...</td>\n    </tr>\n    <tr>\n      <th>49158</th>\n      <td>49159</td>\n      <td>NaN</td>\n      <td>my songrin so grinlad fareee download shoegrin...</td>\n      <td>[my, songrin, so, grinlad, fareee, download, s...</td>\n      <td>[songrin, grinlad, fareee, download, shoegrina...</td>\n      <td>[songrin, grinlad, faree, download, shoegrinaz...</td>\n      <td>[songrin, grinlad, fareee, download, shoegrina...</td>\n    </tr>\n  </tbody>\n</table>\n<p>49159 rows × 7 columns</p>\n</div>"
     },
     "execution_count": 22,
     "metadata": {},
     "output_type": "execute_result"
    }
   ],
   "source": [
    "lemmatizer = nltk.stem.WordNetLemmatizer()\n",
    "df['tweet_lemmatized'] = [[lemmatizer.lemmatize(plural) for plural in plurals] for plurals in df.tweet_token_filtered]\n",
    "df"
   ],
   "metadata": {
    "collapsed": false
   }
  },
  {
   "cell_type": "markdown",
   "metadata": {},
   "source": [
    "15. Сохраним результат предобработки в pickle-файл."
   ]
  },
  {
   "cell_type": "code",
   "execution_count": 23,
   "metadata": {},
   "outputs": [],
   "source": [
    "df.to_pickle('dummy.pkl')"
   ]
  }
 ],
 "metadata": {
  "kernelspec": {
   "display_name": "Python 3",
   "language": "python",
   "name": "python3"
  },
  "language_info": {
   "codemirror_mode": {
    "name": "ipython",
    "version": 3
   },
   "file_extension": ".py",
   "mimetype": "text/x-python",
   "name": "python",
   "nbconvert_exporter": "python",
   "pygments_lexer": "ipython3",
   "version": "3.7.4"
  }
 },
 "nbformat": 4,
 "nbformat_minor": 2
}
