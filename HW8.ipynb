{
 "cells": [
  {
   "cell_type": "code",
   "execution_count": 1,
   "metadata": {
    "collapsed": true
   },
   "outputs": [],
   "source": [
    "import pandas as pd\n",
    "from string import punctuation\n",
    "from stop_words import get_stop_words\n",
    "from pymorphy2 import MorphAnalyzer\n",
    "import re\n",
    "import numpy as np\n",
    "import keras\n",
    "from keras.models import Sequential, Model\n",
    "from keras.layers import Dense, Dropout, Activation, Input, Embedding, Conv1D, GlobalMaxPool1D, LSTM, GRU, MaxPool1D\n",
    "from keras.preprocessing.text import Tokenizer\n",
    "from keras_preprocessing.sequence import pad_sequences\n",
    "from keras.callbacks import TensorBoard\n",
    "from keras.metrics import categorical_crossentropy\n",
    "from keras.callbacks import EarlyStopping"
   ]
  },
  {
   "cell_type": "code",
   "execution_count": 2,
   "metadata": {},
   "outputs": [
    {
     "data": {
      "text/plain": "       Rating                                            Content\n0           5                                     It just works!\n1           4  В целом удобноное приложение...из минусов хотя...\n2           5                                        Отлично все\n3           5  Стал зависать на 1% работы антивируса. Дальше ...\n4           5                     Очень удобно, работает быстро.\n...       ...                                                ...\n20654       1  Ну и шляпа,с роот правами бесполезная прога,ра...\n20655       5                                                 Ок\n20656       4                                            Доволен\n20657       1                         Песопаснасть, рут ни нужын\n20658       5  Сбербанк бомбовая компания на сегодняшний день...\n\n[20659 rows x 2 columns]",
      "text/html": "<div>\n<style scoped>\n    .dataframe tbody tr th:only-of-type {\n        vertical-align: middle;\n    }\n\n    .dataframe tbody tr th {\n        vertical-align: top;\n    }\n\n    .dataframe thead th {\n        text-align: right;\n    }\n</style>\n<table border=\"1\" class=\"dataframe\">\n  <thead>\n    <tr style=\"text-align: right;\">\n      <th></th>\n      <th>Rating</th>\n      <th>Content</th>\n    </tr>\n  </thead>\n  <tbody>\n    <tr>\n      <th>0</th>\n      <td>5</td>\n      <td>It just works!</td>\n    </tr>\n    <tr>\n      <th>1</th>\n      <td>4</td>\n      <td>В целом удобноное приложение...из минусов хотя...</td>\n    </tr>\n    <tr>\n      <th>2</th>\n      <td>5</td>\n      <td>Отлично все</td>\n    </tr>\n    <tr>\n      <th>3</th>\n      <td>5</td>\n      <td>Стал зависать на 1% работы антивируса. Дальше ...</td>\n    </tr>\n    <tr>\n      <th>4</th>\n      <td>5</td>\n      <td>Очень удобно, работает быстро.</td>\n    </tr>\n    <tr>\n      <th>...</th>\n      <td>...</td>\n      <td>...</td>\n    </tr>\n    <tr>\n      <th>20654</th>\n      <td>1</td>\n      <td>Ну и шляпа,с роот правами бесполезная прога,ра...</td>\n    </tr>\n    <tr>\n      <th>20655</th>\n      <td>5</td>\n      <td>Ок</td>\n    </tr>\n    <tr>\n      <th>20656</th>\n      <td>4</td>\n      <td>Доволен</td>\n    </tr>\n    <tr>\n      <th>20657</th>\n      <td>1</td>\n      <td>Песопаснасть, рут ни нужын</td>\n    </tr>\n    <tr>\n      <th>20658</th>\n      <td>5</td>\n      <td>Сбербанк бомбовая компания на сегодняшний день...</td>\n    </tr>\n  </tbody>\n</table>\n<p>20659 rows × 2 columns</p>\n</div>"
     },
     "execution_count": 2,
     "metadata": {},
     "output_type": "execute_result"
    }
   ],
   "source": [
    "df = pd.read_csv('otziv.csv', sep=';')\n",
    "df = df[['Rating', 'Content']]\n",
    "df"
   ]
  },
  {
   "cell_type": "code",
   "execution_count": 3,
   "metadata": {},
   "outputs": [
    {
     "data": {
      "text/plain": "       Rating                                            Content\n0           5                                     It just works!\n1           4  В целом удобноное приложение...из минусов хотя...\n2           5                                        Отлично все\n3           5  Стал зависать на 1% работы антивируса. Дальше ...\n4           5                     Очень удобно, работает быстро.\n...       ...                                                ...\n14995       5                                     Люблю сбербанк\n14996       3                                 Хорошее приложение\n14997       5                                         Всё огонь!\n14998       1  Плохо пишет,что в телефоне есть рут,а его срод...\n14999       5                                   Приложение супер\n\n[15000 rows x 2 columns]",
      "text/html": "<div>\n<style scoped>\n    .dataframe tbody tr th:only-of-type {\n        vertical-align: middle;\n    }\n\n    .dataframe tbody tr th {\n        vertical-align: top;\n    }\n\n    .dataframe thead th {\n        text-align: right;\n    }\n</style>\n<table border=\"1\" class=\"dataframe\">\n  <thead>\n    <tr style=\"text-align: right;\">\n      <th></th>\n      <th>Rating</th>\n      <th>Content</th>\n    </tr>\n  </thead>\n  <tbody>\n    <tr>\n      <th>0</th>\n      <td>5</td>\n      <td>It just works!</td>\n    </tr>\n    <tr>\n      <th>1</th>\n      <td>4</td>\n      <td>В целом удобноное приложение...из минусов хотя...</td>\n    </tr>\n    <tr>\n      <th>2</th>\n      <td>5</td>\n      <td>Отлично все</td>\n    </tr>\n    <tr>\n      <th>3</th>\n      <td>5</td>\n      <td>Стал зависать на 1% работы антивируса. Дальше ...</td>\n    </tr>\n    <tr>\n      <th>4</th>\n      <td>5</td>\n      <td>Очень удобно, работает быстро.</td>\n    </tr>\n    <tr>\n      <th>...</th>\n      <td>...</td>\n      <td>...</td>\n    </tr>\n    <tr>\n      <th>14995</th>\n      <td>5</td>\n      <td>Люблю сбербанк</td>\n    </tr>\n    <tr>\n      <th>14996</th>\n      <td>3</td>\n      <td>Хорошее приложение</td>\n    </tr>\n    <tr>\n      <th>14997</th>\n      <td>5</td>\n      <td>Всё огонь!</td>\n    </tr>\n    <tr>\n      <th>14998</th>\n      <td>1</td>\n      <td>Плохо пишет,что в телефоне есть рут,а его срод...</td>\n    </tr>\n    <tr>\n      <th>14999</th>\n      <td>5</td>\n      <td>Приложение супер</td>\n    </tr>\n  </tbody>\n</table>\n<p>15000 rows × 2 columns</p>\n</div>"
     },
     "execution_count": 3,
     "metadata": {},
     "output_type": "execute_result"
    }
   ],
   "source": [
    "df_train = df[:15000]\n",
    "df_train"
   ]
  },
  {
   "cell_type": "code",
   "execution_count": 4,
   "metadata": {},
   "outputs": [
    {
     "data": {
      "text/plain": "       Rating                                            Content\n15000       5                                            Топчик.\n15001       5                                           Супер!!!\n15002       5                           Прекрасно. Мне нравиться\n15003       5                           Удобно управлять счетами\n15004       4                           Очень медленно работает.\n...       ...                                                ...\n20654       1  Ну и шляпа,с роот правами бесполезная прога,ра...\n20655       5                                                 Ок\n20656       4                                            Доволен\n20657       1                         Песопаснасть, рут ни нужын\n20658       5  Сбербанк бомбовая компания на сегодняшний день...\n\n[5659 rows x 2 columns]",
      "text/html": "<div>\n<style scoped>\n    .dataframe tbody tr th:only-of-type {\n        vertical-align: middle;\n    }\n\n    .dataframe tbody tr th {\n        vertical-align: top;\n    }\n\n    .dataframe thead th {\n        text-align: right;\n    }\n</style>\n<table border=\"1\" class=\"dataframe\">\n  <thead>\n    <tr style=\"text-align: right;\">\n      <th></th>\n      <th>Rating</th>\n      <th>Content</th>\n    </tr>\n  </thead>\n  <tbody>\n    <tr>\n      <th>15000</th>\n      <td>5</td>\n      <td>Топчик.</td>\n    </tr>\n    <tr>\n      <th>15001</th>\n      <td>5</td>\n      <td>Супер!!!</td>\n    </tr>\n    <tr>\n      <th>15002</th>\n      <td>5</td>\n      <td>Прекрасно. Мне нравиться</td>\n    </tr>\n    <tr>\n      <th>15003</th>\n      <td>5</td>\n      <td>Удобно управлять счетами</td>\n    </tr>\n    <tr>\n      <th>15004</th>\n      <td>4</td>\n      <td>Очень медленно работает.</td>\n    </tr>\n    <tr>\n      <th>...</th>\n      <td>...</td>\n      <td>...</td>\n    </tr>\n    <tr>\n      <th>20654</th>\n      <td>1</td>\n      <td>Ну и шляпа,с роот правами бесполезная прога,ра...</td>\n    </tr>\n    <tr>\n      <th>20655</th>\n      <td>5</td>\n      <td>Ок</td>\n    </tr>\n    <tr>\n      <th>20656</th>\n      <td>4</td>\n      <td>Доволен</td>\n    </tr>\n    <tr>\n      <th>20657</th>\n      <td>1</td>\n      <td>Песопаснасть, рут ни нужын</td>\n    </tr>\n    <tr>\n      <th>20658</th>\n      <td>5</td>\n      <td>Сбербанк бомбовая компания на сегодняшний день...</td>\n    </tr>\n  </tbody>\n</table>\n<p>5659 rows × 2 columns</p>\n</div>"
     },
     "execution_count": 4,
     "metadata": {},
     "output_type": "execute_result"
    }
   ],
   "source": [
    "df_val = df[15000:]\n",
    "df_val"
   ]
  },
  {
   "cell_type": "code",
   "execution_count": 5,
   "metadata": {},
   "outputs": [],
   "source": [
    "max_words = 10000\n",
    "max_len = 40\n",
    "num_classes = 1\n",
    "\n",
    "# Training\n",
    "epochs = 20\n",
    "batch_size = 512\n",
    "print_batch_n = 100"
   ]
  },
  {
   "cell_type": "code",
   "execution_count": 6,
   "metadata": {},
   "outputs": [
    {
     "name": "stderr",
     "output_type": "stream",
     "text": [
      "C:\\Users\\nikit\\AppData\\Local\\Temp\\ipykernel_11124\\1230001735.py:13: SettingWithCopyWarning: \n",
      "A value is trying to be set on a copy of a slice from a DataFrame.\n",
      "Try using .loc[row_indexer,col_indexer] = value instead\n",
      "\n",
      "See the caveats in the documentation: https://pandas.pydata.org/pandas-docs/stable/user_guide/indexing.html#returning-a-view-versus-a-copy\n",
      "  df_train['Content'] = df_train['Content'].apply(preprocess_text)\n",
      "C:\\Users\\nikit\\AppData\\Local\\Temp\\ipykernel_11124\\1230001735.py:14: SettingWithCopyWarning: \n",
      "A value is trying to be set on a copy of a slice from a DataFrame.\n",
      "Try using .loc[row_indexer,col_indexer] = value instead\n",
      "\n",
      "See the caveats in the documentation: https://pandas.pydata.org/pandas-docs/stable/user_guide/indexing.html#returning-a-view-versus-a-copy\n",
      "  df_val['Content'] = df_val['Content'].apply(preprocess_text)\n"
     ]
    }
   ],
   "source": [
    "sw = set(get_stop_words(\"ru\"))\n",
    "exclude = set(punctuation)\n",
    "morpher = MorphAnalyzer()\n",
    "\n",
    "def preprocess_text(txt):\n",
    "    txt = str(txt)\n",
    "    txt = \"\".join(c for c in txt if c not in exclude)\n",
    "    txt = txt.lower()\n",
    "    txt = re.sub(\"\\sне\", \"не\", txt)\n",
    "    txt = [morpher.parse(word)[0].normal_form for word in txt.split() if word not in sw]\n",
    "    return \" \".join(txt)\n",
    "\n",
    "df_train['Content'] = df_train['Content'].apply(preprocess_text)\n",
    "df_val['Content'] = df_val['Content'].apply(preprocess_text)"
   ]
  },
  {
   "cell_type": "code",
   "execution_count": 7,
   "metadata": {},
   "outputs": [],
   "source": [
    "train_corpus = \" \".join(df_train['Content'])\n",
    "train_corpus = train_corpus.lower()"
   ]
  },
  {
   "cell_type": "code",
   "execution_count": 8,
   "metadata": {},
   "outputs": [
    {
     "name": "stderr",
     "output_type": "stream",
     "text": [
      "[nltk_data] Downloading package punkt to\n",
      "[nltk_data]     C:\\Users\\nikit\\AppData\\Roaming\\nltk_data...\n",
      "[nltk_data]   Package punkt is already up-to-date!\n"
     ]
    }
   ],
   "source": [
    "import nltk\n",
    "from nltk.tokenize import word_tokenize\n",
    "nltk.download(\"punkt\")\n",
    "\n",
    "tokens = word_tokenize(train_corpus)"
   ]
  },
  {
   "cell_type": "code",
   "execution_count": 9,
   "metadata": {},
   "outputs": [],
   "source": [
    "tokens_filtered = [word for word in tokens if word.isalnum()]"
   ]
  },
  {
   "cell_type": "code",
   "execution_count": 10,
   "metadata": {},
   "outputs": [],
   "source": [
    "from nltk.probability import FreqDist\n",
    "dist = FreqDist(tokens_filtered)\n",
    "tokens_filtered_top = [pair[0] for pair in dist.most_common(max_words-1)]"
   ]
  },
  {
   "cell_type": "code",
   "execution_count": 11,
   "metadata": {},
   "outputs": [
    {
     "data": {
      "text/plain": "['приложение',\n 'удобно',\n 'работать',\n 'удобный',\n 'отлично',\n 'нравиться',\n 'хороший',\n 'отличный',\n 'супер',\n 'телефон']"
     },
     "execution_count": 11,
     "metadata": {},
     "output_type": "execute_result"
    }
   ],
   "source": [
    "tokens_filtered_top[:10]"
   ]
  },
  {
   "cell_type": "code",
   "execution_count": 12,
   "metadata": {},
   "outputs": [],
   "source": [
    "vocabulary = {v: k for k, v in dict(enumerate(tokens_filtered_top, 1)).items()}"
   ]
  },
  {
   "cell_type": "code",
   "execution_count": 13,
   "metadata": {},
   "outputs": [],
   "source": [
    "def text_to_sequence(text, maxlen):\n",
    "    result = []\n",
    "    tokens = word_tokenize(text.lower())\n",
    "    tokens_filtered = [word for word in tokens if word.isalnum()]\n",
    "    for word in tokens_filtered:\n",
    "        if word in vocabulary:\n",
    "            result.append(vocabulary[word])\n",
    "    padding = [0]*(maxlen-len(result))\n",
    "    return padding + result[-maxlen:]"
   ]
  },
  {
   "cell_type": "code",
   "execution_count": 14,
   "metadata": {},
   "outputs": [],
   "source": [
    "x_train = np.asarray([text_to_sequence(text, max_len) for text in df_train['Content']], dtype=np.int32)\n",
    "x_val = np.asarray([text_to_sequence(text, max_len) for text in df_val['Content']], dtype=np.int32)"
   ]
  },
  {
   "cell_type": "code",
   "execution_count": 15,
   "metadata": {},
   "outputs": [
    {
     "data": {
      "text/plain": "(15000, 40)"
     },
     "execution_count": 15,
     "metadata": {},
     "output_type": "execute_result"
    }
   ],
   "source": [
    "x_train.shape"
   ]
  },
  {
   "cell_type": "code",
   "execution_count": 16,
   "metadata": {},
   "outputs": [
    {
     "data": {
      "text/plain": "40"
     },
     "execution_count": 16,
     "metadata": {},
     "output_type": "execute_result"
    }
   ],
   "source": [
    "max_len"
   ]
  },
  {
   "cell_type": "code",
   "execution_count": 17,
   "metadata": {},
   "outputs": [
    {
     "data": {
      "text/plain": "array([   0,    0,    0,    0,    0,    0,    0,    0,    0,    0,    0,\n          0,    0,    0,    0,    0,    0,    0,    0,    0,    0,    0,\n          0,    0,    0,    0,    0,  101, 3525, 3526,  118,  168,  116,\n         88, 1187,  477, 3527,   15,  537,  458])"
     },
     "execution_count": 17,
     "metadata": {},
     "output_type": "execute_result"
    }
   ],
   "source": [
    "x_train[1]"
   ]
  },
  {
   "cell_type": "code",
   "execution_count": 18,
   "metadata": {},
   "outputs": [
    {
     "name": "stderr",
     "output_type": "stream",
     "text": [
      "C:\\Users\\nikit\\AppData\\Local\\Temp\\ipykernel_11124\\3346725074.py:1: SettingWithCopyWarning: \n",
      "A value is trying to be set on a copy of a slice from a DataFrame.\n",
      "Try using .loc[row_indexer,col_indexer] = value instead\n",
      "\n",
      "See the caveats in the documentation: https://pandas.pydata.org/pandas-docs/stable/user_guide/indexing.html#returning-a-view-versus-a-copy\n",
      "  df_train['Rating'] = df_train['Rating']-1\n",
      "C:\\Users\\nikit\\AppData\\Local\\Temp\\ipykernel_11124\\3346725074.py:2: SettingWithCopyWarning: \n",
      "A value is trying to be set on a copy of a slice from a DataFrame.\n",
      "Try using .loc[row_indexer,col_indexer] = value instead\n",
      "\n",
      "See the caveats in the documentation: https://pandas.pydata.org/pandas-docs/stable/user_guide/indexing.html#returning-a-view-versus-a-copy\n",
      "  df_val['Rating'] = df_val['Rating']-1\n"
     ]
    },
    {
     "data": {
      "text/plain": "       Rating                                            Content\n0           4                                      it just works\n1           3  целое удобноной приложениеиз минус хотеть боль...\n2           4                                            отлично\n3           4  зависать 1 работа антивирус ранее пользоваться...\n4           4                             удобно работать быстро\n...       ...                                                ...\n14995       4                                    любить сбербанк\n14996       2                                 хороший приложение\n14997       4                                              огонь\n14998       0      плохо пишетчто телефон рута сроду сдесьнебыть\n14999       4                                   приложение супер\n\n[15000 rows x 2 columns]",
      "text/html": "<div>\n<style scoped>\n    .dataframe tbody tr th:only-of-type {\n        vertical-align: middle;\n    }\n\n    .dataframe tbody tr th {\n        vertical-align: top;\n    }\n\n    .dataframe thead th {\n        text-align: right;\n    }\n</style>\n<table border=\"1\" class=\"dataframe\">\n  <thead>\n    <tr style=\"text-align: right;\">\n      <th></th>\n      <th>Rating</th>\n      <th>Content</th>\n    </tr>\n  </thead>\n  <tbody>\n    <tr>\n      <th>0</th>\n      <td>4</td>\n      <td>it just works</td>\n    </tr>\n    <tr>\n      <th>1</th>\n      <td>3</td>\n      <td>целое удобноной приложениеиз минус хотеть боль...</td>\n    </tr>\n    <tr>\n      <th>2</th>\n      <td>4</td>\n      <td>отлично</td>\n    </tr>\n    <tr>\n      <th>3</th>\n      <td>4</td>\n      <td>зависать 1 работа антивирус ранее пользоваться...</td>\n    </tr>\n    <tr>\n      <th>4</th>\n      <td>4</td>\n      <td>удобно работать быстро</td>\n    </tr>\n    <tr>\n      <th>...</th>\n      <td>...</td>\n      <td>...</td>\n    </tr>\n    <tr>\n      <th>14995</th>\n      <td>4</td>\n      <td>любить сбербанк</td>\n    </tr>\n    <tr>\n      <th>14996</th>\n      <td>2</td>\n      <td>хороший приложение</td>\n    </tr>\n    <tr>\n      <th>14997</th>\n      <td>4</td>\n      <td>огонь</td>\n    </tr>\n    <tr>\n      <th>14998</th>\n      <td>0</td>\n      <td>плохо пишетчто телефон рута сроду сдесьнебыть</td>\n    </tr>\n    <tr>\n      <th>14999</th>\n      <td>4</td>\n      <td>приложение супер</td>\n    </tr>\n  </tbody>\n</table>\n<p>15000 rows × 2 columns</p>\n</div>"
     },
     "execution_count": 18,
     "metadata": {},
     "output_type": "execute_result"
    }
   ],
   "source": [
    "df_train['Rating'] = df_train['Rating']-1\n",
    "df_val['Rating'] = df_val['Rating']-1\n",
    "df_train"
   ]
  },
  {
   "cell_type": "code",
   "execution_count": 19,
   "metadata": {},
   "outputs": [
    {
     "data": {
      "text/plain": "       Rating                                            Content\n15000       4                                             топчик\n15001       4                                              супер\n15002       4                                          нравиться\n15003       4                              удобно управлять счёт\n15004       3                                  медленно работать\n...       ...                                                ...\n20654       0  шляпас роот право бесполезный прогаразрабыв ох...\n20655       4                                              около\n20656       3                                          довольный\n20657       0                            песопаснастя рута нужын\n20658       4  сбербанк бомбовый компания сегодняшний лидер б...\n\n[5659 rows x 2 columns]",
      "text/html": "<div>\n<style scoped>\n    .dataframe tbody tr th:only-of-type {\n        vertical-align: middle;\n    }\n\n    .dataframe tbody tr th {\n        vertical-align: top;\n    }\n\n    .dataframe thead th {\n        text-align: right;\n    }\n</style>\n<table border=\"1\" class=\"dataframe\">\n  <thead>\n    <tr style=\"text-align: right;\">\n      <th></th>\n      <th>Rating</th>\n      <th>Content</th>\n    </tr>\n  </thead>\n  <tbody>\n    <tr>\n      <th>15000</th>\n      <td>4</td>\n      <td>топчик</td>\n    </tr>\n    <tr>\n      <th>15001</th>\n      <td>4</td>\n      <td>супер</td>\n    </tr>\n    <tr>\n      <th>15002</th>\n      <td>4</td>\n      <td>нравиться</td>\n    </tr>\n    <tr>\n      <th>15003</th>\n      <td>4</td>\n      <td>удобно управлять счёт</td>\n    </tr>\n    <tr>\n      <th>15004</th>\n      <td>3</td>\n      <td>медленно работать</td>\n    </tr>\n    <tr>\n      <th>...</th>\n      <td>...</td>\n      <td>...</td>\n    </tr>\n    <tr>\n      <th>20654</th>\n      <td>0</td>\n      <td>шляпас роот право бесполезный прогаразрабыв ох...</td>\n    </tr>\n    <tr>\n      <th>20655</th>\n      <td>4</td>\n      <td>около</td>\n    </tr>\n    <tr>\n      <th>20656</th>\n      <td>3</td>\n      <td>довольный</td>\n    </tr>\n    <tr>\n      <th>20657</th>\n      <td>0</td>\n      <td>песопаснастя рута нужын</td>\n    </tr>\n    <tr>\n      <th>20658</th>\n      <td>4</td>\n      <td>сбербанк бомбовый компания сегодняшний лидер б...</td>\n    </tr>\n  </tbody>\n</table>\n<p>5659 rows × 2 columns</p>\n</div>"
     },
     "execution_count": 19,
     "metadata": {},
     "output_type": "execute_result"
    }
   ],
   "source": [
    "df_val"
   ]
  },
  {
   "cell_type": "code",
   "execution_count": 20,
   "metadata": {},
   "outputs": [
    {
     "data": {
      "text/plain": "       Rating                                            Content\n0           4                                      it just works\n1           3  целое удобноной приложениеиз минус хотеть боль...\n2           4                                            отлично\n3           4  зависать 1 работа антивирус ранее пользоваться...\n4           4                             удобно работать быстро\n...       ...                                                ...\n14995       4                                    любить сбербанк\n14996       2                                 хороший приложение\n14997       4                                              огонь\n14998       0      плохо пишетчто телефон рута сроду сдесьнебыть\n14999       4                                   приложение супер\n\n[15000 rows x 2 columns]",
      "text/html": "<div>\n<style scoped>\n    .dataframe tbody tr th:only-of-type {\n        vertical-align: middle;\n    }\n\n    .dataframe tbody tr th {\n        vertical-align: top;\n    }\n\n    .dataframe thead th {\n        text-align: right;\n    }\n</style>\n<table border=\"1\" class=\"dataframe\">\n  <thead>\n    <tr style=\"text-align: right;\">\n      <th></th>\n      <th>Rating</th>\n      <th>Content</th>\n    </tr>\n  </thead>\n  <tbody>\n    <tr>\n      <th>0</th>\n      <td>4</td>\n      <td>it just works</td>\n    </tr>\n    <tr>\n      <th>1</th>\n      <td>3</td>\n      <td>целое удобноной приложениеиз минус хотеть боль...</td>\n    </tr>\n    <tr>\n      <th>2</th>\n      <td>4</td>\n      <td>отлично</td>\n    </tr>\n    <tr>\n      <th>3</th>\n      <td>4</td>\n      <td>зависать 1 работа антивирус ранее пользоваться...</td>\n    </tr>\n    <tr>\n      <th>4</th>\n      <td>4</td>\n      <td>удобно работать быстро</td>\n    </tr>\n    <tr>\n      <th>...</th>\n      <td>...</td>\n      <td>...</td>\n    </tr>\n    <tr>\n      <th>14995</th>\n      <td>4</td>\n      <td>любить сбербанк</td>\n    </tr>\n    <tr>\n      <th>14996</th>\n      <td>2</td>\n      <td>хороший приложение</td>\n    </tr>\n    <tr>\n      <th>14997</th>\n      <td>4</td>\n      <td>огонь</td>\n    </tr>\n    <tr>\n      <th>14998</th>\n      <td>0</td>\n      <td>плохо пишетчто телефон рута сроду сдесьнебыть</td>\n    </tr>\n    <tr>\n      <th>14999</th>\n      <td>4</td>\n      <td>приложение супер</td>\n    </tr>\n  </tbody>\n</table>\n<p>15000 rows × 2 columns</p>\n</div>"
     },
     "execution_count": 20,
     "metadata": {},
     "output_type": "execute_result"
    }
   ],
   "source": [
    "df_train"
   ]
  },
  {
   "cell_type": "code",
   "execution_count": 21,
   "metadata": {},
   "outputs": [],
   "source": [
    "num_classes = 5\n",
    "y_train = keras.utils.to_categorical(df_train['Rating'], num_classes)\n",
    "y_val = keras.utils.to_categorical(df_val['Rating'], num_classes)"
   ]
  },
  {
   "cell_type": "code",
   "execution_count": 22,
   "metadata": {},
   "outputs": [],
   "source": [
    "model = Sequential()\n",
    "model.add(Embedding(input_dim=max_words, output_dim=128, input_length=max_len))\n",
    "model.add(Conv1D(128, 3))\n",
    "model.add(Activation(\"relu\"))\n",
    "model.add(GlobalMaxPool1D())\n",
    "model.add(Dense(100))\n",
    "model.add(Dense(50))\n",
    "model.add(Dense(10))\n",
    "model.add(Dense(num_classes))\n",
    "model.add(Activation('softmax'))"
   ]
  },
  {
   "cell_type": "code",
   "execution_count": 23,
   "metadata": {},
   "outputs": [
    {
     "name": "stdout",
     "output_type": "stream",
     "text": [
      "Model: \"sequential\"\n",
      "_________________________________________________________________\n",
      " Layer (type)                Output Shape              Param #   \n",
      "=================================================================\n",
      " embedding (Embedding)       (None, 40, 128)           1280000   \n",
      "                                                                 \n",
      " conv1d (Conv1D)             (None, 38, 128)           49280     \n",
      "                                                                 \n",
      " activation (Activation)     (None, 38, 128)           0         \n",
      "                                                                 \n",
      " global_max_pooling1d (Globa  (None, 128)              0         \n",
      " lMaxPooling1D)                                                  \n",
      "                                                                 \n",
      " dense (Dense)               (None, 100)               12900     \n",
      "                                                                 \n",
      " dense_1 (Dense)             (None, 50)                5050      \n",
      "                                                                 \n",
      " dense_2 (Dense)             (None, 10)                510       \n",
      "                                                                 \n",
      " dense_3 (Dense)             (None, 5)                 55        \n",
      "                                                                 \n",
      " activation_1 (Activation)   (None, 5)                 0         \n",
      "                                                                 \n",
      "=================================================================\n",
      "Total params: 1,347,795\n",
      "Trainable params: 1,347,795\n",
      "Non-trainable params: 0\n",
      "_________________________________________________________________\n"
     ]
    }
   ],
   "source": [
    "model.summary()"
   ]
  },
  {
   "cell_type": "code",
   "execution_count": 24,
   "metadata": {},
   "outputs": [],
   "source": [
    "model.compile(loss='categorical_crossentropy',\n",
    "              optimizer='adam',\n",
    "              metrics=['accuracy'])"
   ]
  },
  {
   "cell_type": "code",
   "execution_count": 25,
   "metadata": {},
   "outputs": [
    {
     "name": "stdout",
     "output_type": "stream",
     "text": [
      "Epoch 1/20\n",
      "27/27 [==============================] - 2s 64ms/step - loss: 0.9992 - accuracy: 0.7155 - val_loss: 0.8728 - val_accuracy: 0.6860\n",
      "Epoch 2/20\n",
      "27/27 [==============================] - 1s 54ms/step - loss: 0.6638 - accuracy: 0.7629 - val_loss: 0.7018 - val_accuracy: 0.7567\n"
     ]
    }
   ],
   "source": [
    "tensorboard=TensorBoard(log_dir='./logs', write_graph=True, write_images=True)\n",
    "early_stopping=EarlyStopping(monitor='val_loss')\n",
    "\n",
    "\n",
    "history = model.fit(x_train, y_train,\n",
    "                    batch_size=batch_size,\n",
    "                    epochs=epochs,\n",
    "                    verbose=1,\n",
    "                    validation_split=0.1,\n",
    "                    callbacks=[tensorboard, early_stopping])"
   ]
  },
  {
   "cell_type": "code",
   "execution_count": 26,
   "metadata": {},
   "outputs": [
    {
     "name": "stdout",
     "output_type": "stream",
     "text": [
      "12/12 [==============================] - 0s 12ms/step - loss: 0.7485 - accuracy: 0.7454\n",
      "\n",
      "\n",
      "Test score: 0.7485322952270508\n",
      "Test accuracy: 0.7453613877296448\n"
     ]
    }
   ],
   "source": [
    "score = model.evaluate(x_val, y_val, batch_size=batch_size, verbose=1)\n",
    "print('\\n')\n",
    "print('Test score:', score[0])\n",
    "print('Test accuracy:', score[1])"
   ]
  },
  {
   "cell_type": "code",
   "execution_count": 27,
   "outputs": [],
   "source": [
    "lstm = Sequential()\n",
    "lstm.add(Embedding(input_dim=max_words, output_dim=128, input_length=max_len, trainable=True, mask_zero=True))\n",
    "lstm.add(LSTM(128, recurrent_dropout=0.2))\n",
    "lstm.add(Dense(50))\n",
    "lstm.add(Dense(10))\n",
    "lstm.add(Activation(\"relu\"))\n",
    "lstm.add(Dense(num_classes))\n",
    "lstm.add(Activation('softmax'))"
   ],
   "metadata": {
    "collapsed": false
   }
  },
  {
   "cell_type": "code",
   "execution_count": 28,
   "outputs": [
    {
     "name": "stdout",
     "output_type": "stream",
     "text": [
      "Model: \"sequential_1\"\n",
      "_________________________________________________________________\n",
      " Layer (type)                Output Shape              Param #   \n",
      "=================================================================\n",
      " embedding_1 (Embedding)     (None, 40, 128)           1280000   \n",
      "                                                                 \n",
      " lstm (LSTM)                 (None, 128)               131584    \n",
      "                                                                 \n",
      " dense_4 (Dense)             (None, 50)                6450      \n",
      "                                                                 \n",
      " dense_5 (Dense)             (None, 10)                510       \n",
      "                                                                 \n",
      " activation_2 (Activation)   (None, 10)                0         \n",
      "                                                                 \n",
      " dense_6 (Dense)             (None, 5)                 55        \n",
      "                                                                 \n",
      " activation_3 (Activation)   (None, 5)                 0         \n",
      "                                                                 \n",
      "=================================================================\n",
      "Total params: 1,418,599\n",
      "Trainable params: 1,418,599\n",
      "Non-trainable params: 0\n",
      "_________________________________________________________________\n"
     ]
    }
   ],
   "source": [
    "lstm.summary()"
   ],
   "metadata": {
    "collapsed": false
   }
  },
  {
   "cell_type": "code",
   "execution_count": 29,
   "outputs": [],
   "source": [
    "lstm.compile(loss='categorical_crossentropy',\n",
    "              optimizer='adam',\n",
    "              metrics=['accuracy'])"
   ],
   "metadata": {
    "collapsed": false
   }
  },
  {
   "cell_type": "code",
   "execution_count": 30,
   "outputs": [
    {
     "name": "stdout",
     "output_type": "stream",
     "text": [
      "Epoch 1/20\n",
      "27/27 [==============================] - 12s 322ms/step - loss: 1.4081 - accuracy: 0.6977 - val_loss: 1.0766 - val_accuracy: 0.6807\n",
      "Epoch 2/20\n",
      "27/27 [==============================] - 9s 339ms/step - loss: 0.7968 - accuracy: 0.7442 - val_loss: 0.8029 - val_accuracy: 0.7473\n"
     ]
    }
   ],
   "source": [
    "tensorboard=TensorBoard(log_dir='./logs', write_graph=True, write_images=True)\n",
    "early_stopping=EarlyStopping(monitor='val_loss')\n",
    "\n",
    "\n",
    "history = lstm.fit(x_train, y_train,\n",
    "                    batch_size=batch_size,\n",
    "                    epochs=epochs,\n",
    "                    verbose=1,\n",
    "                    validation_split=0.1,\n",
    "                    callbacks=[tensorboard, early_stopping])"
   ],
   "metadata": {
    "collapsed": false
   }
  },
  {
   "cell_type": "code",
   "execution_count": 31,
   "outputs": [
    {
     "name": "stdout",
     "output_type": "stream",
     "text": [
      "12/12 [==============================] - 1s 62ms/step - loss: 0.8567 - accuracy: 0.7300\n",
      "\n",
      "\n",
      "Test score: 0.8566953539848328\n",
      "Test accuracy: 0.729987621307373\n"
     ]
    }
   ],
   "source": [
    "score_lstm = lstm.evaluate(x_val, y_val, batch_size=batch_size, verbose=1)\n",
    "print('\\n')\n",
    "print('Test score:', score_lstm[0])\n",
    "print('Test accuracy:', score_lstm[1])"
   ],
   "metadata": {
    "collapsed": false
   }
  },
  {
   "cell_type": "code",
   "execution_count": 32,
   "outputs": [],
   "source": [
    "gru_cnn = Sequential()\n",
    "gru_cnn.add(Embedding(input_dim=max_words, output_dim=128, input_length=max_len))\n",
    "gru_cnn.add(Conv1D(128, 3, activation='relu'))\n",
    "gru_cnn.add(MaxPool1D(3))\n",
    "gru_cnn.add(GRU(128, recurrent_dropout=0.2))\n",
    "gru_cnn.add(Dense(50))\n",
    "gru_cnn.add(Dense(10))\n",
    "gru_cnn.add(Activation(\"relu\"))\n",
    "gru_cnn.add(Dense(num_classes))\n",
    "gru_cnn.add(Activation('softmax'))"
   ],
   "metadata": {
    "collapsed": false
   }
  },
  {
   "cell_type": "code",
   "execution_count": 33,
   "outputs": [
    {
     "name": "stdout",
     "output_type": "stream",
     "text": [
      "Model: \"sequential_2\"\n",
      "_________________________________________________________________\n",
      " Layer (type)                Output Shape              Param #   \n",
      "=================================================================\n",
      " embedding_2 (Embedding)     (None, 40, 128)           1280000   \n",
      "                                                                 \n",
      " conv1d_1 (Conv1D)           (None, 38, 128)           49280     \n",
      "                                                                 \n",
      " max_pooling1d (MaxPooling1D  (None, 12, 128)          0         \n",
      " )                                                               \n",
      "                                                                 \n",
      " gru (GRU)                   (None, 128)               99072     \n",
      "                                                                 \n",
      " dense_7 (Dense)             (None, 50)                6450      \n",
      "                                                                 \n",
      " dense_8 (Dense)             (None, 10)                510       \n",
      "                                                                 \n",
      " activation_4 (Activation)   (None, 10)                0         \n",
      "                                                                 \n",
      " dense_9 (Dense)             (None, 5)                 55        \n",
      "                                                                 \n",
      " activation_5 (Activation)   (None, 5)                 0         \n",
      "                                                                 \n",
      "=================================================================\n",
      "Total params: 1,435,367\n",
      "Trainable params: 1,435,367\n",
      "Non-trainable params: 0\n",
      "_________________________________________________________________\n"
     ]
    }
   ],
   "source": [
    "gru_cnn.summary()"
   ],
   "metadata": {
    "collapsed": false
   }
  },
  {
   "cell_type": "code",
   "execution_count": 34,
   "outputs": [
    {
     "name": "stdout",
     "output_type": "stream",
     "text": [
      "Model: \"sequential_2\"\n",
      "_________________________________________________________________\n",
      " Layer (type)                Output Shape              Param #   \n",
      "=================================================================\n",
      " embedding_2 (Embedding)     (None, 40, 128)           1280000   \n",
      "                                                                 \n",
      " conv1d_1 (Conv1D)           (None, 38, 128)           49280     \n",
      "                                                                 \n",
      " max_pooling1d (MaxPooling1D  (None, 12, 128)          0         \n",
      " )                                                               \n",
      "                                                                 \n",
      " gru (GRU)                   (None, 128)               99072     \n",
      "                                                                 \n",
      " dense_7 (Dense)             (None, 50)                6450      \n",
      "                                                                 \n",
      " dense_8 (Dense)             (None, 10)                510       \n",
      "                                                                 \n",
      " activation_4 (Activation)   (None, 10)                0         \n",
      "                                                                 \n",
      " dense_9 (Dense)             (None, 5)                 55        \n",
      "                                                                 \n",
      " activation_5 (Activation)   (None, 5)                 0         \n",
      "                                                                 \n",
      "=================================================================\n",
      "Total params: 1,435,367\n",
      "Trainable params: 1,435,367\n",
      "Non-trainable params: 0\n",
      "_________________________________________________________________\n"
     ]
    }
   ],
   "source": [
    "gru_cnn.summary()\n",
    "gru_cnn.compile(loss='categorical_crossentropy',\n",
    "             optimizer='adam',\n",
    "             metrics=['accuracy'])"
   ],
   "metadata": {
    "collapsed": false
   }
  },
  {
   "cell_type": "code",
   "execution_count": 35,
   "outputs": [
    {
     "name": "stdout",
     "output_type": "stream",
     "text": [
      "Epoch 1/20\n",
      "27/27 [==============================] - 7s 122ms/step - loss: 1.0754 - accuracy: 0.7058 - val_loss: 0.9155 - val_accuracy: 0.7073\n",
      "Epoch 2/20\n",
      "27/27 [==============================] - 3s 114ms/step - loss: 0.7690 - accuracy: 0.7564 - val_loss: 0.8170 - val_accuracy: 0.7327\n"
     ]
    }
   ],
   "source": [
    "tensorboard=TensorBoard(log_dir='./logs', write_graph=True, write_images=True)\n",
    "early_stopping=EarlyStopping(monitor='val_loss')\n",
    "\n",
    "\n",
    "history = gru_cnn.fit(x_train, y_train,\n",
    "                    batch_size=batch_size,\n",
    "                    epochs=epochs,\n",
    "                    verbose=1,\n",
    "                    validation_split=0.1,\n",
    "                    callbacks=[tensorboard, early_stopping])"
   ],
   "metadata": {
    "collapsed": false
   }
  },
  {
   "cell_type": "code",
   "execution_count": 36,
   "outputs": [
    {
     "name": "stdout",
     "output_type": "stream",
     "text": [
      "12/12 [==============================] - 0s 23ms/step - loss: 0.8607 - accuracy: 0.7250\n",
      "\n",
      "\n",
      "Test score: 0.8607456088066101\n",
      "Test accuracy: 0.7250397801399231\n"
     ]
    }
   ],
   "source": [
    "score_gru_cnn = gru_cnn.evaluate(x_val, y_val, batch_size=batch_size, verbose=1)\n",
    "print('\\n')\n",
    "print('Test score:', score_gru_cnn[0])\n",
    "print('Test accuracy:', score_gru_cnn[1])"
   ],
   "metadata": {
    "collapsed": false
   }
  },
  {
   "cell_type": "markdown",
   "source": [
    "Обучил 3 модели: обычную CNN на 3 промежуточных слоя Dense, lstm + добавил 2 слоя промежуточных и комбинированную модель GRU с пулингом и 2мя Dense слоями.</br>\n",
    "Как ни удивительно лидирует обычная Cnn по accuracy, возможно это связано с переобучением последующих 2х сетей. Lstm пробовал обучать без Dense, метрика значительно не растет. Первая модель получается все равно сильнее"
   ],
   "metadata": {
    "collapsed": false
   }
  }
 ],
 "metadata": {
  "kernelspec": {
   "display_name": "Python 3 (ipykernel)",
   "language": "python",
   "name": "python3"
  },
  "language_info": {
   "codemirror_mode": {
    "name": "ipython",
    "version": 2
   },
   "file_extension": ".py",
   "mimetype": "text/x-python",
   "name": "python",
   "nbconvert_exporter": "python",
   "pygments_lexer": "ipython2",
   "version": "2.7.6"
  }
 },
 "nbformat": 4,
 "nbformat_minor": 1
}
