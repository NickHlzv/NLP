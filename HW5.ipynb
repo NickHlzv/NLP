{
 "cells": [
  {
   "cell_type": "markdown",
   "source": [
    "### Задание 1. Написать теггер на данных с русским языком"
   ],
   "metadata": {
    "collapsed": false
   }
  },
  {
   "cell_type": "code",
   "execution_count": 1,
   "outputs": [],
   "source": [
    "import pandas as pd\n",
    "from nltk.tag import DefaultTagger, UnigramTagger, BigramTagger, TrigramTagger, RegexpTagger\n",
    "import pyconll"
   ],
   "metadata": {
    "collapsed": false
   }
  },
  {
   "cell_type": "code",
   "execution_count": 2,
   "outputs": [],
   "source": [
    "full_train = pyconll.load_from_file('ru_syntagrus-ud-train-a.conllu')\n",
    "full_test = pyconll.load_from_file('ru_syntagrus-ud-test.conllu')"
   ],
   "metadata": {
    "collapsed": false
   }
  },
  {
   "cell_type": "code",
   "execution_count": 3,
   "outputs": [
    {
     "name": "stdout",
     "output_type": "stream",
     "text": [
      "Анкета NOUN\n",
      ". PUNCT\n",
      "\n",
      "Начальник NOUN\n",
      "областного ADJ\n",
      "управления NOUN\n",
      "связи NOUN\n",
      "Семен PROPN\n",
      "Еремеевич PROPN\n",
      "был AUX\n",
      "человек NOUN\n",
      "простой ADJ\n",
      ", PUNCT\n",
      "приходил VERB\n",
      "на ADP\n",
      "работу NOUN\n",
      "всегда ADV\n",
      "вовремя ADV\n",
      ", PUNCT\n",
      "здоровался VERB\n",
      "с ADP\n",
      "секретаршей NOUN\n",
      "за ADP\n",
      "руку NOUN\n",
      "и CCONJ\n",
      "иногда ADV\n",
      "даже PART\n",
      "писал VERB\n",
      "в ADP\n",
      "стенгазету NOUN\n",
      "заметки NOUN\n",
      "под ADP\n",
      "псевдонимом NOUN\n",
      "\" PUNCT\n",
      "Муха NOUN\n",
      "\" PUNCT\n",
      ". PUNCT\n",
      "\n"
     ]
    }
   ],
   "source": [
    "for sent in full_train[:2]:\n",
    "    for token in sent:\n",
    "        print(token.form, token.upos)\n",
    "    print()"
   ],
   "metadata": {
    "collapsed": false
   }
  },
  {
   "cell_type": "code",
   "execution_count": 4,
   "outputs": [],
   "source": [
    "fdata_train = []\n",
    "for sent in full_train[:]:\n",
    "    fdata_train.append([(token.form, token.upos) for token in sent])\n",
    "\n",
    "fdata_test = []\n",
    "for sent in full_test[:]:\n",
    "    fdata_test.append([(token.form, token.upos) for token in sent])\n",
    "\n",
    "fdata_sent_test = []\n",
    "for sent in full_test[:]:\n",
    "    fdata_sent_test.append([token.form for token in sent])"
   ],
   "metadata": {
    "collapsed": false
   }
  },
  {
   "cell_type": "code",
   "execution_count": 5,
   "outputs": [
    {
     "name": "stdout",
     "output_type": "stream",
     "text": [
      "Анкета .\n",
      "Начальник областного управления связи Семен Еремеевич был человек простой , приходил на работу всегда вовремя , здоровался с секретаршей за руку и иногда даже писал в стенгазету заметки под псевдонимом \" Муха \" .\n",
      "В приемной его с утра ожидали посетители , - кое-кто с важными делами , а кое-кто и с такими , которые легко можно было решить в нижестоящих инстанциях , не затрудняя Семена Еремеевича .\n",
      "Однако стиль работы Семена Еремеевича заключался в том , чтобы принимать всех желающих и лично вникать в дело .\n",
      "Приемная была обставлена просто , но по-деловому .\n",
      "У двери стоял стол секретарши , на столе - пишущая машинка с широкой кареткой .\n",
      "В углу висел репродуктор и играло радио для развлечения ожидающих и еще для того , чтобы заглушать голос начальника , доносившийся из кабинета , так как , бесспорно , среди посетителей могли находиться и случайные люди .\n",
      "Кабинет отличался скромностью , присущей Семену Еремеевичу .\n",
      "В глубине стоял широкий письменный стол с бронзовыми чернильницами и перед ним два кожаных кресла .\n",
      "Справа был стол для заседаний - длинный , накрытый зеленым сукном и с обеих сторон аккуратно заставленный стульями .\n"
     ]
    }
   ],
   "source": [
    "all_train_texts = [' '.join(token.form for token in sent) for sent in full_train]\n",
    "#all_test_texts = [' '.join(token.form for token in sent) for sent in full_test]\n",
    "\n",
    "#all_train_labels = [' '.join(token.form for token in sent) for sent in full_train]\n",
    "#all_test_labels = [' '.join(token.form for token in sent) for sent in full_test]\n",
    "print('\\n'.join(all_train_texts[:10]))"
   ],
   "metadata": {
    "collapsed": false
   }
  },
  {
   "cell_type": "code",
   "execution_count": 6,
   "outputs": [],
   "source": [
    "unigram_tagger = UnigramTagger(fdata_train)\n",
    "bigram_tagger = BigramTagger(fdata_train)\n",
    "trigram_tagger = TrigramTagger(fdata_train)"
   ],
   "metadata": {
    "collapsed": false
   }
  },
  {
   "cell_type": "code",
   "execution_count": 7,
   "outputs": [
    {
     "name": "stderr",
     "output_type": "stream",
     "text": [
      "C:\\Users\\nikit\\AppData\\Local\\Temp\\ipykernel_8052\\3716435507.py:1: DeprecationWarning: \n",
      "  Function evaluate() has been deprecated.  Use accuracy(gold)\n",
      "  instead.\n",
      "  display(unigram_tagger.tag(fdata_sent_test[5]), bigram_tagger.evaluate(fdata_test))\n"
     ]
    },
    {
     "data": {
      "text/plain": "[('Запад', 'PROPN'),\n ('во', 'ADP'),\n ('главе', 'NOUN'),\n ('с', 'ADP'),\n ('США', 'PROPN'),\n ('регулярно', 'ADV'),\n ('выделяет', 'VERB'),\n ('значительные', 'ADJ'),\n ('суммы', 'NOUN'),\n ('для', 'ADP'),\n ('улучшения', 'NOUN'),\n ('экономического', 'ADJ'),\n ('положения', 'NOUN'),\n ('в', 'ADP'),\n ('стране', 'NOUN'),\n ('.', 'PUNCT')]"
     },
     "metadata": {},
     "output_type": "display_data"
    },
    {
     "data": {
      "text/plain": "0.6249422428143732"
     },
     "metadata": {},
     "output_type": "display_data"
    }
   ],
   "source": [
    "display(unigram_tagger.tag(fdata_sent_test[5]), bigram_tagger.evaluate(fdata_test))"
   ],
   "metadata": {
    "collapsed": false
   }
  },
  {
   "cell_type": "code",
   "execution_count": 8,
   "outputs": [
    {
     "name": "stderr",
     "output_type": "stream",
     "text": [
      "C:\\Users\\nikit\\AppData\\Local\\Temp\\ipykernel_8052\\4239009728.py:1: DeprecationWarning: \n",
      "  Function evaluate() has been deprecated.  Use accuracy(gold)\n",
      "  instead.\n",
      "  display(bigram_tagger.tag(fdata_sent_test[5]), bigram_tagger.evaluate(fdata_test))\n"
     ]
    },
    {
     "data": {
      "text/plain": "[('Запад', 'PROPN'),\n ('во', 'ADP'),\n ('главе', 'NOUN'),\n ('с', 'ADP'),\n ('США', 'PROPN'),\n ('регулярно', 'ADV'),\n ('выделяет', None),\n ('значительные', None),\n ('суммы', None),\n ('для', None),\n ('улучшения', None),\n ('экономического', None),\n ('положения', None),\n ('в', 'ADP'),\n ('стране', 'NOUN'),\n ('.', 'PUNCT')]"
     },
     "metadata": {},
     "output_type": "display_data"
    },
    {
     "data": {
      "text/plain": "0.6249422428143732"
     },
     "metadata": {},
     "output_type": "display_data"
    }
   ],
   "source": [
    "display(bigram_tagger.tag(fdata_sent_test[5]), bigram_tagger.evaluate(fdata_test))"
   ],
   "metadata": {
    "collapsed": false
   }
  },
  {
   "cell_type": "code",
   "execution_count": 9,
   "outputs": [
    {
     "name": "stderr",
     "output_type": "stream",
     "text": [
      "C:\\Users\\nikit\\AppData\\Local\\Temp\\ipykernel_8052\\840269758.py:1: DeprecationWarning: \n",
      "  Function evaluate() has been deprecated.  Use accuracy(gold)\n",
      "  instead.\n",
      "  display(trigram_tagger.tag(fdata_sent_test[5]), bigram_tagger.evaluate(fdata_test))\n"
     ]
    },
    {
     "data": {
      "text/plain": "[('Запад', 'PROPN'),\n ('во', 'ADP'),\n ('главе', 'NOUN'),\n ('с', 'ADP'),\n ('США', 'PROPN'),\n ('регулярно', None),\n ('выделяет', None),\n ('значительные', None),\n ('суммы', None),\n ('для', None),\n ('улучшения', None),\n ('экономического', None),\n ('положения', None),\n ('в', None),\n ('стране', None),\n ('.', None)]"
     },
     "metadata": {},
     "output_type": "display_data"
    },
    {
     "data": {
      "text/plain": "0.6249422428143732"
     },
     "metadata": {},
     "output_type": "display_data"
    }
   ],
   "source": [
    "display(trigram_tagger.tag(fdata_sent_test[5]), bigram_tagger.evaluate(fdata_test))"
   ],
   "metadata": {
    "collapsed": false
   }
  },
  {
   "cell_type": "code",
   "execution_count": 10,
   "outputs": [
    {
     "data": {
      "text/plain": "[['NOUN', 'PUNCT'],\n ['NOUN',\n  'ADJ',\n  'NOUN',\n  'NOUN',\n  'PROPN',\n  'PROPN',\n  'AUX',\n  'NOUN',\n  'ADJ',\n  'PUNCT',\n  'VERB',\n  'ADP',\n  'NOUN',\n  'ADV',\n  'ADV',\n  'PUNCT',\n  'VERB',\n  'ADP',\n  'NOUN',\n  'ADP',\n  'NOUN',\n  'CCONJ',\n  'ADV',\n  'PART',\n  'VERB',\n  'ADP',\n  'NOUN',\n  'NOUN',\n  'ADP',\n  'NOUN',\n  'PUNCT',\n  'NOUN',\n  'PUNCT',\n  'PUNCT'],\n ['ADP',\n  'NOUN',\n  'PRON',\n  'ADP',\n  'NOUN',\n  'VERB',\n  'NOUN',\n  'PUNCT',\n  'PUNCT',\n  'PRON',\n  'ADP',\n  'ADJ',\n  'NOUN',\n  'PUNCT',\n  'CCONJ',\n  'PRON',\n  'PART',\n  'ADP',\n  'DET',\n  'PUNCT',\n  'PRON',\n  'ADV',\n  'ADV',\n  'AUX',\n  'VERB',\n  'ADP',\n  'ADJ',\n  'NOUN',\n  'PUNCT',\n  'PART',\n  'VERB',\n  'PROPN',\n  'PROPN',\n  'PUNCT'],\n ['ADV',\n  'NOUN',\n  'NOUN',\n  'PROPN',\n  'PROPN',\n  'VERB',\n  'ADP',\n  'PRON',\n  'PUNCT',\n  'SCONJ',\n  'VERB',\n  'DET',\n  'VERB',\n  'CCONJ',\n  'ADV',\n  'VERB',\n  'ADP',\n  'NOUN',\n  'PUNCT'],\n ['NOUN', 'AUX', 'VERB', 'ADV', 'PUNCT', 'CCONJ', 'ADV', 'PUNCT'],\n ['ADP',\n  'NOUN',\n  'VERB',\n  'NOUN',\n  'NOUN',\n  'PUNCT',\n  'ADP',\n  'NOUN',\n  'PUNCT',\n  'VERB',\n  'NOUN',\n  'ADP',\n  'ADJ',\n  'NOUN',\n  'PUNCT'],\n ['ADP',\n  'NOUN',\n  'VERB',\n  'NOUN',\n  'CCONJ',\n  'VERB',\n  'NOUN',\n  'ADP',\n  'NOUN',\n  'VERB',\n  'CCONJ',\n  'ADV',\n  'ADP',\n  'PRON',\n  'PUNCT',\n  'SCONJ',\n  'VERB',\n  'NOUN',\n  'NOUN',\n  'PUNCT',\n  'VERB',\n  'ADP',\n  'NOUN',\n  'PUNCT',\n  'ADV',\n  'SCONJ',\n  'PUNCT',\n  'ADV',\n  'PUNCT',\n  'ADP',\n  'NOUN',\n  'VERB',\n  'VERB',\n  'PART',\n  'ADJ',\n  'NOUN',\n  'PUNCT'],\n ['NOUN', 'VERB', 'NOUN', 'PUNCT', 'ADJ', 'PROPN', 'PROPN', 'PUNCT'],\n ['ADP',\n  'NOUN',\n  'VERB',\n  'ADJ',\n  'ADJ',\n  'NOUN',\n  'ADP',\n  'ADJ',\n  'NOUN',\n  'CCONJ',\n  'ADP',\n  'PRON',\n  'NUM',\n  'ADJ',\n  'NOUN',\n  'PUNCT'],\n ['ADV',\n  'VERB',\n  'NOUN',\n  'ADP',\n  'NOUN',\n  'PUNCT',\n  'ADJ',\n  'PUNCT',\n  'VERB',\n  'ADJ',\n  'NOUN',\n  'CCONJ',\n  'ADP',\n  'NUM',\n  'NOUN',\n  'ADV',\n  'VERB',\n  'NOUN',\n  'PUNCT'],\n ['PROPN',\n  'PROPN',\n  'ADV',\n  'PART',\n  'VERB',\n  'PUNCT',\n  'SCONJ',\n  'ADP',\n  'DET',\n  'NOUN',\n  'PRON',\n  'VERB',\n  'PUNCT',\n  'CCONJ',\n  'SCONJ',\n  'VERB',\n  'VERB',\n  'NOUN',\n  'PUNCT',\n  'SCONJ',\n  'ADV',\n  'ADV',\n  'VERB',\n  'PRON',\n  'ADP',\n  'NOUN',\n  'PUNCT',\n  'ADV',\n  'SCONJ',\n  'NOUN',\n  'VERB',\n  'ADJ',\n  'ADJ',\n  'NOUN',\n  'PUNCT'],\n ['ADP',\n  'DET',\n  'NOUN',\n  'PUNCT',\n  'ADP',\n  'PRON',\n  'VERB',\n  'DET',\n  'NOUN',\n  'PUNCT',\n  'NOUN',\n  'ADP',\n  'NOUN',\n  'VERB',\n  'ADV',\n  'PUNCT'],\n ['NOUN',\n  'VERB',\n  'ADJ',\n  'NOUN',\n  'ADP',\n  'NOUN',\n  'PUNCT',\n  'NOUN',\n  'VERB',\n  'DET',\n  'NOUN',\n  'PUNCT',\n  'NOUN',\n  'VERB',\n  'ADJ',\n  'NOUN',\n  'PUNCT'],\n ['ADV', 'ADP', 'NUM', 'NOUN', 'VERB', 'ADJ', 'NOUN', 'PUNCT'],\n ['ADJ',\n  'NOUN',\n  'ADP',\n  'NOUN',\n  'VERB',\n  'ADP',\n  'NOUN',\n  'CCONJ',\n  'VERB',\n  'PUNCT',\n  'VERB',\n  'PUNCT',\n  'PUNCT',\n  'NOUN',\n  'PROPN',\n  'PUNCT',\n  'ADV',\n  'PUNCT'],\n ['ADJ', 'NOUN', 'ADP', 'ADJ', 'NOUN', 'VERB', 'ADP', 'NOUN', 'PUNCT'],\n ['PRON',\n  'PUNCT',\n  'ADV',\n  'PUNCT',\n  'VERB',\n  'PUNCT',\n  'ADV',\n  'SCONJ',\n  'VERB',\n  'VERB',\n  'ADP',\n  'PRON',\n  'NUM',\n  'VERB',\n  'ADJ',\n  'NOUN',\n  'NOUN',\n  'PUNCT'],\n ['PROPN',\n  'PROPN',\n  'ADV',\n  'VERB',\n  'PUNCT',\n  'VERB',\n  'ADP',\n  'NOUN',\n  'NOUN',\n  'ADV',\n  'PUNCT'],\n ['PUNCT',\n  'VERB',\n  'PUNCT',\n  'ADV',\n  'PUNCT',\n  'PUNCT',\n  'VERB',\n  'PRON',\n  'PUNCT',\n  'PART',\n  'VERB',\n  'NOUN',\n  'PUNCT'],\n ['PROPN',\n  'VERB',\n  'ADP',\n  'NOUN',\n  'ADJ',\n  'NOUN',\n  'CCONJ',\n  'VERB',\n  'ADP',\n  'ADJ',\n  'NOUN',\n  'ADJ',\n  'NOUN',\n  'ADP',\n  'PROPN',\n  'PROPN',\n  'PUNCT'],\n ['ADP',\n  'PRON',\n  'VERB',\n  'ADJ',\n  'ADJ',\n  'NOUN',\n  'ADJ',\n  'NOUN',\n  'CCONJ',\n  'ADJ',\n  'PUNCT',\n  'ADV',\n  'ADJ',\n  'NOUN',\n  'PUNCT'],\n ['PUNCT',\n  'PART',\n  'PUNCT',\n  'PRON',\n  'PRON',\n  'VERB',\n  'PUNCT',\n  'PUNCT',\n  'VERB',\n  'PRON',\n  'PUNCT',\n  'VERB',\n  'VERB',\n  'PUNCT'],\n ['PUNCT',\n  'DET',\n  'NOUN',\n  'PROPN',\n  'PUNCT',\n  'PUNCT',\n  'ADV',\n  'VERB',\n  'PUNCT',\n  'VERB',\n  'NOUN',\n  'ADV',\n  'VERB',\n  'CCONJ',\n  'VERB',\n  'ADP',\n  'NOUN',\n  'NOUN',\n  'PUNCT'],\n ['PUNCT',\n  'PRON',\n  'VERB',\n  'ADP',\n  'PRON',\n  'NOUN',\n  'PRON',\n  'ADV',\n  'ADP',\n  'NOUN',\n  'NOUN',\n  'ADP',\n  'NOUN',\n  'PUNCT'],\n ['PRON',\n  'VERB',\n  'DET',\n  'NOUN',\n  'CCONJ',\n  'NOUN',\n  'CCONJ',\n  'VERB',\n  'PRON',\n  'VERB',\n  'ADV',\n  'PUNCT'],\n ['NOUN', 'ADV', 'VERB', 'PUNCT'],\n ['PRON',\n  'VERB',\n  'ADP',\n  'PRON',\n  'PUNCT',\n  'ADV',\n  'PART',\n  'PART',\n  'VERB',\n  'PUNCT',\n  'SCONJ',\n  'ADV',\n  'PART',\n  'VERB',\n  'CCONJ',\n  'VERB',\n  'PUNCT'],\n ['PUNCT', 'PART', 'PUNCT', 'PUNCT', 'VERB', 'PROPN', 'PROPN', 'PUNCT'],\n ['NOUN', 'ADJ', 'AUX', 'VERB', 'NOUN', 'PUNCT'],\n ['ADP',\n  'PRON',\n  'VERB',\n  'NOUN',\n  'NOUN',\n  'NOUN',\n  'NOUN',\n  'ADJ',\n  'ADP',\n  'ADJ',\n  'NOUN',\n  'ADJ',\n  'NOUN',\n  'PUNCT'],\n ['NOUN', 'DET', 'NOUN', 'VERB', 'ADP', 'PROPN', 'PUNCT'],\n ['ADV',\n  'PART',\n  'VERB',\n  'DET',\n  'NOUN',\n  'CCONJ',\n  'ADV',\n  'ADP',\n  'PRON',\n  'NOUN',\n  'PUNCT',\n  'ADP',\n  'PRON',\n  'VERB',\n  'ADV',\n  'VERB',\n  'NOUN',\n  'PUNCT',\n  'VERB',\n  'ADJ',\n  'CCONJ',\n  'VERB',\n  'ADP',\n  'NOUN',\n  'ADP',\n  'ADJ',\n  'NOUN',\n  'PUNCT'],\n ['PUNCT', 'NOUN', 'DET', 'ADV', 'VERB', 'PUNCT', 'PUNCT'],\n ['NOUN',\n  'AUX',\n  'VERB',\n  'ADV',\n  'CCONJ',\n  'VERB',\n  'ADJ',\n  'ADP',\n  'PROPN',\n  'PROPN',\n  'NOUN',\n  'ADP',\n  'ADJ',\n  'NOUN',\n  'PUNCT'],\n ['ADP', 'DET', 'NOUN', 'NOUN', 'VERB', 'NOUN', 'ADJ', 'PUNCT'],\n ['ADP',\n  'ADJ',\n  'NOUN',\n  'PUNCT',\n  'SCONJ',\n  'PRON',\n  'PART',\n  'ADJ',\n  'PUNCT',\n  'PRON',\n  'VERB',\n  'ADP',\n  'ADJ',\n  'NOUN',\n  'NOUN',\n  'PUNCT',\n  'ADJ',\n  'PUNCT',\n  'PUNCT'],\n ['ADV',\n  'PRON',\n  'VERB',\n  'PUNCT',\n  'SCONJ',\n  'NOUN',\n  'ADJ',\n  'NOUN',\n  'ADP',\n  'DET',\n  'NOUN',\n  'NOUN',\n  'VERB',\n  'ADV',\n  'ADV',\n  'ADP',\n  'NOUN',\n  'ADP',\n  'PRON',\n  'PUNCT',\n  'SCONJ',\n  'ADP',\n  'NOUN',\n  'VERB',\n  'NOUN',\n  'PUNCT'],\n ['CCONJ',\n  'NOUN',\n  'VERB',\n  'ADP',\n  'NOUN',\n  'ADP',\n  'PRON',\n  'PUNCT',\n  'SCONJ',\n  'NOUN',\n  'VERB',\n  'NOUN',\n  'PUNCT'],\n ['ADV',\n  'VERB',\n  'NOUN',\n  'PART',\n  'VERB',\n  'ADP',\n  'NUM',\n  'NOUN',\n  'PUNCT',\n  'ADV',\n  'PUNCT',\n  'NOUN',\n  'ADP',\n  'NOUN',\n  'PUNCT',\n  'VERB',\n  'ADP',\n  'NOUN',\n  'ADJ',\n  'PUNCT',\n  'VERB',\n  'PART',\n  'ADV',\n  'SCONJ',\n  'ADP',\n  'NUM',\n  'NOUN',\n  'CCONJ',\n  'ADJ',\n  'NOUN',\n  'ADP',\n  'DET',\n  'NOUN',\n  'PART',\n  'VERB',\n  'PUNCT',\n  'ADV',\n  'PUNCT',\n  'NOUN',\n  'VERB',\n  'ADJ',\n  'ADJ',\n  'NOUN',\n  'PUNCT',\n  'ADV',\n  'PUNCT'],\n ['PART',\n  'PUNCT',\n  'PRON',\n  'PRON',\n  'VERB',\n  'PUNCT',\n  'PUNCT',\n  'VERB',\n  'PROPN',\n  'PROPN',\n  'PUNCT',\n  'ADV',\n  'VERB',\n  'ADP',\n  'PRON',\n  'PUNCT',\n  'SCONJ',\n  'ADJ',\n  'NOUN',\n  'VERB',\n  'ADP',\n  'NOUN',\n  'PUNCT'],\n ['ADV',\n  'PUNCT',\n  'ADP',\n  'PRON',\n  'VERB',\n  'PRON',\n  'ADJ',\n  'PUNCT',\n  'CCONJ',\n  'DET',\n  'PUNCT',\n  'PRON',\n  'VERB',\n  'ADP',\n  'ADV',\n  'CCONJ',\n  'ADV',\n  'ADJ',\n  'NOUN',\n  'PUNCT',\n  'ADJ',\n  'PUNCT',\n  'ADV',\n  'VERB',\n  'NOUN',\n  'PUNCT',\n  'SCONJ',\n  'ADP',\n  'NOUN',\n  'VERB',\n  'ADJ',\n  'NOUN',\n  'PUNCT'],\n ['PART',\n  'PROPN',\n  'PROPN',\n  'VERB',\n  'ADV',\n  'VERB',\n  'PUNCT',\n  'VERB',\n  'CCONJ',\n  'ADP',\n  'NOUN',\n  'VERB',\n  'NOUN',\n  'PUNCT'],\n ['CCONJ',\n  'PRON',\n  'AUX',\n  'ADP',\n  'ADJ',\n  'PROPN',\n  'CCONJ',\n  'NOUN',\n  'ADV',\n  'AUX',\n  'ADV',\n  'ADJ',\n  'PUNCT'],\n ['PUNCT',\n  'DET',\n  'NOUN',\n  'PROPN',\n  'PUNCT',\n  'PUNCT',\n  'VERB',\n  'ADJ',\n  'NOUN',\n  'PUNCT'],\n ['PUNCT', 'PRON', None, 'ADP', 'NOUN', 'PUNCT'],\n ['PUNCT',\n  'PRON',\n  'VERB',\n  'VERB',\n  'ADP',\n  'NOUN',\n  'NOUN',\n  'PUNCT',\n  'VERB',\n  'NOUN',\n  'PUNCT',\n  'PUNCT',\n  'ADV',\n  'VERB',\n  'PROPN',\n  'PROPN',\n  'PUNCT'],\n ['PUNCT', 'NOUN', 'CCONJ', 'NOUN', 'ADP', 'PRON', 'PUNCT'],\n ['PUNCT', 'ADV', 'DET', 'NOUN', 'PUNCT'],\n ['PUNCT', 'PROPN', 'PUNCT'],\n ['VERB',\n  'ADP',\n  'ADJ',\n  'NOUN',\n  'NOUN',\n  'PUNCT',\n  'PROPN',\n  'PROPN',\n  'VERB',\n  'NOUN',\n  'ADP',\n  'NOUN',\n  'PUNCT',\n  'NOUN',\n  'PUNCT',\n  'PUNCT'],\n ['NOUN', 'PROPN', 'ADV', 'VERB', 'ADP', 'PRON', 'PUNCT'],\n ['ADP',\n  'NOUN',\n  'AUX',\n  'VERB',\n  'PUNCT',\n  'SCONJ',\n  'PROPN',\n  'PUNCT',\n  'PROPN',\n  'PROPN',\n  'PUNCT',\n  'ADJ',\n  'NOUN',\n  'PUNCT',\n  'NOUN',\n  'PUNCT',\n  'VERB',\n  'ADP',\n  'ADJ',\n  'NOUN',\n  'PUNCT',\n  'ADP',\n  'NOUN',\n  'NOUN',\n  'PUNCT',\n  'ADP',\n  'ADJ',\n  'NOUN',\n  'VERB',\n  'ADP',\n  'ADJ',\n  'NOUN',\n  'PUNCT',\n  'VERB',\n  'PRON',\n  'ADP',\n  'NOUN',\n  'CCONJ',\n  'VERB',\n  'NOUN',\n  'NOUN',\n  'PUNCT',\n  'NOUN',\n  'ADP',\n  'NOUN',\n  'PUNCT'],\n ['NOUN',\n  'DET',\n  'NOUN',\n  'ADP',\n  'DET',\n  'NOUN',\n  'ADV',\n  'ADJ',\n  'ADV',\n  'PUNCT',\n  'CCONJ',\n  'PROPN',\n  'PROPN',\n  'VERB',\n  'VERB',\n  'ADV',\n  'PUNCT'],\n ['ADP',\n  'NOUN',\n  'VERB',\n  'PUNCT',\n  'SCONJ',\n  'NOUN',\n  'ADP',\n  'NOUN',\n  'PROPN',\n  'VERB',\n  'ADP',\n  'NOUN',\n  'ADP',\n  'NOUN',\n  'CCONJ',\n  'VERB',\n  'NOUN',\n  'ADP',\n  'ADJ',\n  'NOUN',\n  'PUNCT'],\n ['ADV',\n  'AUX',\n  'VERB',\n  'PUNCT',\n  'SCONJ',\n  'ADP',\n  'ADJ',\n  'NOUN',\n  'PRON',\n  'VERB',\n  'ADV',\n  'PUNCT',\n  'CCONJ',\n  'ADP',\n  'ADJ',\n  'NOUN',\n  'VERB',\n  'PUNCT'],\n ['NOUN',\n  'PUNCT',\n  'NOUN',\n  'PUNCT',\n  'ADP',\n  'ADJ',\n  'PUNCT',\n  'ADP',\n  'NUM',\n  'NOUN',\n  'PUNCT',\n  'NOUN',\n  'VERB',\n  'ADV',\n  'NOUN',\n  'PUNCT'],\n ['VERB',\n  'DET',\n  'ADJ',\n  'NOUN',\n  'PUNCT',\n  'PROPN',\n  'PROPN',\n  'VERB',\n  'PUNCT',\n  'SCONJ',\n  'ADV',\n  'VERB',\n  'ADP',\n  'NOUN',\n  'CCONJ',\n  'DET',\n  'NOUN',\n  'CCONJ',\n  'NOUN',\n  'PUNCT',\n  'CCONJ',\n  'VERB',\n  'NOUN',\n  'PUNCT',\n  'VERB',\n  'CCONJ',\n  'NOUN',\n  'ADJ',\n  'PUNCT',\n  'ADJ',\n  'NOUN',\n  'CCONJ',\n  'ADJ',\n  'NOUN',\n  'PUNCT',\n  'VERB',\n  'ADP',\n  'DET',\n  'NOUN',\n  'PUNCT'],\n ['VERB', 'ADP', 'NOUN', 'PUNCT', 'PRON', 'VERB', 'ADP', 'PROPN', 'PUNCT'],\n ['NOUN',\n  'DET',\n  'AUX',\n  'ADV',\n  'VERB',\n  'PUNCT',\n  'ADV',\n  'ADV',\n  'ADP',\n  'DET',\n  'NOUN',\n  'PUNCT',\n  'CCONJ',\n  'DET',\n  'NOUN',\n  'PUNCT',\n  'ADV',\n  'PUNCT',\n  'PART',\n  'VERB',\n  'PART',\n  'VERB',\n  'ADP',\n  'NOUN',\n  'ADJ',\n  'NOUN',\n  'PUNCT'],\n ['PUNCT',\n  'PART',\n  'CCONJ',\n  'NOUN',\n  'ADP',\n  'PRON',\n  'ADP',\n  'NOUN',\n  'NOUN',\n  'PUNCT',\n  'PUNCT',\n  'VERB',\n  'PRON',\n  'PUNCT'],\n ['PUNCT',\n  'VERB',\n  'NOUN',\n  'PUNCT',\n  'SCONJ',\n  'NOUN',\n  None,\n  'NOUN',\n  'PUNCT',\n  'PUNCT'],\n ['NOUN',\n  'NOUN',\n  'VERB',\n  'ADP',\n  'PRON',\n  'PUNCT',\n  'SCONJ',\n  'ADP',\n  'NOUN',\n  'NOUN',\n  'PROPN',\n  'VERB',\n  'ADP',\n  'NOUN',\n  'PUNCT'],\n ['ADP',\n  'DET',\n  'NOUN',\n  'NOUN',\n  'DET',\n  'PART',\n  'VERB',\n  'ADP',\n  'ADJ',\n  'NOUN',\n  'NOUN',\n  'NOUN',\n  'ADP',\n  'ADJ',\n  'NOUN',\n  'PROPN',\n  'PROPN',\n  'PUNCT'],\n ['ADP',\n  'PRON',\n  'ADP',\n  'ADJ',\n  'NOUN',\n  'PROPN',\n  'PROPN',\n  'PART',\n  'VERB',\n  'PRON',\n  'VERB',\n  'ADP',\n  'NOUN',\n  'PUNCT'],\n ['ADP',\n  'NOUN',\n  'NOUN',\n  'PROPN',\n  'NUM',\n  'NOUN',\n  'VERB',\n  'ADJ',\n  'NOUN',\n  'ADP',\n  'NOUN',\n  'ADP',\n  'PROPN',\n  'CCONJ',\n  'VERB',\n  'ADP',\n  'ADJ',\n  'NOUN',\n  'PUNCT',\n  'SCONJ',\n  'AUX',\n  'VERB',\n  'ADP',\n  'NOUN',\n  'PUNCT',\n  'PUNCT',\n  'ADP',\n  'ADJ',\n  'NOUN',\n  'PUNCT',\n  'PUNCT'],\n ['ADP',\n  'NOUN',\n  'NOUN',\n  'NOUN',\n  'VERB',\n  'VERB',\n  'PROPN',\n  'PUNCT',\n  'PRON',\n  'VERB',\n  'ADV',\n  'DET',\n  'PART',\n  'NOUN',\n  'PUNCT',\n  'SCONJ',\n  'PART',\n  'PROPN',\n  'PROPN',\n  'ADP',\n  'ADJ',\n  'NOUN',\n  'PUNCT',\n  'CCONJ',\n  'VERB',\n  'ADP',\n  'ADJ',\n  'NOUN',\n  'PROPN',\n  'PUNCT'],\n ['SCONJ',\n  'PROPN',\n  'PART',\n  'VERB',\n  'PROPN',\n  'PUNCT',\n  'ADV',\n  'ADP',\n  'ADJ',\n  'NOUN',\n  'VERB',\n  'PRON',\n  'CCONJ',\n  'VERB',\n  'ADP',\n  'DET',\n  'ADJ',\n  'NOUN',\n  'PUNCT'],\n ['ADV',\n  'PROPN',\n  'PROPN',\n  'PUNCT',\n  'VERB',\n  'NOUN',\n  'PUNCT',\n  'PART',\n  'VERB',\n  'VERB',\n  'PRON',\n  'PUNCT'],\n ['PRON',\n  'VERB',\n  'PROPN',\n  'PROPN',\n  'VERB',\n  'ADV',\n  'NOUN',\n  'CCONJ',\n  'PUNCT',\n  'SCONJ',\n  'PART',\n  'PRON',\n  'VERB',\n  'PUNCT',\n  'VERB',\n  'ADJ',\n  'NOUN',\n  'PUNCT'],\n ['CCONJ', 'PROPN', 'ADV', 'VERB', 'ADP', 'NOUN', 'PUNCT'],\n ['PRON',\n  'VERB',\n  'PUNCT',\n  'SCONJ',\n  'PROPN',\n  'ADJ',\n  'PUNCT',\n  'ADJ',\n  'NOUN',\n  'PUNCT',\n  'CCONJ',\n  'VERB',\n  'NOUN',\n  'VERB',\n  'PRON',\n  'NOUN',\n  'PUNCT'],\n ['PUNCT',\n  'CCONJ',\n  'PART',\n  'VERB',\n  'PRON',\n  'PUNCT',\n  'SCONJ',\n  'PRON',\n  'ADV',\n  'VERB',\n  'ADP',\n  'NOUN',\n  'PUNCT',\n  'PUNCT',\n  'VERB',\n  'PROPN',\n  'PROPN',\n  'PUNCT'],\n ['PUNCT', 'ADJ', 'PRON', 'DET', 'PUNCT', 'ADJ', 'PUNCT'],\n ['ADJ', 'DET', 'PUNCT'],\n ['PROPN', 'PRON', 'PART', 'VERB', 'PUNCT'],\n ['ADP',\n  'DET',\n  'NOUN',\n  'PUNCT',\n  'PROPN',\n  'ADV',\n  'AUX',\n  'ADJ',\n  'CCONJ',\n  'ADJ',\n  'PUNCT'],\n ['PUNCT',\n  'CCONJ',\n  'ADV',\n  'PRON',\n  'ADP',\n  'ADJ',\n  'NOUN',\n  'PUNCT',\n  'PUNCT',\n  'VERB',\n  'PROPN',\n  'PROPN',\n  'PUNCT'],\n ['PUNCT', 'SCONJ', 'VERB', 'PUNCT', 'SCONJ', 'VERB', 'PUNCT'],\n ['ADV', 'ADV', 'PUNCT'],\n ['PROPN',\n  'VERB',\n  'PUNCT',\n  'SCONJ',\n  'VERB',\n  'ADV',\n  'ADP',\n  'NOUN',\n  'ADJ',\n  'NOUN',\n  'PUNCT'],\n ['NOUN', 'VERB', 'PUNCT', 'SCONJ', 'PRON', 'VERB', 'NOUN', 'PUNCT'],\n ['ADV',\n  'ADP',\n  'PRON',\n  'VERB',\n  'ADJ',\n  'PUNCT',\n  'SCONJ',\n  'ADP',\n  'NOUN',\n  'ADV',\n  'ADP',\n  'NOUN',\n  'VERB',\n  'NOUN',\n  'CCONJ',\n  'NOUN',\n  'PUNCT'],\n ['CCONJ',\n  'PROPN',\n  'VERB',\n  'PUNCT',\n  'PUNCT',\n  'CCONJ',\n  'PUNCT',\n  'ADV',\n  'PUNCT',\n  'ADV',\n  'VERB',\n  'PUNCT',\n  'PUNCT',\n  'PUNCT',\n  'VERB',\n  'PROPN',\n  'PUNCT'],\n ['PUNCT',\n  'CCONJ',\n  'PRON',\n  'ADJ',\n  'PUNCT',\n  'SCONJ',\n  'PRON',\n  'ADV',\n  'NUM',\n  'NOUN',\n  'PART',\n  'VERB',\n  'PUNCT'],\n ['PRON', 'PROPN', 'ADJ', 'PART', 'AUX', 'PUNCT'],\n ['PUNCT',\n  'PART',\n  'PART',\n  'PUNCT',\n  'PUNCT',\n  'VERB',\n  'PROPN',\n  'PROPN',\n  'PUNCT'],\n ['PUNCT', 'ADV', 'VERB', 'DET', 'NOUN', 'PUNCT'],\n ['PUNCT',\n  'PART',\n  'PRON',\n  'VERB',\n  'PRON',\n  'PUNCT',\n  'VERB',\n  'PUNCT',\n  'PUNCT',\n  'VERB',\n  'PROPN',\n  'PUNCT'],\n ['PUNCT', 'PART', 'VERB', 'PUNCT'],\n ['ADP', 'PRON', 'NOUN', 'VERB', 'PUNCT'],\n ['ADV',\n  'PUNCT',\n  'PROPN',\n  'ADJ',\n  'AUX',\n  'VERB',\n  'PUNCT',\n  'SCONJ',\n  'PROPN',\n  'VERB',\n  'ADP',\n  'PRON',\n  'ADP',\n  'NOUN',\n  'NOUN',\n  'PUNCT'],\n ['CCONJ',\n  'PROPN',\n  'PROPN',\n  'ADJ',\n  'VERB',\n  'PRON',\n  'ADJ',\n  'PUNCT',\n  'ADP',\n  'DET',\n  'ADJ',\n  'NOUN',\n  'PUNCT'],\n ['ADV',\n  'PUNCT',\n  'ADV',\n  'PUNCT',\n  'ADP',\n  'NOUN',\n  'PROPN',\n  'PART',\n  'VERB',\n  'NOUN',\n  'PUNCT',\n  'CCONJ',\n  'SCONJ',\n  'VERB',\n  'ADP',\n  'NOUN',\n  'ADV',\n  'PUNCT',\n  'NOUN',\n  'PART',\n  'PART',\n  'ADJ',\n  'PUNCT'],\n ['VERB', 'PUNCT', 'CCONJ', 'ADV', 'PART', 'VERB', 'NOUN', 'PUNCT'],\n ['VERB',\n  'PUNCT',\n  'ADV',\n  'PUNCT',\n  'NOUN',\n  'PUNCT',\n  'VERB',\n  'ADJ',\n  'NOUN',\n  'PUNCT',\n  'PART',\n  'PART',\n  'NOUN',\n  'PUNCT'],\n ['ADP',\n  'ADJ',\n  'NOUN',\n  'NUM',\n  'ADP',\n  'NOUN',\n  'ADP',\n  'NOUN',\n  'PUNCT',\n  'ADJ',\n  'ADP',\n  'NOUN',\n  'NOUN',\n  'VERB',\n  'PRON',\n  'AUX',\n  'PUNCT',\n  'ADV',\n  'PART',\n  'PART',\n  'NOUN',\n  'PUNCT',\n  'ADP',\n  'ADJ',\n  'PART',\n  'DET',\n  'NOUN',\n  'PUNCT'],\n ['CCONJ', 'ADV', 'ADV', 'DET', 'PUNCT'],\n ['ADJ',\n  'PUNCT',\n  'VERB',\n  'PUNCT',\n  'ADV',\n  'ADV',\n  'ADP',\n  'PRON',\n  'NOUN',\n  'VERB',\n  'PUNCT'],\n ['VERB', 'PRON', 'ADJ', 'NOUN', 'PUNCT', 'VERB', 'NOUN', 'PUNCT'],\n ['ADV', 'NOUN', 'VERB', 'PUNCT'],\n ['ADP',\n  'NOUN',\n  'PROPN',\n  'ADV',\n  'VERB',\n  'ADP',\n  'NOUN',\n  'PROPN',\n  'PROPN',\n  'PUNCT'],\n ['ADV',\n  'ADP',\n  'PRON',\n  'ADP',\n  'ADJ',\n  'NOUN',\n  'PUNCT',\n  'PUNCT',\n  'VERB',\n  'NOUN',\n  'PUNCT'],\n ['PRON',\n  'VERB',\n  'ADP',\n  'NOUN',\n  'CCONJ',\n  'NOUN',\n  'PUNCT',\n  'PUNCT',\n  'VERB',\n  'PROPN',\n  'PROPN',\n  'PUNCT'],\n ['PUNCT', 'ADP', 'ADJ', 'NOUN', 'PUNCT', 'NOUN', 'NUM', 'PUNCT'],\n ['PUNCT', 'PRON', 'ADV', 'PUNCT', 'ADP', 'ADJ', 'NOUN', 'PUNCT'],\n ['PUNCT',\n  'PART',\n  'PUNCT',\n  'PART',\n  'PUNCT',\n  'ADP',\n  'NOUN',\n  'PUNCT',\n  'ADJ',\n  'DET',\n  'NOUN',\n  'PUNCT'],\n ['NUM',\n  'ADJ',\n  'NOUN',\n  'PUNCT',\n  'DET',\n  'PUNCT',\n  'ADJ',\n  'PUNCT',\n  'NOUN',\n  'PUNCT'],\n ['NOUN', 'VERB', 'ADP', 'ADJ', 'NOUN', 'PUNCT'],\n ['CCONJ', 'NOUN', 'ADV', 'ADJ', 'PUNCT'],\n ['NOUN', 'PUNCT'],\n ['VERB', 'VERB', 'ADP', 'NOUN', 'PUNCT'],\n ['PUNCT',\n  'ADP',\n  'PRON',\n  'PUNCT',\n  'PRON',\n  'PART',\n  'PUNCT',\n  None,\n  'ADJ',\n  'NOUN',\n  'PUNCT'],\n ['PUNCT', 'PART', 'PUNCT', 'DET', 'ADJ', 'PUNCT'],\n ['ADP', 'NOUN', 'PUNCT'],\n ['CCONJ', 'PRON', 'ADJ', 'PUNCT', 'NOUN', 'PART', 'VERB', 'VERB', 'PUNCT'],\n ['PUNCT', 'ADV', 'AUX', 'PRON', 'ADJ', 'VERB', 'PUNCT'],\n ['DET', 'NOUN', 'ADV', 'VERB', 'ADJ', 'PUNCT'],\n ['PUNCT', 'VERB', 'PUNCT', 'PART', 'VERB', 'PUNCT'],\n ['VERB', 'ADJ', 'NOUN', 'NOUN', 'PUNCT'],\n ['DET', 'NOUN', 'NOUN', 'VERB', 'PROPN', 'PROPN', 'PUNCT'],\n ['PUNCT', 'DET', 'NOUN', 'PUNCT', 'PUNCT', 'VERB', 'PRON', 'PUNCT'],\n ['PUNCT', 'CCONJ', 'PRON', 'ADV', 'VERB', 'PUNCT'],\n ['VERB', 'ADP', 'NOUN', 'PUNCT'],\n ['ADP', 'PROPN', 'PUNCT', 'ADP', 'ADJ', 'NOUN', 'PUNCT'],\n ['PUNCT', 'NOUN', 'PUNCT'],\n ['PRON',\n  'VERB',\n  'PUNCT',\n  'PART',\n  'PRON',\n  'ADP',\n  'NOUN',\n  'PART',\n  'VERB',\n  'ADV',\n  'PUNCT'],\n ['CCONJ',\n  'SCONJ',\n  'AUX',\n  'ADV',\n  'VERB',\n  'ADP',\n  'PROPN',\n  'PUNCT',\n  'PRON',\n  'AUX',\n  'PRON',\n  'VERB',\n  'PUNCT'],\n ['PUNCT', 'ADV', 'PUNCT', 'ADP', 'NOUN', 'PRON', 'PART', 'VERB', 'PUNCT'],\n ['PUNCT',\n  'PRON',\n  'PART',\n  'ADJ',\n  'VERB',\n  'PUNCT',\n  'ADV',\n  'PRON',\n  'PRON',\n  'ADJ',\n  'PUNCT'],\n ['PUNCT', 'PART', 'PUNCT', 'ADV', 'PUNCT'],\n ['CCONJ', 'PRON', 'PRON', 'ADV', 'VERB', 'NOUN', 'ADP', 'NOUN', 'PUNCT'],\n ['PUNCT', 'ADV', 'PUNCT'],\n ['PUNCT', 'ADP', 'NOUN', 'ADJ', 'PUNCT'],\n ['ADV', 'ADJ', 'NOUN', 'PART', 'ADV', 'ADJ', 'PUNCT'],\n ['PUNCT', 'CCONJ', 'ADV', 'DET', 'NOUN', 'PUNCT'],\n ['PUNCT', 'ADP', 'NOUN', 'NOUN', 'ADV', 'PUNCT'],\n ['VERB', 'PUNCT', 'NUM', 'NUM', 'PUNCT'],\n ['PUNCT',\n  'ADV',\n  'PRON',\n  'ADV',\n  'PART',\n  'VERB',\n  'PUNCT',\n  'PUNCT',\n  'VERB',\n  'PROPN',\n  'ADP',\n  'ADJ',\n  'NOUN',\n  'NOUN',\n  'NOUN',\n  'PUNCT'],\n ['PUNCT', 'CCONJ', 'ADV', 'ADV', 'ADV', 'PUNCT'],\n ['PRON', 'PART', 'ADJ', 'VERB', 'PUNCT'],\n ['CCONJ', 'ADV', 'PUNCT', 'SCONJ', 'NOUN', 'AUX', 'ADV', 'PUNCT'],\n ['PUNCT',\n  'PART',\n  'PART',\n  'PRON',\n  'PART',\n  'VERB',\n  'PUNCT',\n  'PUNCT',\n  'ADV',\n  'VERB',\n  'PROPN',\n  'PROPN',\n  'PUNCT'],\n ['PUNCT', 'VERB', 'DET', 'NOUN', 'PUNCT'],\n ['ADP', 'DET', 'NOUN', 'PART', 'ADP', 'NOUN', 'VERB', 'PUNCT'],\n ['PUNCT', 'PRON', 'PRON', 'PUNCT'],\n ['PRON', 'ADV', 'PART', 'VERB', 'PUNCT'],\n ['CCONJ', 'VERB', 'PUNCT', 'VERB', 'NOUN', 'ADV', 'ADV', 'PUNCT'],\n ['PUNCT', 'ADJ', 'VERB', 'PUNCT'],\n ['VERB', 'ADP', 'NOUN', 'PUNCT'],\n ['ADP', 'NOUN', 'PROPN', 'ADV', 'VERB', 'ADP', 'PRON', 'PUNCT'],\n ['ADP',\n  'DET',\n  'NOUN',\n  'PRON',\n  'AUX',\n  'ADP',\n  'ADJ',\n  'NOUN',\n  'CCONJ',\n  'VERB',\n  'ADP',\n  'NOUN',\n  'ADJ',\n  'NOUN',\n  'PUNCT'],\n ['PUNCT',\n  'ADV',\n  'ADP',\n  'DET',\n  'NOUN',\n  'PUNCT',\n  'NOUN',\n  'NOUN',\n  'PUNCT',\n  'PUNCT',\n  'VERB',\n  'PRON',\n  'PUNCT',\n  'ADV',\n  'PART',\n  'VERB',\n  'PROPN',\n  'PROPN',\n  'ADP',\n  'NOUN',\n  'PUNCT',\n  'NOUN',\n  'PUNCT'],\n ['PUNCT', 'ADV', 'ADV', 'PRON', 'VERB', 'PUNCT'],\n ['ADP',\n  'NOUN',\n  'ADJ',\n  'PUNCT',\n  'PRON',\n  'VERB',\n  'PUNCT',\n  'PUNCT',\n  'ADV',\n  'PART',\n  'VERB',\n  'NOUN',\n  'ADP',\n  'DET',\n  'NOUN',\n  'PUNCT',\n  'VERB',\n  'NOUN',\n  'PUNCT'],\n ['PUNCT', 'ADP', 'ADJ', 'ADV', 'ADJ', 'ADJ', 'NOUN', 'PUNCT'],\n ['PUNCT',\n  'DET',\n  'NOUN',\n  'PART',\n  'SCONJ',\n  'ADP',\n  'PRON',\n  'VERB',\n  'NOUN',\n  'ADP',\n  'NOUN',\n  'NOUN',\n  'ADP',\n  'ADJ',\n  'NOUN',\n  'PUNCT'],\n ['ADV', 'PUNCT', 'ADP', 'PRON', 'VERB', 'NOUN', 'PUNCT'],\n ['CCONJ', 'PUNCT', 'ADV', 'PUNCT', 'VERB', 'PUNCT'],\n ['PRON', 'PART', 'VERB', 'NOUN', 'PUNCT'],\n ['DET',\n  'ADJ',\n  'NOUN',\n  'NOUN',\n  'ADP',\n  'NOUN',\n  'ADP',\n  'DET',\n  'NOUN',\n  'ADV',\n  'VERB',\n  'AUX',\n  'NOUN',\n  'ADP',\n  'NOUN',\n  'PUNCT'],\n ['CCONJ',\n  'PROPN',\n  'PROPN',\n  'PART',\n  'VERB',\n  'CCONJ',\n  'VERB',\n  'PUNCT',\n  'CCONJ',\n  'VERB',\n  'PUNCT'],\n ['PRON',\n  'PART',\n  'VERB',\n  'ADP',\n  'DET',\n  'NOUN',\n  'CCONJ',\n  'VERB',\n  'ADV',\n  'PUNCT',\n  'PUNCT',\n  'NOUN',\n  'PROPN',\n  'PUNCT'],\n ['PUNCT', 'PRON', 'VERB', 'PUNCT', 'ADP', 'PRON', 'NOUN', 'PUNCT'],\n ['PUNCT', 'PROPN', 'PART', 'VERB', 'PUNCT'],\n ['ADJ', 'NOUN', 'DET', 'VERB', 'NOUN', 'PUNCT'],\n ['PUNCT',\n  'PRON',\n  'VERB',\n  'PUNCT',\n  'SCONJ',\n  'PRON',\n  'AUX',\n  'ADP',\n  'NOUN',\n  'PUNCT'],\n ['PUNCT',\n  'PART',\n  'PRON',\n  'PRON',\n  'PUNCT',\n  'ADP',\n  'PRON',\n  'ADV',\n  'NOUN',\n  'PUNCT'],\n ['PUNCT', 'PROPN', 'PROPN', 'VERB', 'CCONJ', 'VERB', 'NOUN', 'NOUN', 'PUNCT'],\n ['PRON',\n  'ADV',\n  'VERB',\n  'PUNCT',\n  'SCONJ',\n  'ADP',\n  'ADJ',\n  'NOUN',\n  'ADV',\n  'AUX',\n  'ADJ',\n  'PUNCT',\n  'ADV',\n  'PART',\n  'VERB',\n  'PUNCT',\n  'ADJ',\n  'NOUN',\n  'PUNCT'],\n ['CCONJ',\n  'SCONJ',\n  'VERB',\n  'PUNCT',\n  'ADV',\n  'PUNCT',\n  'ADJ',\n  'NOUN',\n  'CCONJ',\n  'ADJ',\n  'NOUN',\n  'PUNCT',\n  'PRON',\n  'ADV',\n  'VERB',\n  'NOUN',\n  'CCONJ',\n  'VERB',\n  'PRON',\n  'ADJ',\n  'NOUN',\n  'PUNCT'],\n ['PUNCT',\n  'PART',\n  'PUNCT',\n  'VERB',\n  'PUNCT',\n  'PRON',\n  'PRON',\n  'PART',\n  'VERB',\n  'PUNCT',\n  'PUNCT',\n  'PART',\n  'VERB',\n  'PROPN',\n  'PUNCT'],\n ['PUNCT',\n  'DET',\n  'NOUN',\n  'ADP',\n  'ADJ',\n  'NOUN',\n  'NOUN',\n  'VERB',\n  'ADP',\n  'PROPN',\n  'ADP',\n  'VERB',\n  'PROPN',\n  'PUNCT'],\n ['ADP', 'PROPN', 'PRON', 'VERB', 'NOUN', 'PUNCT'],\n ['ADV',\n  'PUNCT',\n  'SCONJ',\n  'NOUN',\n  'VERB',\n  'PUNCT',\n  'PRON',\n  'ADP',\n  'NOUN',\n  'ADP',\n  'NOUN',\n  'VERB',\n  'VERB',\n  'ADP',\n  'ADJ',\n  'PROPN',\n  'PUNCT'],\n ['CCONJ', 'PART', 'VERB', 'PUNCT'],\n ['NOUN',\n  'PUNCT',\n  'PRON',\n  'ADJ',\n  'PUNCT',\n  'ADV',\n  'PUNCT',\n  'VERB',\n  'ADP',\n  'NOUN',\n  'CCONJ',\n  'ADP',\n  'NOUN',\n  'PUNCT',\n  'CCONJ',\n  'PRON',\n  'PART',\n  'VERB',\n  'ADV',\n  'PUNCT'],\n ['ADP', 'NOUN', 'NOUN', 'PART', 'VERB', 'PUNCT'],\n ['ADP', 'ADJ', 'NOUN', 'PART', 'VERB', 'PUNCT'],\n ['ADV', 'PRON', 'VERB', 'ADV', 'PUNCT'],\n ['ADV', 'PRON', 'VERB', 'PUNCT'],\n ['ADV', 'ADJ', 'AUX', 'NOUN', 'PUNCT'],\n ['PUNCT',\n  'VERB',\n  'DET',\n  'NOUN',\n  'PUNCT',\n  'VERB',\n  'PUNCT',\n  'PUNCT',\n  'PROPN',\n  'PROPN',\n  'VERB',\n  'PUNCT'],\n ['PUNCT',\n  'PRON',\n  'ADJ',\n  'ADP',\n  'PROPN',\n  'ADP',\n  'ADJ',\n  'NOUN',\n  'VERB',\n  'PUNCT',\n  'PUNCT',\n  'CCONJ',\n  'VERB',\n  'ADP',\n  'NOUN',\n  'NOUN',\n  'PUNCT'],\n ['PUNCT',\n  'PRON',\n  'PUNCT',\n  'PART',\n  'PUNCT',\n  'ADV',\n  'PUNCT',\n  'ADV',\n  'AUX',\n  'VERB',\n  'PUNCT'],\n ['PUNCT', 'PART', 'PUNCT', 'NOUN', 'VERB', 'ADP', 'NOUN', 'PUNCT'],\n ['ADV', 'VERB', 'PUNCT'],\n ['CCONJ',\n  'PRON',\n  'PART',\n  'VERB',\n  'VERB',\n  'ADP',\n  'NOUN',\n  'PUNCT',\n  'PUNCT',\n  'NOUN',\n  'ADP',\n  'PRON',\n  'ADP',\n  'NOUN',\n  'ADJ',\n  'PUNCT'],\n ['CCONJ', 'PRON', 'PART', 'VERB', 'PUNCT', 'NOUN', 'AUX', 'NOUN', 'PUNCT'],\n ['PUNCT', 'PRON', 'PART', 'VERB', 'VERB', 'ADP', 'NOUN', 'PUNCT'],\n ['CCONJ', 'PART', 'VERB', 'PUNCT', 'ADV', 'PRON', 'VERB', 'PUNCT'],\n ['PUNCT', 'DET', 'ADP', 'PRON', 'NOUN', 'PUNCT'],\n ['CCONJ', 'ADV', 'PRON', 'VERB', 'ADP', 'NOUN', 'PUNCT'],\n ['PUNCT', 'NUM', 'NOUN', 'PUNCT'],\n ['VERB', 'VERB', 'NOUN', 'PUNCT'],\n ['ADV', 'PART', 'AUX', 'PRON', 'VERB', 'PUNCT'],\n ['PRON',\n  'PUNCT',\n  'ADV',\n  'PUNCT',\n  'ADJ',\n  'PUNCT',\n  'SCONJ',\n  'PART',\n  'VERB',\n  'ADP',\n  'NOUN',\n  'PUNCT'],\n ['ADV',\n  'AUX',\n  'PRON',\n  'ADP',\n  'DET',\n  'NOUN',\n  'VERB',\n  'VERB',\n  'PUNCT',\n  'ADP',\n  'ADJ',\n  'ADJ',\n  'NOUN',\n  'PUNCT'],\n ['PRON', 'ADJ', 'PART', 'VERB', 'PUNCT'],\n ['PUNCT', 'NOUN', 'PUNCT'],\n ['PUNCT', 'PART', 'PUNCT', 'PART', 'NOUN', 'PUNCT'],\n ['VERB',\n  'NOUN',\n  'PUNCT',\n  'SCONJ',\n  'NOUN',\n  'ADP',\n  'ADJ',\n  'NOUN',\n  'PART',\n  'VERB',\n  'NOUN',\n  'VERB',\n  'ADP',\n  'ADJ',\n  'NOUN',\n  'PUNCT'],\n ['PRON', 'PART', 'VERB', 'PUNCT', 'PUNCT', 'PRON', 'ADJ', 'NOUN', 'PUNCT'],\n ['PRON', 'VERB', 'PUNCT', 'ADP', 'PRON', 'VERB', 'NOUN', 'PUNCT'],\n ['CCONJ', 'PRON', 'ADJ', 'VERB', 'ADP', 'ADJ', 'NOUN', 'PUNCT'],\n ['ADP',\n  'PRON',\n  'PUNCT',\n  'PRON',\n  'VERB',\n  'ADP',\n  'NOUN',\n  'CCONJ',\n  'NOUN',\n  'NOUN',\n  'VERB',\n  'PUNCT',\n  'SCONJ',\n  'PRON',\n  'AUX',\n  'ADP',\n  'NOUN',\n  'PUNCT'],\n ['PUNCT',\n  'PART',\n  'PUNCT',\n  'PUNCT',\n  'PROPN',\n  'PROPN',\n  'VERB',\n  'PUNCT',\n  'PUNCT',\n  'ADJ',\n  'PRON',\n  'VERB',\n  'NOUN',\n  'PUNCT'],\n ['PUNCT', 'PRON', 'VERB', 'PRON', 'VERB', 'PUNCT'],\n ['ADV', 'VERB', 'NOUN', 'ADP', 'NOUN', 'ADJ', 'NOUN', 'PUNCT'],\n ['CCONJ',\n  'PRON',\n  'VERB',\n  'PUNCT',\n  'PUNCT',\n  'ADP',\n  'PRON',\n  'ADV',\n  'VERB',\n  'ADJ',\n  'NOUN',\n  'PUNCT',\n  'ADV',\n  'DET',\n  'NOUN',\n  'AUX',\n  'VERB',\n  'ADP',\n  'ADJ',\n  'NOUN',\n  'PUNCT'],\n ['SCONJ', 'VERB', 'NOUN', 'PUNCT', 'PUNCT'],\n ['PUNCT', 'NOUN', 'PUNCT', 'PUNCT', 'ADV', 'VERB', 'PROPN', 'PROPN', 'PUNCT'],\n ['PUNCT', 'CCONJ', 'ADV', 'PUNCT', 'ADV', 'PUNCT'],\n ['ADJ', 'PART', 'VERB', 'VERB', 'ADJ', 'NOUN', 'PUNCT'],\n ['CCONJ', 'PRON', 'PRON', 'VERB', 'PUNCT', 'PART', 'PART', 'VERB', 'PUNCT'],\n ['ADJ',\n  'ADP',\n  'NOUN',\n  'CCONJ',\n  'ADP',\n  'NOUN',\n  'VERB',\n  'PUNCT',\n  'SCONJ',\n  'ADP',\n  'NOUN',\n  'PUNCT'],\n ['PRON',\n  'VERB',\n  'ADP',\n  'PRON',\n  'ADV',\n  'ADP',\n  'NOUN',\n  'CCONJ',\n  'VERB',\n  'PUNCT',\n  'PUNCT',\n  'CCONJ',\n  'ADV',\n  'ADV',\n  'VERB',\n  'PUNCT',\n  'ADP',\n  'DET',\n  'ADJ',\n  'NOUN',\n  'PUNCT'],\n ['PROPN',\n  'PROPN',\n  'ADV',\n  'VERB',\n  'PUNCT',\n  'SCONJ',\n  'VERB',\n  'VERB',\n  'ADV',\n  'ADP',\n  'NOUN',\n  'PUNCT',\n  'CCONJ',\n  'ADV',\n  'NOUN',\n  'PUNCT'],\n ['ADP', 'ADJ', 'NOUN', 'NOUN', 'NUM', 'PUNCT', 'PART', 'ADV', 'PUNCT'],\n ['CCONJ',\n  'VERB',\n  'VERB',\n  'ADP',\n  'NOUN',\n  'PUNCT',\n  'SCONJ',\n  'NOUN',\n  'NOUN',\n  'VERB',\n  'ADV',\n  'PUNCT',\n  'ADV',\n  'ADP',\n  'NOUN',\n  'ADJ',\n  'NOUN',\n  'PUNCT'],\n ['CCONJ', 'NOUN', 'ADP', 'NOUN', 'PUNCT', 'ADP', 'DET', 'NOUN', 'PUNCT'],\n ['CCONJ', 'ADP', 'ADJ', 'NOUN', 'ADJ', 'PUNCT'],\n ['CCONJ',\n  'PART',\n  'ADP',\n  'NOUN',\n  'NOUN',\n  'ADP',\n  'ADJ',\n  'ADV',\n  'VERB',\n  'PRON',\n  'ADJ',\n  'PUNCT'],\n ['ADJ', 'NOUN', 'PUNCT', 'VERB', 'ADJ', 'NOUN', 'PUNCT'],\n ['PROPN',\n  'PROPN',\n  'VERB',\n  'ADP',\n  'NOUN',\n  'PUNCT',\n  'VERB',\n  'ADP',\n  'PROPN',\n  'ADP',\n  'NOUN',\n  'CCONJ',\n  'VERB',\n  'PRON',\n  'VERB',\n  'ADP',\n  'DET',\n  'NOUN',\n  'ADP',\n  'NOUN',\n  'PUNCT',\n  'NUM',\n  'PUNCT'],\n ['ADP', 'NUM', 'NOUN', 'PROPN', 'VERB', 'ADJ', 'PUNCT'],\n ['CCONJ', 'NOUN', 'DET', 'ADV', 'PART', 'AUX', 'VERB', 'PUNCT'],\n ['PUNCT',\n  'VERB',\n  'PUNCT',\n  'PRON',\n  'VERB',\n  'PUNCT',\n  'PROPN',\n  'PROPN',\n  'PUNCT',\n  'PUNCT',\n  'VERB',\n  'PRON',\n  'PUNCT',\n  'PART',\n  'PART',\n  'VERB',\n  'PUNCT'],\n ['PUNCT',\n  'NOUN',\n  'ADJ',\n  'NOUN',\n  'ADP',\n  'DET',\n  'NOUN',\n  'VERB',\n  'NOUN',\n  'ADP',\n  'ADJ',\n  'NOUN',\n  'PUNCT'],\n ['CCONJ',\n  'ADP',\n  'NOUN',\n  'ADP',\n  'PRON',\n  'AUX',\n  'VERB',\n  'NOUN',\n  'PUNCT',\n  'ADJ',\n  'NOUN',\n  'NOUN',\n  'PUNCT'],\n ['PRON', 'ADV', 'VERB', 'ADP', 'NOUN', 'PUNCT'],\n ['AUX', 'VERB', 'NOUN', 'PUNCT', 'VERB', 'PUNCT'],\n ['CCONJ', 'ADP', 'NOUN', 'PRON', 'VERB', 'VERB', 'ADV', 'PUNCT'],\n ['ADJ', 'PUNCT'],\n ['PUNCT',\n  'ADV',\n  'PART',\n  'PRON',\n  'VERB',\n  'PUNCT',\n  'PUNCT',\n  'VERB',\n  'PROPN',\n  'PROPN',\n  'PUNCT'],\n ['PUNCT', 'ADV', 'ADV', 'PUNCT'],\n ['PRON', 'VERB', 'ADP', 'ADJ', 'PUNCT'],\n ['PUNCT', 'INTJ', 'PART', 'PRON', 'PUNCT'],\n ['PUNCT', 'PROPN', 'PROPN', 'VERB', 'NOUN', 'CCONJ', 'VERB', 'NOUN', 'PUNCT'],\n ['PUNCT',\n  'VERB',\n  'PART',\n  'PUNCT',\n  'PRON',\n  'PART',\n  'VERB',\n  'VERB',\n  'NUM',\n  'NOUN',\n  'PUNCT'],\n ['ADP', 'ADJ', 'NOUN', 'VERB', 'PUNCT'],\n ['PROPN',\n  'ADV',\n  'VERB',\n  'ADP',\n  'NOUN',\n  'CCONJ',\n  'VERB',\n  'VERB',\n  'ADV',\n  'PUNCT'],\n ['PUNCT', 'PRON', 'PART', 'VERB', 'PUNCT', 'PUNCT', 'VERB', 'PRON', 'PUNCT'],\n ['PRON', 'PART', 'VERB', 'PUNCT'],\n ['PUNCT', 'ADP', 'NUM', 'NOUN', 'PUNCT'],\n ['ADP', 'PRON', 'PUNCT'],\n ['CCONJ',\n  'ADV',\n  'PUNCT',\n  'VERB',\n  'PUNCT',\n  'VERB',\n  'NOUN',\n  'NOUN',\n  'CCONJ',\n  'VERB',\n  'ADP',\n  'NOUN',\n  'PUNCT'],\n ['CCONJ',\n  'ADV',\n  'PUNCT',\n  'ADP',\n  'PRON',\n  'PUNCT',\n  'ADP',\n  'PRON',\n  'VERB',\n  'VERB',\n  'NUM',\n  'NOUN',\n  'PUNCT'],\n ['ADV', 'PROPN', 'PART', 'VERB', 'PUNCT'],\n ['PROPN',\n  'PROPN',\n  'PUNCT',\n  'VERB',\n  'PUNCT',\n  'PART',\n  'VERB',\n  'ADP',\n  'PRON',\n  'ADJ',\n  'NOUN',\n  'CCONJ',\n  'ADV',\n  'ADV',\n  'VERB',\n  'ADP',\n  'ADJ',\n  'NOUN',\n  'PUNCT'],\n ['CCONJ',\n  'ADV',\n  'PUNCT',\n  'VERB',\n  'NOUN',\n  'ADP',\n  'ADJ',\n  'NOUN',\n  'PUNCT',\n  'PRON',\n  'VERB',\n  'ADP',\n  'ADJ',\n  'NOUN',\n  'PUNCT'],\n ['VERB',\n  'NOUN',\n  'NOUN',\n  'ADP',\n  'ADJ',\n  'NOUN',\n  'ADP',\n  'NOUN',\n  'PUNCT',\n  'NOUN',\n  'PUNCT',\n  'PUNCT',\n  'PRON',\n  'ADV',\n  'VERB',\n  'NOUN',\n  'ADP',\n  'NOUN',\n  'ADP',\n  'NOUN',\n  'CCONJ',\n  'VERB',\n  'PUNCT'],\n ['PRON', 'ADP', 'PRON', 'VERB', 'PUNCT'],\n ['ADV', 'PRON', 'ADV', 'PUNCT'],\n ['VERB', 'VERB', 'PUNCT', 'VERB', 'ADV', 'PUNCT'],\n ['ADV', 'PART', 'PUNCT'],\n ['DET', 'DET', 'NOUN', 'CCONJ', 'NOUN', 'VERB', 'ADV', 'PUNCT'],\n ['CCONJ',\n  'PART',\n  'VERB',\n  'PRON',\n  'VERB',\n  'PART',\n  'ADP',\n  'NOUN',\n  'NOUN',\n  'PUNCT',\n  'ADP',\n  'PRON',\n  'ADJ',\n  'NOUN',\n  'PUNCT'],\n ['VERB',\n  'VERB',\n  'PUNCT',\n  'PRON',\n  'VERB',\n  'ADP',\n  'PROPN',\n  'VERB',\n  'PUNCT',\n  'VERB',\n  'ADP',\n  'NOUN',\n  'PUNCT'],\n ['SCONJ',\n  'PRON',\n  'ADV',\n  'PUNCT',\n  'SCONJ',\n  'ADP',\n  'NOUN',\n  'ADP',\n  'NOUN',\n  'ADV',\n  'VERB',\n  'ADJ',\n  'NOUN',\n  'ADP',\n  'NOUN',\n  'PUNCT',\n  'PART',\n  'VERB',\n  'ADP',\n  'NOUN',\n  'NOUN',\n  'PUNCT',\n  'ADP',\n  'DET',\n  'NOUN',\n  'NOUN',\n  'PROPN',\n  'PART',\n  'VERB',\n  'ADP',\n  'NOUN',\n  'PUNCT'],\n ['ADJ',\n  'PUNCT',\n  'ADV',\n  'PUNCT',\n  'VERB',\n  'PUNCT',\n  'SCONJ',\n  'PART',\n  'VERB',\n  'NOUN',\n  'PUNCT',\n  'CCONJ',\n  'NOUN',\n  'VERB',\n  'DET',\n  'NOUN',\n  'PUNCT'],\n ['PRON', 'ADV', 'VERB', 'ADP', 'DET', 'NOUN', 'PUNCT'],\n ['PROPN',\n  'PROPN',\n  'VERB',\n  'NOUN',\n  'CCONJ',\n  'PUNCT',\n  'VERB',\n  'NOUN',\n  'PUNCT',\n  'VERB',\n  'PUNCT',\n  'PART',\n  'VERB',\n  'PART',\n  'ADP',\n  'NOUN',\n  'DET',\n  'ADJ',\n  'NOUN',\n  'PUNCT',\n  'ADP',\n  'NOUN',\n  'PUNCT',\n  'VERB',\n  'PUNCT',\n  'PROPN',\n  'PUNCT'],\n ['ADP', 'NOUN', 'PROPN', 'PART', 'AUX', 'PUNCT'],\n ['PROPN', 'PROPN', 'ADV', 'VERB', 'PUNCT'],\n ['VERB',\n  'VERB',\n  'PUNCT',\n  'PRON',\n  'VERB',\n  'ADJ',\n  'NOUN',\n  'ADP',\n  'NOUN',\n  'PUNCT',\n  'PRON',\n  'ADV',\n  'PART',\n  'VERB',\n  'ADP',\n  'NOUN',\n  'PUNCT',\n  'ADV',\n  'SCONJ',\n  'NOUN',\n  'PRON',\n  'VERB',\n  'ADJ',\n  'ADP',\n  'DET',\n  'ADJ',\n  'NOUN',\n  'CCONJ',\n  'AUX',\n  'VERB',\n  'PUNCT'],\n ['NOUN',\n  'VERB',\n  'ADP',\n  'DET',\n  'NOUN',\n  'ADV',\n  'VERB',\n  'CCONJ',\n  'VERB',\n  'ADP',\n  'NOUN',\n  'PUNCT'],\n ['ADV',\n  'PUNCT',\n  'DET',\n  'NOUN',\n  'PUNCT',\n  'SCONJ',\n  'PRON',\n  'VERB',\n  'CCONJ',\n  'PART',\n  'ADP',\n  'DET',\n  'NOUN',\n  'CCONJ',\n  'ADV',\n  'NOUN',\n  'ADV',\n  'PUNCT',\n  'PART',\n  'VERB',\n  'PART',\n  'VERB',\n  'NOUN',\n  'ADP',\n  'ADJ',\n  'NOUN',\n  'PROPN',\n  'PROPN',\n  'PUNCT'],\n ['PRON', 'VERB', 'VERB', 'PUNCT'],\n ['ADP',\n  'NOUN',\n  'DET',\n  'PUNCT',\n  'ADV',\n  'PART',\n  'PUNCT',\n  'SCONJ',\n  'PART',\n  'ADP',\n  'ADJ',\n  'NOUN',\n  'PUNCT',\n  'ADV',\n  'VERB',\n  'NOUN',\n  'NOUN',\n  'PUNCT',\n  'VERB',\n  'ADJ',\n  'NOUN',\n  'PUNCT'],\n ['ADP',\n  'NUM',\n  'NOUN',\n  'PUNCT',\n  'SCONJ',\n  'VERB',\n  'ADP',\n  'NOUN',\n  'PUNCT',\n  'PROPN',\n  'PROPN',\n  'VERB',\n  'PART',\n  'VERB',\n  'VERB',\n  'DET',\n  'NOUN',\n  'NOUN',\n  'ADP',\n  'NOUN',\n  'PROPN',\n  'PUNCT',\n  'CCONJ',\n  'PUNCT',\n  'VERB',\n  'ADP',\n  'PRON',\n  'PUNCT',\n  'VERB',\n  'CCONJ',\n  'VERB',\n  'NOUN',\n  'PUNCT'],\n ['ADP',\n  'DET',\n  'NOUN',\n  'DET',\n  'NOUN',\n  'VERB',\n  'AUX',\n  'ADJ',\n  'CCONJ',\n  'ADP',\n  'ADJ',\n  'NOUN',\n  'ADJ',\n  'PUNCT'],\n ['ADV',\n  'PROPN',\n  'PROPN',\n  'VERB',\n  'PART',\n  'ADP',\n  'PRON',\n  'PART',\n  'VERB',\n  'CCONJ',\n  'ADV',\n  'VERB',\n  'ADJ',\n  'NOUN',\n  'PUNCT'],\n ['CCONJ',\n  'ADJ',\n  'NOUN',\n  'ADP',\n  'DET',\n  'NOUN',\n  'VERB',\n  'ADV',\n  'CCONJ',\n  'ADV',\n  'ADP',\n  'DET',\n  'ADJ',\n  'NOUN',\n  'PUNCT'],\n ['PRON',\n  'VERB',\n  'VERB',\n  'PUNCT',\n  'VERB',\n  'NOUN',\n  'ADP',\n  'NOUN',\n  'CCONJ',\n  'NUM',\n  'NOUN',\n  'VERB',\n  'VERB',\n  'ADP',\n  'ADJ',\n  'NOUN',\n  'NOUN',\n  'PUNCT',\n  'ADJ',\n  'PUNCT',\n  'PRON',\n  'ADV',\n  'ADP',\n  'PRON',\n  'ADV',\n  'PART',\n  'VERB',\n  'PUNCT'],\n ['ADV',\n  'PUNCT',\n  'VERB',\n  'ADV',\n  'ADP',\n  'NOUN',\n  'PUNCT',\n  'PRON',\n  'VERB',\n  'ADP',\n  'ADJ',\n  'NOUN',\n  'PUNCT',\n  'VERB',\n  'NOUN',\n  'VERB',\n  'ADP',\n  'NOUN',\n  'CCONJ',\n  'VERB',\n  'ADP',\n  'NOUN',\n  'NOUN',\n  'NUM',\n  'PUNCT'],\n ['VERB', 'ADJ', 'ADJ', 'NOUN', 'PUNCT'],\n ['ADJ',\n  'NOUN',\n  'VERB',\n  'ADJ',\n  'NOUN',\n  'ADJ',\n  'NOUN',\n  'PUNCT',\n  'VERB',\n  'ADJ',\n  'NOUN',\n  'PUNCT',\n  'VERB',\n  'ADP',\n  'ADJ',\n  'NOUN',\n  'NOUN',\n  'PUNCT',\n  'ADJ',\n  'PUNCT',\n  'VERB',\n  'ADP',\n  'NOUN',\n  'NOUN',\n  'NOUN',\n  'PUNCT',\n  'NUM',\n  'ADJ',\n  'NOUN',\n  'ADJ',\n  'NOUN',\n  'ADP',\n  'NOUN',\n  'ADP',\n  'NOUN',\n  'PUNCT',\n  'VERB',\n  'NOUN',\n  'PUNCT'],\n ['ADP',\n  'NOUN',\n  'VERB',\n  'NOUN',\n  'PUNCT',\n  'ADP',\n  'PRON',\n  'ADV',\n  'VERB',\n  'NOUN',\n  'PUNCT'],\n ['ADP',\n  'NOUN',\n  'NOUN',\n  'ADV',\n  'VERB',\n  'NOUN',\n  'PUNCT',\n  'CCONJ',\n  'ADV',\n  'ADJ',\n  'PUNCT',\n  'VERB',\n  'NOUN',\n  'DET',\n  'VERB',\n  'ADP',\n  'NOUN',\n  'PUNCT'],\n ['ADV',\n  'PUNCT',\n  'ADJ',\n  'NOUN',\n  'AUX',\n  'VERB',\n  'CCONJ',\n  'NOUN',\n  'VERB',\n  'ADV',\n  'ADP',\n  'NOUN',\n  'ADJ',\n  'NOUN',\n  'PUNCT'],\n ['NUM',\n  'NOUN',\n  'ADP',\n  'NOUN',\n  'AUX',\n  'ADV',\n  'VERB',\n  'PUNCT',\n  'CCONJ',\n  'ADP',\n  'NUM',\n  'ADJ',\n  'PUNCT',\n  'ADP',\n  'PRON',\n  'VERB',\n  'PROPN',\n  'PUNCT',\n  'NOUN',\n  'PART',\n  'VERB',\n  'PUNCT'],\n ['ADJ', 'NOUN', 'ADV', 'VERB', 'ADP', 'PROPN', 'PROPN', 'PUNCT'],\n ['ADV',\n  'VERB',\n  'ADV',\n  'PROPN',\n  'PROPN',\n  'DET',\n  'ADP',\n  'ADJ',\n  'NOUN',\n  'PUNCT',\n  'ADP',\n  'NOUN',\n  'CCONJ',\n  'ADP',\n  'NOUN',\n  'PUNCT',\n  'VERB',\n  'ADP',\n  'PRON',\n  'PUNCT',\n  'NUM',\n  'ADJ',\n  'NOUN',\n  'VERB',\n  'ADJ',\n  'NOUN',\n  'PUNCT',\n  'ADV',\n  'ADJ',\n  'VERB',\n  'ADJ',\n  'NOUN',\n  'CCONJ',\n  'ADV',\n  'ADV',\n  'NOUN',\n  'VERB',\n  'ADP',\n  'NOUN',\n  'PUNCT'],\n ['ADV', 'ADV', 'VERB', 'CCONJ', 'VERB', 'ADP', 'NOUN', 'PUNCT'],\n ['NOUN',\n  'PRON',\n  'VERB',\n  'ADP',\n  'ADJ',\n  'NOUN',\n  'CCONJ',\n  'PUNCT',\n  'PART',\n  'VERB',\n  'PUNCT',\n  'VERB',\n  'ADP',\n  'NOUN',\n  'PUNCT'],\n ['ADP',\n  'DET',\n  'NOUN',\n  'PUNCT',\n  'ADP',\n  'NOUN',\n  'PRON',\n  'VERB',\n  'PROPN',\n  'PUNCT'],\n ['PRON',\n  'VERB',\n  'NOUN',\n  'VERB',\n  'DET',\n  'NOUN',\n  'ADP',\n  'NOUN',\n  'ADJ',\n  'NOUN',\n  'PUNCT'],\n ['ADP',\n  'DET',\n  'NOUN',\n  'PROPN',\n  'VERB',\n  'ADJ',\n  'CCONJ',\n  'ADJ',\n  'CCONJ',\n  'ADP',\n  'NOUN',\n  'DET',\n  'VERB',\n  'ADJ',\n  'PUNCT',\n  'ADJ',\n  'NOUN',\n  'PUNCT'],\n ['PUNCT',\n  'DET',\n  'ADV',\n  'NOUN',\n  'PUNCT',\n  'PROPN',\n  'PROPN',\n  'PUNCT',\n  'PUNCT',\n  'VERB',\n  'PROPN',\n  'PROPN',\n  'PUNCT',\n  'PART',\n  'VERB',\n  'NOUN',\n  'PUNCT'],\n ['PUNCT',\n  'VERB',\n  'PUNCT',\n  'VERB',\n  'PUNCT',\n  'PUNCT',\n  'CCONJ',\n  'PUNCT',\n  'VERB',\n  'PRON',\n  'ADP',\n  'NOUN',\n  'PUNCT',\n  'VERB',\n  'ADP',\n  'NOUN',\n  'PUNCT'],\n ['PRON',\n  'VERB',\n  'ADP',\n  'DET',\n  'NOUN',\n  'PUNCT',\n  'NOUN',\n  'NOUN',\n  'PUNCT',\n  'PUNCT',\n  'VERB',\n  'PROPN',\n  'PUNCT',\n  'VERB',\n  'ADP',\n  'PRON',\n  'PUNCT'],\n ['PUNCT', 'VERB', 'PUNCT'],\n ['PUNCT', 'VERB', 'PUNCT'],\n ['PUNCT', 'SCONJ', 'PART', 'NOUN', 'PUNCT', 'ADV', 'PUNCT'],\n ['PUNCT', 'ADP', 'PROPN', 'PUNCT'],\n ['PRON', 'VERB', 'ADP', 'DET', 'NOUN', 'CCONJ', 'VERB', 'NOUN', 'PUNCT'],\n ['VERB',\n  'ADP',\n  'ADJ',\n  'NOUN',\n  'NOUN',\n  'ADP',\n  'NOUN',\n  'PUNCT',\n  'CCONJ',\n  'ADP',\n  'NOUN',\n  'NOUN',\n  'PUNCT'],\n ['PUNCT',\n  'PART',\n  'PRON',\n  'PART',\n  'PUNCT',\n  'ADJ',\n  'NOUN',\n  'PUNCT',\n  'PUNCT',\n  'VERB',\n  'PROPN',\n  'PROPN',\n  'PUNCT',\n  'ADV',\n  'VERB',\n  'PUNCT'],\n ['PUNCT',\n  'PRON',\n  'PART',\n  'VERB',\n  'ADP',\n  'PRON',\n  'NOUN',\n  'PUNCT',\n  'CCONJ',\n  'PRON',\n  'ADV',\n  'PART',\n  'VERB',\n  'PUNCT'],\n ['PUNCT', 'PRON', 'PART', 'AUX', 'ADP', 'NOUN', 'PUNCT'],\n ['PRON', 'VERB', 'VERB', 'NOUN', 'PUNCT'],\n ['PUNCT', 'ADV', 'PART', 'PRON', 'VERB', 'PUNCT'],\n ['PUNCT', 'ADP', 'ADJ', 'NOUN', 'VERB', 'NOUN', 'PUNCT'],\n ['CCONJ',\n  'PRON',\n  'ADJ',\n  'PUNCT',\n  'CCONJ',\n  'PRON',\n  'VERB',\n  'ADP',\n  'PRON',\n  'PUNCT'],\n ['ADV',\n  'PUNCT',\n  'ADP',\n  'NOUN',\n  'ADJ',\n  'PART',\n  'NUM',\n  'PUNCT',\n  'CCONJ',\n  'NUM',\n  'NUM',\n  'NOUN',\n  'PUNCT'],\n ['PUNCT', 'PRON', 'AUX', 'ADP', 'ADJ', 'PUNCT'],\n ['PUNCT', 'PART', 'PUNCT'],\n ['CCONJ', 'VERB', 'PUNCT', 'PRON', 'VERB', 'ADV', 'ADP', 'NOUN', 'PUNCT'],\n ['PUNCT', 'CCONJ', 'PRON', 'DET', 'PUNCT'],\n ['PUNCT', 'NOUN', 'VERB', 'ADJ', 'NOUN', 'PUNCT'],\n ['VERB',\n  'ADJ',\n  'NOUN',\n  'PUNCT',\n  'SCONJ',\n  'ADP',\n  'NOUN',\n  'VERB',\n  'NOUN',\n  'PUNCT'],\n ['CCONJ', 'ADV', 'VERB', 'NOUN', 'ADP', 'NOUN', 'ADJ', 'PUNCT'],\n ['CCONJ', 'ADP', 'PRON', 'VERB', 'NOUN', 'PUNCT'],\n ['PUNCT', 'NOUN', 'PUNCT', 'PUNCT', 'VERB', 'PROPN', 'PROPN', 'PUNCT'],\n ['PUNCT', 'ADV', 'PART', 'ADV', 'NOUN', 'VERB', 'PUNCT'],\n ['PUNCT', 'PART', 'ADV', 'PART', 'PRON', 'VERB', 'PUNCT'],\n ['ADV', 'NUM', 'NOUN', 'VERB', 'ADJ', 'NOUN', 'PUNCT'],\n ['ADP',\n  'PRON',\n  'ADV',\n  'ADJ',\n  'NOUN',\n  'PUNCT',\n  'CCONJ',\n  'PRON',\n  'PUNCT',\n  'CCONJ',\n  'PRON',\n  'PART',\n  'NOUN',\n  'VERB',\n  'PUNCT'],\n ['PROPN', 'VERB', 'CCONJ', 'VERB', 'PUNCT', 'PART', 'VERB', 'PUNCT'],\n ['PUNCT',\n  'DET',\n  'PART',\n  'ADJ',\n  'PUNCT',\n  'ADJ',\n  'NOUN',\n  'PUNCT',\n  'PUNCT',\n  'VERB',\n  'PROPN',\n  'PROPN',\n  'PUNCT'],\n ['PRON',\n  'ADV',\n  'VERB',\n  'NOUN',\n  'CCONJ',\n  'VERB',\n  'ADP',\n  'NOUN',\n  'PUNCT',\n  'ADP',\n  'PRON',\n  'AUX',\n  'VERB',\n  'PUNCT',\n  'NOUN',\n  'ADP',\n  'ADJ',\n  'NOUN',\n  'PUNCT'],\n ['ADJ',\n  'NOUN',\n  'CCONJ',\n  'NOUN',\n  'NUM',\n  'NOUN',\n  'NOUN',\n  'VERB',\n  'ADJ',\n  'NOUN',\n  'CCONJ',\n  'VERB',\n  'ADJ',\n  'NOUN',\n  'ADP',\n  'NOUN',\n  'PART',\n  'ADV',\n  'ADJ',\n  'CCONJ',\n  'ADJ',\n  'NOUN',\n  'ADJ',\n  'NOUN',\n  'ADP',\n  'ADJ',\n  'NOUN',\n  'NOUN',\n  'CCONJ',\n  'NOUN',\n  'NOUN',\n  'ADP',\n  'ADJ',\n  'NOUN',\n  'PUNCT'],\n ['ADV',\n  'ADP',\n  'PRON',\n  'PUNCT',\n  'ADP',\n  'ADJ',\n  'NOUN',\n  'ADJ',\n  'NOUN',\n  'VERB',\n  'NOUN',\n  'ADJ',\n  'NOUN',\n  'PART',\n  'ADJ',\n  'NOUN',\n  'PUNCT',\n  'PRON',\n  'AUX',\n  'VERB',\n  'ADP',\n  'ADJ',\n  'NOUN',\n  'PUNCT'],\n ['NOUN',\n  'ADJ',\n  'NOUN',\n  'ADJ',\n  'PUNCT',\n  'SCONJ',\n  'PART',\n  'ADJ',\n  'NOUN',\n  'VERB',\n  'ADV',\n  'VERB',\n  'NOUN',\n  'PUNCT',\n  'ADV',\n  'VERB',\n  'DET',\n  'NOUN',\n  'CCONJ',\n  'NOUN',\n  'ADP',\n  'DET',\n  'NOUN',\n  'PUNCT'],\n ['ADP',\n  'ADJ',\n  'NOUN',\n  'ADJ',\n  'NOUN',\n  'VERB',\n  'SCONJ',\n  'ADJ',\n  'NOUN',\n  'ADP',\n  'NOUN',\n  'ADJ',\n  'NOUN',\n  'PUNCT',\n  'ADV',\n  'PART',\n  'ADJ',\n  'ADJ',\n  'NOUN',\n  'PUNCT',\n  'NOUN',\n  'NOUN',\n  'PUNCT',\n  'NOUN',\n  'PUNCT',\n  'NOUN',\n  'CCONJ',\n  'ADJ',\n  'ADJ',\n  'NOUN',\n  'PUNCT'],\n ['ADJ',\n  'ADJ',\n  'PUNCT',\n  'ADJ',\n  'NOUN',\n  'PUNCT',\n  'PROPN',\n  'PUNCT',\n  'VERB',\n  'ADJ',\n  'ADJ',\n  'NOUN',\n  'PUNCT',\n  'NOUN',\n  'PUNCT',\n  'ADP',\n  'NOUN',\n  'ADJ',\n  'NOUN',\n  'NOUN',\n  'ADJ',\n  'NOUN',\n  'PUNCT'],\n ['ADP',\n  'PRON',\n  'PUNCT',\n  'ADJ',\n  'ADJ',\n  'NOUN',\n  'VERB',\n  'ADV',\n  'VERB',\n  'ADP',\n  'NOUN',\n  'ADJ',\n  'NOUN',\n  'PUNCT',\n  'NOUN',\n  'NOUN',\n  'PUNCT',\n  'NOUN',\n  'CCONJ',\n  'VERB',\n  'ADV',\n  'VERB',\n  'ADJ',\n  'NOUN',\n  'ADP',\n  'NOUN',\n  'ADP',\n  'ADJ',\n  'NOUN',\n  'CCONJ',\n  'ADJ',\n  'NOUN',\n  'PUNCT'],\n ['ADV',\n  'NOUN',\n  'PUNCT',\n  'NOUN',\n  'PUNCT',\n  'VERB',\n  'ADP',\n  'NOUN',\n  'VERB',\n  'ADJ',\n  'NOUN',\n  'PUNCT',\n  'PRON',\n  'VERB',\n  'ADP',\n  'NOUN',\n  'NUM',\n  'NOUN',\n  'ADP',\n  'VERB',\n  'NOUN',\n  'CCONJ',\n  'VERB',\n  'NUM',\n  'NOUN',\n  'PUNCT'],\n ['ADJ', 'NOUN', 'VERB', 'VERB', 'ADP', 'NOUN', 'PUNCT'],\n ['ADJ',\n  'NOUN',\n  'VERB',\n  'NUM',\n  'NOUN',\n  'PUNCT',\n  'ADJ',\n  'ADJ',\n  'NOUN',\n  'ADJ',\n  'NOUN',\n  'PUNCT',\n  'CCONJ',\n  'PART',\n  'ADJ',\n  'NOUN',\n  'ADP',\n  'ADJ',\n  'NOUN',\n  'PUNCT'],\n ['ADP',\n  'VERB',\n  'NOUN',\n  'PUNCT',\n  'NOUN',\n  'VERB',\n  'PUNCT',\n  'ADJ',\n  'PUNCT',\n  'NOUN',\n  'PUNCT'],\n ['NOUN',\n  'VERB',\n  'VERB',\n  'ADJ',\n  'NOUN',\n  'PUNCT',\n  'NOUN',\n  'ADP',\n  'NOUN',\n  'NOUN',\n  'ADP',\n  'NOUN',\n  'PUNCT',\n  'ADJ',\n  'NOUN',\n  'PUNCT',\n  'ADJ',\n  'NOUN',\n  'CCONJ',\n  'ADJ',\n  'NOUN',\n  'NOUN',\n  'ADJ',\n  'NOUN',\n  'PUNCT'],\n ['NOUN',\n  'ADJ',\n  'NOUN',\n  'VERB',\n  'NOUN',\n  'CCONJ',\n  'NOUN',\n  'NOUN',\n  'CCONJ',\n  'NOUN',\n  'NOUN',\n  'ADP',\n  'ADJ',\n  'NOUN',\n  'PUNCT'],\n ['ADP',\n  'NOUN',\n  'NOUN',\n  'ADJ',\n  'NOUN',\n  'NOUN',\n  'ADP',\n  'NOUN',\n  'NUM',\n  'NOUN',\n  'VERB',\n  'ADP',\n  'ADJ',\n  'NOUN',\n  'PUNCT'],\n ['NOUN',\n  'NOUN',\n  'ADJ',\n  'PUNCT',\n  'ADP',\n  'NOUN',\n  'ADP',\n  'ADJ',\n  'NOUN',\n  'PUNCT'],\n ['NOUN',\n  'ADP',\n  'NOUN',\n  'VERB',\n  'ADV',\n  'PUNCT',\n  'ADP',\n  'NOUN',\n  'NOUN',\n  'NOUN',\n  'ADP',\n  'ADJ',\n  'NOUN',\n  'NOUN',\n  'PUNCT'],\n ['ADJ',\n  'NOUN',\n  'VERB',\n  'NOUN',\n  'PUNCT',\n  'VERB',\n  'ADP',\n  'NOUN',\n  'NOUN',\n  'NOUN',\n  'PUNCT',\n  'PRON',\n  'VERB',\n  'DET',\n  'NOUN',\n  'PUNCT'],\n ['ADP',\n  'NOUN',\n  'ADP',\n  'NOUN',\n  'NOUN',\n  'ADP',\n  'NOUN',\n  'VERB',\n  'VERB',\n  'ADJ',\n  'NOUN',\n  'PUNCT',\n  'NOUN',\n  'PRON',\n  'ADV',\n  'VERB',\n  'ADP',\n  'ADJ',\n  'NOUN',\n  'ADP',\n  'ADJ',\n  'NOUN',\n  'NOUN',\n  'PUNCT'],\n ['NOUN',\n  'NOUN',\n  'CCONJ',\n  'NOUN',\n  'NOUN',\n  'PUNCT',\n  'NOUN',\n  'PUNCT',\n  'ADJ',\n  'PUNCT',\n  'ADP',\n  'ADJ',\n  'ADJ',\n  'NOUN',\n  'NOUN',\n  'PUNCT'],\n ['NOUN',\n  'ADP',\n  'NOUN',\n  'NUM',\n  'NOUN',\n  'VERB',\n  'ADV',\n  'VERB',\n  'ADP',\n  'NOUN',\n  'NOUN',\n  'CCONJ',\n  'ADV',\n  'VERB',\n  'NOUN',\n  'CCONJ',\n  'NOUN',\n  'ADJ',\n  'ADP',\n  'NOUN',\n  'NOUN',\n  'ADP',\n  'ADJ',\n  'NOUN',\n  'PUNCT'],\n ['ADJ',\n  'NOUN',\n  'NUM',\n  'NOUN',\n  'NOUN',\n  'PUNCT',\n  'PRON',\n  'VERB',\n  'ADJ',\n  'NOUN',\n  'NOUN',\n  'ADP',\n  'NOUN',\n  'ADP',\n  'ADJ',\n  'NOUN',\n  'PUNCT'],\n ['NOUN',\n  'VERB',\n  'ADP',\n  'ADJ',\n  'NOUN',\n  'ADP',\n  'NOUN',\n  'ADP',\n  'NUM',\n  'ADP',\n  'NUM',\n  'NOUN',\n  'PUNCT'],\n ['NOUN',\n  'ADJ',\n  'NOUN',\n  'VERB',\n  'NOUN',\n  'NOUN',\n  'ADP',\n  'ADJ',\n  'NOUN',\n  'ADP',\n  'ADJ',\n  'NOUN',\n  'PUNCT',\n  'NOUN',\n  'PUNCT',\n  'NOUN',\n  'CCONJ',\n  'ADV',\n  'ADV',\n  'PUNCT'],\n ['ADJ',\n  'NOUN',\n  'DET',\n  'ADJ',\n  'NOUN',\n  'ADV',\n  'ADV',\n  'VERB',\n  'ADP',\n  'NOUN',\n  'VERB',\n  'NOUN',\n  'PUNCT'],\n ['ADP',\n  'NOUN',\n  'VERB',\n  'ADJ',\n  'NOUN',\n  'PUNCT',\n  'NOUN',\n  'PUNCT',\n  'NUM',\n  'PUNCT',\n  'PUNCT',\n  'PUNCT',\n  'NOUN',\n  'PUNCT',\n  'NUM',\n  'PUNCT',\n  'PUNCT',\n  'PUNCT',\n  'NOUN',\n  'PUNCT',\n  'NUM',\n  'PUNCT',\n  'CCONJ',\n  'DET',\n  'ADJ',\n  'NOUN',\n  'ADJ',\n  'NOUN',\n  'PUNCT'],\n ['ADJ',\n  'NOUN',\n  'PUNCT',\n  'NOUN',\n  'PUNCT',\n  'NUM',\n  'PUNCT',\n  'VERB',\n  'NOUN',\n  'ADP',\n  'NOUN',\n  'NOUN',\n  'ADJ',\n  'NOUN',\n  'PUNCT',\n  'NOUN',\n  'PUNCT',\n  'PRON',\n  'ADV',\n  'VERB',\n  'ADP',\n  'NOUN',\n  'NOUN',\n  'CCONJ',\n  'VERB',\n  'ADP',\n  'NOUN',\n  'NOUN',\n  'ADP',\n  'VERB',\n  'NOUN',\n  'PUNCT'],\n ['PUNCT',\n  'NOUN',\n  'PUNCT',\n  'VERB',\n  'ADP',\n  'NOUN',\n  'NUM',\n  'NOUN',\n  'CCONJ',\n  'VERB',\n  'NOUN',\n  'NOUN',\n  'ADP',\n  'NUM',\n  'ADP',\n  'NUM',\n  'NOUN',\n  'PUNCT'],\n ['ADP',\n  'NOUN',\n  'DET',\n  'ADJ',\n  'NOUN',\n  'PART',\n  'PART',\n  'ADJ',\n  'NOUN',\n  'NOUN',\n  'PUNCT',\n  'CCONJ',\n  'PART',\n  'ADJ',\n  'NOUN',\n  'PUNCT',\n  'PRON',\n  'ADV',\n  'VERB',\n  'VERB',\n  'ADP',\n  'PRON',\n  'NOUN',\n  'PUNCT'],\n ['DET',\n  'NOUN',\n  'PUNCT',\n  'ADP',\n  'NOUN',\n  'NUM',\n  'NOUN',\n  'VERB',\n  'NOUN',\n  'PUNCT',\n  'PRON',\n  'ADV',\n  'ADJ',\n  'ADP',\n  'VERB',\n  'NOUN',\n  'PUNCT'],\n ['NOUN',\n  'NOUN',\n  'ADJ',\n  'ADP',\n  'NOUN',\n  'ADV',\n  'ADJ',\n  'ADJ',\n  'NOUN',\n  'NOUN',\n  'X',\n  'PUNCT',\n  'PRON',\n  'NUM',\n  'NOUN',\n  'ADV',\n  'VERB',\n  'ADP',\n  'NOUN',\n  'NOUN',\n  'PUNCT'],\n ['ADP',\n  'ADJ',\n  'ADJ',\n  'NOUN',\n  'DET',\n  'NOUN',\n  'ADJ',\n  'NOUN',\n  'CCONJ',\n  'PART',\n  'ADJ',\n  'NOUN',\n  'NOUN',\n  'X',\n  'VERB',\n  'ADV',\n  'VERB',\n  'NOUN',\n  'PUNCT'],\n ['ADJ',\n  'NOUN',\n  'VERB',\n  'AUX',\n  'VERB',\n  'ADV',\n  'ADP',\n  'VERB',\n  'NOUN',\n  'ADP',\n  'ADJ',\n  'ADV',\n  'ADJ',\n  'CCONJ',\n  'ADJ',\n  'ADP',\n  'PRON',\n  'NOUN',\n  'PUNCT'],\n ['ADV',\n  'ADJ',\n  'VERB',\n  'NOUN',\n  'PART',\n  'PART',\n  'ADP',\n  'NOUN',\n  'NOUN',\n  'PUNCT',\n  'CCONJ',\n  'PART',\n  'ADP',\n  'DET',\n  'VERB',\n  'NOUN',\n  'PUNCT'],\n ['ADJ',\n  'NOUN',\n  'PUNCT',\n  'PUNCT',\n  'NOUN',\n  'PUNCT',\n  'NUM',\n  'PUNCT',\n  'PUNCT',\n  'VERB',\n  'ADP',\n  'ADV',\n  'ADJ',\n  'NOUN',\n  'PUNCT'],\n ['NOUN',\n  'VERB',\n  'NOUN',\n  'NOUN',\n  'ADJ',\n  'NOUN',\n  'NOUN',\n  'ADP',\n  'NUM',\n  'NOUN',\n  'PUNCT'],\n ['ADP',\n  'PRON',\n  'PUNCT',\n  'ADP',\n  'NOUN',\n  'VERB',\n  'NOUN',\n  'NOUN',\n  'PUNCT',\n  'NOUN',\n  'PUNCT',\n  'NUM',\n  'PUNCT',\n  'PUNCT',\n  'PRON',\n  'ADV',\n  'VERB',\n  'NOUN',\n  'ADJ',\n  'NOUN',\n  'PUNCT',\n  'PRON',\n  'VERB',\n  'NOUN',\n  'NOUN',\n  'ADJ',\n  'ADJ',\n  'NOUN',\n  'PUNCT'],\n ['ADP',\n  'NOUN',\n  'VERB',\n  'ADJ',\n  'NOUN',\n  'PUNCT',\n  'NOUN',\n  'PUNCT',\n  'NUM',\n  'PUNCT',\n  'NUM',\n  'PUNCT',\n  'PUNCT',\n  'PRON',\n  'VERB',\n  'PART',\n  'NUM',\n  'ADJ',\n  'NOUN',\n  'PUNCT',\n  'CCONJ',\n  'ADV',\n  'NUM',\n  'NOUN',\n  'ADJ',\n  'NOUN',\n  'PUNCT'],\n ['NOUN',\n  'NOUN',\n  'NOUN',\n  'PUNCT',\n  'NOUN',\n  'PUNCT',\n  'VERB',\n  'VERB',\n  'PART',\n  'PART',\n  'ADP',\n  'ADJ',\n  'NOUN',\n  'PUNCT'],\n ['VERB',\n  'NOUN',\n  'NOUN',\n  'PUNCT',\n  'PROPN',\n  'PUNCT',\n  'VERB',\n  'NOUN',\n  'VERB',\n  'NOUN',\n  'ADP',\n  'VERB',\n  'NOUN',\n  'PUNCT'],\n ['DET', 'NOUN', 'ADV', 'ADJ', 'ADP', 'NOUN', 'ADJ', 'NOUN', 'PUNCT'],\n ['NOUN',\n  'PUNCT',\n  'NOUN',\n  'PUNCT',\n  'VERB',\n  'VERB',\n  'SCONJ',\n  'ADP',\n  'NOUN',\n  'PUNCT',\n  'ADV',\n  'PART',\n  'ADP',\n  'NOUN',\n  'CCONJ',\n  'ADJ',\n  'NOUN',\n  'PUNCT'],\n ['ADP',\n  'NOUN',\n  'NOUN',\n  'ADP',\n  'NOUN',\n  'VERB',\n  'NOUN',\n  'PUNCT',\n  'PROPN',\n  'PUNCT',\n  'PUNCT',\n  'VERB',\n  'NOUN',\n  'NOUN',\n  'ADP',\n  'NOUN',\n  'ADP',\n  'NOUN',\n  'NOUN',\n  'NOUN',\n  'CCONJ',\n  'ADJ',\n  'NOUN',\n  'NOUN',\n  'PUNCT'],\n ['ADP',\n  'DET',\n  'NOUN',\n  'NOUN',\n  'PUNCT',\n  'ADV',\n  'PUNCT',\n  'ADJ',\n  'ADV',\n  'NOUN',\n  'ADJ',\n  'NOUN',\n  'NOUN',\n  'NOUN',\n  'ADP',\n  'NOUN',\n  'CCONJ',\n  'NOUN',\n  'NOUN',\n  'PUNCT'],\n ['ADJ',\n  'VERB',\n  'PUNCT',\n  'SCONJ',\n  'VERB',\n  'NOUN',\n  'NOUN',\n  'VERB',\n  'ADV',\n  'ADV',\n  'PUNCT'],\n ['NOUN',\n  'PART',\n  'ADJ',\n  'ADP',\n  'NOUN',\n  'NUM',\n  'PUNCT',\n  'NUM',\n  'NOUN',\n  'PUNCT'],\n ['DET',\n  'NOUN',\n  'ADJ',\n  'NOUN',\n  'VERB',\n  'NOUN',\n  'ADJ',\n  'NOUN',\n  'NOUN',\n  'ADP',\n  'NOUN',\n  'ADJ',\n  'NOUN',\n  'CCONJ',\n  'ADV',\n  'VERB',\n  'NOUN',\n  'VERB',\n  'PRON',\n  'PUNCT'],\n ['ADJ',\n  'NOUN',\n  'VERB',\n  'NUM',\n  'ADP',\n  'PUNCT',\n  'NOUN',\n  'PUNCT',\n  'ADJ',\n  'NOUN',\n  'PUNCT',\n  'VERB',\n  'ADP',\n  'ADJ',\n  'NOUN',\n  'NOUN',\n  'PUNCT'],\n ['ADP',\n  'NOUN',\n  'ADJ',\n  'NOUN',\n  'NOUN',\n  'PUNCT',\n  'NOUN',\n  'PUNCT',\n  'VERB',\n  'ADJ',\n  'NOUN',\n  'ADJ',\n  'NOUN',\n  'PUNCT'],\n ['ADP',\n  'NOUN',\n  'ADJ',\n  'NOUN',\n  'VERB',\n  'ADJ',\n  'NOUN',\n  'PUNCT',\n  'NOUN',\n  'PUNCT',\n  'NUM',\n  'PUNCT',\n  'PUNCT',\n  'NOUN',\n  'ADP',\n  'NOUN',\n  'ADJ',\n  'NOUN',\n  'PUNCT',\n  'NOUN',\n  'PUNCT',\n  'PUNCT',\n  'NOUN',\n  'PUNCT',\n  'NOUN',\n  'PUNCT',\n  'CCONJ',\n  'ADJ',\n  'PUNCT'],\n ['PUNCT', 'NOUN', 'PUNCT', 'ADJ', 'NOUN', 'PART', 'VERB', 'PUNCT', 'PUNCT'],\n ['ADJ', 'VERB', 'NOUN', 'NOUN', 'PUNCT'],\n ['ADP',\n  'ADJ',\n  'PUNCT',\n  'VERB',\n  'NOUN',\n  'ADJ',\n  'NOUN',\n  'VERB',\n  'VERB',\n  'NOUN',\n  'PUNCT'],\n ['ADJ',\n  'PUNCT',\n  'VERB',\n  'ADP',\n  'NOUN',\n  'PUNCT',\n  'ADJ',\n  'NOUN',\n  'PRON',\n  'VERB',\n  'ADP',\n  'NOUN',\n  'PUNCT'],\n ['NOUN', 'ADP', 'NOUN', 'PUNCT'],\n ['NOUN', 'PUNCT'],\n ['NOUN', 'ADP', 'NOUN', 'PUNCT'],\n ['DET',\n  'PRON',\n  'VERB',\n  'ADP',\n  'NOUN',\n  'ADP',\n  'NOUN',\n  'PRON',\n  'SCONJ',\n  'NOUN',\n  'VERB',\n  'PUNCT'],\n ['NOUN', 'ADV', 'ADP', 'PROPN', 'AUX', 'NUM', 'PUNCT'],\n ['PRON', 'VERB', 'ADP', 'VERB', 'NOUN', 'PUNCT', 'VERB', 'NOUN', 'PUNCT'],\n ['VERB', 'PUNCT'],\n ['ADV',\n  'PRON',\n  'VERB',\n  'NUM',\n  'PUNCT',\n  'NUM',\n  'PROPN',\n  'VERB',\n  'ADV',\n  'VERB',\n  'NOUN',\n  'PUNCT'],\n ['NOUN',\n  'VERB',\n  'ADP',\n  'NOUN',\n  'PUNCT',\n  'CCONJ',\n  'VERB',\n  'NOUN',\n  'ADV',\n  'ADJ',\n  'AUX',\n  'NOUN',\n  'CCONJ',\n  'NOUN',\n  'ADJ',\n  'NOUN',\n  'PUNCT',\n  'ADP',\n  'PRON',\n  'PRON',\n  'VERB',\n  'PUNCT'],\n ['CCONJ', 'VERB', 'PUNCT', 'PRON', 'VERB', 'PUNCT'],\n ['VERB',\n  'ADV',\n  'ADP',\n  'PROPN',\n  'NOUN',\n  'DET',\n  'PART',\n  'NOUN',\n  'VERB',\n  'ADP',\n  'NOUN',\n  'NOUN',\n  'VERB',\n  'NOUN',\n  'PUNCT'],\n ['CCONJ',\n  'VERB',\n  'ADV',\n  'PUNCT',\n  'ADV',\n  'ADV',\n  'VERB',\n  'ADP',\n  'NOUN',\n  'NOUN',\n  'PUNCT'],\n ['VERB',\n  'ADV',\n  'NOUN',\n  'PART',\n  'VERB',\n  'ADP',\n  'NOUN',\n  'PUNCT',\n  'PART',\n  'VERB',\n  'NOUN',\n  'ADJ',\n  'NOUN',\n  'PUNCT',\n  'SCONJ',\n  'ADP',\n  'NOUN',\n  'PUNCT'],\n ['CCONJ',\n  'ADP',\n  'DET',\n  'VERB',\n  'NOUN',\n  'ADV',\n  'CCONJ',\n  'ADV',\n  'VERB',\n  'ADJ',\n  'ADP',\n  'NOUN',\n  'VERB',\n  'NOUN',\n  'PUNCT'],\n ['PRON', 'VERB', 'ADV', 'ADP', 'NOUN', 'NOUN', 'PUNCT'],\n ['VERB',\n  'ADP',\n  'ADJ',\n  'NOUN',\n  'PUNCT',\n  'PROPN',\n  'VERB',\n  'VERB',\n  'NUM',\n  'NOUN',\n  'PUNCT',\n  'CCONJ',\n  'NOUN',\n  'VERB',\n  'PUNCT'],\n ['PRON',\n  'NOUN',\n  'VERB',\n  'ADP',\n  'ADJ',\n  'NOUN',\n  'NOUN',\n  'PUNCT',\n  'VERB',\n  'ADP',\n  'NOUN',\n  'ADJ',\n  'NOUN',\n  'NOUN',\n  'PUNCT',\n  'VERB',\n  'PUNCT',\n  'ADV',\n  'VERB',\n  'NOUN',\n  'PUNCT'],\n ['NOUN',\n  'VERB',\n  'PUNCT',\n  'ADJ',\n  'PUNCT',\n  'VERB',\n  'ADV',\n  'NOUN',\n  'PUNCT',\n  'ADP',\n  'NOUN',\n  'VERB',\n  'ADV',\n  'PUNCT'],\n ['DET',\n  'VERB',\n  'ADP',\n  'PRON',\n  'PUNCT',\n  'ADJ',\n  'VERB',\n  'ADP',\n  'NOUN',\n  'PUNCT'],\n ['CCONJ',\n  'ADP',\n  'DET',\n  'NOUN',\n  'ADP',\n  'NOUN',\n  'NOUN',\n  'NOUN',\n  'NOUN',\n  'VERB',\n  'ADV',\n  'NOUN',\n  'PUNCT'],\n ['ADP',\n  'NOUN',\n  'DET',\n  'VERB',\n  'ADP',\n  'NOUN',\n  'NOUN',\n  'PROPN',\n  'ADP',\n  'ADJ',\n  'ADP',\n  'NOUN',\n  'CCONJ',\n  'NOUN',\n  'VERB',\n  'NOUN',\n  'PUNCT'],\n ['ADP', 'NOUN', 'VERB', 'NOUN', 'NOUN', 'PUNCT', 'ADV', 'VERB', 'PUNCT'],\n ['VERB',\n  'PRON',\n  'ADV',\n  'ADP',\n  'DET',\n  'ADJ',\n  'NOUN',\n  'PUNCT',\n  'ADP',\n  'DET',\n  'ADP',\n  'NOUN',\n  'NOUN',\n  'ADV',\n  'PRON',\n  'VERB',\n  'ADP',\n  'NOUN',\n  'PUNCT'],\n ['VERB',\n  'PUNCT',\n  'SCONJ',\n  'PRON',\n  'VERB',\n  'PUNCT',\n  'PRON',\n  'ADV',\n  'VERB',\n  'VERB',\n  'NOUN',\n  'PUNCT'],\n ['VERB',\n  'PUNCT',\n  'SCONJ',\n  'DET',\n  'VERB',\n  'VERB',\n  'PUNCT',\n  'PUNCT',\n  'ADV',\n  'VERB',\n  'ADP',\n  'NOUN',\n  'PUNCT',\n  'NOUN',\n  'PUNCT',\n  'PUNCT',\n  'VERB',\n  'NOUN',\n  'CCONJ',\n  'PUNCT',\n  'VERB',\n  'NOUN',\n  'PUNCT',\n  'VERB',\n  'ADP',\n  'NOUN',\n  'PUNCT'],\n ['ADV',\n  'VERB',\n  'PUNCT',\n  'VERB',\n  'PUNCT',\n  'SCONJ',\n  'ADJ',\n  'PUNCT',\n  'ADV',\n  'SCONJ',\n  'VERB',\n  'NOUN',\n  'PUNCT',\n  'CCONJ',\n  'NOUN',\n  'CCONJ',\n  'PROPN',\n  'PUNCT',\n  'VERB',\n  'ADP',\n  'NOUN',\n  'PUNCT',\n  'ADV',\n  'VERB',\n  'PUNCT'],\n ['PUNCT',\n  'PRON',\n  'VERB',\n  'NOUN',\n  'ADP',\n  'NOUN',\n  'PUNCT',\n  'DET',\n  'NOUN',\n  'ADJ',\n  'PUNCT'],\n ['PART', 'NOUN', 'VERB', 'NOUN', 'PUNCT'],\n ['INTJ', 'PUNCT', 'CCONJ', 'VERB', 'VERB', 'PUNCT'],\n ['PUNCT',\n  'CCONJ',\n  'DET',\n  'NOUN',\n  'VERB',\n  'ADP',\n  'PRON',\n  'PUNCT',\n  'PART',\n  'NOUN',\n  'VERB',\n  'PUNCT'],\n ['PUNCT',\n  'ADV',\n  'PUNCT',\n  'VERB',\n  'PUNCT',\n  'VERB',\n  'PRON',\n  'DET',\n  'PUNCT',\n  'PUNCT'],\n ['VERB',\n  'ADP',\n  'NOUN',\n  'PUNCT',\n  'NOUN',\n  'PUNCT',\n  'PUNCT',\n  'VERB',\n  'NOUN',\n  'PUNCT'],\n ['PART',\n  'NOUN',\n  'VERB',\n  'PUNCT',\n  'VERB',\n  'PUNCT',\n  'VERB',\n  'PUNCT',\n  'VERB',\n  'PUNCT',\n  'PRON',\n  'PART',\n  'ADV',\n  'VERB',\n  'PUNCT'],\n ['CCONJ', 'PRON', 'VERB', 'ADP', 'NOUN', 'ADV', 'VERB', 'NOUN', 'PUNCT'],\n ['PUNCT', 'VERB', 'NOUN', 'PUNCT'],\n ['NOUN',\n  'ADP',\n  'NOUN',\n  'PUNCT',\n  'ADP',\n  'NOUN',\n  'ADP',\n  'NOUN',\n  'PUNCT',\n  'ADV',\n  'VERB',\n  'ADP',\n  'PRON',\n  'PUNCT',\n  'VERB',\n  'PRON',\n  'ADP',\n  'NOUN',\n  'PUNCT',\n  'NOUN',\n  'VERB',\n  'NOUN',\n  'ADP',\n  'NOUN',\n  'PUNCT'],\n ['NOUN', 'ADJ', 'ADV', 'VERB', 'NOUN', 'ADP', 'NOUN', 'PUNCT'],\n ['PUNCT',\n  'ADJ',\n  'PUNCT',\n  'PART',\n  'PUNCT',\n  'ADJ',\n  'PUNCT',\n  'PUNCT',\n  'ADV',\n  'VERB',\n  'NOUN',\n  'PUNCT',\n  'VERB',\n  'ADP',\n  'NOUN',\n  'ADP',\n  'NOUN',\n  'PUNCT',\n  'VERB',\n  'DET',\n  'VERB',\n  'NOUN',\n  'PUNCT'],\n ['PRON',\n  'ADV',\n  'VERB',\n  'CCONJ',\n  'NOUN',\n  'PUNCT',\n  'CCONJ',\n  'NOUN',\n  'NOUN',\n  'PUNCT',\n  'CCONJ',\n  'NOUN',\n  'ADP',\n  'ADJ',\n  'NOUN',\n  'PUNCT',\n  'VERB',\n  'ADP',\n  'NOUN',\n  'PUNCT'],\n ['ADP',\n  'NOUN',\n  'VERB',\n  'PRON',\n  'PUNCT',\n  'VERB',\n  'ADP',\n  'DET',\n  'NOUN',\n  'PUNCT',\n  'ADV',\n  'VERB',\n  'NOUN',\n  'PUNCT',\n  'PUNCT',\n  'PUNCT',\n  'VERB',\n  'PUNCT',\n  'PUNCT',\n  'PUNCT',\n  'PUNCT'],\n ['VERB',\n  'PART',\n  'VERB',\n  'PUNCT',\n  'CCONJ',\n  'PRON',\n  'AUX',\n  'PRON',\n  None,\n  'PRON',\n  'PUNCT',\n  'DET',\n  'ADJ',\n  'PUNCT',\n  'PUNCT',\n  'PUNCT'],\n ['CCONJ',\n  'ADV',\n  'NUM',\n  'PUNCT',\n  'CCONJ',\n  'NOUN',\n  'CCONJ',\n  'NOUN',\n  'PUNCT',\n  'VERB',\n  'ADJ',\n  'ADJ',\n  'NOUN',\n  'PUNCT'],\n ['NOUN',\n  'VERB',\n  'ADP',\n  'DET',\n  'NOUN',\n  'ADP',\n  'NOUN',\n  'PUNCT',\n  'VERB',\n  'VERB',\n  'PUNCT',\n  'ADV',\n  'PRON',\n  'PUNCT'],\n ['SCONJ', 'PRON', 'VERB', 'PUNCT', 'NOUN', 'VERB', 'PUNCT'],\n ['CCONJ',\n  'ADV',\n  'ADV',\n  'PUNCT',\n  'ADP',\n  'ADJ',\n  'NOUN',\n  'NOUN',\n  'PUNCT',\n  'VERB',\n  'ADP',\n  'DET',\n  'NOUN',\n  'NOUN',\n  'PUNCT'],\n ['VERB',\n  'PRON',\n  'ADP',\n  'DET',\n  'NOUN',\n  'PUNCT',\n  'VERB',\n  'VERB',\n  'NOUN',\n  'PUNCT',\n  'ADP',\n  'ADJ',\n  'ADP',\n  'NOUN',\n  'ADJ',\n  'NOUN',\n  'PUNCT',\n  'VERB',\n  'VERB',\n  'NOUN',\n  'ADP',\n  'NOUN',\n  'PUNCT',\n  'NOUN',\n  'VERB',\n  'NOUN',\n  'ADV',\n  'PUNCT',\n  'NOUN',\n  'PUNCT',\n  'NOUN',\n  'PUNCT',\n  'NOUN',\n  'PUNCT'],\n ['ADP', 'NOUN', 'NOUN', 'NOUN', 'ADV', 'VERB', 'ADV', 'PUNCT'],\n ['NOUN', 'PUNCT'],\n ['NOUN', 'PUNCT'],\n ['NOUN', 'PUNCT'],\n ['ADV',\n  'PUNCT',\n  'ADP',\n  'NOUN',\n  'VERB',\n  'ADJ',\n  'PUNCT',\n  'VERB',\n  'NOUN',\n  'NOUN',\n  'NOUN',\n  'PUNCT'],\n ['VERB',\n  'NOUN',\n  'PUNCT',\n  'ADJ',\n  'PUNCT',\n  'ADJ',\n  'NOUN',\n  'PUNCT',\n  'NOUN',\n  'VERB',\n  'NOUN',\n  'PUNCT',\n  'VERB',\n  'VERB',\n  'NOUN',\n  'PUNCT'],\n ['ADP',\n  'NOUN',\n  'PUNCT',\n  'VERB',\n  'ADP',\n  'NOUN',\n  'PUNCT',\n  'NOUN',\n  'NOUN',\n  'ADV',\n  'VERB',\n  'PUNCT',\n  'VERB',\n  'PUNCT',\n  'VERB',\n  'PUNCT'],\n ['ADJ', 'NOUN', 'ADP', 'NOUN', 'PUNCT'],\n ['NOUN', 'VERB', 'PUNCT', 'VERB', 'NOUN', 'PUNCT'],\n ['CCONJ', 'VERB', 'NOUN', 'PUNCT', 'PUNCT', 'PUNCT'],\n ['CCONJ',\n  'NOUN',\n  'PART',\n  'VERB',\n  'CCONJ',\n  'VERB',\n  'ADP',\n  'ADJ',\n  'NOUN',\n  'PUNCT'],\n ['PUNCT', 'VERB', 'PUNCT'],\n ['VERB', 'PUNCT'],\n ['ADJ', 'VERB', 'PUNCT', 'VERB', 'NOUN', 'ADJ', 'NOUN', 'PROPN', 'PUNCT'],\n ['PUNCT', 'PRON', 'ADJ', 'PUNCT'],\n ['PRON',\n  'VERB',\n  'NOUN',\n  'PUNCT',\n  'NUM',\n  'NOUN',\n  'VERB',\n  'ADP',\n  'NOUN',\n  'NOUN',\n  'PUNCT',\n  'ADJ',\n  'VERB',\n  'PUNCT'],\n ['PRON',\n  'VERB',\n  'PUNCT',\n  'SCONJ',\n  'NOUN',\n  'DET',\n  'PUNCT',\n  'NOUN',\n  'VERB',\n  'NOUN',\n  'PUNCT',\n  'CCONJ',\n  'PRON',\n  'ADJ',\n  'VERB',\n  'ADP',\n  'DET',\n  'NOUN',\n  'PUNCT'],\n ['ADP',\n  'DET',\n  'NOUN',\n  'PRON',\n  'PART',\n  'VERB',\n  'CCONJ',\n  'ADP',\n  'NOUN',\n  'PUNCT',\n  'CCONJ',\n  'ADP',\n  'ADJ',\n  'NOUN',\n  'PUNCT'],\n ['DET',\n  'NOUN',\n  'DET',\n  'PUNCT',\n  'DET',\n  'ADJ',\n  'NOUN',\n  'VERB',\n  'ADP',\n  'DET',\n  'PUNCT',\n  'VERB',\n  'ADV',\n  'NOUN',\n  'PUNCT'],\n ['NOUN',\n  'PUNCT',\n  'ADV',\n  'PUNCT',\n  'ADV',\n  'NUM',\n  'NOUN',\n  'PUNCT',\n  'PUNCT',\n  'PUNCT'],\n ['PROPN',\n  'VERB',\n  'ADP',\n  'NOUN',\n  'ADJ',\n  'NOUN',\n  'PUNCT',\n  'DET',\n  'VERB',\n  'ADP',\n  'NOUN',\n  'VERB',\n  'PUNCT',\n  'PUNCT',\n  'VERB',\n  'NOUN',\n  'NOUN',\n  'ADP',\n  'PRON',\n  'ADV',\n  'PUNCT'],\n ['NOUN',\n  'ADV',\n  'VERB',\n  'ADP',\n  'NOUN',\n  'PUNCT',\n  'VERB',\n  'DET',\n  'VERB',\n  'NOUN',\n  'PUNCT',\n  'PRON',\n  'ADV',\n  'VERB',\n  'VERB',\n  'NOUN',\n  'PUNCT'],\n ['ADP',\n  'ADJ',\n  'NOUN',\n  'PRON',\n  'VERB',\n  'PUNCT',\n  'PRON',\n  'DET',\n  'NOUN',\n  'VERB',\n  'PROPN',\n  'DET',\n  'ADJ',\n  'NOUN',\n  'PUNCT',\n  'PRON',\n  'ADP',\n  'NUM',\n  'ADJ',\n  'NOUN',\n  'VERB',\n  'PRON',\n  'ADP',\n  'PROPN',\n  'ADP',\n  'NOUN',\n  'CCONJ',\n  'VERB',\n  'PUNCT'],\n ['ADP',\n  'DET',\n  'ADJ',\n  'NOUN',\n  'PUNCT',\n  'PRON',\n  'PRON',\n  'VERB',\n  'PUNCT',\n  'ADJ',\n  'NOUN',\n  'VERB',\n  'ADV',\n  'PUNCT',\n  'CCONJ',\n  'ADP',\n  'NOUN',\n  'VERB',\n  'ADJ',\n  'PUNCT',\n  'ADJ',\n  'NOUN',\n  'PUNCT',\n  'ADP',\n  'ADJ',\n  'NOUN',\n  'PUNCT',\n  'VERB',\n  'ADP',\n  'PRON',\n  'ADV',\n  'ADP',\n  'NOUN',\n  'PUNCT'],\n ['NOUN', 'VERB', 'NOUN', 'PUNCT'],\n ['ADP',\n  'NOUN',\n  'VERB',\n  'VERB',\n  'ADV',\n  'ADP',\n  'NOUN',\n  'NOUN',\n  'PUNCT',\n  'PRON',\n  'PRON',\n  'VERB',\n  'CCONJ',\n  'VERB',\n  'NOUN',\n  'PUNCT',\n  'SCONJ',\n  'VERB',\n  'VERB',\n  'NOUN',\n  'PUNCT'],\n ['ADV', 'PRON', 'VERB', 'PUNCT'],\n ['CCONJ',\n  'ADV',\n  'PART',\n  'ADP',\n  'NOUN',\n  'ADP',\n  'NOUN',\n  'VERB',\n  'ADJ',\n  'NOUN',\n  'PUNCT'],\n ['NUM',\n  'ADP',\n  'NOUN',\n  'PUNCT',\n  'VERB',\n  'NOUN',\n  'PUNCT',\n  'PART',\n  'VERB',\n  'CCONJ',\n  'VERB',\n  'ADV',\n  'ADV',\n  'ADP',\n  'NOUN',\n  'PUNCT',\n  'ADP',\n  'PRON',\n  'PUNCT',\n  'VERB',\n  'ADP',\n  'ADJ',\n  'NOUN',\n  'PUNCT',\n  'VERB',\n  'VERB',\n  'NOUN',\n  'NOUN',\n  'PUNCT'],\n ['CCONJ',\n  'VERB',\n  'ADV',\n  'VERB',\n  'NOUN',\n  'PUNCT',\n  'CCONJ',\n  'NOUN',\n  'VERB',\n  'ADP',\n  'NOUN',\n  'PUNCT',\n  'PART',\n  'VERB',\n  'PUNCT',\n  'PRON',\n  'VERB',\n  'PRON',\n  'NOUN',\n  'NOUN',\n  'PUNCT'],\n ['VERB',\n  'ADP',\n  'NOUN',\n  'PUNCT',\n  'VERB',\n  'ADP',\n  'PRON',\n  'NOUN',\n  'PUNCT',\n  'PRON',\n  'VERB',\n  'NOUN',\n  'PUNCT',\n  'VERB',\n  'PUNCT',\n  'PART',\n  'VERB',\n  'PUNCT',\n  'ADV',\n  'VERB',\n  'ADP',\n  'PRON',\n  'PUNCT'],\n ['ADV',\n  'PUNCT',\n  'VERB',\n  'PUNCT',\n  'VERB',\n  'NOUN',\n  'PUNCT',\n  'VERB',\n  'VERB',\n  'NOUN',\n  'PUNCT',\n  'CCONJ',\n  'NOUN',\n  'PART',\n  'VERB',\n  'ADV',\n  'PUNCT',\n  'VERB',\n  'NOUN',\n  'NOUN',\n  'PUNCT'],\n ['ADV', 'VERB', 'ADV', 'NOUN', 'PUNCT'],\n ['NOUN',\n  'PUNCT',\n  'VERB',\n  'ADP',\n  'NOUN',\n  'PUNCT',\n  'VERB',\n  'PUNCT',\n  'VERB',\n  'CCONJ',\n  'VERB',\n  'PUNCT'],\n ['CCONJ', 'ADV', 'NUM', 'NOUN', 'VERB', 'CCONJ', 'VERB', 'PUNCT'],\n ['PUNCT', 'CCONJ', 'PART', 'VERB', 'PUNCT', 'PUNCT', 'PUNCT'],\n ['VERB', 'PUNCT'],\n ['VERB', 'PUNCT', 'PRON', 'VERB', 'PUNCT', 'PUNCT', 'PUNCT'],\n ['ADV',\n  'PUNCT',\n  'VERB',\n  'PUNCT',\n  'ADP',\n  'NOUN',\n  'ADP',\n  'NOUN',\n  'VERB',\n  'PROPN',\n  'PUNCT'],\n ['ADP',\n  'DET',\n  'PUNCT',\n  'PRON',\n  'VERB',\n  'ADP',\n  'NOUN',\n  'PUNCT',\n  'CCONJ',\n  'DET',\n  'PUNCT',\n  'PRON',\n  'VERB',\n  'ADV',\n  'PRON',\n  'PUNCT',\n  'SCONJ',\n  'VERB',\n  'PUNCT',\n  'PRON',\n  'DET',\n  'VERB',\n  'DET',\n  'ADJ',\n  'NOUN',\n  'PUNCT'],\n ['CCONJ',\n  'ADP',\n  'NOUN',\n  'PRON',\n  'SCONJ',\n  'PRON',\n  'VERB',\n  'PUNCT',\n  'NOUN',\n  'VERB',\n  'ADP',\n  'NOUN',\n  'PUNCT',\n  'VERB',\n  'NOUN',\n  'PUNCT',\n  'PRON',\n  'ADP',\n  'DET',\n  'NOUN',\n  'VERB',\n  'DET',\n  'NOUN',\n  'NOUN',\n  'PUNCT'],\n ['VERB',\n  'PRON',\n  'NOUN',\n  'ADP',\n  'NOUN',\n  'NOUN',\n  'PUNCT',\n  'PROPN',\n  'VERB',\n  'ADP',\n  'NOUN',\n  'PUNCT',\n  'SCONJ',\n  'VERB',\n  'PUNCT',\n  'ADV',\n  'VERB',\n  'NOUN',\n  'PUNCT',\n  'ADJ',\n  'ADP',\n  'PRON',\n  'PUNCT',\n  'ADV',\n  'PUNCT',\n  'VERB',\n  'ADP',\n  'DET',\n  'NOUN',\n  'PUNCT',\n  'PRON',\n  'VERB',\n  'PUNCT'],\n ['CCONJ',\n  'PART',\n  'PRON',\n  'ADP',\n  'DET',\n  'NOUN',\n  'PART',\n  'ADV',\n  'PART',\n  'VERB',\n  'PUNCT',\n  'PRON',\n  'ADV',\n  'VERB',\n  'PUNCT',\n  'CCONJ',\n  'ADV',\n  'VERB',\n  'ADV',\n  'ADJ',\n  'PUNCT',\n  'ADJ',\n  'PUNCT',\n  'ADJ',\n  'PUNCT',\n  'VERB',\n  'NOUN',\n  'ADP',\n  'NOUN',\n  'PUNCT',\n  'NOUN',\n  'NOUN',\n  'VERB',\n  'ADP',\n  'PRON',\n  'PUNCT',\n  'PRON',\n  'VERB',\n  'PRON',\n  'PUNCT'],\n ['ADP',\n  'DET',\n  'NOUN',\n  'PUNCT',\n  'SCONJ',\n  'PROPN',\n  'VERB',\n  'NOUN',\n  'PUNCT',\n  'PRON',\n  'VERB',\n  'PUNCT',\n  'SCONJ',\n  'ADJ',\n  'ADJ',\n  'PUNCT',\n  'PRON',\n  'PRON',\n  'VERB',\n  'PUNCT',\n  'VERB',\n  'PUNCT',\n  'NOUN',\n  'VERB',\n  'NOUN',\n  'PUNCT'],\n ['CCONJ',\n  'VERB',\n  'PRON',\n  'ADV',\n  'PUNCT',\n  'ADP',\n  'NOUN',\n  'PUNCT',\n  'SCONJ',\n  'NUM',\n  'NOUN',\n  'VERB',\n  'ADP',\n  'NOUN',\n  'PUNCT',\n  'CCONJ',\n  'ADJ',\n  'NOUN',\n  'VERB',\n  'ADP',\n  'ADJ',\n  'NOUN',\n  'PUNCT'],\n ['VERB', 'NOUN', 'ADV', 'PUNCT', 'VERB', 'ADJ', 'NOUN', 'PUNCT'],\n ['NOUN',\n  'VERB',\n  'PRON',\n  'CCONJ',\n  'ADP',\n  'ADJ',\n  'NOUN',\n  'PUNCT',\n  'VERB',\n  'NOUN',\n  'PUNCT',\n  'VERB',\n  'ADJ',\n  'PUNCT',\n  'ADJ',\n  'NOUN',\n  'PUNCT',\n  'VERB',\n  'ADV',\n  'PUNCT'],\n ['CCONJ',\n  'PROPN',\n  'ADV',\n  'VERB',\n  'PUNCT',\n  'SCONJ',\n  'NOUN',\n  'NOUN',\n  'ADP',\n  'NUM',\n  'NOUN',\n  'NOUN',\n  'VERB',\n  'ADV',\n  'VERB',\n  'ADJ',\n  'NOUN',\n  'PUNCT'],\n ['PRON',\n  'VERB',\n  'ADV',\n  'PUNCT',\n  'ADV',\n  'PRON',\n  'PART',\n  'VERB',\n  'AUX',\n  'ADP',\n  'NOUN',\n  'VERB',\n  'ADJ',\n  'NOUN',\n  'PUNCT'],\n ['CCONJ', 'ADV', 'DET', 'NOUN', 'ADJ', 'AUX', 'PRON', 'ADV', 'PUNCT'],\n ['PROPN',\n  'PART',\n  'AUX',\n  'ADJ',\n  'PUNCT',\n  'CCONJ',\n  'PUNCT',\n  'SCONJ',\n  'PRON',\n  'VERB',\n  'VERB',\n  'NOUN',\n  'PUNCT',\n  'NOUN',\n  'DET',\n  'VERB',\n  'PRON',\n  'ADJ',\n  'PUNCT'],\n ['CCONJ',\n  'ADP',\n  'PRON',\n  'ADV',\n  'VERB',\n  'PRON',\n  'PUNCT',\n  'SCONJ',\n  'PART',\n  'ADV',\n  'ADJ',\n  'NOUN',\n  'VERB',\n  'NOUN',\n  'PUNCT'],\n ['ADJ', 'NOUN', 'NOUN', 'VERB', 'NOUN', 'ADP', 'DET', 'NOUN', 'PUNCT'],\n ['PROPN', 'VERB', 'PRON', 'NOUN', 'PUNCT'],\n ['CCONJ',\n  'SCONJ',\n  'VERB',\n  'ADP',\n  'NOUN',\n  'NOUN',\n  'PUNCT',\n  'VERB',\n  'VERB',\n  'PUNCT',\n  'ADP',\n  'NOUN',\n  'ADP',\n  'NOUN',\n  'NOUN',\n  'VERB',\n  'ADJ',\n  'NOUN',\n  'PUNCT',\n  'CCONJ',\n  'NOUN',\n  'ADP',\n  'PRON',\n  'VERB',\n  'ADV',\n  'CCONJ',\n  'ADV',\n  'PUNCT'],\n ['PRON',\n  'ADP',\n  'NOUN',\n  'ADV',\n  'VERB',\n  'NUM',\n  'NOUN',\n  'PUNCT',\n  'CCONJ',\n  'NOUN',\n  'NOUN',\n  'VERB',\n  'NOUN',\n  'VERB',\n  'NOUN',\n  'PUNCT'],\n ['VERB',\n  'ADP',\n  'NOUN',\n  'NOUN',\n  'PUNCT',\n  'SCONJ',\n  'ADP',\n  'NOUN',\n  'PUNCT',\n  'PROPN',\n  'VERB',\n  'ADP',\n  'NOUN',\n  'ADJ',\n  'NOUN',\n  'PUNCT'],\n ['ADP',\n  'VERB',\n  'PUNCT',\n  'ADV',\n  'VERB',\n  'NOUN',\n  'VERB',\n  'ADP',\n  'NOUN',\n  'NOUN',\n  'PUNCT',\n  'VERB',\n  'ADP',\n  'PRON',\n  'PUNCT',\n  'VERB',\n  'ADP',\n  'NOUN',\n  'PUNCT'],\n ['NUM', 'ADP', 'NOUN', 'VERB', 'ADJ', 'NOUN', 'PUNCT'],\n ['PUNCT', 'PROPN', 'PUNCT', 'PUNCT', 'VERB', 'PROPN', 'PUNCT'],\n ['PUNCT',\n  'CCONJ',\n  'ADV',\n  'PART',\n  'DET',\n  'NOUN',\n  'NOUN',\n  'PUNCT',\n  'VERB',\n  'ADP',\n  'NOUN',\n  'PUNCT',\n  'VERB',\n  'PUNCT',\n  'VERB',\n  'ADV',\n  'PUNCT',\n  'ADV',\n  'VERB',\n  'NOUN',\n  'PUNCT'],\n ['NOUN',\n  'NOUN',\n  'ADV',\n  'VERB',\n  'ADP',\n  'NOUN',\n  'PUNCT',\n  'VERB',\n  'ADP',\n  'PRON',\n  'PUNCT',\n  'ADV',\n  'PRON',\n  'PART',\n  'VERB',\n  'PUNCT'],\n ['CCONJ', 'PROPN', 'VERB', 'PUNCT', 'NOUN', 'ADJ', 'PUNCT'],\n ['PRON',\n  'VERB',\n  'ADP',\n  'NOUN',\n  'PUNCT',\n  'PRON',\n  'VERB',\n  'ADP',\n  'NOUN',\n  'NOUN',\n  'NOUN',\n  'CCONJ',\n  'PUNCT',\n  'VERB',\n  'NOUN',\n  'PUNCT',\n  'VERB',\n  'ADP',\n  'DET',\n  'NOUN',\n  'PUNCT',\n  'VERB',\n  'ADP',\n  'NOUN',\n  'PUNCT',\n  'SCONJ',\n  'VERB',\n  'NOUN',\n  'PUNCT',\n  'VERB',\n  'NOUN',\n  'PUNCT'],\n ['ADV', 'VERB', 'DET', 'NOUN', 'PRON', 'PUNCT'],\n ['PUNCT',\n  'INTJ',\n  'PUNCT',\n  'NOUN',\n  'PUNCT',\n  'NOUN',\n  'PUNCT',\n  'PUNCT',\n  'ADV',\n  'VERB',\n  'PRON',\n  'PUNCT',\n  'VERB',\n  'NOUN',\n  'NOUN',\n  'PUNCT',\n  'ADV',\n  'VERB',\n  'ADP',\n  'DET',\n  'ADJ',\n  'NOUN',\n  'PUNCT'],\n ['PUNCT', 'PRON', 'VERB', 'PUNCT'],\n ['NOUN', 'VERB', 'ADV', 'PUNCT'],\n ['VERB',\n  'PRON',\n  'ADP',\n  'PRON',\n  'ADP',\n  'NOUN',\n  'NOUN',\n  'PUNCT',\n  'VERB',\n  'DET',\n  'NOUN',\n  'ADP',\n  'DET',\n  'ADV',\n  'VERB',\n  'ADP',\n  'NOUN',\n  'PUNCT',\n  'VERB',\n  'ADP',\n  'NOUN',\n  'NOUN',\n  'PUNCT',\n  'PROPN',\n  'VERB',\n  'PUNCT',\n  'PUNCT',\n  'VERB',\n  'NOUN',\n  'PUNCT',\n  'NOUN',\n  'VERB',\n  'ADP',\n  'NOUN',\n  'PUNCT'],\n ['ADP', 'NOUN', 'PUNCT'],\n ['PROPN', 'VERB', 'PUNCT'],\n ['PRON', 'VERB', 'PUNCT'],\n ['NOUN',\n  'PUNCT',\n  'ADV',\n  'VERB',\n  'NOUN',\n  'PUNCT',\n  'VERB',\n  'PUNCT',\n  'SCONJ',\n  'VERB',\n  'PUNCT'],\n ['PUNCT', 'NOUN', 'NOUN', None, 'ADP', 'PRON', 'PUNCT'],\n ['ADP', 'NOUN', 'PUNCT'],\n ['ADJ', 'PUNCT'],\n ['VERB', 'PUNCT'],\n ['NOUN', 'VERB', 'ADV', 'PUNCT'],\n ['CCONJ',\n  'PUNCT',\n  'VERB',\n  'NOUN',\n  'NOUN',\n  'PUNCT',\n  'PROPN',\n  'VERB',\n  'ADP',\n  'NOUN',\n  'PUNCT'],\n ['ADV',\n  'PUNCT',\n  'ADV',\n  'PUNCT',\n  'ADJ',\n  'ADV',\n  'PUNCT',\n  'VERB',\n  'NOUN',\n  'PUNCT',\n  'VERB',\n  'ADP',\n  'NOUN',\n  'PRON',\n  'ADJ',\n  'CCONJ',\n  'ADJ',\n  'PUNCT'],\n ['VERB', 'PUNCT'],\n ['ADV',\n  'NUM',\n  'VERB',\n  'ADP',\n  'NOUN',\n  'PUNCT',\n  'ADV',\n  'PUNCT',\n  'ADV',\n  'VERB',\n  'NOUN',\n  'PUNCT',\n  'VERB',\n  'NOUN',\n  'ADP',\n  'NOUN',\n  'PUNCT'],\n ['VERB',\n  'ADP',\n  'NOUN',\n  'PUNCT',\n  'ADP',\n  'NOUN',\n  'PRON',\n  'ADJ',\n  'NOUN',\n  'VERB',\n  'PRON',\n  'PUNCT'],\n ['PROPN', 'VERB', 'NOUN', 'PUNCT'],\n ['ADV', 'PUNCT', 'ADV', 'VERB', 'ADJ', 'NOUN', 'NOUN', 'PUNCT'],\n ['PRON',\n  'VERB',\n  'NOUN',\n  'ADP',\n  'NOUN',\n  'PUNCT',\n  'VERB',\n  'NOUN',\n  'NOUN',\n  'PUNCT',\n  'VERB',\n  'NOUN',\n  'ADP',\n  'PRON',\n  'PUNCT'],\n ['CCONJ',\n  'VERB',\n  'DET',\n  'NOUN',\n  'PUNCT',\n  'ADV',\n  'VERB',\n  'NOUN',\n  'VERB',\n  'ADP',\n  'DET',\n  'NOUN',\n  'PUNCT'],\n ['ADV',\n  'PRON',\n  'VERB',\n  'NOUN',\n  'CCONJ',\n  'NOUN',\n  'NOUN',\n  'NOUN',\n  'PUNCT',\n  'VERB',\n  'ADP',\n  'PRON',\n  'ADV',\n  'PUNCT'],\n ['VERB', 'ADP', 'NOUN', 'PUNCT'],\n ['PROPN', 'ADP', 'NOUN', 'VERB', 'ADV', 'PUNCT'],\n ['PUNCT', 'NOUN', 'PUNCT', 'PUNCT', 'VERB', 'PROPN', 'PUNCT'],\n ['PUNCT',\n  'ADJ',\n  'NOUN',\n  'PUNCT',\n  'VERB',\n  'ADJ',\n  'NOUN',\n  'PUNCT',\n  'ADV',\n  'ADJ',\n  'NOUN',\n  'VERB',\n  'NOUN',\n  'PUNCT'],\n ['PROPN', 'VERB', 'PRON', 'NOUN', 'PUNCT'],\n ['ADV',\n  'ADP',\n  'NOUN',\n  'PUNCT',\n  'VERB',\n  'NOUN',\n  'PUNCT',\n  'VERB',\n  'ADJ',\n  'NOUN',\n  'PUNCT'],\n ['NUM', 'NOUN', 'VERB', 'PUNCT'],\n ['PROPN',\n  'VERB',\n  'PROPN',\n  'ADV',\n  'PUNCT',\n  'ADJ',\n  'ADV',\n  'VERB',\n  'ADP',\n  'NOUN',\n  'NOUN',\n  'PUNCT'],\n ['PRON', 'VERB', 'PRON', 'PUNCT'],\n ['PROPN', 'PART', 'VERB', 'NOUN', 'PUNCT'],\n ['VERB',\n  'PROPN',\n  'PUNCT',\n  'VERB',\n  'NOUN',\n  'ADP',\n  'NOUN',\n  'PUNCT',\n  'PUNCT',\n  'VERB',\n  'PUNCT'],\n ['NOUN', 'VERB', 'PUNCT'],\n ['ADP', 'NOUN', 'PUNCT'],\n ['PRON',\n  'VERB',\n  'ADV',\n  'PUNCT',\n  'SCONJ',\n  'NOUN',\n  'VERB',\n  'ADP',\n  'NOUN',\n  'PUNCT'],\n ['PROPN', 'VERB', 'NOUN', 'PUNCT'],\n ['PRON',\n  'VERB',\n  'ADV',\n  'NOUN',\n  'PUNCT',\n  'VERB',\n  'PRON',\n  'NOUN',\n  'ADP',\n  'NOUN',\n  'PUNCT'],\n ['CCONJ', 'PRON', 'VERB', 'NOUN', 'PROPN', 'PUNCT'],\n ['PUNCT', 'ADV', 'PUNCT'],\n ['PROPN', 'VERB', 'PUNCT'],\n ['ADV',\n  'VERB',\n  'PRON',\n  'ADP',\n  'NOUN',\n  'PUNCT',\n  'PUNCT',\n  'VERB',\n  'NOUN',\n  'PUNCT'],\n ['NOUN', 'PUNCT', 'NOUN', 'PUNCT', 'PRON', 'VERB', 'PUNCT'],\n ['PART', 'VERB', 'PUNCT', 'SCONJ', 'PART', 'VERB', 'NOUN', 'PUNCT'],\n ['ADJ', 'PUNCT'],\n ['VERB', 'PUNCT'],\n ['NUM', 'NOUN', 'VERB', 'ADP', 'PRON', 'PUNCT'],\n ['PROPN', 'VERB', 'ADP', 'NOUN', 'PUNCT'],\n ['ADP', 'NOUN', 'NOUN', 'NUM', 'ADJ', 'NOUN', 'PUNCT'],\n ['PRON', 'VERB', 'ADP', 'PRON', 'PUNCT'],\n ['CCONJ',\n  'ADJ',\n  'PUNCT',\n  'VERB',\n  'PUNCT',\n  'ADP',\n  'ADJ',\n  'NOUN',\n  'PUNCT',\n  'VERB',\n  'DET',\n  'NOUN',\n  'NOUN',\n  'PUNCT'],\n ['VERB', 'ADJ', 'NOUN', 'PUNCT'],\n ['NOUN', 'PUNCT'],\n ['ADJ', 'NOUN', 'PUNCT'],\n ['NOUN', 'VERB', 'ADP', 'PRON', 'NOUN', 'CCONJ', 'VERB', 'PUNCT'],\n ['PUNCT', 'NOUN', 'PUNCT', 'PUNCT', 'VERB', 'PROPN', 'PUNCT'],\n ['PUNCT', 'NUM', 'PUNCT', 'PRON', 'VERB', 'NOUN', 'NOUN', 'PUNCT'],\n ['NOUN',\n  'ADP',\n  'NOUN',\n  'PUNCT',\n  'VERB',\n  'NOUN',\n  'PUNCT',\n  'VERB',\n  'ADP',\n  'NOUN',\n  'CCONJ',\n  'VERB',\n  'ADP',\n  'NOUN',\n  'PUNCT'],\n ['PUNCT', 'VERB', 'ADP', 'NOUN', 'PUNCT', 'PROPN', 'VERB', 'ADV', 'PUNCT'],\n ['NUM',\n  'NOUN',\n  'ADV',\n  'VERB',\n  'ADP',\n  'NOUN',\n  'PUNCT',\n  'CCONJ',\n  'PART',\n  'ADJ',\n  'VERB',\n  'ADV',\n  'NOUN',\n  'PUNCT'],\n ['ADV', 'PUNCT'],\n ['ADV', 'PUNCT'],\n ['PUNCT', 'NOUN', 'NOUN', 'PUNCT'],\n ['NOUN', 'NOUN', 'PUNCT'],\n ['NOUN', 'VERB', 'PRON', 'ADP', 'NOUN', 'ADJ', 'NOUN', 'PUNCT'],\n ['ADP',\n  'NOUN',\n  'ADP',\n  'NOUN',\n  'VERB',\n  'PUNCT',\n  'CCONJ',\n  'ADV',\n  'PART',\n  'ADV',\n  'CCONJ',\n  'ADV',\n  'VERB',\n  'ADP',\n  'NOUN',\n  'PUNCT'],\n ['PUNCT', 'PROPN', 'ADV', 'PUNCT'],\n ['PUNCT',\n  'NOUN',\n  'NOUN',\n  'VERB',\n  'PUNCT',\n  'VERB',\n  'NOUN',\n  'PUNCT',\n  'ADV',\n  'VERB',\n  'NOUN',\n  'PUNCT',\n  'VERB',\n  'PROPN',\n  'PUNCT'],\n ['PUNCT',\n  'NOUN',\n  'NOUN',\n  'AUX',\n  'ADV',\n  'ADV',\n  'ADJ',\n  'PUNCT',\n  'VERB',\n  'ADP',\n  'NOUN',\n  'PUNCT'],\n ['PUNCT', 'VERB', 'ADV', 'PUNCT'],\n ['VERB', 'PROPN', 'PUNCT', 'ADV', 'PUNCT'],\n ['SCONJ', 'ADJ', 'ADV', 'PUNCT'],\n ['ADV', 'PUNCT'],\n ['SCONJ', 'NOUN', 'VERB', 'PUNCT'],\n ['PRON',\n  'VERB',\n  'PUNCT',\n  'SCONJ',\n  'ADV',\n  'ADP',\n  'VERB',\n  'NOUN',\n  'VERB',\n  'ADV',\n  'PROPN',\n  'PUNCT'],\n ['VERB', 'PUNCT', 'VERB', 'PUNCT', 'NOUN', 'NOUN', 'PUNCT'],\n ['NOUN', 'PUNCT'],\n ['CCONJ', 'PUNCT', 'NOUN', 'NOUN', 'PUNCT'],\n ['VERB', 'ADP', 'NOUN', 'NOUN', 'PUNCT'],\n ['ADV',\n  'ADP',\n  'NOUN',\n  'NOUN',\n  'PRON',\n  'ADJ',\n  'PUNCT',\n  'VERB',\n  'ADP',\n  'NOUN',\n  'PUNCT',\n  'VERB',\n  'ADV',\n  'ADP',\n  'PROPN',\n  'PUNCT'],\n ['PRON', 'VERB', 'ADV', 'PUNCT'],\n ['PROPN', 'PUNCT'],\n ['NOUN', 'NOUN', 'NOUN', 'ADJ', 'NOUN', 'PUNCT'],\n ['ADJ', 'PUNCT', 'ADV', 'ADJ', 'NOUN', 'PUNCT'],\n ['VERB', 'PUNCT', 'ADJ', 'ADP', 'NOUN', 'ADJ', 'NOUN', 'PUNCT'],\n ['PUNCT',\n  'NOUN',\n  'NOUN',\n  'PUNCT',\n  'PUNCT',\n  'VERB',\n  'PUNCT',\n  'VERB',\n  'PROPN',\n  'PUNCT',\n  'VERB',\n  'ADP',\n  'ADJ',\n  'NOUN',\n  'PUNCT'],\n ['PUNCT', 'VERB', 'PUNCT', 'ADP', 'NOUN', 'PUNCT'],\n ['PUNCT', 'ADP', 'NUM', 'PUNCT'],\n ['PUNCT', 'PROPN', 'VERB', 'ADP', 'NOUN', 'NOUN', 'PUNCT'],\n ['PUNCT', 'VERB', 'PUNCT'],\n ['ADJ', 'NOUN', 'ADV', 'VERB', 'ADP', 'NOUN', 'PUNCT'],\n ['PROPN', 'VERB', 'PUNCT'],\n ['ADP',\n  'ADJ',\n  'NOUN',\n  'PUNCT',\n  'ADJ',\n  'ADP',\n  'DET',\n  'ADJ',\n  'NOUN',\n  'ADJ',\n  'NOUN',\n  'PUNCT'],\n ['PROPN', 'ADV', 'VERB', 'ADP', 'PRON', 'PUNCT'],\n ['PRON',\n  'ADV',\n  'PRON',\n  'PART',\n  'VERB',\n  'VERB',\n  'PUNCT',\n  'SCONJ',\n  'PROPN',\n  'VERB',\n  'ADJ',\n  'PUNCT'],\n ['PUNCT',\n  'VERB',\n  'PUNCT',\n  'NOUN',\n  'NOUN',\n  'PUNCT',\n  'PUNCT',\n  'VERB',\n  'PRON',\n  'PUNCT',\n  'ADV',\n  'VERB',\n  'NOUN',\n  'VERB',\n  'PRON',\n  'PUNCT',\n  'PRON',\n  'ADJ',\n  'ADJ',\n  'PUNCT'],\n ['PUNCT', 'ADP', 'NOUN', 'ADV', 'VERB', 'PUNCT'],\n ['PUNCT',\n  'VERB',\n  'PUNCT',\n  'PUNCT',\n  'VERB',\n  'PROPN',\n  'PUNCT',\n  'CCONJ',\n  'PRON',\n  'ADJ',\n  'AUX',\n  'ADV',\n  'VERB',\n  'ADP',\n  'DET',\n  'ADJ',\n  'CCONJ',\n  'PUNCT',\n  'ADV',\n  'PUNCT',\n  'ADJ',\n  'NOUN',\n  'PUNCT'],\n ['PUNCT', 'CCONJ', 'NOUN', 'PUNCT', 'PUNCT'],\n ['ADV',\n  'NUM',\n  'NOUN',\n  'PUNCT',\n  'VERB',\n  'PUNCT',\n  'ADV',\n  'VERB',\n  'ADJ',\n  'ADJ',\n  'NOUN',\n  'PUNCT'],\n ['PRON',\n  'ADV',\n  'VERB',\n  'ADP',\n  'ADJ',\n  'NOUN',\n  'PUNCT',\n  'ADV',\n  'VERB',\n  'ADV',\n  'ADV',\n  'PUNCT'],\n ['PROPN',\n  'VERB',\n  'ADP',\n  'NOUN',\n  'NOUN',\n  'PUNCT',\n  'VERB',\n  'NOUN',\n  'PUNCT',\n  'PUNCT',\n  'ADP',\n  'PRON',\n  'PUNCT',\n  'PUNCT',\n  'PUNCT'],\n ['NOUN', 'DET', 'VERB', 'NOUN', 'NOUN', 'PUNCT'],\n ['VERB',\n  'NOUN',\n  'NOUN',\n  'PUNCT',\n  'PROPN',\n  'VERB',\n  'PUNCT',\n  'SCONJ',\n  'PROPN',\n  'VERB',\n  'ADJ',\n  'NOUN',\n  'PUNCT'],\n ['CCONJ',\n  'ADP',\n  'ADJ',\n  'NOUN',\n  'PUNCT',\n  'ADP',\n  'ADJ',\n  'ADJ',\n  'NOUN',\n  'PRON',\n  'VERB',\n  'ADP',\n  'NOUN',\n  'ADJ',\n  'NOUN',\n  'ADP',\n  'NOUN',\n  'PUNCT'],\n ['ADP',\n  'NOUN',\n  'NOUN',\n  'PUNCT',\n  'VERB',\n  'ADP',\n  'NOUN',\n  'NOUN',\n  'PUNCT',\n  'ADV',\n  'VERB',\n  'NOUN',\n  'PUNCT',\n  'PRON',\n  'PART',\n  'ADV',\n  'VERB',\n  'NOUN',\n  'PUNCT'],\n ['ADV', 'PRON', 'VERB', 'PUNCT', 'VERB', 'PRON', 'PUNCT'],\n ['VERB',\n  'ADV',\n  'VERB',\n  'ADJ',\n  'CCONJ',\n  'ADJ',\n  'NOUN',\n  'PUNCT',\n  'VERB',\n  'ADJ',\n  'PUNCT',\n  'CCONJ',\n  'ADV',\n  'PART',\n  'ADJ',\n  'NOUN',\n  'CCONJ',\n  'NOUN',\n  'VERB',\n  'ADP',\n  'NOUN',\n  'PUNCT'],\n ['ADP', 'NOUN', 'NOUN', 'NOUN', 'VERB', 'ADP', 'ADJ', 'ADJ', 'NOUN', 'PUNCT'],\n ['PROPN',\n  'VERB',\n  'NOUN',\n  'PUNCT',\n  'VERB',\n  'NUM',\n  'PUNCT',\n  'PUNCT',\n  'PART',\n  'VERB',\n  'PUNCT',\n  'PUNCT',\n  'PUNCT',\n  'CCONJ',\n  'PRON',\n  'PUNCT',\n  'VERB',\n  'ADP',\n  'NOUN',\n  'PUNCT',\n  'VERB',\n  'ADV',\n  'PUNCT',\n  'ADP',\n  'NOUN',\n  'NOUN',\n  'PUNCT'],\n ['PUNCT', 'ADV', 'ADP', 'ADJ', 'NOUN', 'NOUN', 'VERB', 'PROPN', 'PUNCT'],\n ['PRON',\n  'VERB',\n  'ADV',\n  'PUNCT',\n  'NOUN',\n  'VERB',\n  'ADJ',\n  'NOUN',\n  'ADP',\n  'NOUN',\n  'CCONJ',\n  'NOUN',\n  'PUNCT',\n  'VERB',\n  'ADP',\n  'PRON',\n  'PUNCT',\n  'VERB',\n  'NOUN',\n  'PUNCT',\n  'NOUN',\n  'VERB',\n  'ADP',\n  'NOUN',\n  'PUNCT'],\n ['PRON',\n  'ADV',\n  'PART',\n  'VERB',\n  'ADV',\n  'PUNCT',\n  'ADP',\n  'NOUN',\n  'NOUN',\n  'VERB',\n  'ADP',\n  'NOUN',\n  'VERB',\n  'NOUN',\n  'PUNCT'],\n ['ADJ',\n  'NOUN',\n  'PROPN',\n  'VERB',\n  'ADP',\n  'PRON',\n  'NOUN',\n  'PUNCT',\n  'PART',\n  'VERB',\n  'ADP',\n  'DET',\n  'ADJ',\n  'NOUN',\n  'PUNCT'],\n ['ADJ',\n  'NOUN',\n  'ADJ',\n  'NOUN',\n  'PUNCT',\n  'ADJ',\n  'ADP',\n  'NOUN',\n  'PUNCT',\n  'VERB',\n  'ADP',\n  'NOUN',\n  'PUNCT'],\n ['VERB',\n  'PUNCT',\n  'SCONJ',\n  'NOUN',\n  'PART',\n  'VERB',\n  'PUNCT',\n  'PRON',\n  'VERB',\n  'NOUN',\n  'ADP',\n  'NOUN',\n  'PUNCT'],\n ['ADP', 'ADJ', 'ADJ', 'NOUN', 'NOUN', 'VERB', 'NOUN', 'PUNCT'],\n ['PRON', 'VERB', 'PUNCT', 'VERB', 'NOUN', 'PUNCT'],\n ['NOUN', 'VERB', 'ADP', 'NOUN', 'PUNCT', 'VERB', 'ADP', 'NOUN', 'PUNCT'],\n ['VERB', 'ADP', 'NOUN', 'PUNCT', 'PRON', 'VERB', 'ADJ', 'NOUN', 'PUNCT'],\n ['ADP',\n  'DET',\n  'ADJ',\n  'PUNCT',\n  'ADJ',\n  'ADP',\n  'NOUN',\n  'NOUN',\n  'ADP',\n  'NOUN',\n  'VERB',\n  'NOUN',\n  'PUNCT'],\n ['NOUN',\n  'ADP',\n  'DET',\n  'NOUN',\n  'VERB',\n  'PRON',\n  'NOUN',\n  'NOUN',\n  'ADP',\n  'NOUN',\n  'PUNCT',\n  'SCONJ',\n  'VERB',\n  'NOUN',\n  'PUNCT'],\n ['PUNCT', 'ADV', 'PUNCT'],\n ['ADV',\n  'PUNCT',\n  'PUNCT',\n  'VERB',\n  'PROPN',\n  'PUNCT',\n  'NOUN',\n  'NOUN',\n  'VERB',\n  'ADP',\n  'NOUN',\n  'PUNCT'],\n ['PRON', 'VERB', 'PUNCT', 'SCONJ', 'ADP', 'NOUN', 'VERB', 'NOUN', 'PUNCT'],\n ['VERB',\n  'NOUN',\n  'PUNCT',\n  'PRON',\n  'VERB',\n  'PUNCT',\n  'ADV',\n  'ADJ',\n  'ADP',\n  'NOUN',\n  'PUNCT'],\n ['PRON',\n  'VERB',\n  'PUNCT',\n  'VERB',\n  'ADP',\n  'PRON',\n  'NOUN',\n  'ADJ',\n  'NOUN',\n  'PUNCT'],\n ['ADJ', 'NOUN', 'VERB', 'ADP', 'NOUN', 'NOUN', 'PUNCT'],\n ['PUNCT',\n  'ADV',\n  'PUNCT',\n  'PUNCT',\n  'VERB',\n  'PROPN',\n  'PUNCT',\n  'CCONJ',\n  'ADJ',\n  'ADV',\n  'VERB',\n  'ADP',\n  'NUM',\n  'NOUN',\n  'NOUN',\n  'PUNCT',\n  'VERB',\n  'ADP',\n  'ADJ',\n  'NOUN',\n  'PUNCT'],\n ['NOUN', 'VERB', 'PUNCT', 'ADV', 'VERB', 'DET', 'NOUN', 'NOUN', 'PUNCT'],\n ['ADP', 'ADJ', 'NOUN', 'VERB', 'NOUN', 'PUNCT'],\n ['ADJ',\n  'PUNCT',\n  'ADJ',\n  'NOUN',\n  'VERB',\n  'PROPN',\n  'ADP',\n  'NOUN',\n  'PUNCT',\n  'CCONJ',\n  'ADP',\n  'NOUN',\n  'VERB',\n  'NOUN',\n  'PUNCT',\n  'NOUN',\n  'VERB',\n  'NOUN',\n  'PUNCT'],\n ['ADP', 'NOUN', 'ADP', 'NOUN', 'NOUN', 'PRON', 'VERB', 'NOUN', 'PUNCT'],\n ['CCONJ', 'ADV', 'PART', 'ADV', 'VERB', 'PRON', 'PUNCT'],\n ['ADP',\n  'NOUN',\n  'DET',\n  'NOUN',\n  'VERB',\n  'PUNCT',\n  'VERB',\n  'ADP',\n  'NOUN',\n  'PUNCT'],\n ['PART',\n  'VERB',\n  'PUNCT',\n  'PROPN',\n  'VERB',\n  'ADP',\n  'NOUN',\n  'NOUN',\n  'ADJ',\n  'NOUN',\n  'PUNCT'],\n ['VERB', 'NOUN', 'PUNCT'],\n ['ADV',\n  'ADP',\n  'ADJ',\n  'NOUN',\n  'ADP',\n  'NOUN',\n  'VERB',\n  'PUNCT',\n  'SCONJ',\n  'ADP',\n  'NOUN',\n  'NOUN',\n  'VERB',\n  'ADJ',\n  'ADJ',\n  'NOUN',\n  'CCONJ',\n  'NOUN',\n  'ADV',\n  'VERB',\n  'ADV',\n  'PUNCT'],\n ['PRON',\n  'VERB',\n  'ADV',\n  'NOUN',\n  'PUNCT',\n  'CCONJ',\n  'ADV',\n  'ADP',\n  'NOUN',\n  'VERB',\n  'ADJ',\n  'ADJ',\n  'NOUN',\n  'PUNCT'],\n ['NOUN',\n  'VERB',\n  'ADP',\n  'NOUN',\n  'PUNCT',\n  'SCONJ',\n  'NOUN',\n  None,\n  'ADP',\n  'NOUN',\n  'PUNCT',\n  'CCONJ',\n  'ADV',\n  'VERB',\n  'ADV',\n  'PUNCT',\n  'VERB',\n  'ADP',\n  'NOUN',\n  'PUNCT'],\n ['ADV', 'PROPN', 'VERB', 'DET', 'ADJ', 'NOUN', 'PUNCT'],\n ['CCONJ', 'VERB', 'PUNCT', 'SCONJ', 'PRON', 'PART', 'VERB', 'NOUN', 'PUNCT'],\n ['PRON',\n  'VERB',\n  'ADP',\n  'NOUN',\n  'ADJ',\n  'NOUN',\n  'CCONJ',\n  'PART',\n  'VERB',\n  'NOUN',\n  'PUNCT'],\n ['PRON', 'ADV', 'PART', 'VERB', 'NOUN', 'PUNCT'],\n ['CCONJ',\n  'PRON',\n  'ADV',\n  'VERB',\n  'NOUN',\n  'PUNCT',\n  'CCONJ',\n  'PRON',\n  'VERB',\n  'PUNCT'],\n ['CCONJ',\n  'NOUN',\n  'VERB',\n  'ADP',\n  'PRON',\n  'ADV',\n  'ADP',\n  'ADJ',\n  'NOUN',\n  'PUNCT',\n  'PRON',\n  'VERB',\n  'DET',\n  'NOUN',\n  'PUNCT',\n  'CCONJ',\n  'ADV',\n  'PUNCT',\n  'ADP',\n  'NOUN',\n  'PUNCT',\n  'ADV',\n  'CCONJ',\n  'ADV',\n  'VERB',\n  'ADJ',\n  'NOUN',\n  'NOUN',\n  'PUNCT'],\n ['PRON', 'VERB', 'NOUN', 'PUNCT'],\n ['PRON', 'PRON', 'VERB', 'PUNCT'],\n ['ADP',\n  'DET',\n  'NOUN',\n  'ADP',\n  'ADJ',\n  'NOUN',\n  'PROPN',\n  'VERB',\n  'NOUN',\n  'PUNCT'],\n ['CCONJ', 'PRON', 'NOUN', 'VERB', 'ADP', 'NOUN', 'PUNCT'],\n ['NOUN', 'VERB', 'PRON', 'ADP', 'NOUN', 'PUNCT'],\n ['PUNCT', 'NOUN', 'PUNCT'],\n ['SCONJ',\n  'ADJ',\n  'PUNCT',\n  'PROPN',\n  'VERB',\n  'ADP',\n  'NOUN',\n  'DET',\n  'NOUN',\n  'PUNCT'],\n ['ADJ', 'PUNCT', 'SCONJ', 'PRON', 'ADV', 'NUM', 'PUNCT'],\n ['DET',\n  'NOUN',\n  'PUNCT',\n  'ADV',\n  'PRON',\n  'VERB',\n  'NOUN',\n  'PUNCT',\n  'AUX',\n  'ADJ',\n  'ADP',\n  'NOUN',\n  'PUNCT'],\n ['ADP', 'DET', 'NOUN', 'PUNCT'],\n ['CCONJ',\n  'NOUN',\n  'PART',\n  'VERB',\n  'PUNCT',\n  'CCONJ',\n  'NOUN',\n  'VERB',\n  'NOUN',\n  'PUNCT'],\n ['DET', 'NOUN', 'VERB', 'ADP', 'PRON', 'PUNCT'],\n ['PRON', 'VERB', 'PRON', 'ADP', 'NOUN', 'ADP', 'NOUN', 'PUNCT'],\n ['ADJ', 'ADJ', 'NOUN', 'ADJ', 'NOUN', 'VERB', 'ADP', 'PRON', 'PUNCT'],\n ['PRON',\n  'PUNCT',\n  'VERB',\n  'PUNCT',\n  'VERB',\n  'ADP',\n  'DET',\n  'VERB',\n  'PUNCT',\n  'VERB',\n  'NOUN',\n  'PUNCT'],\n ['PROPN', 'PUNCT', 'PART', 'VERB', 'PUNCT', 'VERB', 'PUNCT'],\n ['ADP',\n  'NOUN',\n  'PUNCT',\n  'NOUN',\n  'PRON',\n  'VERB',\n  'ADP',\n  'NOUN',\n  'NOUN',\n  'NOUN',\n  'PUNCT'],\n ['PRON', 'PRON', 'VERB', 'PUNCT'],\n ['PRON', 'VERB', 'PUNCT'],\n ['VERB', 'ADV', 'DET', 'PUNCT', 'PRON', 'VERB', 'PUNCT'],\n ['CCONJ', 'PRON', 'PART', 'VERB', 'VERB', 'NOUN', 'PUNCT'],\n ['PRON', 'VERB', 'PUNCT'],\n ['VERB', 'ADV', 'ADJ', 'NOUN', 'NOUN', 'PUNCT'],\n ['NOUN', 'VERB', 'NOUN', 'PUNCT'],\n ['VERB', 'PUNCT'],\n ['ADP',\n  'NOUN',\n  'PUNCT',\n  'ADP',\n  'NOUN',\n  'ADJ',\n  'NOUN',\n  'VERB',\n  'NOUN',\n  'NOUN',\n  'PUNCT'],\n ['VERB', 'ADV', 'PUNCT', 'VERB', 'PUNCT'],\n ['PART', 'PART', 'VERB', 'PUNCT'],\n ['VERB', 'PUNCT', 'PRON', 'VERB', 'NOUN', 'PUNCT', 'VERB', 'NOUN', 'PUNCT'],\n ['CCONJ', 'ADV', 'PART', 'VERB', 'PUNCT'],\n ['PRON',\n  'VERB',\n  'PUNCT',\n  'VERB',\n  'PUNCT',\n  'CCONJ',\n  'ADJ',\n  'NOUN',\n  'VERB',\n  'ADV',\n  'CCONJ',\n  'ADV',\n  'PUNCT'],\n ['CCONJ',\n  'ADP',\n  'DET',\n  'PART',\n  'NOUN',\n  'ADP',\n  'VERB',\n  'NOUN',\n  'PROPN',\n  'VERB',\n  'NOUN',\n  'PUNCT'],\n ['PRON',\n  'VERB',\n  'PUNCT',\n  'SCONJ',\n  'PRON',\n  'NOUN',\n  'VERB',\n  'ADP',\n  'DET',\n  'NOUN',\n  'PUNCT'],\n ['ADV',\n  'VERB',\n  'NOUN',\n  'CCONJ',\n  'ADV',\n  'PRON',\n  'ADJ',\n  'VERB',\n  'ADP',\n  'PRON',\n  'PUNCT',\n  'ADP',\n  'NOUN',\n  'DET',\n  'PUNCT',\n  'ADP',\n  'NOUN',\n  'PUNCT',\n  'VERB',\n  'ADV',\n  'CCONJ',\n  'ADV',\n  'PUNCT',\n  'SCONJ',\n  'PART',\n  'AUX',\n  'ADP',\n  'PRON',\n  'CCONJ',\n  'NOUN',\n  'PUNCT',\n  'CCONJ',\n  'NOUN',\n  'PUNCT'],\n ['CCONJ',\n  'PROPN',\n  'VERB',\n  'ADJ',\n  'NOUN',\n  'PUNCT',\n  'NOUN',\n  'CCONJ',\n  'NOUN',\n  'PUNCT'],\n ['CCONJ',\n  'PART',\n  'VERB',\n  'ADP',\n  'NOUN',\n  'PUNCT',\n  'PRON',\n  'ADV',\n  'VERB',\n  'PUNCT',\n  'PRON',\n  'VERB',\n  'PUNCT',\n  'SCONJ',\n  'PRON',\n  'VERB',\n  'PUNCT',\n  'CCONJ',\n  'PART',\n  'VERB',\n  'VERB',\n  'PRON',\n  'ADP',\n  'NOUN',\n  'PUNCT',\n  'VERB',\n  'ADP',\n  'PRON',\n  'NOUN',\n  'PUNCT',\n  'PRON',\n  'ADP',\n  'PRON',\n  'ADV',\n  'PART',\n  'VERB',\n  'PUNCT'],\n ['NOUN',\n  'PUNCT',\n  'ADP',\n  'NOUN',\n  'PRON',\n  'PRON',\n  'ADV',\n  'VERB',\n  'PUNCT',\n  'ADV',\n  'PUNCT',\n  'ADV',\n  'VERB',\n  'ADP',\n  'NOUN',\n  'PUNCT',\n  'ADV',\n  'PART',\n  'PART',\n  'VERB',\n  'PUNCT',\n  'SCONJ',\n  'VERB',\n  'ADP',\n  'PRON',\n  'PUNCT',\n  'PUNCT',\n  'DET',\n  'PRON',\n  'ADP',\n  'ADJ',\n  'NOUN',\n  'VERB',\n  'ADP',\n  'ADJ',\n  'NOUN',\n  'PUNCT'],\n ['NOUN',\n  'PUNCT',\n  'ADP',\n  'NOUN',\n  'VERB',\n  'ADP',\n  'NOUN',\n  'PUNCT',\n  'SCONJ',\n  'NOUN',\n  'NOUN',\n  'PUNCT',\n  'VERB',\n  'PUNCT',\n  'NOUN',\n  'VERB',\n  'PRON',\n  'ADP',\n  'PRON',\n  'PUNCT',\n  'VERB',\n  'PUNCT',\n  'SCONJ',\n  'NOUN',\n  'VERB',\n  'PUNCT',\n  'VERB',\n  'NOUN',\n  'PUNCT'],\n ['CCONJ',\n  'ADV',\n  'PART',\n  'ADP',\n  'NOUN',\n  'PROPN',\n  'PUNCT',\n  'VERB',\n  'ADP',\n  'NOUN',\n  'PUNCT',\n  'ADP',\n  'DET',\n  'ADJ',\n  'NOUN',\n  'PUNCT',\n  'SCONJ',\n  'NOUN',\n  'VERB',\n  'ADP',\n  'NOUN',\n  'PUNCT',\n  'VERB',\n  'NOUN',\n  'PUNCT'],\n ['ADV',\n  'ADP',\n  'NOUN',\n  'PUNCT',\n  'VERB',\n  'NOUN',\n  'VERB',\n  'NOUN',\n  'PUNCT',\n  'VERB',\n  'NOUN',\n  'PUNCT'],\n ['NOUN',\n  'ADP',\n  'NOUN',\n  'VERB',\n  'PRON',\n  'ADP',\n  'NOUN',\n  'PUNCT',\n  'VERB',\n  'PUNCT',\n  'VERB',\n  'ADP',\n  'NOUN',\n  'PUNCT'],\n ['CCONJ',\n  'ADV',\n  'ADP',\n  'NOUN',\n  'NOUN',\n  'PUNCT',\n  'VERB',\n  'ADP',\n  'PRON',\n  'ADV',\n  'PUNCT',\n  'PRON',\n  'VERB',\n  'ADV',\n  'PUNCT',\n  'VERB',\n  'ADP',\n  'NOUN',\n  'PUNCT',\n  'CCONJ',\n  'NOUN',\n  'VERB',\n  'ADP',\n  'NOUN',\n  'PUNCT'],\n ['CCONJ',\n  'SCONJ',\n  'VERB',\n  'PUNCT',\n  'NOUN',\n  'VERB',\n  'ADP',\n  'NOUN',\n  'PUNCT',\n  'CCONJ',\n  'ADJ',\n  'NOUN',\n  'ADP',\n  'ADJ',\n  'NOUN',\n  'NOUN',\n  'VERB',\n  'CCONJ',\n  'VERB',\n  'ADP',\n  'PRON',\n  'PUNCT',\n  'SCONJ',\n  'VERB',\n  'ADP',\n  'PRON',\n  'NOUN',\n  'PUNCT'],\n ['PUNCT', 'ADV', 'PUNCT'],\n ['ADV', 'PUNCT'],\n ['PROPN', 'ADP', 'NOUN', 'VERB', 'ADP', 'NOUN', 'NOUN', 'PUNCT'],\n ['CCONJ',\n  'ADP',\n  'NOUN',\n  'NOUN',\n  'NOUN',\n  'PART',\n  'VERB',\n  'PRON',\n  'PUNCT',\n  'CCONJ',\n  'NOUN',\n  'VERB',\n  'VERB',\n  'PUNCT'],\n ['ADJ',\n  'PUNCT',\n  'VERB',\n  'NOUN',\n  'PUNCT',\n  'NOUN',\n  'ADJ',\n  'NOUN',\n  'CCONJ',\n  'NOUN',\n  'PUNCT',\n  'PRON',\n  'VERB',\n  'ADV',\n  'PUNCT',\n  'VERB',\n  'ADP',\n  'PRON',\n  'ADP',\n  'NOUN',\n  'VERB',\n  'NOUN',\n  'PUNCT'],\n ['ADP',\n  'PRON',\n  'VERB',\n  'NOUN',\n  'ADP',\n  'ADJ',\n  'NOUN',\n  'PUNCT',\n  'VERB',\n  'NOUN',\n  'ADP',\n  'NOUN',\n  'NOUN',\n  'PUNCT',\n  'ADP',\n  'DET',\n  'NOUN',\n  'PUNCT',\n  'VERB',\n  'PUNCT',\n  'VERB',\n  'PUNCT',\n  'DET',\n  'VERB',\n  'ADP',\n  'PRON',\n  'NOUN',\n  'PUNCT',\n  'VERB',\n  'ADP',\n  'NOUN',\n  'NOUN',\n  'PUNCT'],\n ['CCONJ',\n  'ADP',\n  'ADJ',\n  'NOUN',\n  'PUNCT',\n  'ADP',\n  'NOUN',\n  'PUNCT',\n  'ADP',\n  'DET',\n  'NOUN',\n  'VERB',\n  'VERB',\n  'NOUN',\n  'PUNCT'],\n ['PUNCT', 'ADV', 'NOUN', 'PUNCT'],\n ['NUM', 'NOUN', 'VERB', 'PUNCT'],\n ['ADP',\n  'NOUN',\n  'VERB',\n  'NOUN',\n  'NOUN',\n  'ADP',\n  'NOUN',\n  'PUNCT',\n  'ADP',\n  'NOUN',\n  'PUNCT',\n  'ADP',\n  'NOUN',\n  'ADP',\n  'NOUN',\n  'PUNCT',\n  'DET',\n  'ADJ',\n  'PUNCT',\n  'SCONJ',\n  'NOUN',\n  'ADP',\n  'DET',\n  'NOUN',\n  'PUNCT'],\n ['PROPN',\n  'ADV',\n  'VERB',\n  'PRON',\n  'ADP',\n  'NOUN',\n  'CCONJ',\n  'PART',\n  'VERB',\n  'NOUN',\n  'PUNCT'],\n ['NUM',\n  'ADP',\n  'DET',\n  'NOUN',\n  'PUNCT',\n  'PRON',\n  'ADP',\n  'NOUN',\n  'VERB',\n  'VERB',\n  'NOUN',\n  'ADP',\n  'NOUN',\n  'CCONJ',\n  'PRON',\n  'ADP',\n  'ADJ',\n  'NOUN',\n  'ADV',\n  'PART',\n  'VERB',\n  'PUNCT'],\n ['PUNCT', 'ADV', 'NOUN', 'ADV', 'PUNCT'],\n ['ADV', 'NOUN', 'NOUN', 'PUNCT'],\n ['PUNCT', 'ADV', 'ADV', 'PUNCT', 'NOUN', 'NOUN', 'PUNCT'],\n ['ADJ', 'NOUN', 'PUNCT'],\n ['PUNCT',\n  'VERB',\n  'NOUN',\n  'ADP',\n  'NOUN',\n  'PUNCT',\n  'NOUN',\n  'VERB',\n  'ADP',\n  'NOUN',\n  'PUNCT',\n  'VERB',\n  'NOUN',\n  'PUNCT'],\n ['PUNCT', 'NOUN', 'ADV', 'PUNCT'],\n ['VERB', 'PUNCT'],\n ['PRON', 'AUX', 'ADJ', 'PUNCT', 'PRON', 'VERB', 'ADP', 'NOUN', 'PUNCT'],\n ['PROPN',\n  'PART',\n  'VERB',\n  'PUNCT',\n  'SCONJ',\n  'PRON',\n  'VERB',\n  'ADV',\n  'PUNCT',\n  'ADP',\n  'NOUN',\n  'PUNCT'],\n ['PUNCT',\n  'VERB',\n  'PUNCT',\n  'SCONJ',\n  'ADJ',\n  'PUNCT',\n  'PUNCT',\n  'VERB',\n  'PRON',\n  'PUNCT'],\n ['PUNCT',\n  'ADV',\n  'NOUN',\n  'VERB',\n  'PUNCT',\n  'CCONJ',\n  'PRON',\n  'VERB',\n  'PUNCT',\n  'NOUN',\n  'AUX',\n  'PRON',\n  'VERB',\n  'PUNCT'],\n ['ADV', 'NOUN', 'NOUN', 'PUNCT'],\n ['PUNCT',\n  'ADP',\n  'NOUN',\n  'NOUN',\n  'PRON',\n  'PUNCT',\n  'NOUN',\n  'PROPN',\n  'PUNCT',\n  'PUNCT',\n  'VERB',\n  'NOUN',\n  'NOUN',\n  'PUNCT',\n  'VERB',\n  'NOUN',\n  'PUNCT',\n  'CCONJ',\n  'ADP',\n  'DET',\n  'NOUN',\n  'VERB',\n  'NOUN',\n  'PUNCT'],\n ['PUNCT', 'NOUN', 'NOUN', 'VERB', 'ADV', 'VERB', 'ADJ', 'NOUN', 'PUNCT'],\n ['CCONJ',\n  'PRON',\n  'AUX',\n  'ADJ',\n  'CCONJ',\n  'ADJ',\n  'PUNCT',\n  'SCONJ',\n  'VERB',\n  'PUNCT',\n  'PUNCT',\n  'ADP',\n  'NOUN',\n  'NOUN',\n  'PRON',\n  'PUNCT',\n  'NOUN',\n  'PROPN',\n  'PUNCT',\n  'PUNCT'],\n ['ADV',\n  'PUNCT',\n  'SCONJ',\n  'PRON',\n  'ADV',\n  'ADP',\n  'DET',\n  'NOUN',\n  'VERB',\n  'ADP',\n  'NOUN',\n  'NOUN',\n  'PUNCT',\n  'ADV',\n  'PUNCT',\n  'SCONJ',\n  'DET',\n  'NOUN',\n  'ADV',\n  'PRON',\n  'VERB',\n  'ADV',\n  'ADP',\n  'NOUN',\n  'PUNCT',\n  'CCONJ',\n  'VERB',\n  'NOUN',\n  'ADP',\n  'NOUN',\n  'PUNCT',\n  'CCONJ',\n  'VERB',\n  'PRON',\n  'VERB',\n  'PUNCT'],\n ['VERB',\n  'PUNCT',\n  'ADP',\n  'ADJ',\n  'NOUN',\n  'PUNCT',\n  'ADP',\n  'VERB',\n  'NOUN',\n  'ADP',\n  'NOUN',\n  'PUNCT',\n  'PROPN',\n  'VERB',\n  'ADP',\n  'NOUN',\n  'PUNCT',\n  'ADJ',\n  'PRON',\n  'CCONJ',\n  'ADJ',\n  'NOUN',\n  'PUNCT',\n  'ADP',\n  'NOUN',\n  'VERB',\n  'ADP',\n  'DET',\n  'VERB',\n  'ADJ',\n  'NOUN',\n  'PUNCT',\n  'VERB',\n  'NOUN',\n  'NOUN',\n  'PUNCT'],\n ['ADP',\n  'PRON',\n  'PUNCT',\n  'SCONJ',\n  'DET',\n  'NOUN',\n  'ADV',\n  'ADV',\n  'PUNCT',\n  'CCONJ',\n  'PART',\n  'ADP',\n  'NOUN',\n  'PUNCT',\n  'PRON',\n  'PUNCT',\n  'PROPN',\n  'PUNCT',\n  'PART',\n  'ADJ',\n  'AUX',\n  'ADV',\n  'PUNCT'],\n ['CCONJ',\n  'ADV',\n  'PUNCT',\n  'ADV',\n  'PUNCT',\n  'ADV',\n  'NUM',\n  'NOUN',\n  'PUNCT',\n  'CCONJ',\n  'ADP',\n  'NOUN',\n  'PROPN',\n  'PUNCT',\n  'SCONJ',\n  'NOUN',\n  'PUNCT',\n  'SCONJ',\n  'ADJ',\n  'VERB',\n  'ADV',\n  'PUNCT',\n  'ADP',\n  'NOUN',\n  'PUNCT',\n  'VERB',\n  'NOUN',\n  'PUNCT',\n  'PRON',\n  'PRON',\n  'VERB',\n  'VERB',\n  'PRON',\n  'PUNCT'],\n ['PUNCT',\n  'ADV',\n  None,\n  'ADP',\n  'NOUN',\n  'PUNCT',\n  'PUNCT',\n  'VERB',\n  'PROPN',\n  'CCONJ',\n  'ADV',\n  'VERB',\n  'ADV',\n  'PUNCT'],\n ['PRON',\n  'VERB',\n  'ADP',\n  'NOUN',\n  'NOUN',\n  'PUNCT',\n  'CCONJ',\n  'NOUN',\n  'ADP',\n  'NOUN',\n  'PUNCT',\n  'PART',\n  'VERB',\n  'PUNCT',\n  'VERB',\n  'ADP',\n  'PRON',\n  'PUNCT',\n  'SCONJ',\n  'VERB',\n  'PRON',\n  'ADP',\n  'NOUN',\n  'PUNCT'],\n ['CCONJ',\n  'SCONJ',\n  'ADV',\n  'VERB',\n  'PRON',\n  'PUNCT',\n  'VERB',\n  'ADP',\n  'ADJ',\n  'NOUN',\n  'NOUN',\n  'PUNCT',\n  'SCONJ',\n  'ADV',\n  'VERB',\n  'ADP',\n  'PROPN',\n  'NOUN',\n  'ADP',\n  'DET',\n  'NOUN',\n  'PUNCT',\n  'NOUN',\n  'DET',\n  'DET',\n  'NOUN',\n  'PUNCT',\n  'DET',\n  'NOUN',\n  'PUNCT'],\n ['CCONJ',\n  'DET',\n  'VERB',\n  'PUNCT',\n  'VERB',\n  'NOUN',\n  'ADP',\n  'NOUN',\n  'CCONJ',\n  'NOUN',\n  'NOUN',\n  'PUNCT',\n  'VERB',\n  'ADP',\n  'PRON',\n  'ADP',\n  'NOUN',\n  'PUNCT',\n  'CCONJ',\n  'VERB',\n  'PRON',\n  'ADV',\n  'PUNCT'],\n ['ADV',\n  'PUNCT',\n  'ADP',\n  'NOUN',\n  'PUNCT',\n  'ADP',\n  'NOUN',\n  'PUNCT',\n  'ADP',\n  'NOUN',\n  'NOUN',\n  'VERB',\n  'CCONJ',\n  'VERB',\n  'NOUN',\n  'PUNCT',\n  'PRON',\n  'NOUN',\n  'PUNCT',\n  'CCONJ',\n  'PRON',\n  'ADV',\n  'PUNCT',\n  'ADP',\n  'NOUN',\n  'PUNCT',\n  'VERB',\n  'ADP',\n  'NOUN',\n  'ADP',\n  'NOUN',\n  'ADP',\n  'NOUN',\n  'PUNCT',\n  'CCONJ',\n  'ADP',\n  'DET',\n  'NOUN',\n  'NOUN',\n  'VERB',\n  'CCONJ',\n  'VERB',\n  'NOUN',\n  'PUNCT'],\n ['ADV', 'PROPN', 'PUNCT', 'VERB', 'PUNCT', 'VERB', 'ADJ', 'NOUN', 'PUNCT'],\n ['PRON', 'VERB', 'PUNCT'],\n ['VERB', 'ADV', 'PUNCT', 'VERB', 'NOUN', 'PUNCT', 'CCONJ', 'VERB', 'PUNCT'],\n ['SCONJ',\n  'NOUN',\n  'ADV',\n  'PUNCT',\n  'ADP',\n  'NOUN',\n  'PUNCT',\n  'ADV',\n  'PROPN',\n  'VERB',\n  'NOUN',\n  'PUNCT'],\n ['ADV',\n  'PART',\n  'VERB',\n  'PRON',\n  'VERB',\n  'PUNCT',\n  'VERB',\n  'PUNCT',\n  'VERB',\n  'NOUN',\n  'PUNCT',\n  'PROPN',\n  'ADV',\n  'PUNCT',\n  'ADP',\n  'ADJ',\n  'NOUN',\n  'VERB',\n  'PUNCT',\n  'VERB',\n  'ADV',\n  'PUNCT'],\n ['PRON',\n  'VERB',\n  'PART',\n  'ADP',\n  'NOUN',\n  'PUNCT',\n  'PRON',\n  'VERB',\n  'VERB',\n  'PUNCT',\n  'PART',\n  'VERB',\n  'PUNCT',\n  'SCONJ',\n  'VERB',\n  'ADV',\n  'ADP',\n  'NOUN',\n  'PUNCT',\n  'VERB',\n  'PRON',\n  'PUNCT'],\n ['PRON', 'VERB', 'ADP', 'NOUN', 'PUNCT'],\n ['ADP',\n  'NOUN',\n  'ADP',\n  'NOUN',\n  'PUNCT',\n  'PRON',\n  'ADJ',\n  'AUX',\n  'VERB',\n  'CCONJ',\n  'ADP',\n  'PRON',\n  'ADV',\n  'PUNCT',\n  'VERB',\n  'PUNCT'],\n ['NOUN',\n  'PUNCT',\n  'NOUN',\n  'PUNCT',\n  'ADV',\n  'VERB',\n  'PRON',\n  'ADJ',\n  'PUNCT',\n  'VERB',\n  'NOUN',\n  'PROPN',\n  'VERB',\n  'ADV',\n  'PUNCT',\n  'SCONJ',\n  'ADV',\n  'ADJ',\n  'VERB',\n  'NUM',\n  'PUNCT'],\n ['VERB', 'PUNCT'],\n ['VERB', 'PUNCT', 'PUNCT', 'PUNCT'],\n ['PRON',\n  'VERB',\n  'PUNCT',\n  'VERB',\n  'PUNCT',\n  'PRON',\n  'VERB',\n  'ADP',\n  'PRON',\n  'PUNCT'],\n ['PUNCT', 'NOUN', 'NOUN', 'PUNCT'],\n ['NOUN',\n  'NOUN',\n  'PUNCT',\n  'ADV',\n  'PRON',\n  'PUNCT',\n  'PUNCT',\n  None,\n  'PART',\n  'VERB',\n  'PUNCT',\n  'PRON',\n  'VERB',\n  'PUNCT',\n  'CCONJ',\n  'PART',\n  'VERB',\n  'ADP',\n  'NOUN',\n  'NOUN',\n  'PUNCT',\n  'PRON',\n  'PRON',\n  'AUX',\n  'VERB',\n  'VERB',\n  'PUNCT',\n  'VERB',\n  'ADV',\n  'NOUN',\n  'PUNCT'],\n ['PRON',\n  'PART',\n  'VERB',\n  'NOUN',\n  'CCONJ',\n  'VERB',\n  'ADV',\n  'NOUN',\n  'ADP',\n  'PRON',\n  'PUNCT'],\n ['ADV',\n  'VERB',\n  'ADJ',\n  'NOUN',\n  'PUNCT',\n  'ADV',\n  'VERB',\n  'NOUN',\n  'ADJ',\n  'NOUN',\n  'PUNCT'],\n ['CCONJ',\n  'PRON',\n  'PUNCT',\n  None,\n  'SCONJ',\n  'NOUN',\n  'ADV',\n  'VERB',\n  'ADP',\n  'NOUN',\n  'PUNCT'],\n ['ADV',\n  'ADV',\n  'PROPN',\n  'VERB',\n  'DET',\n  'NOUN',\n  'PUNCT',\n  'VERB',\n  'NOUN',\n  'PUNCT',\n  'VERB',\n  'ADP',\n  'NOUN',\n  'PUNCT',\n  'PUNCT',\n  'NOUN',\n  'NOUN',\n  'PUNCT',\n  'PUNCT'],\n ['PRON',\n  'PART',\n  'VERB',\n  'PUNCT',\n  'PART',\n  'VERB',\n  'PUNCT',\n  'SCONJ',\n  'PRON',\n  'VERB',\n  'VERB',\n  'PUNCT'],\n ['VERB',\n  'PUNCT',\n  'VERB',\n  'NOUN',\n  'NOUN',\n  'PUNCT',\n  'PROPN',\n  'VERB',\n  'ADP',\n  'NOUN',\n  'PUNCT'],\n ['DET',\n  'PART',\n  'VERB',\n  'PRON',\n  'ADV',\n  'ADV',\n  'PUNCT',\n  'SCONJ',\n  'NOUN',\n  'VERB',\n  'PUNCT',\n  'VERB',\n  'ADV',\n  'PUNCT',\n  'PART',\n  'VERB',\n  'ADV',\n  'ADV',\n  'PUNCT'],\n ['CCONJ', 'VERB', 'PUNCT'],\n ['PRON',\n  'VERB',\n  'ADJ',\n  'ADJ',\n  'NOUN',\n  'PUNCT',\n  'CCONJ',\n  'NOUN',\n  'NOUN',\n  'VERB',\n  'PUNCT'],\n ['PROPN', 'VERB', 'ADP', 'NOUN', 'PUNCT'],\n ['NOUN', 'VERB', 'ADP', 'NOUN', 'PUNCT', 'ADP', 'NOUN', 'PUNCT'],\n ['PRON',\n  'PART',\n  'VERB',\n  'VERB',\n  'PUNCT',\n  'PART',\n  'ADV',\n  'VERB',\n  'NOUN',\n  'NOUN',\n  'PUNCT'],\n ['ADP',\n  'DET',\n  'NOUN',\n  'PUNCT',\n  'ADV',\n  'PROPN',\n  'VERB',\n  'NOUN',\n  'PUNCT',\n  'VERB',\n  'ADV',\n  'ADJ',\n  'NOUN',\n  'PUNCT',\n  'CCONJ',\n  'PRON',\n  'ADV',\n  'AUX',\n  'ADP',\n  'DET',\n  'ADV',\n  'VERB',\n  'PUNCT',\n  'VERB',\n  'ADV',\n  'PUNCT',\n  'ADJ',\n  'NOUN',\n  'PUNCT'],\n ['PROPN', 'VERB', 'ADP', 'ADJ', 'NOUN', 'PUNCT'],\n ['VERB', 'PUNCT'],\n ['VERB',\n  'ADJ',\n  'NOUN',\n  'PUNCT',\n  'NOUN',\n  'PUNCT',\n  'NOUN',\n  'VERB',\n  'NOUN',\n  'PUNCT'],\n ['ADP', 'NOUN', 'ADV', 'VERB', 'PUNCT'],\n ['VERB',\n  'PUNCT',\n  'VERB',\n  'PUNCT',\n  'ADP',\n  'VERB',\n  'ADP',\n  'NOUN',\n  'NOUN',\n  'PUNCT'],\n ['NOUN',\n  'ADV',\n  'VERB',\n  'ADP',\n  'PRON',\n  'PUNCT',\n  'ADP',\n  'DET',\n  'NOUN',\n  'PUNCT',\n  'ADP',\n  'NOUN',\n  'NOUN',\n  'PUNCT',\n  'CCONJ',\n  'PRON',\n  'VERB',\n  'ADP',\n  'NOUN',\n  'ADP',\n  'NOUN',\n  'PUNCT'],\n ['PRON',\n  'VERB',\n  'PUNCT',\n  'SCONJ',\n  'PART',\n  'VERB',\n  'ADV',\n  'PUNCT',\n  'PUNCT',\n  'NOUN',\n  'PUNCT'],\n ['NOUN',\n  'ADP',\n  'NOUN',\n  'CCONJ',\n  'ADP',\n  'NOUN',\n  'VERB',\n  'ADV',\n  'ADV',\n  'NOUN',\n  'NOUN',\n  'PUNCT',\n  'CCONJ',\n  'PRON',\n  'PUNCT',\n  'PRON',\n  'VERB',\n  'ADP',\n  'PRON',\n  'PUNCT',\n  'AUX',\n  'VERB',\n  'PUNCT'],\n ['CCONJ', 'ADV', 'VERB', 'NOUN', 'PUNCT', 'ADV', 'ADV', 'VERB', 'PUNCT'],\n ['CCONJ', 'PRON', 'VERB', 'PUNCT', 'ADP', 'NOUN', 'VERB', 'NOUN', 'PUNCT'],\n ['PART',\n  'ADV',\n  'PUNCT',\n  'ADV',\n  'ADV',\n  'ADJ',\n  'PUNCT',\n  'ADV',\n  'PUNCT',\n  'ADP',\n  'NOUN',\n  'PUNCT',\n  'PART',\n  'NOUN',\n  'PUNCT'],\n ['ADP',\n  'PRON',\n  'PUNCT',\n  'ADP',\n  'NOUN',\n  'PUNCT',\n  'ADJ',\n  'NOUN',\n  'VERB',\n  'NOUN',\n  'VERB',\n  'ADP',\n  'NOUN',\n  'NOUN',\n  'PUNCT'],\n ['PROPN',\n  'VERB',\n  'NOUN',\n  'PUNCT',\n  'VERB',\n  'PUNCT',\n  'VERB',\n  'ADP',\n  'NOUN',\n  'CCONJ',\n  'ADV',\n  'VERB',\n  'PUNCT'],\n ['ADV', 'PUNCT'],\n ['ADP', 'VERB', 'NOUN', 'ADP', 'NOUN', 'PUNCT'],\n ['NOUN',\n  'VERB',\n  'PUNCT',\n  'ADJ',\n  'ADP',\n  'NOUN',\n  'NOUN',\n  'PUNCT',\n  'VERB',\n  'PUNCT',\n  'VERB',\n  'ADP',\n  'NOUN',\n  'PUNCT'],\n ['ADJ', 'NOUN', 'PROPN', 'VERB', 'PRON', 'ADP', 'NOUN', 'PUNCT'],\n ['VERB', 'ADV', 'PUNCT'],\n ['ADP',\n  'NOUN',\n  'VERB',\n  'PUNCT',\n  'SCONJ',\n  'ADJ',\n  'ADV',\n  'NOUN',\n  'VERB',\n  'ADV',\n  'ADP',\n  'NOUN',\n  'PUNCT'],\n ['NOUN',\n  'NUM',\n  'ADV',\n  'PUNCT',\n  'CCONJ',\n  'PRON',\n  'VERB',\n  'ADP',\n  'NOUN',\n  'PUNCT',\n  'CCONJ',\n  'ADP',\n  'NOUN',\n  'DET',\n  'NOUN',\n  'VERB',\n  'ADJ',\n  'PUNCT'],\n ['CCONJ',\n  'ADV',\n  'PRON',\n  'VERB',\n  'NOUN',\n  'CCONJ',\n  'PART',\n  'VERB',\n  'ADP',\n  'NOUN',\n  'PUNCT'],\n ['CCONJ', 'ADV', 'ADV', 'VERB', 'PUNCT', 'SCONJ', 'NOUN', 'VERB', 'PUNCT'],\n ['PUNCT',\n  'VERB',\n  'PUNCT',\n  'PUNCT',\n  'VERB',\n  'PRON',\n  'PROPN',\n  'PUNCT',\n  'VERB',\n  'ADP',\n  'PRON',\n  'ADP',\n  'DET',\n  'NOUN',\n  'PUNCT'],\n ['NOUN',\n  'PROPN',\n  'AUX',\n  'ADJ',\n  'PUNCT',\n  'ADJ',\n  'PUNCT',\n  'ADJ',\n  'ADP',\n  'NOUN',\n  'NOUN',\n  'VERB',\n  'ADP',\n  'ADJ',\n  'NOUN',\n  'PUNCT'],\n ['PUNCT', 'VERB', 'PUNCT'],\n ['VERB', 'PUNCT', 'PRON', 'NOUN', 'ADP', 'NOUN', 'VERB', 'ADV', 'PUNCT'],\n ['CCONJ',\n  'ADV',\n  'ADP',\n  'NOUN',\n  'NOUN',\n  'PUNCT',\n  'ADV',\n  'ADP',\n  'NOUN',\n  'PUNCT',\n  'ADJ',\n  'NOUN',\n  'VERB',\n  'ADP',\n  'NOUN',\n  'ADJ',\n  'NOUN',\n  'PUNCT'],\n ['PRON',\n  'ADJ',\n  'ADP',\n  'NOUN',\n  'PUNCT',\n  'ADJ',\n  'PUNCT',\n  'ADJ',\n  'VERB',\n  'ADV',\n  'PUNCT',\n  'VERB',\n  'NOUN',\n  'PUNCT',\n  'CCONJ',\n  'PUNCT',\n  'ADV',\n  'SCONJ',\n  'VERB',\n  'NOUN',\n  'PUNCT',\n  'PRON',\n  'VERB',\n  'PUNCT',\n  'SCONJ',\n  'ADV',\n  'PUNCT',\n  'ADP',\n  'NOUN',\n  'PUNCT',\n  'VERB',\n  'ADP',\n  'NOUN',\n  'NOUN',\n  'PUNCT'],\n ['CCONJ',\n  'ADP',\n  'PRON',\n  'ADP',\n  'NOUN',\n  'VERB',\n  'NOUN',\n  'ADP',\n  'NOUN',\n  'PUNCT',\n  'CCONJ',\n  'ADV',\n  'VERB',\n  'DET',\n  'NOUN',\n  'PUNCT',\n  'CCONJ',\n  'ADV',\n  'PUNCT',\n  'NOUN',\n  'PUNCT'],\n ['PROPN', 'VERB', 'ADP', 'NOUN', 'PUNCT'],\n ['PRON', 'PART', 'VERB', 'PUNCT', 'SCONJ', 'ADP', 'PRON', 'VERB', 'PUNCT'],\n ['VERB',\n  'NOUN',\n  'PUNCT',\n  'PRON',\n  'VERB',\n  'ADP',\n  'NOUN',\n  'PUNCT',\n  'ADV',\n  'PUNCT',\n  'ADV',\n  'PUNCT',\n  'ADV',\n  'VERB',\n  'VERB',\n  'NOUN',\n  'PUNCT'],\n ['ADV', 'ADJ', 'NOUN', 'PUNCT'],\n ['ADJ', 'NOUN', 'PUNCT'],\n ['VERB', 'VERB', 'PUNCT'],\n ['VERB', 'PUNCT'],\n ['VERB', 'NOUN', 'NOUN', 'PUNCT', 'PUNCT', 'PUNCT'],\n ['NOUN',\n  'DET',\n  'VERB',\n  'ADP',\n  'PRON',\n  'PUNCT',\n  'SCONJ',\n  'PRON',\n  'VERB',\n  'ADV',\n  'PUNCT',\n  'ADP',\n  'NOUN',\n  'PUNCT'],\n ['PROPN',\n  'VERB',\n  'PUNCT',\n  'SCONJ',\n  'ADV',\n  'PUNCT',\n  'ADV',\n  'ADP',\n  'PROPN',\n  'VERB',\n  'NUM',\n  'ADJ',\n  'ADJ',\n  'NOUN',\n  'PUNCT'],\n ['PRON',\n  'VERB',\n  'ADP',\n  'NOUN',\n  'PUNCT',\n  'ADP',\n  'NOUN',\n  'PUNCT',\n  'VERB',\n  'NOUN',\n  'ADP',\n  'NOUN',\n  'PUNCT'],\n ['ADP', 'NUM', 'NOUN', 'VERB', 'ADJ', 'NOUN', 'ADJ', 'NOUN', 'PUNCT'],\n ['PRON',\n  'VERB',\n  'ADP',\n  'PROPN',\n  'PUNCT',\n  'VERB',\n  'ADP',\n  'PRON',\n  'PUNCT',\n  'CCONJ',\n  'PRON',\n  'VERB',\n  'PUNCT'],\n ['NOUN', 'VERB', 'PUNCT'],\n ['NOUN',\n  'ADP',\n  'NOUN',\n  'VERB',\n  'PUNCT',\n  'VERB',\n  'PUNCT',\n  'VERB',\n  'NOUN',\n  'PUNCT',\n  'VERB',\n  'ADP',\n  'NOUN',\n  'PUNCT',\n  'VERB',\n  'ADP',\n  'NOUN',\n  'ADP',\n  'NOUN',\n  'PUNCT',\n  'ADP',\n  'NOUN',\n  'ADP',\n  'NOUN',\n  'PUNCT'],\n ['VERB',\n  'PUNCT',\n  'SCONJ',\n  'VERB',\n  'ADP',\n  'ADJ',\n  'NOUN',\n  'PUNCT',\n  'VERB',\n  'ADV',\n  'PUNCT',\n  'ADP',\n  'NOUN',\n  'PUNCT'],\n ['CCONJ', 'PROPN', 'ADV', 'VERB', 'PUNCT'],\n ['NOUN',\n  'PRON',\n  'VERB',\n  'ADV',\n  'PUNCT',\n  'ADP',\n  'NOUN',\n  'PUNCT',\n  'ADV',\n  'VERB',\n  'ADJ',\n  'NOUN',\n  'PUNCT'],\n ['PRON', 'ADV', 'VERB', 'PUNCT'],\n ['CCONJ',\n  'PROPN',\n  'VERB',\n  'ADP',\n  'NOUN',\n  'PUNCT',\n  'VERB',\n  'PUNCT',\n  'VERB',\n  'PUNCT',\n  'ADV',\n  'VERB',\n  'PUNCT',\n  'DET',\n  'ADP',\n  'NOUN',\n  'PUNCT',\n  'VERB',\n  'ADP',\n  'PRON',\n  'ADJ',\n  'ADJ',\n  'NOUN',\n  'PUNCT'],\n ['PRON',\n  'ADV',\n  'PART',\n  'VERB',\n  'PUNCT',\n  'SCONJ',\n  'VERB',\n  'PUNCT',\n  'PRON',\n  'VERB',\n  'PUNCT'],\n ['CCONJ',\n  'PRON',\n  'VERB',\n  'ADP',\n  'ADJ',\n  'NOUN',\n  'DET',\n  'NOUN',\n  'PUNCT',\n  'ADP',\n  'ADJ',\n  'NOUN',\n  'ADP',\n  'PRON',\n  'VERB',\n  'ADJ',\n  'NOUN',\n  'PUNCT'],\n ['PRON', 'VERB', 'PUNCT'],\n ['VERB', 'VERB', 'PUNCT', None, 'PRON', 'ADJ', 'PUNCT'],\n ['PRON', 'VERB', 'ADP', 'DET', 'VERB', 'NOUN', 'PUNCT'],\n ['CCONJ',\n  'PART',\n  'DET',\n  'AUX',\n  'ADJ',\n  'PUNCT',\n  'ADP',\n  'NOUN',\n  'PUNCT',\n  'ADP',\n  'VERB',\n  'NOUN',\n  'PUNCT',\n  'VERB',\n  'PRON',\n  'PUNCT',\n  'VERB',\n  'ADP',\n  'NOUN',\n  'ADJ',\n  'NOUN',\n  'PUNCT'],\n ['PROPN', 'VERB', 'PUNCT', 'VERB', 'PUNCT', 'DET', 'VERB', 'ADV', 'PUNCT'],\n ['VERB',\n  'NOUN',\n  'PART',\n  'ADV',\n  'VERB',\n  'ADP',\n  'NOUN',\n  'PUNCT',\n  'CCONJ',\n  'VERB',\n  'NOUN',\n  'PUNCT',\n  'NOUN',\n  'ADP',\n  'NOUN',\n  'PUNCT',\n  'ADJ',\n  'ADP',\n  'VERB',\n  'NOUN',\n  'NOUN',\n  'PUNCT',\n  'ADJ',\n  'NOUN',\n  'PUNCT'],\n ['PRON',\n  'ADV',\n  'VERB',\n  'PRON',\n  'PUNCT',\n  'SCONJ',\n  'ADV',\n  'PUNCT',\n  'ADV',\n  'VERB',\n  'NOUN',\n  'PUNCT',\n  'VERB',\n  'ADV',\n  'CCONJ',\n  'VERB',\n  'PUNCT'],\n ['VERB', 'ADJ', 'NOUN', 'PUNCT'],\n ['PRON',\n  'AUX',\n  'ADJ',\n  'PUNCT',\n  'PRON',\n  'VERB',\n  'PROPN',\n  'PUNCT',\n  'CCONJ',\n  'VERB',\n  'PRON',\n  'ADJ',\n  'PUNCT'],\n ['PRON',\n  'PART',\n  'VERB',\n  'PUNCT',\n  'SCONJ',\n  'PRON',\n  'VERB',\n  'DET',\n  'NOUN',\n  'PUNCT',\n  'VERB',\n  'ADJ',\n  'NOUN',\n  'PUNCT'],\n ['PRON',\n  'PART',\n  'VERB',\n  'PUNCT',\n  'SCONJ',\n  'ADV',\n  'ADP',\n  'DET',\n  'NOUN',\n  'PUNCT',\n  'ADP',\n  'ADJ',\n  'NOUN',\n  'PUNCT',\n  'VERB',\n  'ADP',\n  'NOUN',\n  'PUNCT',\n  'VERB',\n  'NOUN',\n  'PUNCT',\n  'ADP',\n  'NOUN',\n  'PUNCT',\n  'ADP',\n  'NOUN',\n  'PUNCT',\n  'CCONJ',\n  'NOUN',\n  'ADP',\n  'NOUN',\n  'VERB',\n  'ADP',\n  'PRON',\n  'PUNCT',\n  'ADP',\n  'NOUN',\n  'VERB',\n  'ADP',\n  'NOUN',\n  'PUNCT',\n  'CCONJ',\n  'NOUN',\n  'VERB',\n  'PUNCT',\n  'CCONJ',\n  'DET',\n  'ADV',\n  'VERB',\n  'PUNCT'],\n ['ADJ', 'PUNCT', 'SCONJ', 'PRON', 'PART', 'VERB', 'PRON', 'PUNCT'],\n ['VERB',\n  'NOUN',\n  'PUNCT',\n  'PROPN',\n  'VERB',\n  'VERB',\n  'NOUN',\n  'PUNCT',\n  'PUNCT',\n  'ADV',\n  'PUNCT'],\n ['ADP', 'NOUN', 'PUNCT'],\n ['CCONJ',\n  'NOUN',\n  'PART',\n  'VERB',\n  'PUNCT',\n  'NOUN',\n  'AUX',\n  'ADP',\n  'NOUN',\n  'PUNCT'],\n ['PUNCT', 'ADV', 'PUNCT'],\n ['PRON', 'VERB', 'NOUN', 'ADP', 'NOUN', 'VERB', 'PUNCT'],\n ['NUM',\n  'NOUN',\n  'PUNCT',\n  'VERB',\n  'PUNCT',\n  'VERB',\n  'NOUN',\n  'PUNCT',\n  'VERB',\n  'ADP',\n  'NOUN',\n  'PUNCT'],\n ['VERB',\n  'PUNCT',\n  'VERB',\n  'ADP',\n  'NOUN',\n  'ADP',\n  'NOUN',\n  'ADJ',\n  'NOUN',\n  'PUNCT'],\n ['ADV',\n  'PUNCT',\n  'VERB',\n  'PUNCT',\n  'ADV',\n  'VERB',\n  'PUNCT',\n  'PRON',\n  'VERB',\n  'ADV',\n  'PUNCT',\n  'ADJ',\n  'PUNCT',\n  'VERB',\n  'NOUN',\n  'PUNCT'],\n ['CCONJ',\n  'ADV',\n  'PART',\n  'ADP',\n  'NOUN',\n  'NOUN',\n  'PUNCT',\n  'VERB',\n  'ADJ',\n  'NOUN',\n  'PUNCT',\n  'VERB',\n  'VERB',\n  'NOUN',\n  'NOUN',\n  'PUNCT'],\n ['PUNCT',\n  'VERB',\n  'PUNCT',\n  'PUNCT',\n  'VERB',\n  'PROPN',\n  'PUNCT',\n  'VERB',\n  'ADJ',\n  'ADJ',\n  'NOUN',\n  'NOUN',\n  'VERB',\n  'PUNCT',\n  'CCONJ',\n  'VERB',\n  'VERB',\n  'NOUN',\n  'PUNCT'],\n ['ADV', 'VERB', 'NOUN', 'PUNCT'],\n ['NOUN', 'AUX', 'VERB', 'VERB', 'ADJ', 'NOUN', 'PUNCT'],\n ['CCONJ', 'ADP', 'DET', 'ADJ', 'NOUN', 'ADV', 'VERB', 'ADJ', 'NOUN', 'PUNCT'],\n ['NOUN', 'VERB', 'PUNCT', 'VERB', 'PROPN', 'PUNCT'],\n ['VERB',\n  'NOUN',\n  'PUNCT',\n  'VERB',\n  'NOUN',\n  'PUNCT',\n  'ADP',\n  'VERB',\n  'NOUN',\n  'VERB',\n  'NOUN',\n  'PUNCT'],\n ['PRON', 'VERB', 'ADP', 'PROPN', 'DET', 'ADV', 'VERB', 'NOUN', 'PUNCT'],\n ['PRON',\n  'VERB',\n  'PRON',\n  'PUNCT',\n  'PRON',\n  'VERB',\n  'PUNCT',\n  'PUNCT',\n  'VERB',\n  'PUNCT',\n  'PUNCT',\n  'PUNCT',\n  'PRON',\n  'ADJ',\n  'VERB',\n  'PUNCT',\n  'PRON',\n  'VERB',\n  'ADV',\n  'PUNCT'],\n ['ADV',\n  'PUNCT',\n  'ADP',\n  'NOUN',\n  'CCONJ',\n  'NOUN',\n  'NOUN',\n  'PUNCT',\n  'ADJ',\n  'NOUN',\n  'VERB',\n  'ADJ',\n  'PUNCT',\n  'DET',\n  'PUNCT',\n  'PRON',\n  'ADV',\n  'VERB',\n  'ADP',\n  'NOUN',\n  'PUNCT'],\n ['CCONJ',\n  'PRON',\n  'VERB',\n  'ADV',\n  'PUNCT',\n  'VERB',\n  'NOUN',\n  'PUNCT',\n  'CCONJ',\n  'NOUN',\n  'VERB',\n  'VERB',\n  'ADP',\n  'DET',\n  'NOUN',\n  'PUNCT'],\n ['ADV',\n  'PUNCT',\n  'PART',\n  'VERB',\n  'PUNCT',\n  'VERB',\n  'ADV',\n  'NOUN',\n  'NOUN',\n  'NOUN',\n  'ADJ',\n  'NOUN',\n  'PUNCT',\n  'ADP',\n  'NOUN',\n  'VERB',\n  'ADP',\n  'NOUN',\n  'NOUN',\n  'NOUN',\n  'PUNCT'],\n ['PUNCT', 'PRON', 'VERB', 'PUNCT'],\n ['PUNCT', 'PROPN', 'VERB', 'ADP', 'PRON', 'NOUN', 'PUNCT'],\n ['PRON',\n  'VERB',\n  'PUNCT',\n  'SCONJ',\n  'NUM',\n  'NOUN',\n  'VERB',\n  'ADP',\n  'NOUN',\n  'PUNCT',\n  'ADV',\n  'VERB',\n  'PUNCT'],\n ['PUNCT', 'PRON', 'PART', 'VERB', 'PUNCT'],\n ['PART', 'NOUN', 'PUNCT'],\n ['PRON', 'VERB', 'NOUN', 'ADP', 'NOUN', 'NOUN', 'PUNCT'],\n ['DET',\n  'NOUN',\n  'PUNCT',\n  'VERB',\n  'PRON',\n  'PUNCT',\n  'VERB',\n  'ADV',\n  'PUNCT',\n  'ADJ',\n  'NOUN',\n  'AUX',\n  'VERB',\n  'PUNCT'],\n ['NOUN',\n  'PUNCT',\n  'VERB',\n  'PRON',\n  'ADP',\n  'NOUN',\n  'PUNCT',\n  'VERB',\n  'ADV',\n  'PUNCT'],\n ['ADP', 'ADJ', 'VERB', 'NOUN', 'PUNCT'],\n ['PRON',\n  'ADP',\n  'NOUN',\n  'VERB',\n  'PRON',\n  'ADV',\n  'PUNCT',\n  'VERB',\n  'VERB',\n  'NOUN',\n  'PUNCT',\n  'CCONJ',\n  'ADV',\n  'ADV',\n  'AUX',\n  'PUNCT',\n  'SCONJ',\n  'PART',\n  'VERB',\n  'PUNCT',\n  'CCONJ',\n  'PRON',\n  'VERB',\n  'PRON',\n  'CCONJ',\n  'PART',\n  'VERB',\n  'ADV',\n  'PUNCT',\n  'PART',\n  'VERB',\n  'VERB',\n  'PUNCT'],\n ['PUNCT', 'VERB', 'NOUN', 'PUNCT', 'PUNCT', 'VERB', 'PROPN', 'PUNCT'],\n ['PUNCT', 'PRON', 'VERB', 'ADP', 'NOUN', 'PUNCT', 'VERB', 'PUNCT'],\n ['ADP',\n  'NOUN',\n  'PUNCT',\n  'ADP',\n  'ADJ',\n  'NOUN',\n  'VERB',\n  'ADP',\n  'PRON',\n  'PUNCT',\n  'NOUN',\n  'VERB',\n  'NOUN',\n  'NOUN',\n  'PUNCT'],\n ['PUNCT', 'NOUN', 'PUNCT', 'VERB', 'PUNCT'],\n ['CCONJ',\n  'ADJ',\n  'VERB',\n  'ADP',\n  'ADJ',\n  'NOUN',\n  'PUNCT',\n  'ADP',\n  'DET',\n  'NOUN',\n  'NOUN',\n  'PUNCT'],\n ['ADP',\n  'PRON',\n  'ADV',\n  'ADV',\n  'PUNCT',\n  'ADJ',\n  'NOUN',\n  'VERB',\n  'ADJ',\n  'NOUN',\n  'PUNCT'],\n ['PUNCT', 'VERB', 'PUNCT'],\n ['PUNCT', 'PRON', 'ADV', 'PUNCT', 'ADP', 'NOUN', 'VERB', 'NOUN', 'PUNCT'],\n ['PUNCT', 'VERB', 'NOUN', 'PUNCT'],\n ['PRON', 'VERB', 'PUNCT'],\n ['PRON',\n  'ADJ',\n  'PUNCT',\n  'VERB',\n  'PUNCT',\n  'VERB',\n  'NOUN',\n  'ADP',\n  'NOUN',\n  'PUNCT',\n  'CCONJ',\n  'PRON',\n  'ADV',\n  'VERB',\n  'ADP',\n  'NOUN',\n  'PUNCT',\n  'VERB',\n  'ADP',\n  'NOUN',\n  'PUNCT'],\n ['ADV', 'ADV', 'VERB', 'NUM', 'NOUN', 'PUNCT'],\n ['VERB',\n  'PUNCT',\n  'NOUN',\n  'VERB',\n  'ADV',\n  'PUNCT',\n  'VERB',\n  'ADP',\n  'NOUN',\n  'PUNCT'],\n ['CCONJ',\n  'ADV',\n  'ADP',\n  'PRON',\n  'ADP',\n  'ADJ',\n  'ADP',\n  'NOUN',\n  'NOUN',\n  'VERB',\n  'PUNCT',\n  'VERB',\n  'ADV',\n  'PUNCT',\n  'DET',\n  'NOUN',\n  'PUNCT'],\n ['SCONJ', 'VERB', 'VERB', 'NOUN', 'NOUN', 'PUNCT', 'PROPN', 'VERB', 'PUNCT'],\n ['NOUN', 'ADP', 'NOUN', 'VERB', 'NOUN', 'PUNCT'],\n ['PRON', 'VERB', 'PRON', 'ADJ', 'NOUN', 'NOUN', 'PUNCT'],\n ['ADV',\n  'PUNCT',\n  'ADV',\n  'VERB',\n  'NOUN',\n  'PUNCT',\n  'ADV',\n  'VERB',\n  'NOUN',\n  'PUNCT'],\n ['CCONJ',\n  'NOUN',\n  'ADJ',\n  'NOUN',\n  'ADV',\n  'VERB',\n  'ADP',\n  'NOUN',\n  'CCONJ',\n  'NOUN',\n  'PUNCT'],\n ['ADP',\n  'PRON',\n  'PUNCT',\n  'VERB',\n  'PUNCT',\n  'VERB',\n  'ADJ',\n  'ADJ',\n  'NOUN',\n  'PUNCT',\n  'VERB',\n  'ADP',\n  'NOUN',\n  'PUNCT',\n  'ADV',\n  'PUNCT'],\n ['VERB',\n  'ADV',\n  'NOUN',\n  'VERB',\n  'PUNCT',\n  'VERB',\n  'PUNCT',\n  'VERB',\n  'ADV',\n  'PUNCT',\n  'ADV',\n  'PUNCT',\n  'VERB',\n  'ADP',\n  'NOUN',\n  'PUNCT'],\n ['PRON',\n  'VERB',\n  'ADP',\n  'NOUN',\n  'PUNCT',\n  'VERB',\n  'PUNCT',\n  'CCONJ',\n  'NOUN',\n  'PART',\n  'ADV',\n  'VERB',\n  'ADP',\n  'DET',\n  'NOUN',\n  'PUNCT'],\n ['ADP',\n  'DET',\n  'NOUN',\n  'PUNCT',\n  'SCONJ',\n  'PROPN',\n  'VERB',\n  'PUNCT',\n  'NOUN',\n  'NOUN',\n  'ADV',\n  'VERB',\n  'ADV',\n  'PUNCT',\n  'CCONJ',\n  'PRON',\n  'ADV',\n  'PART',\n  'VERB',\n  'ADP',\n  'VERB',\n  'ADP',\n  'NOUN',\n  'NOUN',\n  'PUNCT'],\n ['ADP',\n  'VERB',\n  'NOUN',\n  'DET',\n  'ADV',\n  'VERB',\n  'NOUN',\n  'PUNCT',\n  'ADJ',\n  'NOUN',\n  'VERB',\n  'NOUN',\n  'PUNCT',\n  'CCONJ',\n  'NOUN',\n  'ADV',\n  'ADV',\n  'VERB',\n  'ADP',\n  'NOUN',\n  'PUNCT'],\n ['NOUN', 'NOUN', 'PUNCT', 'VERB', 'NOUN', 'PUNCT', 'VERB', 'PUNCT'],\n ['VERB',\n  'PUNCT',\n  'VERB',\n  'NOUN',\n  'NOUN',\n  'VERB',\n  'PUNCT',\n  'VERB',\n  'ADP',\n  'NOUN',\n  'PUNCT'],\n ['ADP',\n  'PRON',\n  'ADV',\n  'VERB',\n  'NOUN',\n  'PUNCT',\n  'CCONJ',\n  'ADP',\n  'VERB',\n  'NOUN',\n  'ADV',\n  'VERB',\n  'PUNCT'],\n ['CCONJ', 'NOUN', 'AUX', 'ADV', 'PUNCT'],\n ['ADJ', 'PUNCT', 'PRON', 'VERB', 'ADP', 'NOUN', 'PUNCT'],\n ['NOUN', 'PUNCT'],\n ['NOUN', 'PUNCT', 'PUNCT', 'PUNCT'],\n ['CCONJ', 'ADV', 'ADV', 'ADP', 'NOUN', 'VERB', 'NOUN', 'PUNCT'],\n ['CCONJ',\n  'NOUN',\n  'VERB',\n  'ADP',\n  'ADJ',\n  'PUNCT',\n  'ADJ',\n  'PUNCT',\n  'ADJ',\n  'ADJ',\n  'NOUN',\n  'PUNCT',\n  'VERB',\n  'ADV',\n  'PUNCT'],\n ['NOUN', 'ADP', 'VERB', 'NOUN', 'PUNCT'],\n ['NOUN', 'ADP', 'NOUN', 'PUNCT'],\n ['NOUN', 'NOUN', 'CCONJ', 'NOUN', 'PUNCT'],\n ['PUNCT',\n  'ADP',\n  'PRON',\n  'PUNCT',\n  'PUNCT',\n  'ADV',\n  'VERB',\n  'PROPN',\n  'PUNCT',\n  'VERB',\n  'DET',\n  'NOUN',\n  'PUNCT'],\n ['CCONJ',\n  'DET',\n  'PUNCT',\n  'PRON',\n  'VERB',\n  'ADP',\n  'NOUN',\n  'PUNCT',\n  'CCONJ',\n  'DET',\n  'PUNCT',\n  'PRON',\n  'VERB',\n  'PUNCT',\n  'VERB',\n  'PUNCT',\n  'SCONJ',\n  'PRON',\n  'VERB',\n  'ADP',\n  'PRON',\n  'ADP',\n  'DET',\n  'DET',\n  'NOUN',\n  'ADP',\n  'ADJ',\n  'PUNCT',\n  'VERB',\n  'ADP',\n  'PRON',\n  'NOUN',\n  'CCONJ',\n  'NOUN',\n  'ADP',\n  'VERB',\n  'NOUN',\n  'PUNCT',\n  'PART',\n  'VERB',\n  'PRON',\n  'PRON',\n  'ADP',\n  'NOUN',\n  'CCONJ',\n  'NOUN',\n  'PUNCT'],\n ['ADP', 'PRON', 'PUNCT'],\n ['PROPN',\n  'VERB',\n  'PUNCT',\n  'VERB',\n  'ADP',\n  'NOUN',\n  'VERB',\n  'ADP',\n  'NOUN',\n  'NOUN',\n  'PUNCT'],\n ['PRON',\n  'PART',\n  'VERB',\n  'PUNCT',\n  'VERB',\n  'PUNCT',\n  'VERB',\n  'PUNCT',\n  'SCONJ',\n  'ADP',\n  'PRON',\n  'PUNCT',\n  'ADV',\n  'ADP',\n  'PRON',\n  'ADP',\n  'ADJ',\n  'VERB',\n  'NOUN',\n  'VERB',\n  'NOUN',\n  'ADP',\n  'NOUN',\n  'PUNCT',\n  'VERB',\n  'ADP',\n  'PRON',\n  'ADJ',\n  'NOUN',\n  'NOUN',\n  'PUNCT'],\n ['ADP', 'NOUN', 'PRON', 'VERB', 'PUNCT', 'VERB', 'PUNCT'],\n ['NOUN', 'PUNCT'],\n ['VERB', 'ADP', 'NOUN', 'NOUN', 'PUNCT'],\n ['VERB', 'ADP', 'NOUN', 'ADJ', 'NOUN', 'NOUN', 'PUNCT'],\n ['ADJ', 'ADJ', 'PUNCT', 'VERB', 'NOUN', 'NOUN', 'PUNCT'],\n ['ADP',\n  'NOUN',\n  'PUNCT',\n  'ADP',\n  'NOUN',\n  'VERB',\n  'ADP',\n  'NOUN',\n  'PUNCT',\n  'VERB',\n  'VERB',\n  'NOUN',\n  'NOUN',\n  'PUNCT'],\n ['CCONJ', 'PRON', 'ADV', 'ADV', 'PUNCT', 'ADV', 'PUNCT'],\n ['NOUN', 'VERB', 'ADV', 'PUNCT'],\n ['CCONJ',\n  'ADP',\n  'NUM',\n  'NOUN',\n  'ADV',\n  'NOUN',\n  'PUNCT',\n  'VERB',\n  'ADV',\n  'VERB',\n  'ADJ',\n  'NOUN',\n  'PUNCT',\n  'PART',\n  'ADV',\n  'VERB',\n  'ADJ',\n  'NOUN',\n  'PUNCT'],\n ['VERB',\n  'NOUN',\n  'ADP',\n  'NOUN',\n  'PUNCT',\n  'VERB',\n  'PUNCT',\n  'ADP',\n  'DET',\n  'NOUN',\n  'PUNCT',\n  'ADP',\n  'NOUN',\n  'ADP',\n  'NOUN',\n  'PUNCT',\n  'PRON',\n  'VERB',\n  'ADP',\n  'NOUN',\n  'PUNCT',\n  'NOUN',\n  'NOUN',\n  'VERB',\n  'PRON',\n  'PUNCT',\n  'VERB',\n  'ADP',\n  'NOUN',\n  'PUNCT'],\n ['ADV', 'PART', 'PRON', 'ADJ', 'VERB', 'ADP', 'NOUN', 'PUNCT'],\n ['CCONJ',\n  'SCONJ',\n  'VERB',\n  'PRON',\n  'ADP',\n  'NOUN',\n  'PUNCT',\n  'ADP',\n  'NOUN',\n  'VERB',\n  'ADJ',\n  'PUNCT',\n  'PART',\n  'VERB',\n  'NOUN',\n  'PUNCT'],\n ['ADP',\n  'NOUN',\n  'ADP',\n  'ADJ',\n  'NOUN',\n  'VERB',\n  'NOUN',\n  'PUNCT',\n  'CCONJ',\n  'ADP',\n  'NOUN',\n  'PUNCT',\n  'ADV',\n  'PUNCT',\n  'ADV',\n  'VERB',\n  'ADJ',\n  'NOUN',\n  'PUNCT',\n  'PART',\n  'VERB',\n  'NOUN',\n  'PUNCT',\n  'CCONJ',\n  'PRON',\n  'VERB',\n  'ADJ',\n  'ADP',\n  'NOUN',\n  'PUNCT'],\n ['DET',\n  'NOUN',\n  'PUNCT',\n  'SCONJ',\n  'PRON',\n  'VERB',\n  'PUNCT',\n  'ADV',\n  'PUNCT',\n  'ADV',\n  'ADV',\n  'ADJ',\n  'AUX',\n  'NOUN',\n  'PUNCT',\n  'NOUN',\n  'NOUN',\n  'CCONJ',\n  'ADJ',\n  'ADJ',\n  'CCONJ',\n  'ADJ',\n  'NOUN',\n  'PUNCT'],\n ['CCONJ',\n  'ADV',\n  'PUNCT',\n  'ADP',\n  'PRON',\n  'PUNCT',\n  'ADV',\n  'VERB',\n  'NOUN',\n  'NOUN',\n  'PUNCT',\n  'NOUN',\n  'AUX',\n  'ADJ',\n  'PUNCT',\n  'CCONJ',\n  'ADV',\n  'ADJ',\n  'VERB',\n  'ADP',\n  'NOUN',\n  'NOUN',\n  'PUNCT'],\n ['DET',\n  'ADJ',\n  'ADV',\n  'VERB',\n  'ADV',\n  'CCONJ',\n  'PART',\n  'VERB',\n  'NOUN',\n  'VERB',\n  'NOUN',\n  'PUNCT'],\n ['ADP',\n  'NUM',\n  'NOUN',\n  'PUNCT',\n  'SCONJ',\n  'NOUN',\n  'AUX',\n  'VERB',\n  'PUNCT',\n  'NOUN',\n  'VERB',\n  'PUNCT'],\n ['NOUN',\n  'VERB',\n  'NOUN',\n  'PUNCT',\n  'VERB',\n  'ADP',\n  'ADJ',\n  'NOUN',\n  'PUNCT',\n  'ADJ',\n  'ADP',\n  'NOUN',\n  'CCONJ',\n  'NOUN',\n  'NOUN',\n  'VERB',\n  'NOUN',\n  'PUNCT',\n  'VERB',\n  'PUNCT',\n  'ADV',\n  'VERB',\n  'ADJ',\n  'NOUN',\n  'ADV',\n  'ADP',\n  'ADV',\n  'NOUN',\n  'PUNCT'],\n ['VERB',\n  'NOUN',\n  'NOUN',\n  'PUNCT',\n  'NOUN',\n  'NOUN',\n  'VERB',\n  'ADP',\n  'NOUN',\n  'PUNCT',\n  'ADV',\n  'VERB',\n  'PUNCT',\n  'VERB',\n  'ADP',\n  'NOUN',\n  'PUNCT'],\n ['ADJ',\n  'NOUN',\n  'VERB',\n  'ADP',\n  'NOUN',\n  'PUNCT',\n  'ADP',\n  'NOUN',\n  'ADJ',\n  'NOUN',\n  'VERB',\n  'NOUN',\n  'PUNCT'],\n ['ADV', 'ADJ', 'VERB', 'NOUN', 'ADP', 'NOUN', 'PUNCT'],\n ['NOUN', 'VERB', 'ADP', 'NUM', 'PUNCT'],\n ['NOUN', 'PART', 'PART', 'VERB', 'PUNCT'],\n ['CCONJ',\n  'PRON',\n  'ADP',\n  'PRON',\n  'PUNCT',\n  'CCONJ',\n  'NOUN',\n  'NOUN',\n  'PUNCT',\n  'CCONJ',\n  'DET',\n  'NOUN',\n  'PUNCT',\n  'VERB',\n  'ADP',\n  'NOUN',\n  'PUNCT',\n  'PUNCT',\n  'PART',\n  'VERB',\n  'PUNCT',\n  'SCONJ',\n  'CCONJ',\n  'PRON',\n  'ADJ',\n  'PUNCT',\n  'CCONJ',\n  'VERB',\n  'PRON',\n  'NOUN',\n  'PUNCT',\n  'PRON',\n  'AUX',\n  'ADV',\n  'ADP',\n  'NOUN',\n  'ADP',\n  'NOUN',\n  'PUNCT'],\n ['NUM', 'NUM', 'NOUN', 'VERB', 'PROPN', 'ADP', 'NOUN', 'PUNCT'],\n ['NUM',\n  'NUM',\n  'VERB',\n  'ADP',\n  'ADJ',\n  'CCONJ',\n  'PART',\n  'VERB',\n  'ADV',\n  'PUNCT',\n  'ADV',\n  'ADP',\n  'PRON',\n  'PRON',\n  'ADV',\n  'ADJ',\n  'PUNCT'],\n ['ADP',\n  'VERB',\n  'PUNCT',\n  'VERB',\n  'NOUN',\n  'PRON',\n  'VERB',\n  'ADP',\n  'NOUN',\n  'PUNCT',\n  'VERB',\n  'NOUN',\n  'ADP',\n  'NOUN',\n  'PUNCT',\n  'PART',\n  'VERB',\n  'PUNCT',\n  'VERB',\n  'ADP',\n  'NOUN',\n  'NOUN',\n  'PUNCT',\n  'NOUN',\n  'CCONJ',\n  'NOUN',\n  'PUNCT',\n  'CCONJ',\n  'NUM',\n  'PART',\n  'PART',\n  'VERB',\n  'ADV',\n  'PUNCT',\n  'SCONJ',\n  'VERB',\n  'PUNCT'],\n ['PRON',\n  'ADV',\n  'ADJ',\n  'PUNCT',\n  'ADP',\n  'NOUN',\n  'VERB',\n  'ADP',\n  'NOUN',\n  'ADP',\n  'NOUN',\n  'PUNCT',\n  'NOUN',\n  'VERB',\n  'NOUN',\n  'CCONJ',\n  'VERB',\n  'ADP',\n  'NOUN',\n  'PUNCT'],\n ['NOUN',\n  'ADV',\n  'PART',\n  'VERB',\n  'NOUN',\n  'PUNCT',\n  'PRON',\n  'VERB',\n  'PRON',\n  'PUNCT',\n  'VERB',\n  'NOUN',\n  'ADJ',\n  'CCONJ',\n  'VERB',\n  'ADP',\n  'NOUN',\n  'PUNCT'],\n ['ADP',\n  'NOUN',\n  'DET',\n  'VERB',\n  'VERB',\n  'NOUN',\n  'CCONJ',\n  'NOUN',\n  'PUNCT',\n  'NOUN',\n  'ADP',\n  'NOUN',\n  'CCONJ',\n  'NOUN',\n  'ADJ',\n  'NOUN',\n  'AUX',\n  'ADJ',\n  'PUNCT'],\n ['VERB',\n  'ADV',\n  'PUNCT',\n  'VERB',\n  'ADP',\n  'NOUN',\n  'PUNCT',\n  'PROPN',\n  'VERB',\n  'PRON',\n  'PUNCT',\n  'PROPN',\n  'PUNCT'],\n ['DET',\n  'ADJ',\n  'NOUN',\n  'PUNCT',\n  'PRON',\n  'VERB',\n  'ADP',\n  'PRON',\n  'CCONJ',\n  'ADP',\n  'PROPN',\n  'PUNCT'],\n ['CCONJ', 'PROPN', 'VERB', 'PUNCT', 'VERB', 'PRON', 'ADJ', 'PUNCT'],\n ['ADV',\n  'ADP',\n  'PROPN',\n  'NOUN',\n  'PUNCT',\n  'ADV',\n  'VERB',\n  'PUNCT',\n  'VERB',\n  'VERB',\n  'NOUN',\n  'NOUN',\n  'PUNCT',\n  'ADV',\n  'VERB',\n  'NOUN',\n  'PUNCT'],\n ['PUNCT',\n  'ADV',\n  None,\n  'PRON',\n  'PRON',\n  'PUNCT',\n  'INTJ',\n  'PUNCT',\n  'PUNCT',\n  'PUNCT'],\n ['ADV', None, 'PRON', 'PRON', 'PUNCT', 'PUNCT', 'PUNCT', 'PUNCT'],\n ['CCONJ', 'VERB', 'NOUN', 'VERB', 'NOUN', 'PUNCT'],\n ['ADJ',\n  'PUNCT',\n  'VERB',\n  'NOUN',\n  'PUNCT',\n  'VERB',\n  'PUNCT',\n  'VERB',\n  'ADP',\n  'NOUN',\n  'ADJ',\n  'NOUN',\n  'PUNCT',\n  'VERB',\n  'PUNCT',\n  'VERB',\n  'ADP',\n  'NOUN',\n  'NOUN',\n  'PUNCT'],\n ['ADV',\n  'ADJ',\n  'AUX',\n  'NOUN',\n  'CCONJ',\n  'ADV',\n  'ADV',\n  None,\n  'ADJ',\n  'NOUN',\n  'PUNCT',\n  'VERB',\n  'ADP',\n  'NOUN',\n  'PUNCT'],\n ['VERB',\n  'ADP',\n  'NOUN',\n  'NOUN',\n  'PUNCT',\n  'CCONJ',\n  'NOUN',\n  'PUNCT',\n  'VERB',\n  'ADP',\n  'NOUN',\n  'PUNCT',\n  'VERB',\n  'ADP',\n  'NOUN',\n  'PUNCT',\n  'SCONJ',\n  'NOUN',\n  'PUNCT'],\n ['ADV',\n  'PUNCT',\n  'ADP',\n  'NOUN',\n  'NOUN',\n  'PUNCT',\n  'ADV',\n  'ADV',\n  'VERB',\n  'ADJ',\n  'NOUN',\n  'PUNCT'],\n ['PROPN',\n  'VERB',\n  'ADP',\n  'NOUN',\n  'PUNCT',\n  'NOUN',\n  'VERB',\n  'ADP',\n  'NOUN',\n  'PUNCT',\n  'VERB',\n  'NOUN',\n  'ADP',\n  'NOUN',\n  'NOUN',\n  'PUNCT'],\n ['PRON',\n  'VERB',\n  'PUNCT',\n  'SCONJ',\n  'NOUN',\n  'VERB',\n  'ADP',\n  'NOUN',\n  'PUNCT',\n  'ADV',\n  'PRON',\n  'AUX',\n  'ADV',\n  'PUNCT'],\n ['CCONJ', 'PRON', 'PART', 'PART', 'VERB', 'NOUN', 'VERB', 'PUNCT'],\n ['ADV', 'ADV', 'ADJ', 'VERB', 'NOUN', 'PUNCT'],\n ['VERB', 'PUNCT', 'VERB', 'ADV', 'PUNCT'],\n ['ADP',\n  'PROPN',\n  'ADJ',\n  'NOUN',\n  'NOUN',\n  'PUNCT',\n  'PROPN',\n  'PUNCT',\n  'NUM',\n  'NOUN',\n  'ADJ',\n  'NOUN',\n  'VERB',\n  'NOUN',\n  'ADP',\n  'NOUN',\n  'ADP',\n  'PROPN',\n  'CCONJ',\n  'ADJ',\n  'NOUN',\n  'PUNCT',\n  'ADJ',\n  'NOUN',\n  'PUNCT',\n  'PUNCT'],\n ['ADP',\n  'NOUN',\n  'ADP',\n  'PRON',\n  'NOUN',\n  'VERB',\n  'VERB',\n  'SYM',\n  'NUM',\n  'PUNCT',\n  'NUM',\n  'NOUN',\n  'ADP',\n  'NOUN',\n  'ADP',\n  'NOUN',\n  'NOUN',\n  'ADP',\n  'NOUN',\n  'ADV',\n  'ADJ',\n  'ADJ',\n  'NOUN',\n  'PUNCT'],\n ['DET',\n  'NOUN',\n  'ADP',\n  'ADJ',\n  'NOUN',\n  'VERB',\n  'ADV',\n  'ADP',\n  'NUM',\n  'NOUN',\n  'PUNCT'],\n ['NOUN',\n  'ADP',\n  'NOUN',\n  'CCONJ',\n  'NOUN',\n  'ADP',\n  'NOUN',\n  'ADP',\n  'NOUN',\n  'ADJ',\n  'NOUN',\n  'CCONJ',\n  'ADJ',\n  'NOUN',\n  'PUNCT',\n  'ADJ',\n  'NOUN',\n  'PUNCT',\n  'SCONJ',\n  'ADJ',\n  'ADJ',\n  'NOUN',\n  'VERB',\n  'VERB',\n  'ADJ',\n  'NOUN',\n  'PUNCT'],\n ['PUNCT',\n  'ADP',\n  'NOUN',\n  'ADJ',\n  'NOUN',\n  'ADP',\n  'PROPN',\n  'VERB',\n  'NUM',\n  'NOUN',\n  'ADP',\n  'DET',\n  'ADJ',\n  'NOUN',\n  'PUNCT',\n  'ADJ',\n  'NOUN',\n  'CCONJ',\n  'DET',\n  'NOUN',\n  'PUNCT',\n  'PRON',\n  'VERB',\n  'ADV',\n  'NOUN',\n  'NOUN',\n  'ADP',\n  'NOUN',\n  'PUNCT',\n  'PUNCT',\n  'VERB',\n  'ADP',\n  'NOUN',\n  'NOUN',\n  'ADJ',\n  'NOUN',\n  'NOUN',\n  'PUNCT',\n  'ADJ',\n  'NOUN',\n  'PUNCT',\n  'PROPN',\n  'PROPN',\n  'PUNCT'],\n ['PRON',\n  'VERB',\n  'ADV',\n  'ADP',\n  'PROPN',\n  'NOUN',\n  'VERB',\n  'ADP',\n  'NOUN',\n  'PUNCT',\n  'SCONJ',\n  'NOUN',\n  'VERB',\n  'ADP',\n  'NOUN',\n  'ADJ',\n  'NOUN',\n  'PUNCT',\n  'PART',\n  'ADP',\n  'PRON',\n  'ADV',\n  'VERB',\n  'CCONJ',\n  'ADJ',\n  'NOUN',\n  'PUNCT',\n  'CCONJ',\n  'NOUN',\n  'ADP',\n  'NOUN',\n  'CCONJ',\n  'NOUN',\n  'ADJ',\n  'NOUN',\n  'PUNCT',\n  'PUNCT'],\n ['DET', 'NOUN', 'ADJ', 'NUM', 'NOUN', 'PUNCT'],\n ['PART',\n  'NOUN',\n  'NOUN',\n  'ADP',\n  'NOUN',\n  'NOUN',\n  'VERB',\n  'ADV',\n  'PUNCT',\n  'CCONJ',\n  'NOUN',\n  'VERB',\n  'ADJ',\n  'NOUN',\n  'PUNCT'],\n ['PART',\n  'PUNCT',\n  'CCONJ',\n  'NOUN',\n  'VERB',\n  'ADV',\n  'ADJ',\n  'PRON',\n  'NOUN',\n  'PUNCT'],\n ['PUNCT',\n  'PRON',\n  'PART',\n  'VERB',\n  'VERB',\n  'PUNCT',\n  'SCONJ',\n  'ADJ',\n  'NOUN',\n  'NOUN',\n  'VERB',\n  'ADP',\n  'PRON',\n  'PUNCT',\n  'ADV',\n  'AUX',\n  'VERB',\n  'DET',\n  'ADJ',\n  'NOUN',\n  'PUNCT',\n  'PUNCT',\n  'VERB',\n  'NOUN',\n  'PROPN',\n  'PROPN',\n  'PROPN',\n  'PUNCT'],\n ['PRON',\n  'ADV',\n  'VERB',\n  'NOUN',\n  'ADJ',\n  'NOUN',\n  'VERB',\n  'ADP',\n  'NOUN',\n  'PUNCT'],\n ['ADV', 'PUNCT', 'ADP', 'PRON', 'VERB', 'ADJ', 'NOUN', 'PUNCT'],\n ['ADP',\n  'DET',\n  'NOUN',\n  'NOUN',\n  'PROPN',\n  'NOUN',\n  'ADV',\n  'VERB',\n  'ADP',\n  'NOUN',\n  'ADJ',\n  'NOUN',\n  'NOUN',\n  'CCONJ',\n  'NOUN',\n  'CCONJ',\n  'NOUN',\n  'ADJ',\n  'NOUN',\n  'NOUN',\n  'PUNCT',\n  'ADV',\n  'PRON',\n  'PRON',\n  'PART',\n  'VERB',\n  'ADP',\n  'NOUN',\n  'NOUN',\n  'DET',\n  'NOUN',\n  'PUNCT'],\n ['ADV',\n  'PART',\n  'PRON',\n  'VERB',\n  'ADJ',\n  'NOUN',\n  'CCONJ',\n  'VERB',\n  'VERB',\n  'PUNCT',\n  'SCONJ',\n  'ADP',\n  'NOUN',\n  'ADJ',\n  'NOUN',\n  'PRON',\n  'PART',\n  'VERB',\n  'ADP',\n  'NOUN',\n  'PUNCT'],\n ['PUNCT',\n  'ADP',\n  'PRON',\n  'VERB',\n  'PART',\n  'ADV',\n  'NUM',\n  'ADJ',\n  'NOUN',\n  'PUNCT',\n  'PRON',\n  'ADV',\n  'VERB',\n  'ADP',\n  'ADJ',\n  'NOUN',\n  'PUNCT',\n  'PUNCT',\n  'VERB',\n  'NOUN',\n  'PROPN',\n  'PROPN',\n  'PROPN',\n  'PUNCT',\n  'NOUN',\n  'ADJ',\n  'ADJ',\n  'NOUN',\n  'PUNCT',\n  'ADJ',\n  'NOUN',\n  'PUNCT',\n  'PUNCT',\n  'NOUN',\n  'PUNCT',\n  'PUNCT',\n  'PRON',\n  'AUX',\n  'VERB',\n  'ADJ',\n  'NOUN',\n  'ADP',\n  'ADJ',\n  'NOUN',\n  'PUNCT'],\n ['ADV',\n  'ADV',\n  'NOUN',\n  'VERB',\n  'ADP',\n  'NOUN',\n  'PUNCT',\n  'ADP',\n  'ADJ',\n  'NOUN',\n  'PUNCT',\n  'PRON',\n  'VERB',\n  'ADJ',\n  'NOUN',\n  'PUNCT'],\n ['PART',\n  'ADV',\n  'NOUN',\n  'ADP',\n  'PUNCT',\n  'ADJ',\n  'NOUN',\n  'PUNCT',\n  'VERB',\n  'ADP',\n  'PRON',\n  'PUNCT',\n  'PRON',\n  'VERB',\n  'PUNCT',\n  'SCONJ',\n  'ADP',\n  'PRON',\n  'ADV',\n  'VERB',\n  'NOUN',\n  'PUNCT'],\n ['ADV',\n  'VERB',\n  'ADJ',\n  'NOUN',\n  'PUNCT',\n  'NOUN',\n  'NOUN',\n  'ADV',\n  'PUNCT',\n  'PART',\n  'ADJ',\n  'PUNCT'],\n ['ADP',\n  'NOUN',\n  'PRON',\n  'VERB',\n  'VERB',\n  'NOUN',\n  'ADV',\n  'NUM',\n  'NOUN',\n  'NOUN',\n  'CCONJ',\n  'ADP',\n  'NUM',\n  'PUNCT',\n  'NUM',\n  'NOUN',\n  'VERB',\n  'ADV',\n  'ADJ',\n  'NOUN',\n  'PUNCT',\n  'PUNCT'],\n ['ADJ',\n  'NOUN',\n  'PUNCT',\n  'PRON',\n  'NOUN',\n  'PUNCT',\n  'ADP',\n  'PRON',\n  'NOUN',\n  'NOUN',\n  'ADV',\n  'VERB',\n  'ADP',\n  'ADJ',\n  'NOUN',\n  'ADP',\n  'NOUN',\n  'ADJ',\n  'NOUN',\n  'PUNCT'],\n ['PRON',\n  'VERB',\n  'ADV',\n  'PUNCT',\n  'ADP',\n  'NUM',\n  'NOUN',\n  'PUNCT',\n  'VERB',\n  'NOUN',\n  'ADJ',\n  'NOUN',\n  'PUNCT'],\n ['ADV',\n  'ADJ',\n  'VERB',\n  'ADJ',\n  'NOUN',\n  'PUNCT',\n  'ADP',\n  'PRON',\n  'NOUN',\n  'VERB',\n  'ADP',\n  'NOUN',\n  'NOUN',\n  'NOUN',\n  'NOUN',\n  'NOUN',\n  'ADP',\n  'NOUN',\n  'NOUN',\n  'CCONJ',\n  'NOUN',\n  'PUNCT'],\n ['ADJ',\n  'NOUN',\n  'PUNCT',\n  'PRON',\n  'VERB',\n  'ADP',\n  'NOUN',\n  'NOUN',\n  'PUNCT',\n  'PUNCT',\n  'VERB',\n  'ADJ',\n  'NOUN',\n  'PUNCT'],\n ['ADV',\n  'ADV',\n  'ADJ',\n  'NOUN',\n  'VERB',\n  'ADJ',\n  'ADJ',\n  'NOUN',\n  'CCONJ',\n  'ADJ',\n  'NOUN',\n  'PUNCT'],\n ['NOUN',\n  'ADP',\n  'NOUN',\n  'DET',\n  'NOUN',\n  'VERB',\n  'NOUN',\n  'PUNCT',\n  'PROPN',\n  'PUNCT',\n  'CCONJ',\n  'VERB',\n  'DET',\n  'NOUN',\n  'ADV',\n  'ADV',\n  'PUNCT'],\n ['ADP',\n  'NOUN',\n  'NUM',\n  'NOUN',\n  'NOUN',\n  'NOUN',\n  'VERB',\n  'ADV',\n  'ADP',\n  'NUM',\n  'NOUN',\n  'NOUN',\n  'PUNCT'],\n ['CCONJ',\n  'ADJ',\n  'ADP',\n  'NOUN',\n  'ADP',\n  'ADJ',\n  'NOUN',\n  'NOUN',\n  'ADJ',\n  'NOUN',\n  'VERB',\n  'ADP',\n  'NOUN',\n  'ADP',\n  'NOUN',\n  'PUNCT',\n  'ADJ',\n  'NOUN',\n  'ADP',\n  'NOUN',\n  'PUNCT'],\n ['PROPN',\n  'ADJ',\n  'NOUN',\n  'ADP',\n  'ADJ',\n  'ADJ',\n  'NOUN',\n  'VERB',\n  'ADP',\n  'NOUN',\n  'ADP',\n  'ADJ',\n  'ADJ',\n  'NOUN',\n  'PUNCT',\n  'NOUN',\n  'PUNCT',\n  'PUNCT'],\n ['ADV',\n  'DET',\n  'VERB',\n  'NOUN',\n  'VERB',\n  'NOUN',\n  'NOUN',\n  'ADP',\n  'ADJ',\n  'NOUN',\n  'PUNCT',\n  'PROPN',\n  'PUNCT',\n  'PUNCT',\n  'PRON',\n  'VERB',\n  'ADP',\n  'ADJ',\n  'NOUN',\n  'ADJ',\n  'NOUN',\n  'PUNCT'],\n ['ADV',\n  'PUNCT',\n  'ADP',\n  'DET',\n  'NOUN',\n  'NOUN',\n  'VERB',\n  'NOUN',\n  'PART',\n  'ADP',\n  'NOUN',\n  'ADP',\n  'ADJ',\n  'NOUN',\n  'PUNCT',\n  'ADP',\n  'NOUN',\n  'PUNCT',\n  'ADP',\n  'ADJ',\n  'ADJ',\n  'PUNCT'],\n ['ADP',\n  'PRON',\n  'VERB',\n  'VERB',\n  'NOUN',\n  'ADJ',\n  'NOUN',\n  'PUNCT',\n  'PRON',\n  'VERB',\n  'ADP',\n  'ADJ',\n  'NOUN',\n  'PUNCT'],\n ['PUNCT',\n  'ADP',\n  'NOUN',\n  'NOUN',\n  'ADP',\n  'DET',\n  'NOUN',\n  'PRON',\n  'AUX',\n  'VERB',\n  'DET',\n  'VERB',\n  'NOUN',\n  'PUNCT',\n  'ADP',\n  'ADJ',\n  'PUNCT',\n  'ADP',\n  'ADJ',\n  'CCONJ',\n  'ADP',\n  'ADJ',\n  'NOUN',\n  'PUNCT',\n  'PUNCT',\n  'VERB',\n  'PROPN',\n  'PROPN',\n  'PUNCT'],\n ['DET',\n  'NOUN',\n  'AUX',\n  'VERB',\n  'NOUN',\n  'ADJ',\n  'NOUN',\n  'ADP',\n  'PUNCT',\n  'VERB',\n  'PUNCT',\n  'NOUN',\n  'PUNCT',\n  'ADJ',\n  'PART',\n  'VERB',\n  'NOUN',\n  'ADJ',\n  'NOUN',\n  'PUNCT',\n  'PUNCT'],\n ['ADJ', 'NOUN', 'PUNCT', 'NOUN', 'CCONJ', 'NOUN', 'ADP', 'PRON', 'PUNCT'],\n ['NUM',\n  'ADP',\n  'ADJ',\n  'NOUN',\n  'PUNCT',\n  'PRON',\n  'VERB',\n  'ADP',\n  'NOUN',\n  'ADJ',\n  'NOUN',\n  'PUNCT',\n  'VERB',\n  'ADP',\n  'PRON',\n  'PUNCT',\n  'SCONJ',\n  'VERB',\n  'NOUN',\n  'ADP',\n  'NOUN',\n  'NOUN',\n  'ADJ',\n  'NOUN',\n  'PUNCT'],\n ['ADV',\n  'PRON',\n  'PUNCT',\n  'ADJ',\n  'ADP',\n  'PRON',\n  'NOUN',\n  'DET',\n  'NOUN',\n  'VERB',\n  'PRON',\n  'ADJ',\n  'NOUN',\n  'PUNCT'],\n ['ADV',\n  'ADP',\n  'ADJ',\n  'NOUN',\n  'NOUN',\n  'ADJ',\n  'NOUN',\n  'CCONJ',\n  'ADJ',\n  'NOUN',\n  'VERB',\n  'VERB',\n  'VERB',\n  'ADJ',\n  'NOUN',\n  'PUNCT',\n  'NOUN',\n  'CCONJ',\n  'NOUN',\n  'PUNCT'],\n ['ADV',\n  'ADV',\n  'ADP',\n  'ADJ',\n  'NOUN',\n  'VERB',\n  'ADV',\n  'DET',\n  'NOUN',\n  'PUNCT',\n  'ADJ',\n  'NOUN',\n  'PUNCT',\n  'PRON',\n  'VERB',\n  'NOUN',\n  'PUNCT',\n  'NOUN',\n  'PUNCT',\n  'NOUN',\n  'PUNCT',\n  'ADJ',\n  'NOUN',\n  'CCONJ',\n  'DET',\n  'ADJ',\n  'NOUN',\n  'ADP',\n  'NOUN',\n  'PUNCT'],\n ['ADP',\n  'NOUN',\n  'ADJ',\n  'NOUN',\n  'ADP',\n  'ADJ',\n  'NOUN',\n  'NOUN',\n  'NOUN',\n  'VERB',\n  'ADV',\n  'NOUN',\n  'PUNCT'],\n ['ADP',\n  'ADJ',\n  'NOUN',\n  'VERB',\n  'ADV',\n  'ADJ',\n  'NOUN',\n  'PUNCT',\n  'PRON',\n  'ADJ',\n  'PUNCT',\n  'ADP',\n  'NOUN',\n  'NOUN',\n  'PUNCT',\n  'VERB',\n  'ADJ',\n  'NOUN',\n  'ADP',\n  'NOUN',\n  'CCONJ',\n  'ADJ',\n  'NOUN',\n  'PUNCT'],\n ['PART',\n  'ADP',\n  'PRON',\n  'PUNCT',\n  'SCONJ',\n  'ADP',\n  'NOUN',\n  'ADP',\n  'DET',\n  'ADJ',\n  'NOUN',\n  'PUNCT',\n  'ADP',\n  'NOUN',\n  'PUNCT',\n  'ADV',\n  'VERB',\n  'CCONJ',\n  'PART',\n  'NOUN',\n  'PUNCT',\n  'CCONJ',\n  'NOUN',\n  'ADP',\n  'ADJ',\n  'NOUN',\n  'PUNCT',\n  'DET',\n  'NOUN',\n  'PART',\n  'VERB',\n  'ADV',\n  'ADJ',\n  'PUNCT'],\n ['ADV',\n  'ADV',\n  'ADV',\n  'VERB',\n  'NOUN',\n  'NOUN',\n  'PUNCT',\n  'SCONJ',\n  'ADJ',\n  'VERB',\n  'NOUN',\n  'NOUN',\n  'PUNCT',\n  'NOUN',\n  'PUNCT',\n  'ADV',\n  'VERB',\n  'NOUN',\n  'ADP',\n  'DET',\n  'NOUN',\n  'PUNCT'],\n ['ADP',\n  'NOUN',\n  'DET',\n  'NOUN',\n  'ADP',\n  'ADJ',\n  'NOUN',\n  'VERB',\n  'DET',\n  'NOUN',\n  'PUNCT'],\n ['VERB',\n  'PUNCT',\n  'SCONJ',\n  'NOUN',\n  'VERB',\n  'ADP',\n  'NOUN',\n  'PUNCT',\n  'CCONJ',\n  'ADP',\n  'ADJ',\n  'ADJ',\n  'NOUN',\n  'ADV',\n  'VERB',\n  'NOUN',\n  'PUNCT'],\n ['ADJ', 'PART', 'NOUN', 'VERB', 'VERB', 'ADP', 'ADJ', 'NOUN', 'PUNCT'],\n ['PROPN',\n  'PROPN',\n  'VERB',\n  'ADP',\n  'ADJ',\n  'NOUN',\n  'NOUN',\n  'ADP',\n  'NOUN',\n  'PROPN',\n  'PROPN',\n  'PUNCT'],\n ['ADV',\n  'PUNCT',\n  'SCONJ',\n  'PUNCT',\n  'NOUN',\n  'NOUN',\n  'PUNCT',\n  'ADV',\n  'VERB',\n  'PUNCT',\n  'VERB',\n  'ADJ',\n  'PUNCT',\n  'SCONJ',\n  'PROPN',\n  'PROPN',\n  'ADV',\n  'ADV',\n  'VERB',\n  'NOUN',\n  'ADP',\n  'PROPN',\n  'PROPN',\n  'PUNCT',\n  'CCONJ',\n  'PUNCT',\n  'VERB',\n  'VERB',\n  'PUNCT',\n  'PART',\n  'PART',\n  'PART',\n  'VERB',\n  'PRON',\n  'PUNCT',\n  'PART',\n  'VERB',\n  'PUNCT'],\n ['PART', 'ADV', 'VERB', 'ADJ', 'DET', 'NOUN', 'PUNCT', 'NOUN', 'PUNCT'],\n ['ADV', 'NOUN', 'VERB', 'DET', 'NOUN', 'ADV', 'ADV', 'PUNCT'],\n ['VERB',\n  'NOUN',\n  'PROPN',\n  'PUNCT',\n  'VERB',\n  'NOUN',\n  'ADP',\n  'NOUN',\n  'PROPN',\n  'PUNCT',\n  'VERB',\n  'ADJ',\n  'NOUN',\n  'ADP',\n  'ADJ',\n  'CCONJ',\n  'ADJ',\n  'PROPN',\n  'PUNCT'],\n ['SCONJ',\n  'PRON',\n  'PUNCT',\n  'PART',\n  'ADP',\n  'ADJ',\n  'NOUN',\n  'PUNCT',\n  'PROPN',\n  'VERB',\n  'ADJ',\n  'NOUN',\n  'CCONJ',\n  'NOUN',\n  'NOUN',\n  'DET',\n  'NOUN',\n  'PUNCT',\n  'SCONJ',\n  'PUNCT',\n  'ADJ',\n  'PUNCT',\n  'CCONJ',\n  'PUNCT',\n  'ADJ',\n  'PUNCT',\n  'VERB',\n  'NOUN',\n  'PART',\n  'ADP',\n  'ADJ',\n  'ADJ',\n  'NOUN',\n  'PUNCT',\n  'CCONJ',\n  'VERB',\n  'NOUN',\n  'DET',\n  'NOUN',\n  'PUNCT'],\n ['PART',\n  'ADP',\n  'DET',\n  'ADJ',\n  'NOUN',\n  'PUNCT',\n  'ADP',\n  'NOUN',\n  'NOUN',\n  'ADP',\n  'NOUN',\n  'PUNCT',\n  'PROPN',\n  'SCONJ',\n  'NOUN',\n  'PART',\n  'VERB',\n  'ADP',\n  'PROPN',\n  'PUNCT',\n  'VERB',\n  'DET',\n  'ADJ',\n  'NOUN',\n  'ADP',\n  'NOUN',\n  'DET',\n  'NOUN',\n  'ADP',\n  'ADJ',\n  'CCONJ',\n  'ADJ',\n  'PUNCT',\n  'NOUN',\n  'NOUN',\n  'PUNCT',\n  'NOUN',\n  'PUNCT',\n  'PUNCT',\n  'NOUN',\n  'CCONJ',\n  'NOUN',\n  'PUNCT',\n  'PUNCT',\n  'PUNCT',\n  'NOUN',\n  'ADP',\n  'NOUN',\n  'PUNCT',\n  'PUNCT',\n  'PUNCT',\n  'NOUN',\n  'CCONJ',\n  'NOUN',\n  'PUNCT',\n  'PUNCT'],\n ['NOUN',\n  'PUNCT',\n  'VERB',\n  'ADP',\n  'NOUN',\n  'VERB',\n  'ADP',\n  'NOUN',\n  'ADJ',\n  'NOUN',\n  'CCONJ',\n  'VERB',\n  'DET',\n  'VERB',\n  'NOUN',\n  'PUNCT',\n  'AUX',\n  'VERB',\n  'PUNCT'],\n ['NOUN',\n  'ADP',\n  'PRON',\n  'PUNCT',\n  'SCONJ',\n  'PUNCT',\n  'NOUN',\n  'NOUN',\n  'PUNCT',\n  'PUNCT',\n  'ADV',\n  'PART',\n  'NOUN',\n  'NOUN',\n  'PUNCT'],\n ['PART',\n  'VERB',\n  'NOUN',\n  'PUNCT',\n  'ADV',\n  'AUX',\n  'PUNCT',\n  'VERB',\n  'PUNCT',\n  'ADP',\n  'NOUN',\n  'PUNCT',\n  'VERB',\n  'NOUN',\n  'ADJ',\n  'NOUN',\n  'PUNCT',\n  'PART',\n  'VERB',\n  'ADP',\n  'PRON',\n  'ADJ',\n  'ADJ',\n  'NOUN',\n  'PUNCT'],\n ['DET',\n  'PUNCT',\n  'PRON',\n  'ADV',\n  'VERB',\n  'VERB',\n  'DET',\n  'NOUN',\n  'PUNCT',\n  'VERB',\n  'NOUN',\n  'ADJ',\n  'NOUN',\n  'PUNCT',\n  'VERB',\n  'PUNCT',\n  'ADV',\n  'NOUN',\n  'CCONJ',\n  'NOUN',\n  'VERB',\n  'ADP',\n  'NOUN',\n  'ADJ',\n  'ADJ',\n  'NOUN',\n  'PUNCT',\n  'SCONJ',\n  'ADV',\n  'VERB',\n  'NOUN',\n  'PUNCT'],\n ['ADV',\n  'ADV',\n  'PUNCT',\n  'DET',\n  'PUNCT',\n  'NOUN',\n  'PUNCT',\n  'ADP',\n  'DET',\n  'NOUN',\n  'ADV',\n  'VERB',\n  'DET',\n  'PUNCT'],\n ['ADP',\n  'PRON',\n  'ADV',\n  'PART',\n  'VERB',\n  'PUNCT',\n  'PRON',\n  'VERB',\n  'PUNCT',\n  'PUNCT',\n  'CCONJ',\n  'ADV',\n  'PUNCT',\n  None,\n  'PUNCT',\n  'PRON',\n  'VERB',\n  'PUNCT',\n  'PUNCT',\n  'NOUN',\n  'PUNCT',\n  'NOUN',\n  'PUNCT',\n  'NOUN',\n  'PUNCT',\n  'NOUN',\n  'PUNCT',\n  'NOUN',\n  'PUNCT',\n  'NOUN',\n  'NOUN',\n  'PUNCT'],\n ['ADJ',\n  'NOUN',\n  'PUNCT',\n  'SCONJ',\n  'ADJ',\n  'PUNCT',\n  'AUX',\n  'ADP',\n  'NOUN',\n  'PUNCT'],\n ['PART',\n  'ADV',\n  'ADJ',\n  'PUNCT',\n  'SCONJ',\n  'NOUN',\n  'ADP',\n  'PROPN',\n  'PROPN',\n  'PUNCT',\n  'DET',\n  'ADJ',\n  'NOUN',\n  'PUNCT'],\n ['PRON',\n  'AUX',\n  'ADV',\n  'VERB',\n  'ADP',\n  'NOUN',\n  'ADV',\n  'ADP',\n  'ADJ',\n  'NOUN',\n  'PUNCT',\n  'ADJ',\n  'NOUN',\n  'PUNCT',\n  'ADJ',\n  'NOUN',\n  'PUNCT',\n  'ADV',\n  'ADP',\n  'ADJ',\n  'NOUN',\n  'PUNCT',\n  'ADJ',\n  'NOUN',\n  'PUNCT',\n  'VERB',\n  'NOUN',\n  'PUNCT',\n  'ADJ',\n  'NOUN',\n  'PUNCT',\n  'ADJ',\n  'NOUN',\n  'CCONJ',\n  'NOUN',\n  'NOUN',\n  'PUNCT',\n  'ADJ',\n  'NOUN',\n  'PUNCT',\n  'VERB',\n  'ADP',\n  'NOUN',\n  'ADJ',\n  'NOUN',\n  'PUNCT'],\n ['ADP', 'ADJ', 'NOUN', 'VERB', 'ADJ', 'PUNCT'],\n ['ADJ',\n  'AUX',\n  'VERB',\n  'ADP',\n  'ADJ',\n  'PUNCT',\n  'PART',\n  'VERB',\n  'NOUN',\n  'CCONJ',\n  'PART',\n  'PART',\n  'VERB',\n  'ADV',\n  'PUNCT',\n  'ADP',\n  'DET',\n  'NOUN',\n  'VERB',\n  'PUNCT'],\n ['NOUN',\n  'ADP',\n  'NOUN',\n  'PUNCT',\n  'NOUN',\n  'ADP',\n  'NOUN',\n  'PUNCT',\n  'NOUN',\n  'CCONJ',\n  'NOUN',\n  'PUNCT',\n  'NOUN',\n  'NOUN',\n  'ADP',\n  'NOUN',\n  'CCONJ',\n  'NOUN',\n  'NOUN',\n  'ADP',\n  'NOUN',\n  'PUNCT'],\n ['PRON', 'VERB', 'PUNCT', 'ADP', 'PRON', 'ADV', 'NOUN', 'PUNCT'],\n ['CCONJ',\n  'PART',\n  'ADV',\n  'VERB',\n  'PUNCT',\n  'PUNCT',\n  'ADP',\n  'NOUN',\n  'ADP',\n  'NOUN',\n  'PUNCT',\n  'CCONJ',\n  'ADP',\n  'NOUN',\n  'ADP',\n  'NOUN',\n  'PUNCT'],\n ['PART', 'NOUN', 'VERB', 'PUNCT'],\n ['NOUN', 'VERB', 'PUNCT', 'VERB', 'VERB', 'PUNCT'],\n ['DET', 'NOUN', 'VERB', 'PUNCT', 'DET', 'NOUN', 'ADJ', 'PUNCT'],\n ['ADJ', 'PUNCT'],\n ['VERB',\n  'ADP',\n  'NOUN',\n  'PUNCT',\n  'PRON',\n  'VERB',\n  'PUNCT',\n  'VERB',\n  'ADP',\n  'NOUN',\n  'PUNCT',\n  'CCONJ',\n  'ADP',\n  'NOUN',\n  'VERB',\n  'NOUN',\n  'PUNCT'],\n ['ADP', 'NOUN', 'VERB', 'NOUN', 'PUNCT'],\n ['ADV', 'PRON', 'VERB', 'PUNCT'],\n ['ADP', 'NOUN', 'PART', 'VERB', 'PUNCT'],\n ['ADV',\n  'PUNCT',\n  'ADP',\n  'NOUN',\n  'PRON',\n  'VERB',\n  'ADP',\n  'NOUN',\n  'CCONJ',\n  'NOUN',\n  'PUNCT',\n  'CCONJ',\n  'NOUN',\n  'PUNCT'],\n ['ADV',\n  'NOUN',\n  'PUNCT',\n  'ADV',\n  'PUNCT',\n  'NOUN',\n  'PUNCT',\n  'VERB',\n  'ADP',\n  'NOUN',\n  'PUNCT'],\n ['NOUN', 'VERB', 'PUNCT'],\n ['VERB', 'DET', 'ADJ', 'NOUN', 'ADP', 'PROPN', 'PROPN', 'PUNCT'],\n ['CCONJ',\n  'PART',\n  'VERB',\n  'PUNCT',\n  'NUM',\n  'NOUN',\n  'VERB',\n  'NOUN',\n  'ADP',\n  'ADJ',\n  'DET',\n  'NOUN',\n  'PUNCT'],\n ['SCONJ',\n  'ADP',\n  'NOUN',\n  'ADV',\n  'VERB',\n  'ADJ',\n  'ADJ',\n  'NOUN',\n  'NOUN',\n  'PUNCT',\n  'PRON',\n  'VERB',\n  'PUNCT',\n  'ADV',\n  'ADV',\n  'NOUN',\n  'ADP',\n  'NOUN',\n  'DET',\n  'NOUN',\n  'PUNCT',\n  'NOUN',\n  'PUNCT',\n  'NUM',\n  'PRON',\n  'PRON',\n  'VERB',\n  'NOUN',\n  'PUNCT',\n  'VERB',\n  'NOUN',\n  'PUNCT'],\n ['NUM',\n  'NOUN',\n  'NOUN',\n  'ADV',\n  'AUX',\n  'AUX',\n  'VERB',\n  'ADP',\n  'NOUN',\n  'ADJ',\n  'NOUN',\n  'PUNCT',\n  'PRON',\n  'ADP',\n  'PUNCT',\n  'NOUN',\n  'CCONJ',\n  'NOUN',\n  'PUNCT',\n  'PUNCT',\n  'CCONJ',\n  'NUM',\n  'PRON',\n  'AUX',\n  'VERB',\n  'PUNCT',\n  'PROPN',\n  'PROPN',\n  'CCONJ',\n  'NOUN',\n  'PUNCT',\n  'PUNCT'],\n ['NOUN',\n  'PUNCT',\n  'NOUN',\n  'NOUN',\n  'NOUN',\n  'VERB',\n  'ADV',\n  'PUNCT',\n  'ADV',\n  'PUNCT',\n  'SCONJ',\n  'PART',\n  'ADJ',\n  'ADP',\n  'NOUN',\n  'PUNCT',\n  'DET',\n  'AUX',\n  'ADJ',\n  'NOUN',\n  'PRON',\n  'PART',\n  'AUX',\n  'PUNCT'],\n ['ADV',\n  'ADV',\n  'ADJ',\n  'NOUN',\n  'VERB',\n  'ADP',\n  'ADJ',\n  'NOUN',\n  'PUNCT',\n  'SCONJ',\n  'ADV',\n  'ADP',\n  'NOUN',\n  'NOUN',\n  'VERB',\n  'PUNCT',\n  'VERB',\n  'CCONJ',\n  'VERB',\n  'PUNCT',\n  'VERB',\n  'NOUN',\n  'PUNCT'],\n ...]"
     },
     "execution_count": 10,
     "metadata": {},
     "output_type": "execute_result"
    }
   ],
   "source": [
    "[[token.upos for token in sent] for sent in full_train]"
   ],
   "metadata": {
    "collapsed": false
   }
  },
  {
   "cell_type": "code",
   "execution_count": 11,
   "outputs": [
    {
     "data": {
      "text/plain": "                                                    Word  \\\n0                                            [Анкета, .]   \n1      [Начальник, областного, управления, связи, Сем...   \n2      [В, приемной, его, с, утра, ожидали, посетител...   \n3      [Однако, стиль, работы, Семена, Еремеевича, за...   \n4      [Приемная, была, обставлена, просто, ,, но, по...   \n...                                                  ...   \n24511  [-, В, начале, 2000-х, я, занимался, бизнесом,...   \n24512  [Раньше, я, думал, ,, что, многие, политики, н...   \n24513  [Теперь, думаю, ,, что, они, прекрасно, все, п...   \n24514  [Так, что, хочешь, изменить, что-то, -, занима...   \n24515  [В, конце, концов, ,, характер, этой, работы, ...   \n\n                                                     Tag  \n0                                          [NOUN, PUNCT]  \n1      [NOUN, ADJ, NOUN, NOUN, PROPN, PROPN, AUX, NOU...  \n2      [ADP, NOUN, PRON, ADP, NOUN, VERB, NOUN, PUNCT...  \n3      [ADV, NOUN, NOUN, PROPN, PROPN, VERB, ADP, PRO...  \n4       [NOUN, AUX, VERB, ADV, PUNCT, CCONJ, ADV, PUNCT]  \n...                                                  ...  \n24511  [PUNCT, ADP, NOUN, ADJ, PRON, VERB, NOUN, CCON...  \n24512  [ADV, PRON, VERB, PUNCT, SCONJ, NUM, NOUN, PAR...  \n24513  [ADV, VERB, PUNCT, SCONJ, PRON, ADV, PRON, VER...  \n24514  [ADV, SCONJ, VERB, VERB, PRON, PUNCT, VERB, AD...  \n24515  [ADP, NOUN, NOUN, PUNCT, NOUN, DET, NOUN, CCON...  \n\n[24516 rows x 2 columns]",
      "text/html": "<div>\n<style scoped>\n    .dataframe tbody tr th:only-of-type {\n        vertical-align: middle;\n    }\n\n    .dataframe tbody tr th {\n        vertical-align: top;\n    }\n\n    .dataframe thead th {\n        text-align: right;\n    }\n</style>\n<table border=\"1\" class=\"dataframe\">\n  <thead>\n    <tr style=\"text-align: right;\">\n      <th></th>\n      <th>Word</th>\n      <th>Tag</th>\n    </tr>\n  </thead>\n  <tbody>\n    <tr>\n      <th>0</th>\n      <td>[Анкета, .]</td>\n      <td>[NOUN, PUNCT]</td>\n    </tr>\n    <tr>\n      <th>1</th>\n      <td>[Начальник, областного, управления, связи, Сем...</td>\n      <td>[NOUN, ADJ, NOUN, NOUN, PROPN, PROPN, AUX, NOU...</td>\n    </tr>\n    <tr>\n      <th>2</th>\n      <td>[В, приемной, его, с, утра, ожидали, посетител...</td>\n      <td>[ADP, NOUN, PRON, ADP, NOUN, VERB, NOUN, PUNCT...</td>\n    </tr>\n    <tr>\n      <th>3</th>\n      <td>[Однако, стиль, работы, Семена, Еремеевича, за...</td>\n      <td>[ADV, NOUN, NOUN, PROPN, PROPN, VERB, ADP, PRO...</td>\n    </tr>\n    <tr>\n      <th>4</th>\n      <td>[Приемная, была, обставлена, просто, ,, но, по...</td>\n      <td>[NOUN, AUX, VERB, ADV, PUNCT, CCONJ, ADV, PUNCT]</td>\n    </tr>\n    <tr>\n      <th>...</th>\n      <td>...</td>\n      <td>...</td>\n    </tr>\n    <tr>\n      <th>24511</th>\n      <td>[-, В, начале, 2000-х, я, занимался, бизнесом,...</td>\n      <td>[PUNCT, ADP, NOUN, ADJ, PRON, VERB, NOUN, CCON...</td>\n    </tr>\n    <tr>\n      <th>24512</th>\n      <td>[Раньше, я, думал, ,, что, многие, политики, н...</td>\n      <td>[ADV, PRON, VERB, PUNCT, SCONJ, NUM, NOUN, PAR...</td>\n    </tr>\n    <tr>\n      <th>24513</th>\n      <td>[Теперь, думаю, ,, что, они, прекрасно, все, п...</td>\n      <td>[ADV, VERB, PUNCT, SCONJ, PRON, ADV, PRON, VER...</td>\n    </tr>\n    <tr>\n      <th>24514</th>\n      <td>[Так, что, хочешь, изменить, что-то, -, занима...</td>\n      <td>[ADV, SCONJ, VERB, VERB, PRON, PUNCT, VERB, AD...</td>\n    </tr>\n    <tr>\n      <th>24515</th>\n      <td>[В, конце, концов, ,, характер, этой, работы, ...</td>\n      <td>[ADP, NOUN, NOUN, PUNCT, NOUN, DET, NOUN, CCON...</td>\n    </tr>\n  </tbody>\n</table>\n<p>24516 rows × 2 columns</p>\n</div>"
     },
     "execution_count": 11,
     "metadata": {},
     "output_type": "execute_result"
    }
   ],
   "source": [
    "#Для NN составим датафрейм из наших корпусов текстов и тегов\n",
    "df = pd.DataFrame({'Word': [[token.form for token in sent] for sent in full_train], 'Tag': [[token.upos for token in sent] for sent in full_train]})\n",
    "df"
   ],
   "metadata": {
    "collapsed": false
   }
  },
  {
   "cell_type": "code",
   "execution_count": 12,
   "outputs": [],
   "source": [
    "#Построим эмбеддинги\n",
    "def listmerge(lstlst):\n",
    "    all=[]\n",
    "    for lst in lstlst:\n",
    "      all.extend(lst)\n",
    "    return all\n",
    "\n",
    "def get_dict_map(df, token_or_tag):\n",
    "    tok2idx = {}\n",
    "    idx2tok = {}\n",
    "\n",
    "    if token_or_tag == 'token':\n",
    "        vocab = list(set(listmerge(df['Word'].to_list())))\n",
    "    else:\n",
    "        vocab = list(set(listmerge(df['Tag'].to_list())))\n",
    "\n",
    "    idx2tok = {idx:tok for  idx, tok in enumerate(vocab)}\n",
    "    tok2idx = {tok:idx for  idx, tok in enumerate(vocab)}\n",
    "    return tok2idx, idx2tok\n",
    "\n",
    "\n",
    "token2idx, idx2token = get_dict_map(df, 'token')\n",
    "tag2idx, idx2tag = get_dict_map(df, 'tag')"
   ],
   "metadata": {
    "collapsed": false
   }
  },
  {
   "cell_type": "code",
   "execution_count": 13,
   "outputs": [
    {
     "data": {
      "text/plain": "{0: 'INTJ',\n 1: 'NOUN',\n 2: 'AUX',\n 3: 'PUNCT',\n 4: 'ADV',\n 5: 'X',\n 6: None,\n 7: 'NUM',\n 8: 'SCONJ',\n 9: 'ADJ',\n 10: 'CCONJ',\n 11: 'PROPN',\n 12: 'PART',\n 13: 'ADP',\n 14: 'PRON',\n 15: 'DET',\n 16: 'VERB',\n 17: 'SYM'}"
     },
     "execution_count": 13,
     "metadata": {},
     "output_type": "execute_result"
    }
   ],
   "source": [
    "idx2tag"
   ],
   "metadata": {
    "collapsed": false
   }
  },
  {
   "cell_type": "code",
   "execution_count": 15,
   "outputs": [
    {
     "data": {
      "text/plain": "                                                    Word  \\\n0                                            [Анкета, .]   \n1      [Начальник, областного, управления, связи, Сем...   \n2      [В, приемной, его, с, утра, ожидали, посетител...   \n3      [Однако, стиль, работы, Семена, Еремеевича, за...   \n4      [Приемная, была, обставлена, просто, ,, но, по...   \n...                                                  ...   \n24511  [-, В, начале, 2000-х, я, занимался, бизнесом,...   \n24512  [Раньше, я, думал, ,, что, многие, политики, н...   \n24513  [Теперь, думаю, ,, что, они, прекрасно, все, п...   \n24514  [Так, что, хочешь, изменить, что-то, -, занима...   \n24515  [В, конце, концов, ,, характер, этой, работы, ...   \n\n                                                     Tag  \\\n0                                          [NOUN, PUNCT]   \n1      [NOUN, ADJ, NOUN, NOUN, PROPN, PROPN, AUX, NOU...   \n2      [ADP, NOUN, PRON, ADP, NOUN, VERB, NOUN, PUNCT...   \n3      [ADV, NOUN, NOUN, PROPN, PROPN, VERB, ADP, PRO...   \n4       [NOUN, AUX, VERB, ADV, PUNCT, CCONJ, ADV, PUNCT]   \n...                                                  ...   \n24511  [PUNCT, ADP, NOUN, ADJ, PRON, VERB, NOUN, CCON...   \n24512  [ADV, PRON, VERB, PUNCT, SCONJ, NUM, NOUN, PAR...   \n24513  [ADV, VERB, PUNCT, SCONJ, PRON, ADV, PRON, VER...   \n24514  [ADV, SCONJ, VERB, VERB, PRON, PUNCT, VERB, AD...   \n24515  [ADP, NOUN, NOUN, PUNCT, NOUN, DET, NOUN, CCON...   \n\n                                                Word_idx  \\\n0                                         [45203, 53006]   \n1      [54926, 35637, 56238, 60660, 13506, 25580, 439...   \n2      [60637, 20723, 44517, 33174, 22696, 1358, 4362...   \n3      [48810, 43370, 49108, 48866, 28853, 18544, 525...   \n4      [16710, 6805, 66224, 46634, 47602, 13354, 3028...   \n...                                                  ...   \n24511  [21584, 60637, 59425, 47890, 18955, 17204, 296...   \n24512  [1310, 18955, 4891, 47602, 6694, 38502, 61753,...   \n24513  [741, 7369, 47602, 6694, 19427, 5810, 35536, 1...   \n24514  [33906, 6694, 14703, 43537, 40151, 21584, 4643...   \n24515  [60637, 9921, 61829, 47602, 7204, 23934, 49108...   \n\n                                                 Tag_idx  \n0                                                 [1, 3]  \n1      [1, 9, 1, 1, 11, 11, 2, 1, 9, 3, 16, 13, 1, 4,...  \n2      [13, 1, 14, 13, 1, 16, 1, 3, 3, 14, 13, 9, 1, ...  \n3      [4, 1, 1, 11, 11, 16, 13, 14, 3, 8, 16, 15, 16...  \n4                             [1, 2, 16, 4, 3, 10, 4, 3]  \n...                                                  ...  \n24511  [3, 13, 1, 9, 14, 16, 1, 10, 16, 1, 1, 3, 8, 1...  \n24512       [4, 14, 16, 3, 8, 7, 1, 12, 16, 3, 8, 16, 3]  \n24513  [4, 16, 3, 8, 14, 4, 14, 16, 3, 10, 16, 13, 15...  \n24514                    [4, 8, 16, 16, 14, 3, 16, 9, 3]  \n24515          [13, 1, 1, 3, 1, 15, 1, 10, 1, 13, 14, 3]  \n\n[24516 rows x 4 columns]",
      "text/html": "<div>\n<style scoped>\n    .dataframe tbody tr th:only-of-type {\n        vertical-align: middle;\n    }\n\n    .dataframe tbody tr th {\n        vertical-align: top;\n    }\n\n    .dataframe thead th {\n        text-align: right;\n    }\n</style>\n<table border=\"1\" class=\"dataframe\">\n  <thead>\n    <tr style=\"text-align: right;\">\n      <th></th>\n      <th>Word</th>\n      <th>Tag</th>\n      <th>Word_idx</th>\n      <th>Tag_idx</th>\n    </tr>\n  </thead>\n  <tbody>\n    <tr>\n      <th>0</th>\n      <td>[Анкета, .]</td>\n      <td>[NOUN, PUNCT]</td>\n      <td>[45203, 53006]</td>\n      <td>[1, 3]</td>\n    </tr>\n    <tr>\n      <th>1</th>\n      <td>[Начальник, областного, управления, связи, Сем...</td>\n      <td>[NOUN, ADJ, NOUN, NOUN, PROPN, PROPN, AUX, NOU...</td>\n      <td>[54926, 35637, 56238, 60660, 13506, 25580, 439...</td>\n      <td>[1, 9, 1, 1, 11, 11, 2, 1, 9, 3, 16, 13, 1, 4,...</td>\n    </tr>\n    <tr>\n      <th>2</th>\n      <td>[В, приемной, его, с, утра, ожидали, посетител...</td>\n      <td>[ADP, NOUN, PRON, ADP, NOUN, VERB, NOUN, PUNCT...</td>\n      <td>[60637, 20723, 44517, 33174, 22696, 1358, 4362...</td>\n      <td>[13, 1, 14, 13, 1, 16, 1, 3, 3, 14, 13, 9, 1, ...</td>\n    </tr>\n    <tr>\n      <th>3</th>\n      <td>[Однако, стиль, работы, Семена, Еремеевича, за...</td>\n      <td>[ADV, NOUN, NOUN, PROPN, PROPN, VERB, ADP, PRO...</td>\n      <td>[48810, 43370, 49108, 48866, 28853, 18544, 525...</td>\n      <td>[4, 1, 1, 11, 11, 16, 13, 14, 3, 8, 16, 15, 16...</td>\n    </tr>\n    <tr>\n      <th>4</th>\n      <td>[Приемная, была, обставлена, просто, ,, но, по...</td>\n      <td>[NOUN, AUX, VERB, ADV, PUNCT, CCONJ, ADV, PUNCT]</td>\n      <td>[16710, 6805, 66224, 46634, 47602, 13354, 3028...</td>\n      <td>[1, 2, 16, 4, 3, 10, 4, 3]</td>\n    </tr>\n    <tr>\n      <th>...</th>\n      <td>...</td>\n      <td>...</td>\n      <td>...</td>\n      <td>...</td>\n    </tr>\n    <tr>\n      <th>24511</th>\n      <td>[-, В, начале, 2000-х, я, занимался, бизнесом,...</td>\n      <td>[PUNCT, ADP, NOUN, ADJ, PRON, VERB, NOUN, CCON...</td>\n      <td>[21584, 60637, 59425, 47890, 18955, 17204, 296...</td>\n      <td>[3, 13, 1, 9, 14, 16, 1, 10, 16, 1, 1, 3, 8, 1...</td>\n    </tr>\n    <tr>\n      <th>24512</th>\n      <td>[Раньше, я, думал, ,, что, многие, политики, н...</td>\n      <td>[ADV, PRON, VERB, PUNCT, SCONJ, NUM, NOUN, PAR...</td>\n      <td>[1310, 18955, 4891, 47602, 6694, 38502, 61753,...</td>\n      <td>[4, 14, 16, 3, 8, 7, 1, 12, 16, 3, 8, 16, 3]</td>\n    </tr>\n    <tr>\n      <th>24513</th>\n      <td>[Теперь, думаю, ,, что, они, прекрасно, все, п...</td>\n      <td>[ADV, VERB, PUNCT, SCONJ, PRON, ADV, PRON, VER...</td>\n      <td>[741, 7369, 47602, 6694, 19427, 5810, 35536, 1...</td>\n      <td>[4, 16, 3, 8, 14, 4, 14, 16, 3, 10, 16, 13, 15...</td>\n    </tr>\n    <tr>\n      <th>24514</th>\n      <td>[Так, что, хочешь, изменить, что-то, -, занима...</td>\n      <td>[ADV, SCONJ, VERB, VERB, PRON, PUNCT, VERB, AD...</td>\n      <td>[33906, 6694, 14703, 43537, 40151, 21584, 4643...</td>\n      <td>[4, 8, 16, 16, 14, 3, 16, 9, 3]</td>\n    </tr>\n    <tr>\n      <th>24515</th>\n      <td>[В, конце, концов, ,, характер, этой, работы, ...</td>\n      <td>[ADP, NOUN, NOUN, PUNCT, NOUN, DET, NOUN, CCON...</td>\n      <td>[60637, 9921, 61829, 47602, 7204, 23934, 49108...</td>\n      <td>[13, 1, 1, 3, 1, 15, 1, 10, 1, 13, 14, 3]</td>\n    </tr>\n  </tbody>\n</table>\n<p>24516 rows × 4 columns</p>\n</div>"
     },
     "execution_count": 15,
     "metadata": {},
     "output_type": "execute_result"
    }
   ],
   "source": [
    "df['Word_idx'] = [[token2idx[elem] for elem in lst] for lst in df['Word']]\n",
    "df['Tag_idx'] = [[tag2idx[elem] for elem in lst] for lst in df['Tag']]\n",
    "df"
   ],
   "metadata": {
    "collapsed": false
   }
  },
  {
   "cell_type": "code",
   "execution_count": 16,
   "outputs": [],
   "source": [
    "from sklearn.model_selection import train_test_split\n",
    "\n",
    "from tensorflow.keras.preprocessing.sequence import pad_sequences\n",
    "from tensorflow.keras.utils import to_categorical"
   ],
   "metadata": {
    "collapsed": false
   }
  },
  {
   "cell_type": "code",
   "execution_count": 21,
   "outputs": [
    {
     "name": "stdout",
     "output_type": "stream",
     "text": [
      "maxlen = 194\n",
      "train_tokens length: 16548 \n",
      "train_tags length: 16548 \n",
      "test_tokens length: 2452 \n",
      "test_tags: 2452 \n",
      "val_tokens: 5516 \n",
      "val_tags: 5516\n"
     ]
    }
   ],
   "source": [
    "def get_pad_train_test_val(data):\n",
    "\n",
    "    #get max token and tag length\n",
    "    n_token = len(list(set(listmerge(data['Word'].to_list()))))\n",
    "    n_tag = len(list(set(listmerge(data['Tag'].to_list()))))\n",
    "\n",
    "    #Pad tokens (X var)\n",
    "    tokens = data['Word_idx'].tolist()\n",
    "    maxlen = max([len(s) for s in tokens])\n",
    "    print('maxlen = {}'.format(maxlen))\n",
    "    pad_tokens = pad_sequences(tokens, maxlen=maxlen, dtype='int32', padding='post', value= n_token - 1)\n",
    "\n",
    "    #Pad Tags (y var) and convert it into one hot encoding\n",
    "    tags = data['Tag_idx'].tolist()\n",
    "    pad_tags = pad_sequences(tags, maxlen=maxlen, dtype='int32', padding='post', value= n_tag - 1)\n",
    "    n_tags = len(tag2idx)\n",
    "    pad_tags = [to_categorical(i, num_classes=n_tags) for i in pad_tags]\n",
    "\n",
    "    #Split train, test and validation set\n",
    "    tokens_, test_tokens, tags_, test_tags = train_test_split(pad_tokens, pad_tags, test_size=0.1, train_size=0.9, random_state=2020)\n",
    "    train_tokens, val_tokens, train_tags, val_tags = train_test_split(tokens_,tags_,test_size = 0.25,train_size =0.75, random_state=2020)\n",
    "\n",
    "    print(\n",
    "        'train_tokens length:', len(train_tokens),\n",
    "        '\\ntrain_tags length:', len(train_tags),\n",
    "        '\\ntest_tokens length:', len(test_tokens),\n",
    "        '\\ntest_tags:', len(test_tags),\n",
    "        '\\nval_tokens:', len(val_tokens),\n",
    "        '\\nval_tags:', len(val_tags),\n",
    "    )\n",
    "\n",
    "    return train_tokens, val_tokens, test_tokens, train_tags, val_tags, test_tags\n",
    "\n",
    "train_tokens, val_tokens, test_tokens, train_tags, val_tags, test_tags = get_pad_train_test_val(df)"
   ],
   "metadata": {
    "collapsed": false
   }
  },
  {
   "cell_type": "code",
   "execution_count": 22,
   "outputs": [
    {
     "data": {
      "text/plain": "(16548, 194)"
     },
     "execution_count": 22,
     "metadata": {},
     "output_type": "execute_result"
    }
   ],
   "source": [
    "train_tokens.shape"
   ],
   "metadata": {
    "collapsed": false
   }
  },
  {
   "cell_type": "markdown",
   "source": [
    "### Строим нейронную сеть"
   ],
   "metadata": {
    "collapsed": false
   }
  },
  {
   "cell_type": "code",
   "execution_count": 23,
   "outputs": [],
   "source": [
    "import numpy as np\n",
    "import tensorflow\n",
    "from tensorflow.keras import Sequential, Model, Input\n",
    "from tensorflow.keras.layers import LSTM, Embedding, Dense, TimeDistributed, Dropout, Bidirectional\n",
    "from tensorflow.keras.utils import plot_model\n",
    "from numpy.random import seed\n",
    "seed(1)\n",
    "tensorflow.random.set_seed(2)"
   ],
   "metadata": {
    "collapsed": false
   }
  },
  {
   "cell_type": "code",
   "execution_count": 24,
   "outputs": [
    {
     "name": "stdout",
     "output_type": "stream",
     "text": [
      "input_dim:  67373 \n",
      "output_dim:  64 \n",
      "input_length:  194 \n",
      "n_tags:  18\n"
     ]
    }
   ],
   "source": [
    "input_dim = len(list(set(listmerge(df['Word'].to_list())))) + 1\n",
    "output_dim = 64\n",
    "input_length = max([len(s) for s in df['Word_idx'].tolist()])\n",
    "n_tags = len(tag2idx)\n",
    "print('input_dim: ', input_dim, '\\noutput_dim: ', output_dim, '\\ninput_length: ', input_length, '\\nn_tags: ', n_tags)"
   ],
   "metadata": {
    "collapsed": false
   }
  },
  {
   "cell_type": "code",
   "execution_count": 25,
   "outputs": [],
   "source": [
    "def get_bilstm_lstm_model():\n",
    "    model = Sequential()\n",
    "\n",
    "    # Слой Embedding\n",
    "    model.add(Embedding(input_dim=input_dim, output_dim=output_dim, input_length=input_length))\n",
    "\n",
    "    # Слой bidirectional LSTM\n",
    "    model.add(Bidirectional(LSTM(units=output_dim, return_sequences=True, dropout=0.2, recurrent_dropout=0.2), merge_mode = 'concat'))\n",
    "\n",
    "    # Слой LSTM\n",
    "    model.add(LSTM(units=output_dim, return_sequences=True, dropout=0.3, recurrent_dropout=0.3))\n",
    "\n",
    "    # Слой timeDistributed Layer (обеспечивает выход формата many-to-many)\n",
    "    model.add(TimeDistributed(Dense(n_tags, activation=\"relu\")))\n",
    "\n",
    "    #Optimiser\n",
    "    # adam = k.optimizers.Adam(lr=0.0005, beta_1=0.9, beta_2=0.999)\n",
    "\n",
    "    # Compile model\n",
    "    model.compile(loss='categorical_crossentropy', optimizer='adam', metrics=['accuracy'])\n",
    "    model.summary()\n",
    "\n",
    "    return model"
   ],
   "metadata": {
    "collapsed": false
   }
  },
  {
   "cell_type": "code",
   "execution_count": 26,
   "outputs": [
    {
     "name": "stdout",
     "output_type": "stream",
     "text": [
      "Model: \"sequential\"\n",
      "_________________________________________________________________\n",
      " Layer (type)                Output Shape              Param #   \n",
      "=================================================================\n",
      " embedding (Embedding)       (None, 194, 64)           4311872   \n",
      "                                                                 \n",
      " bidirectional (Bidirectiona  (None, 194, 128)         66048     \n",
      " l)                                                              \n",
      "                                                                 \n",
      " lstm_1 (LSTM)               (None, 194, 64)           49408     \n",
      "                                                                 \n",
      " time_distributed (TimeDistr  (None, 194, 18)          1170      \n",
      " ibuted)                                                         \n",
      "                                                                 \n",
      "=================================================================\n",
      "Total params: 4,428,498\n",
      "Trainable params: 4,428,498\n",
      "Non-trainable params: 0\n",
      "_________________________________________________________________\n"
     ]
    }
   ],
   "source": [
    "model_bilstm_lstm = get_bilstm_lstm_model()"
   ],
   "metadata": {
    "collapsed": false
   }
  },
  {
   "cell_type": "code",
   "execution_count": 27,
   "outputs": [],
   "source": [
    "def train_model(X, y, model):\n",
    "    loss = list()\n",
    "    for i in range(3):\n",
    "        # fit model for one epoch on this sequence\n",
    "        hist = model.fit(X, y, batch_size=128, verbose=1, epochs=1, validation_split=0.2)\n",
    "        loss.append(hist.history['loss'][0])\n",
    "    return loss"
   ],
   "metadata": {
    "collapsed": false
   }
  },
  {
   "cell_type": "code",
   "execution_count": 28,
   "outputs": [
    {
     "name": "stdout",
     "output_type": "stream",
     "text": [
      "Model: \"sequential_1\"\n",
      "_________________________________________________________________\n",
      " Layer (type)                Output Shape              Param #   \n",
      "=================================================================\n",
      " embedding_1 (Embedding)     (None, 194, 64)           4311872   \n",
      "                                                                 \n",
      " bidirectional_1 (Bidirectio  (None, 194, 128)         66048     \n",
      " nal)                                                            \n",
      "                                                                 \n",
      " lstm_3 (LSTM)               (None, 194, 64)           49408     \n",
      "                                                                 \n",
      " time_distributed_1 (TimeDis  (None, 194, 18)          1170      \n",
      " tributed)                                                       \n",
      "                                                                 \n",
      "=================================================================\n",
      "Total params: 4,428,498\n",
      "Trainable params: 4,428,498\n",
      "Non-trainable params: 0\n",
      "_________________________________________________________________\n",
      "You must install pydot (`pip install pydot`) and install graphviz (see instructions at https://graphviz.gitlab.io/download/) for plot_model to work.\n",
      "104/104 [==============================] - 187s 2s/step - loss: 0.4563 - accuracy: 0.9026 - val_loss: 0.2678 - val_accuracy: 0.9125\n",
      "104/104 [==============================] - 177s 2s/step - loss: 0.2361 - accuracy: 0.9186 - val_loss: 0.2230 - val_accuracy: 0.9224\n",
      "104/104 [==============================] - 180s 2s/step - loss: 0.2111 - accuracy: 0.9268 - val_loss: 0.2096 - val_accuracy: 0.9281\n"
     ]
    }
   ],
   "source": [
    "results = pd.DataFrame()\n",
    "model_bilstm_lstm = get_bilstm_lstm_model()\n",
    "plot_model(model_bilstm_lstm)\n",
    "results['with_add_lstm'] = train_model(train_tokens, np.array(train_tags), model_bilstm_lstm)"
   ],
   "metadata": {
    "collapsed": false
   }
  },
  {
   "cell_type": "code",
   "execution_count": 29,
   "outputs": [
    {
     "name": "stdout",
     "output_type": "stream",
     "text": [
      "77/77 [==============================] - 4s 45ms/step\n"
     ]
    }
   ],
   "source": [
    "predict = model_bilstm_lstm.predict(test_tokens)"
   ],
   "metadata": {
    "collapsed": false
   }
  },
  {
   "cell_type": "code",
   "execution_count": 33,
   "outputs": [],
   "source": [
    "from sklearn.metrics import f1_score"
   ],
   "metadata": {
    "collapsed": false
   }
  },
  {
   "cell_type": "code",
   "execution_count": 46,
   "outputs": [
    {
     "data": {
      "text/plain": "[0,\n 24,\n 2,\n 36,\n 22,\n 0,\n 0,\n 23,\n 32,\n 13,\n 22,\n 16,\n 4,\n 17,\n 17,\n 33,\n 22,\n 167,\n 0,\n 4,\n 0,\n 7,\n 0,\n 0,\n 0,\n 5,\n 2,\n 7,\n 0,\n 8,\n 0,\n 3,\n 3,\n 4,\n 2,\n 167,\n 0,\n 3,\n 0,\n 5,\n 0,\n 0,\n 0,\n 1,\n 2,\n 3,\n 0,\n 2,\n 2,\n 0,\n 1,\n 0,\n 2,\n 167,\n 0,\n 4,\n 0,\n 7,\n 0,\n 0,\n 0,\n 0,\n 2,\n 5,\n 10,\n 11,\n 1,\n 2,\n 0,\n 0,\n 3,\n 167,\n 0,\n 10,\n 0,\n 18,\n 16,\n 0,\n 0,\n 8,\n 6,\n 3,\n 11,\n 4,\n 6,\n 8,\n 11,\n 0,\n 10,\n 167,\n 0,\n 10,\n 0,\n 10,\n 2,\n 0,\n 0,\n 19,\n 5,\n 8,\n 7,\n 12,\n 5,\n 13,\n 11,\n 17,\n 12,\n 167,\n 0,\n 8,\n 0,\n 8,\n 3,\n 0,\n 0,\n 0,\n 4,\n 10,\n 6,\n 4,\n 4,\n 3,\n 3,\n 11,\n 4,\n 167,\n 0,\n 10,\n 0,\n 15,\n 4,\n 0,\n 0,\n 6,\n 3,\n 10,\n 13,\n 15,\n 4,\n 12,\n 11,\n 7,\n 11,\n 167,\n 0,\n 3,\n 0,\n 6,\n 0,\n 0,\n 0,\n 3,\n 0,\n 4,\n 0,\n 5,\n 1,\n 2,\n 0,\n 2,\n 2,\n 167,\n 0,\n 14,\n 0,\n 17,\n 0,\n 0,\n 0,\n 0,\n 11,\n 12,\n 20,\n 21,\n 5,\n 12,\n 10,\n 10,\n 9,\n 167,\n 0,\n 8,\n 0,\n 13,\n 3,\n 0,\n 0,\n 0,\n 7,\n 13,\n 13,\n 15,\n 8,\n 13,\n 10,\n 13,\n 8,\n 167,\n 0,\n 4,\n 0,\n 6,\n 0,\n 0,\n 0,\n 0,\n 2,\n 4,\n 0,\n 8,\n 3,\n 5,\n 5,\n 4,\n 5,\n 167,\n 0,\n 14,\n 0,\n 15,\n 0,\n 0,\n 0,\n 0,\n 3,\n 4,\n 0,\n 20,\n 3,\n 9,\n 0,\n 16,\n 16,\n 167,\n 0,\n 3,\n 0,\n 7,\n 5,\n 0,\n 0,\n 0,\n 0,\n 0,\n 0,\n 0,\n 0,\n 0,\n 0,\n 0,\n 6,\n 167,\n 0,\n 6,\n 0,\n 9,\n 3,\n 0,\n 0,\n 0,\n 4,\n 10,\n 10,\n 7,\n 6,\n 9,\n 9,\n 11,\n 7,\n 167,\n 0,\n 22,\n 0,\n 6,\n 1,\n 0,\n 0,\n 20,\n 5,\n 25,\n 22,\n 4,\n 16,\n 7,\n 17,\n 23,\n 6,\n 167,\n 0,\n 8,\n 0,\n 8,\n 0,\n 0,\n 0,\n 0,\n 1,\n 9,\n 7,\n 5,\n 5,\n 7,\n 2,\n 1,\n 5,\n 167,\n 0,\n 10,\n 0,\n 10,\n 1,\n 0,\n 0,\n 12,\n 6,\n 11,\n 11,\n 4,\n 3,\n 8,\n 8,\n 12,\n 8,\n 167,\n 0,\n 7,\n 0,\n 8,\n 5,\n 0,\n 0,\n 0,\n 3,\n 6,\n 3,\n 5,\n 5,\n 7,\n 6,\n 0,\n 5,\n 167,\n 0,\n 1,\n 0,\n 4,\n 0,\n 0,\n 0,\n 2,\n 0,\n 1,\n 0,\n 1,\n 1,\n 1,\n 0,\n 1,\n 1,\n 166,\n 0,\n 7,\n 0,\n 7,\n 2,\n 0,\n 0,\n 2,\n 0,\n 7,\n 3,\n 2,\n 2,\n 3,\n 2,\n 0,\n 2,\n 167,\n 0,\n 5,\n 0,\n 7,\n 3,\n 0,\n 0,\n 3,\n 0,\n 1,\n 0,\n 3,\n 5,\n 1,\n 3,\n 0,\n 1,\n 167,\n 0,\n 0,\n 0,\n 2,\n 0,\n 0,\n 0,\n 0,\n 0,\n 0,\n 0,\n 0,\n 0,\n 0,\n 0,\n 0,\n 0,\n 167,\n 0,\n 5,\n 0,\n 12,\n 0,\n 0,\n 0,\n 0,\n 3,\n 6,\n 0,\n 5,\n 5,\n 5,\n 0,\n 2,\n 5,\n 167,\n 0,\n 3,\n 0,\n 4,\n 1,\n 0,\n 0,\n 0,\n 2,\n 0,\n 0,\n 2,\n 3,\n 0,\n 2,\n 0,\n 1,\n 167,\n 0,\n 11,\n 0,\n 22,\n 15,\n 0,\n 0,\n 8,\n 4,\n 22,\n 12,\n 24,\n 13,\n 17,\n 15,\n 2,\n 16,\n 167,\n 0,\n 1,\n 0,\n 3,\n 0,\n 0,\n 0,\n 0,\n 0,\n 1,\n 0,\n 0,\n 0,\n 1,\n 0,\n 0,\n 0,\n 167,\n 0,\n 3,\n 0,\n 7,\n 0,\n 0,\n 0,\n 0,\n 0,\n 2,\n 0,\n 1,\n 2,\n 0,\n 0,\n 0,\n 1,\n 167,\n 0,\n 2,\n 0,\n 5,\n 1,\n 0,\n 0,\n 0,\n 0,\n 5,\n 2,\n 4,\n 1,\n 3,\n 0,\n 5,\n 1,\n 167,\n 0,\n 10,\n 0,\n 13,\n 0,\n 0,\n 0,\n 0,\n 0,\n 9,\n 0,\n 0,\n 0,\n 9,\n 7,\n 0,\n 0,\n 167,\n 0,\n 5,\n 0,\n 7,\n 0,\n 0,\n 0,\n 0,\n 3,\n 7,\n 7,\n 7,\n 4,\n 5,\n 6,\n 5,\n 6,\n 167,\n 0,\n 9,\n 0,\n 14,\n 0,\n 0,\n 0,\n 11,\n 2,\n 9,\n 9,\n 10,\n 9,\n 8,\n 10,\n 1,\n 8,\n 167,\n 0,\n 11,\n 0,\n 15,\n 12,\n 0,\n 0,\n 4,\n 8,\n 12,\n 12,\n 15,\n 9,\n 9,\n 11,\n 2,\n 7,\n 167,\n 0,\n 8,\n 0,\n 8,\n 0,\n 0,\n 0,\n 0,\n 3,\n 10,\n 8,\n 5,\n 10,\n 7,\n 0,\n 1,\n 5,\n 167,\n 0,\n 5,\n 0,\n 5,\n 2,\n 0,\n 0,\n 0,\n 4,\n 7,\n 0,\n 3,\n 2,\n 8,\n 2,\n 9,\n 5,\n 167,\n 0,\n 27,\n 0,\n 31,\n 21,\n 0,\n 0,\n 8,\n 19,\n 29,\n 8,\n 23,\n 19,\n 25,\n 22,\n 27,\n 23,\n 167,\n 0,\n 33,\n 0,\n 37,\n 18,\n 0,\n 0,\n 8,\n 3,\n 33,\n 33,\n 10,\n 10,\n 30,\n 18,\n 37,\n 19,\n 167,\n 0,\n 5,\n 0,\n 5,\n 4,\n 0,\n 0,\n 0,\n 3,\n 5,\n 4,\n 5,\n 4,\n 3,\n 5,\n 3,\n 4,\n 167,\n 0,\n 16,\n 0,\n 18,\n 0,\n 0,\n 0,\n 0,\n 13,\n 17,\n 17,\n 14,\n 17,\n 15,\n 15,\n 0,\n 12,\n 167,\n 0,\n 31,\n 0,\n 32,\n 16,\n 0,\n 0,\n 7,\n 28,\n 32,\n 22,\n 15,\n 30,\n 28,\n 31,\n 31,\n 28,\n 167,\n 0,\n 13,\n 0,\n 12,\n 2,\n 0,\n 0,\n 2,\n 9,\n 16,\n 16,\n 10,\n 2,\n 10,\n 2,\n 6,\n 10,\n 167,\n 0,\n 10,\n 0,\n 15,\n 12,\n 0,\n 0,\n 5,\n 4,\n 10,\n 10,\n 11,\n 11,\n 7,\n 10,\n 15,\n 11,\n 167,\n 0,\n 17,\n 0,\n 20,\n 13,\n 0,\n 0,\n 14,\n 10,\n 17,\n 17,\n 21,\n 13,\n 14,\n 13,\n 18,\n 13,\n 167,\n 0,\n 16,\n 0,\n 9,\n 3,\n 0,\n 0,\n 18,\n 7,\n 17,\n 15,\n 8,\n 1,\n 12,\n 12,\n 0,\n 9,\n 166,\n 0,\n 15,\n 0,\n 15,\n 17,\n 0,\n 0,\n 0,\n 9,\n 15,\n 18,\n 17,\n 18,\n 9,\n 16,\n 11,\n 16,\n 167,\n 0,\n 37,\n 0,\n 42,\n 13,\n 0,\n 0,\n 20,\n 29,\n 33,\n 37,\n 45,\n 37,\n 25,\n 19,\n 20,\n 45,\n 167,\n 0,\n 12,\n 0,\n 13,\n 1,\n 0,\n 0,\n 0,\n 4,\n 15,\n 13,\n 0,\n 2,\n 9,\n 10,\n 11,\n 9,\n 167,\n 0,\n 6,\n 0,\n 12,\n 0,\n 0,\n 0,\n 0,\n 2,\n 6,\n 0,\n 3,\n 5,\n 0,\n 0,\n 0,\n 3,\n 167,\n 0,\n 12,\n 0,\n 15,\n 6,\n 0,\n 0,\n 8,\n 4,\n 9,\n 10,\n 10,\n 5,\n 12,\n 10,\n 7,\n 8,\n 166,\n 0,\n 11,\n 0,\n 8,\n 17,\n 0,\n 0,\n 10,\n 6,\n 14,\n 14,\n 17,\n 11,\n 13,\n 16,\n 6,\n 13,\n 167,\n 0,\n 20,\n 0,\n 19,\n 10,\n 0,\n 0,\n 24,\n 16,\n 23,\n 22,\n 17,\n 17,\n 20,\n 20,\n 3,\n 13,\n 167,\n 0,\n 10,\n 0,\n 9,\n 3,\n 0,\n 0,\n 11,\n 2,\n 11,\n 10,\n 16,\n 2,\n 9,\n 7,\n 10,\n 9,\n 167,\n 0,\n 11,\n 0,\n 11,\n 16,\n 0,\n 0,\n 21,\n 9,\n 11,\n 20,\n 7,\n 7,\n 17,\n 17,\n 11,\n 11,\n 167,\n 0,\n 10,\n 0,\n 6,\n 13,\n 0,\n 0,\n 15,\n 7,\n 12,\n 12,\n 2,\n 10,\n 7,\n 12,\n 8,\n 10,\n 167,\n 0,\n 0,\n 0,\n 2,\n 0,\n 0,\n 0,\n 0,\n 0,\n 1,\n 0,\n 0,\n 0,\n 0,\n 0,\n 0,\n 0,\n 167,\n 0,\n 7,\n 0,\n 10,\n 1,\n 0,\n 0,\n 0,\n 0,\n 6,\n ...]"
     },
     "execution_count": 46,
     "metadata": {},
     "output_type": "execute_result"
    }
   ],
   "source": [
    "listmerge(np.argmax(predict, axis=1))"
   ],
   "metadata": {
    "collapsed": false
   }
  },
  {
   "cell_type": "code",
   "execution_count": 45,
   "outputs": [
    {
     "data": {
      "text/plain": "[0,\n 6,\n 0,\n 0,\n 3,\n 0,\n 0,\n 0,\n 0,\n 5,\n 13,\n 16,\n 4,\n 1,\n 2,\n 0,\n 34,\n 40,\n 0,\n 1,\n 0,\n 6,\n 0,\n 0,\n 0,\n 0,\n 0,\n 0,\n 0,\n 0,\n 0,\n 2,\n 0,\n 3,\n 0,\n 10,\n 0,\n 4,\n 0,\n 5,\n 0,\n 0,\n 0,\n 0,\n 0,\n 0,\n 0,\n 0,\n 2,\n 0,\n 1,\n 0,\n 3,\n 6,\n 0,\n 1,\n 0,\n 3,\n 0,\n 0,\n 0,\n 0,\n 0,\n 4,\n 0,\n 8,\n 0,\n 0,\n 0,\n 0,\n 0,\n 14,\n 0,\n 1,\n 0,\n 10,\n 11,\n 0,\n 0,\n 8,\n 0,\n 3,\n 15,\n 0,\n 6,\n 7,\n 0,\n 0,\n 2,\n 21,\n 0,\n 7,\n 13,\n 4,\n 0,\n 0,\n 0,\n 19,\n 5,\n 6,\n 0,\n 0,\n 2,\n 15,\n 1,\n 0,\n 3,\n 22,\n 0,\n 5,\n 0,\n 12,\n 2,\n 0,\n 0,\n 0,\n 0,\n 7,\n 6,\n 4,\n 1,\n 3,\n 0,\n 0,\n 0,\n 13,\n 0,\n 9,\n 0,\n 2,\n 0,\n 0,\n 0,\n 0,\n 0,\n 8,\n 0,\n 14,\n 0,\n 6,\n 5,\n 7,\n 1,\n 17,\n 0,\n 5,\n 0,\n 6,\n 0,\n 0,\n 0,\n 3,\n 0,\n 4,\n 0,\n 0,\n 1,\n 2,\n 0,\n 0,\n 0,\n 7,\n 0,\n 2,\n 0,\n 6,\n 0,\n 0,\n 0,\n 0,\n 7,\n 1,\n 0,\n 0,\n 0,\n 12,\n 10,\n 8,\n 3,\n 28,\n 0,\n 6,\n 0,\n 0,\n 0,\n 0,\n 0,\n 0,\n 0,\n 5,\n 0,\n 16,\n 2,\n 10,\n 1,\n 0,\n 3,\n 18,\n 0,\n 1,\n 0,\n 3,\n 0,\n 0,\n 0,\n 0,\n 0,\n 0,\n 0,\n 0,\n 0,\n 6,\n 5,\n 0,\n 8,\n 10,\n 0,\n 2,\n 0,\n 7,\n 0,\n 0,\n 0,\n 0,\n 0,\n 3,\n 12,\n 19,\n 0,\n 17,\n 0,\n 0,\n 1,\n 22,\n 0,\n 2,\n 0,\n 0,\n 5,\n 0,\n 0,\n 0,\n 0,\n 1,\n 0,\n 0,\n 0,\n 7,\n 0,\n 0,\n 6,\n 11,\n 0,\n 0,\n 0,\n 2,\n 0,\n 0,\n 0,\n 0,\n 3,\n 0,\n 10,\n 0,\n 6,\n 0,\n 11,\n 0,\n 1,\n 14,\n 0,\n 9,\n 0,\n 1,\n 0,\n 0,\n 0,\n 20,\n 2,\n 13,\n 16,\n 4,\n 0,\n 7,\n 0,\n 8,\n 3,\n 28,\n 0,\n 1,\n 0,\n 4,\n 0,\n 0,\n 0,\n 0,\n 0,\n 9,\n 0,\n 5,\n 0,\n 2,\n 0,\n 0,\n 0,\n 12,\n 0,\n 6,\n 0,\n 2,\n 0,\n 0,\n 0,\n 0,\n 0,\n 5,\n 7,\n 0,\n 1,\n 8,\n 0,\n 0,\n 3,\n 15,\n 0,\n 1,\n 0,\n 9,\n 2,\n 0,\n 0,\n 0,\n 7,\n 0,\n 0,\n 0,\n 3,\n 0,\n 0,\n 0,\n 4,\n 10,\n 0,\n 3,\n 0,\n 1,\n 0,\n 0,\n 0,\n 2,\n 0,\n 0,\n 0,\n 0,\n 0,\n 0,\n 0,\n 0,\n 0,\n 5,\n 0,\n 4,\n 0,\n 9,\n 1,\n 0,\n 0,\n 0,\n 0,\n 7,\n 0,\n 0,\n 0,\n 6,\n 0,\n 0,\n 3,\n 10,\n 0,\n 2,\n 0,\n 10,\n 3,\n 0,\n 0,\n 0,\n 0,\n 7,\n 0,\n 0,\n 0,\n 0,\n 0,\n 0,\n 1,\n 11,\n 0,\n 0,\n 0,\n 2,\n 0,\n 0,\n 0,\n 0,\n 0,\n 0,\n 0,\n 0,\n 0,\n 0,\n 0,\n 0,\n 1,\n 3,\n 0,\n 4,\n 1,\n 9,\n 0,\n 0,\n 0,\n 0,\n 0,\n 2,\n 0,\n 10,\n 0,\n 5,\n 0,\n 0,\n 0,\n 14,\n 0,\n 0,\n 0,\n 4,\n 0,\n 0,\n 0,\n 0,\n 0,\n 0,\n 0,\n 0,\n 3,\n 0,\n 2,\n 0,\n 1,\n 5,\n 0,\n 3,\n 0,\n 10,\n 0,\n 0,\n 0,\n 7,\n 0,\n 2,\n 0,\n 24,\n 13,\n 1,\n 12,\n 0,\n 5,\n 26,\n 0,\n 2,\n 0,\n 3,\n 0,\n 0,\n 0,\n 0,\n 0,\n 0,\n 0,\n 0,\n 0,\n 1,\n 0,\n 0,\n 0,\n 4,\n 0,\n 3,\n 0,\n 8,\n 0,\n 0,\n 0,\n 0,\n 0,\n 2,\n 0,\n 0,\n 1,\n 5,\n 0,\n 0,\n 4,\n 9,\n 0,\n 4,\n 0,\n 6,\n 0,\n 0,\n 0,\n 0,\n 0,\n 0,\n 0,\n 0,\n 0,\n 3,\n 0,\n 0,\n 1,\n 7,\n 0,\n 0,\n 0,\n 14,\n 0,\n 0,\n 0,\n 0,\n 0,\n 2,\n 0,\n 0,\n 0,\n 7,\n 0,\n 0,\n 4,\n 15,\n 0,\n 2,\n 0,\n 3,\n 0,\n 0,\n 0,\n 0,\n 0,\n 0,\n 4,\n 0,\n 0,\n 0,\n 0,\n 0,\n 6,\n 10,\n 0,\n 3,\n 0,\n 1,\n 0,\n 0,\n 0,\n 0,\n 0,\n 0,\n 9,\n 5,\n 0,\n 6,\n 0,\n 0,\n 4,\n 19,\n 0,\n 0,\n 0,\n 16,\n 0,\n 0,\n 0,\n 0,\n 0,\n 10,\n 4,\n 15,\n 0,\n 1,\n 0,\n 2,\n 7,\n 17,\n 0,\n 2,\n 0,\n 5,\n 0,\n 0,\n 0,\n 0,\n 0,\n 1,\n 0,\n 0,\n 0,\n 3,\n 0,\n 0,\n 0,\n 14,\n 0,\n 1,\n 0,\n 3,\n 0,\n 0,\n 0,\n 0,\n 0,\n 0,\n 0,\n 0,\n 0,\n 8,\n 2,\n 9,\n 4,\n 12,\n 0,\n 5,\n 0,\n 3,\n 13,\n 0,\n 0,\n 0,\n 0,\n 2,\n 0,\n 0,\n 19,\n 1,\n 17,\n 15,\n 11,\n 34,\n 0,\n 0,\n 11,\n 2,\n 12,\n 0,\n 0,\n 0,\n 3,\n 0,\n 14,\n 4,\n 6,\n 7,\n 18,\n 8,\n 1,\n 39,\n 0,\n 0,\n 0,\n 1,\n 2,\n 0,\n 0,\n 0,\n 0,\n 0,\n 0,\n 0,\n 0,\n 0,\n 5,\n 0,\n 6,\n 8,\n 0,\n 1,\n 0,\n 5,\n 0,\n 0,\n 0,\n 0,\n 0,\n 0,\n 17,\n 0,\n 0,\n 9,\n 0,\n 6,\n 2,\n 21,\n 0,\n 0,\n 25,\n 12,\n 15,\n 0,\n 0,\n 7,\n 28,\n 4,\n 35,\n 1,\n 0,\n 3,\n 0,\n 22,\n 11,\n 39,\n 0,\n 9,\n 14,\n 6,\n 1,\n 0,\n 0,\n 0,\n 0,\n 5,\n 0,\n 10,\n 0,\n 4,\n 2,\n 0,\n 3,\n 21,\n 0,\n 1,\n 0,\n 9,\n 0,\n 0,\n 0,\n 5,\n 0,\n 0,\n 10,\n 0,\n 12,\n 3,\n 0,\n 0,\n 2,\n 17,\n 0,\n 3,\n 0,\n 4,\n 13,\n 0,\n 0,\n 0,\n 0,\n 0,\n 17,\n 0,\n 0,\n 0,\n 1,\n 0,\n 2,\n 23,\n 0,\n 1,\n 0,\n 9,\n 0,\n 0,\n 0,\n 18,\n 0,\n 13,\n 0,\n 2,\n 0,\n 12,\n 10,\n 0,\n 4,\n 22,\n 0,\n 7,\n 0,\n 8,\n 0,\n 0,\n 0,\n 0,\n 9,\n 4,\n 5,\n 0,\n 18,\n 0,\n 0,\n 0,\n 1,\n 24,\n 0,\n 0,\n 0,\n 7,\n 59,\n 0,\n 0,\n 20,\n 0,\n 5,\n 10,\n 0,\n 0,\n 17,\n 0,\n 2,\n 4,\n 62,\n 0,\n 2,\n 0,\n 5,\n 0,\n 0,\n 0,\n 0,\n 10,\n 3,\n 0,\n 0,\n 0,\n 0,\n 0,\n 11,\n 1,\n 19,\n 0,\n 1,\n 0,\n 12,\n 3,\n 0,\n 0,\n 8,\n 0,\n 4,\n 0,\n 0,\n 5,\n 6,\n 0,\n 0,\n 2,\n 9,\n 0,\n 5,\n 10,\n 3,\n 0,\n 0,\n 0,\n 0,\n 16,\n 9,\n 0,\n 0,\n 2,\n 0,\n 1,\n 0,\n 4,\n 19,\n 0,\n 2,\n 4,\n 6,\n 15,\n 0,\n 0,\n 0,\n 1,\n 0,\n 11,\n 0,\n 0,\n 0,\n 0,\n 3,\n 10,\n 20,\n 0,\n 2,\n 0,\n 7,\n 9,\n 0,\n 0,\n 0,\n 13,\n 1,\n 8,\n 0,\n 17,\n 24,\n 22,\n 3,\n 0,\n 28,\n 0,\n 8,\n 0,\n 0,\n 16,\n 0,\n 0,\n 0,\n 0,\n 6,\n 0,\n 0,\n 2,\n 0,\n 1,\n 5,\n 3,\n 18,\n 0,\n 4,\n 0,\n 2,\n 0,\n 0,\n 0,\n 21,\n 0,\n 9,\n 0,\n 6,\n 0,\n 0,\n 1,\n 0,\n 16,\n 26,\n 0,\n 3,\n 0,\n 5,\n 13,\n 0,\n 0,\n 15,\n 0,\n 0,\n 0,\n 0,\n 1,\n 7,\n 6,\n 8,\n 2,\n 14,\n 0,\n 0,\n 0,\n 2,\n 0,\n 0,\n 0,\n 0,\n 0,\n 1,\n 0,\n 0,\n 0,\n 0,\n 0,\n 0,\n 0,\n 3,\n 0,\n 3,\n 0,\n 8,\n 0,\n 0,\n 0,\n 0,\n 0,\n 6,\n ...]"
     },
     "execution_count": 45,
     "metadata": {},
     "output_type": "execute_result"
    }
   ],
   "source": [
    "listmerge(np.argmax(test_tags, axis=1))"
   ],
   "metadata": {
    "collapsed": false
   }
  },
  {
   "cell_type": "code",
   "execution_count": 51,
   "outputs": [
    {
     "data": {
      "text/plain": "0.4985957306572683"
     },
     "execution_count": 51,
     "metadata": {},
     "output_type": "execute_result"
    }
   ],
   "source": [
    "f1_score(listmerge(np.argmax(test_tags, axis=1)), listmerge(np.argmax(predict, axis=1)), average='weighted')"
   ],
   "metadata": {
    "collapsed": false
   }
  },
  {
   "cell_type": "markdown",
   "source": [
    "Выводы следующие.\n",
    "Теггеры из коробки обучаются оптимально, в плане качество-скорость. Считается что триграмный тегер, лучше двуграмного а двуграмный лучше униграмного, в текущей выборке эти тегеры дают одинаковые результаты. Но Nltk теггеры наверное не совсем корректно применять на русскоязычном тексте, странная постановка задачи.\n",
    "\n",
    "Нейросеть в моем случае вероятно показала не настолько хорошие результаты. Но полагаю что ее можно обучить лучше классических теггеров, но необходимо как минимум больше эпох (возможно 20), такая нейросеть будет обучаться дольше. Но даже если брать базовую LSTM то она показывает неплохие результаты."
   ],
   "metadata": {
    "collapsed": false
   }
  },
  {
   "cell_type": "markdown",
   "source": [
    "### Задание 2. Проверить, насколько хорошо работает NER\n"
   ],
   "metadata": {
    "collapsed": false
   }
  },
  {
   "cell_type": "code",
   "execution_count": 52,
   "outputs": [],
   "source": [
    "model_name = \"DeepPavlov/rubert-base-cased-conversational\""
   ],
   "metadata": {
    "collapsed": false
   }
  },
  {
   "cell_type": "code",
   "execution_count": 101,
   "outputs": [
    {
     "ename": "UnicodeDecodeError",
     "evalue": "'charmap' codec can't decode byte 0x98 in position 171: character maps to <undefined>",
     "output_type": "error",
     "traceback": [
      "\u001B[1;31m---------------------------------------------------------------------------\u001B[0m",
      "\u001B[1;31mUnicodeDecodeError\u001B[0m                        Traceback (most recent call last)",
      "Input \u001B[1;32mIn [101]\u001B[0m, in \u001B[0;36m<cell line: 4>\u001B[1;34m()\u001B[0m\n\u001B[0;32m      1\u001B[0m \u001B[38;5;28;01mfrom\u001B[39;00m \u001B[38;5;21;01mcorus\u001B[39;00m \u001B[38;5;28;01mimport\u001B[39;00m load_ne5\n\u001B[0;32m      3\u001B[0m records \u001B[38;5;241m=\u001B[39m load_ne5(\u001B[38;5;124m'\u001B[39m\u001B[38;5;124mCollection5/\u001B[39m\u001B[38;5;124m'\u001B[39m)\n\u001B[1;32m----> 4\u001B[0m \u001B[38;5;28;43mnext\u001B[39;49m\u001B[43m(\u001B[49m\u001B[43mrecords\u001B[49m\u001B[43m)\u001B[49m\n",
      "File \u001B[1;32m~\\.conda\\envs\\NLP\\lib\\site-packages\\corus\\sources\\ne5.py:73\u001B[0m, in \u001B[0;36mload_ne5\u001B[1;34m(dir)\u001B[0m\n\u001B[0;32m     71\u001B[0m \u001B[38;5;28;01mdef\u001B[39;00m \u001B[38;5;21mload_ne5\u001B[39m(\u001B[38;5;28mdir\u001B[39m):\n\u001B[0;32m     72\u001B[0m     \u001B[38;5;28;01mfor\u001B[39;00m \u001B[38;5;28mid\u001B[39m \u001B[38;5;129;01min\u001B[39;00m list_ids(\u001B[38;5;28mdir\u001B[39m):\n\u001B[1;32m---> 73\u001B[0m         \u001B[38;5;28;01myield\u001B[39;00m \u001B[43mload_id\u001B[49m\u001B[43m(\u001B[49m\u001B[38;5;28;43mid\u001B[39;49m\u001B[43m,\u001B[49m\u001B[43m \u001B[49m\u001B[38;5;28;43mdir\u001B[39;49m\u001B[43m)\u001B[49m\n",
      "File \u001B[1;32m~\\.conda\\envs\\NLP\\lib\\site-packages\\corus\\sources\\ne5.py:64\u001B[0m, in \u001B[0;36mload_id\u001B[1;34m(id, dir)\u001B[0m\n\u001B[0;32m     62\u001B[0m \u001B[38;5;28;01mdef\u001B[39;00m \u001B[38;5;21mload_id\u001B[39m(\u001B[38;5;28mid\u001B[39m, \u001B[38;5;28mdir\u001B[39m):\n\u001B[0;32m     63\u001B[0m     path \u001B[38;5;241m=\u001B[39m txt_path(\u001B[38;5;28mid\u001B[39m, \u001B[38;5;28mdir\u001B[39m)\n\u001B[1;32m---> 64\u001B[0m     text \u001B[38;5;241m=\u001B[39m \u001B[43mload_text\u001B[49m\u001B[43m(\u001B[49m\u001B[43mpath\u001B[49m\u001B[43m)\u001B[49m\n\u001B[0;32m     65\u001B[0m     path \u001B[38;5;241m=\u001B[39m ann_path(\u001B[38;5;28mid\u001B[39m, \u001B[38;5;28mdir\u001B[39m)\n\u001B[0;32m     66\u001B[0m     lines \u001B[38;5;241m=\u001B[39m load_lines(path)\n",
      "File \u001B[1;32m~\\.conda\\envs\\NLP\\lib\\site-packages\\corus\\sources\\ne5.py:59\u001B[0m, in \u001B[0;36mload_text\u001B[1;34m(path)\u001B[0m\n\u001B[0;32m     56\u001B[0m \u001B[38;5;28;01mdef\u001B[39;00m \u001B[38;5;21mload_text\u001B[39m(path):\n\u001B[0;32m     57\u001B[0m     \u001B[38;5;66;03m# do not convert \\r\\n to \\n\u001B[39;00m\n\u001B[0;32m     58\u001B[0m     \u001B[38;5;28;01mwith\u001B[39;00m \u001B[38;5;28mopen\u001B[39m(path, newline\u001B[38;5;241m=\u001B[39m\u001B[38;5;124m'\u001B[39m\u001B[38;5;124m'\u001B[39m) \u001B[38;5;28;01mas\u001B[39;00m file:\n\u001B[1;32m---> 59\u001B[0m         \u001B[38;5;28;01mreturn\u001B[39;00m \u001B[43mfile\u001B[49m\u001B[38;5;241;43m.\u001B[39;49m\u001B[43mread\u001B[49m\u001B[43m(\u001B[49m\u001B[43m)\u001B[49m\n",
      "File \u001B[1;32m~\\.conda\\envs\\NLP\\lib\\encodings\\cp1251.py:23\u001B[0m, in \u001B[0;36mIncrementalDecoder.decode\u001B[1;34m(self, input, final)\u001B[0m\n\u001B[0;32m     22\u001B[0m \u001B[38;5;28;01mdef\u001B[39;00m \u001B[38;5;21mdecode\u001B[39m(\u001B[38;5;28mself\u001B[39m, \u001B[38;5;28minput\u001B[39m, final\u001B[38;5;241m=\u001B[39m\u001B[38;5;28;01mFalse\u001B[39;00m):\n\u001B[1;32m---> 23\u001B[0m     \u001B[38;5;28;01mreturn\u001B[39;00m \u001B[43mcodecs\u001B[49m\u001B[38;5;241;43m.\u001B[39;49m\u001B[43mcharmap_decode\u001B[49m\u001B[43m(\u001B[49m\u001B[38;5;28;43minput\u001B[39;49m\u001B[43m,\u001B[49m\u001B[38;5;28;43mself\u001B[39;49m\u001B[38;5;241;43m.\u001B[39;49m\u001B[43merrors\u001B[49m\u001B[43m,\u001B[49m\u001B[43mdecoding_table\u001B[49m\u001B[43m)\u001B[49m[\u001B[38;5;241m0\u001B[39m]\n",
      "\u001B[1;31mUnicodeDecodeError\u001B[0m: 'charmap' codec can't decode byte 0x98 in position 171: character maps to <undefined>"
     ]
    }
   ],
   "source": [
    "from corus import load_ne5\n",
    "\n",
    "records = load_ne5('Collection5/')\n",
    "next(records)"
   ],
   "metadata": {
    "collapsed": false
   }
  },
  {
   "cell_type": "code",
   "execution_count": 90,
   "outputs": [],
   "source": [
    "def split_record(record):\n",
    "    record_spans  = [{'start':spans.start, 'stop':spans.stop, 'text':spans.text, 'type':spans.type} for spans in record.spans]\n",
    "    record_spans  = sorted(record_spans, key=lambda x: x['start'])\n",
    "\n",
    "    tokens, tags = [], []\n",
    "    last_out_start = 0\n",
    "    for span in record_spans:\n",
    "        out_text = record.text[last_out_start: span['start']]\n",
    "        if len(out_text) > 0:\n",
    "            tokens.append(out_text)\n",
    "            tags.append('O')\n",
    "\n",
    "        tokens.append(span['text'])\n",
    "        tags.append(span['type'])\n",
    "\n",
    "        last_out_start = span['stop']\n",
    "\n",
    "    out_text = record.text[last_out_start:]\n",
    "    if len(out_text) > 0:\n",
    "        tokens.append(out_text)\n",
    "        tags.append('O')\n",
    "\n",
    "    return {'tokens': tokens, 'tags': tags}"
   ],
   "metadata": {
    "collapsed": false
   }
  },
  {
   "cell_type": "code",
   "execution_count": null,
   "outputs": [],
   "source": [
    "print(split_record(records[0]))"
   ],
   "metadata": {
    "collapsed": false
   }
  },
  {
   "cell_type": "code",
   "execution_count": null,
   "outputs": [],
   "source": [
    "ner_data = [split_record(item) for item in records]\n",
    "ner_train, ner_test = train_test_split(ner_data, test_size=0.1, random_state=1)"
   ],
   "metadata": {
    "collapsed": false
   }
  },
  {
   "cell_type": "code",
   "execution_count": null,
   "outputs": [],
   "source": [
    "label_list = sorted({label for item in ner_data for label in item['tags']})\n",
    "label_list = sum([[\"B-\" + tag, \"I-\" + tag]  for tag in label_list if tag != \"O\"], [\"O\"])\n",
    "print(label_list)"
   ],
   "metadata": {
    "collapsed": false
   }
  },
  {
   "cell_type": "code",
   "execution_count": null,
   "outputs": [],
   "source": [
    "label2id = {label:i for i, label in enumerate(label_list)}\n",
    "id2label = {val:key for key, val in label2id.items()}\n",
    "print(label2id)\n",
    "print(id2label)"
   ],
   "metadata": {
    "collapsed": false
   }
  },
  {
   "cell_type": "code",
   "execution_count": null,
   "outputs": [],
   "source": [
    "pd.DataFrame(ner_train).sample(3)"
   ],
   "metadata": {
    "collapsed": false
   }
  },
  {
   "cell_type": "code",
   "execution_count": null,
   "outputs": [],
   "source": [
    "from datasets import Dataset, DatasetDict\n",
    "\n",
    "ner_data = DatasetDict({\n",
    "    'train': Dataset.from_pandas(pd.DataFrame(ner_train)),\n",
    "    'test': Dataset.from_pandas(pd.DataFrame(ner_test))\n",
    "})\n",
    "ner_data"
   ],
   "metadata": {
    "collapsed": false
   }
  },
  {
   "cell_type": "code",
   "execution_count": null,
   "outputs": [],
   "source": [
    "from transformers import AutoTokenizer\n",
    "\n",
    "tokenizer = AutoTokenizer.from_pretrained(model_name)"
   ],
   "metadata": {
    "collapsed": false
   }
  },
  {
   "cell_type": "code",
   "execution_count": null,
   "outputs": [],
   "source": [
    "def tokenize_and_align_labels(examples, label_all_tokens=True):\n",
    "    tokenized_inputs = tokenizer(examples[\"tokens\"], max_length=512 , truncation=True, is_split_into_words=True)\n",
    "\n",
    "    labels = []\n",
    "    for i, label in enumerate(examples['tags']):\n",
    "        word_ids = tokenized_inputs.word_ids(batch_index=i)\n",
    "        previous_word_idx = None\n",
    "        label_ids = []\n",
    "        for word_idx in word_ids:\n",
    "            if word_idx is None:\n",
    "                label_ids.append(-100)\n",
    "            elif label[word_idx] == \"O\":\n",
    "                label_ids.append(label2id[\"O\"])\n",
    "            elif (not previous_word_idx is None) and (word_idx == previous_word_idx):\n",
    "                label_ids.append(label2id[\"I-\" + label[word_idx]])\n",
    "            else:\n",
    "                label_ids.append(label2id[\"B-\" + label[word_idx]])\n",
    "            previous_word_idx = word_idx\n",
    "\n",
    "        labels.append(label_ids)\n",
    "\n",
    "    tokenized_inputs[\"labels\"] = labels\n",
    "    return tokenized_inputs"
   ],
   "metadata": {
    "collapsed": false
   }
  },
  {
   "cell_type": "code",
   "execution_count": null,
   "outputs": [],
   "source": [
    "tokenize_and_align_labels(ner_data['train'][0:2])"
   ],
   "metadata": {
    "collapsed": false
   }
  },
  {
   "cell_type": "code",
   "execution_count": 54,
   "outputs": [
    {
     "ename": "NameError",
     "evalue": "name 'ner_data' is not defined",
     "output_type": "error",
     "traceback": [
      "\u001B[1;31m---------------------------------------------------------------------------\u001B[0m",
      "\u001B[1;31mNameError\u001B[0m                                 Traceback (most recent call last)",
      "Input \u001B[1;32mIn [54]\u001B[0m, in \u001B[0;36m<cell line: 1>\u001B[1;34m()\u001B[0m\n\u001B[1;32m----> 1\u001B[0m tokenized_datasets \u001B[38;5;241m=\u001B[39m \u001B[43mner_data\u001B[49m\u001B[38;5;241m.\u001B[39mmap(tokenize_and_align_labels, batched\u001B[38;5;241m=\u001B[39m\u001B[38;5;28;01mTrue\u001B[39;00m)\n",
      "\u001B[1;31mNameError\u001B[0m: name 'ner_data' is not defined"
     ]
    }
   ],
   "source": [
    "tokenized_datasets = ner_data.map(tokenize_and_align_labels, batched=True)"
   ],
   "metadata": {
    "collapsed": false
   }
  },
  {
   "cell_type": "code",
   "execution_count": null,
   "outputs": [],
   "source": [
    "print(len(tokenized_datasets['train'][0]['tokens']))\n",
    "print(len(tokenized_datasets['train'][0]['input_ids']))\n",
    "print(len(tokenized_datasets['train'][0]['labels']))"
   ],
   "metadata": {
    "collapsed": false
   }
  },
  {
   "cell_type": "code",
   "execution_count": null,
   "outputs": [],
   "source": [
    "from transformers import AutoModelForTokenClassification, TrainingArguments, Trainer\n",
    "\n",
    "\n",
    "model = AutoModelForTokenClassification.from_pretrained(model_name, num_labels=len(label_list))\n",
    "model.config.id2label = id2label\n",
    "model.config.label2id = label2id"
   ],
   "metadata": {
    "collapsed": false
   }
  },
  {
   "cell_type": "code",
   "execution_count": null,
   "outputs": [],
   "source": [
    "from transformers import DataCollatorForTokenClassification\n",
    "\n",
    "data_collator = DataCollatorForTokenClassification(tokenizer)"
   ],
   "metadata": {
    "collapsed": false
   }
  },
  {
   "cell_type": "code",
   "execution_count": null,
   "outputs": [],
   "source": [
    "from datasets import load_metric\n",
    "\n",
    "metric = load_metric(\"seqeval\")"
   ],
   "metadata": {
    "collapsed": false
   }
  },
  {
   "cell_type": "code",
   "execution_count": null,
   "outputs": [],
   "source": [
    "def compute_metrics(p):\n",
    "    predictions, labels = p\n",
    "    predictions = np.argmax(predictions, axis=2)\n",
    "\n",
    "    # Remove ignored index (special tokens)\n",
    "    true_predictions = [\n",
    "        [label_list[p] for (p, l) in zip(prediction, label) if l != -100]\n",
    "        for prediction, label in zip(predictions, labels)\n",
    "    ]\n",
    "    true_labels = [\n",
    "        [label_list[l] for (p, l) in zip(prediction, label) if l != -100]\n",
    "        for prediction, label in zip(predictions, labels)\n",
    "    ]\n",
    "\n",
    "    results = metric.compute(predictions=true_predictions, references=true_labels, zero_division=0)\n",
    "    return {\n",
    "        \"precision\": results[\"overall_precision\"],\n",
    "        \"recall\": results[\"overall_recall\"],\n",
    "        \"f1\": results[\"overall_f1\"],\n",
    "        \"accuracy\": results[\"overall_accuracy\"],\n",
    "    }"
   ],
   "metadata": {
    "collapsed": false
   }
  },
  {
   "cell_type": "code",
   "execution_count": null,
   "outputs": [],
   "source": [
    "import logging\n",
    "from transformers.trainer import logger as noisy_logger\n",
    "noisy_logger.setLevel(logging.WARNING)"
   ],
   "metadata": {
    "collapsed": false
   }
  },
  {
   "cell_type": "code",
   "execution_count": null,
   "outputs": [],
   "source": [
    "batch_size=16\n",
    "\n",
    "args = TrainingArguments(\n",
    "    \"ner\",\n",
    "    evaluation_strategy = \"epoch\",\n",
    "    learning_rate=1e-5,\n",
    "    per_device_train_batch_size=batch_size,\n",
    "    per_device_eval_batch_size=batch_size,\n",
    "    num_train_epochs=10,\n",
    "    weight_decay=0.01,\n",
    "    save_strategy='no',\n",
    "    report_to='none',\n",
    ")"
   ],
   "metadata": {
    "collapsed": false
   }
  },
  {
   "cell_type": "code",
   "execution_count": null,
   "outputs": [],
   "source": [
    "trainer = Trainer(\n",
    "    model,\n",
    "    args,\n",
    "    train_dataset=tokenized_datasets[\"train\"],\n",
    "    eval_dataset=tokenized_datasets[\"test\"],\n",
    "    data_collator=data_collator,\n",
    "    tokenizer=tokenizer,\n",
    "    compute_metrics=compute_metrics\n",
    ")\n",
    "\n",
    "trainer.train()"
   ],
   "metadata": {
    "collapsed": false
   }
  },
  {
   "cell_type": "code",
   "execution_count": null,
   "outputs": [],
   "source": [
    "trainer.evaluate()"
   ],
   "metadata": {
    "collapsed": false
   }
  },
  {
   "cell_type": "code",
   "execution_count": null,
   "outputs": [],
   "source": [
    "predictions, labels, _ = trainer.predict(tokenized_datasets[\"test\"])\n",
    "predictions = np.argmax(predictions, axis=2)\n",
    "\n",
    "# Remove ignored index (special tokens)\n",
    "true_predictions = [\n",
    "    [label_list[p] for (p, l) in zip(prediction, label) if l != -100]\n",
    "    for prediction, label in zip(predictions, labels)\n",
    "]\n",
    "true_labels = [\n",
    "    [label_list[l] for (p, l) in zip(prediction, label) if l != -100]\n",
    "    for prediction, label in zip(predictions, labels)\n",
    "]\n",
    "\n",
    "results = metric.compute(predictions=true_predictions, references=true_labels)\n",
    "results"
   ],
   "metadata": {
    "collapsed": false
   }
  },
  {
   "cell_type": "code",
   "execution_count": null,
   "outputs": [],
   "source": [
    "from sklearn.metrics import confusion_matrix\n",
    "import pandas as pd"
   ],
   "metadata": {
    "collapsed": false
   }
  },
  {
   "cell_type": "code",
   "execution_count": null,
   "outputs": [],
   "source": [
    "cm = pd.DataFrame(\n",
    "    confusion_matrix(sum(true_labels, []), sum(true_predictions, []), labels=label_list),\n",
    "    index=label_list,\n",
    "    columns=label_list\n",
    ")\n",
    "cm"
   ],
   "metadata": {
    "collapsed": false
   }
  },
  {
   "cell_type": "code",
   "execution_count": null,
   "outputs": [],
   "source": [
    "import torch\n",
    "\n",
    "tokens = tokenizer(records[0].text, return_tensors='pt')\n",
    "tokens = {k: v.to(model.device) for k, v in tokens.items()}\n",
    "\n",
    "with torch.no_grad():\n",
    "    pred = model(**tokens)\n",
    "pred.logits.shape"
   ],
   "metadata": {
    "collapsed": false
   }
  },
  {
   "cell_type": "code",
   "execution_count": 55,
   "outputs": [
    {
     "ename": "NameError",
     "evalue": "name 'pred' is not defined",
     "output_type": "error",
     "traceback": [
      "\u001B[1;31m---------------------------------------------------------------------------\u001B[0m",
      "\u001B[1;31mNameError\u001B[0m                                 Traceback (most recent call last)",
      "Input \u001B[1;32mIn [55]\u001B[0m, in \u001B[0;36m<cell line: 1>\u001B[1;34m()\u001B[0m\n\u001B[1;32m----> 1\u001B[0m indices \u001B[38;5;241m=\u001B[39m \u001B[43mpred\u001B[49m\u001B[38;5;241m.\u001B[39mlogits\u001B[38;5;241m.\u001B[39margmax(dim\u001B[38;5;241m=\u001B[39m\u001B[38;5;241m-\u001B[39m\u001B[38;5;241m1\u001B[39m)[\u001B[38;5;241m0\u001B[39m]\u001B[38;5;241m.\u001B[39mcpu()\u001B[38;5;241m.\u001B[39mnumpy()\n\u001B[0;32m      2\u001B[0m token_text \u001B[38;5;241m=\u001B[39m tokenizer\u001B[38;5;241m.\u001B[39mconvert_ids_to_tokens(tokens[\u001B[38;5;124m'\u001B[39m\u001B[38;5;124minput_ids\u001B[39m\u001B[38;5;124m'\u001B[39m][\u001B[38;5;241m0\u001B[39m])\n\u001B[0;32m      3\u001B[0m \u001B[38;5;28;01mfor\u001B[39;00m t, idx \u001B[38;5;129;01min\u001B[39;00m \u001B[38;5;28mzip\u001B[39m(token_text, indices):\n",
      "\u001B[1;31mNameError\u001B[0m: name 'pred' is not defined"
     ]
    }
   ],
   "source": [
    "indices = pred.logits.argmax(dim=-1)[0].cpu().numpy()\n",
    "token_text = tokenizer.convert_ids_to_tokens(tokens['input_ids'][0])\n",
    "for t, idx in zip(token_text, indices):\n",
    "    print(f'{t:15s} {label_list[idx]:10s}')"
   ],
   "metadata": {
    "collapsed": false
   }
  },
  {
   "cell_type": "code",
   "execution_count": null,
   "outputs": [],
   "source": [],
   "metadata": {
    "collapsed": false
   }
  }
 ],
 "metadata": {
  "kernelspec": {
   "display_name": "Python 3",
   "language": "python",
   "name": "python3"
  },
  "language_info": {
   "codemirror_mode": {
    "name": "ipython",
    "version": 2
   },
   "file_extension": ".py",
   "mimetype": "text/x-python",
   "name": "python",
   "nbconvert_exporter": "python",
   "pygments_lexer": "ipython2",
   "version": "2.7.6"
  }
 },
 "nbformat": 4,
 "nbformat_minor": 0
}
