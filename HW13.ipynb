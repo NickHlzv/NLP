{
 "cells": [
  {
   "cell_type": "code",
   "execution_count": 1,
   "metadata": {},
   "outputs": [],
   "source": [
    "import logging\n",
    "from transformers.trainer import logger as noisy_logger\n",
    "noisy_logger.setLevel(logging.WARNING)"
   ]
  },
  {
   "cell_type": "code",
   "execution_count": 2,
   "metadata": {},
   "outputs": [],
   "source": [
    "import numpy as np\n",
    "import pandas as pd\n",
    "\n",
    "import os\n",
    "\n",
    "from datasets import load_dataset, load_metric"
   ]
  },
  {
   "cell_type": "code",
   "execution_count": 3,
   "metadata": {},
   "outputs": [
    {
     "name": "stderr",
     "output_type": "stream",
     "text": [
      "Using custom data configuration merionum--ru_paraphraser-e39dafb2b050eb83\n",
      "Found cached dataset json (C:/Users/nikit/.cache/huggingface/datasets/merionum___json/merionum--ru_paraphraser-e39dafb2b050eb83/0.0.0/e6070c77f18f01a5ad4551a8b7edfba20b8438b7cad4d94e6ad9378022ce4aab)\n"
     ]
    },
    {
     "data": {
      "text/plain": "  0%|          | 0/2 [00:00<?, ?it/s]",
      "application/vnd.jupyter.widget-view+json": {
       "version_major": 2,
       "version_minor": 0,
       "model_id": "4de54d4efb664402b181b0a769612dc9"
      }
     },
     "metadata": {},
     "output_type": "display_data"
    }
   ],
   "source": [
    "corpus = load_dataset('merionum/ru_paraphraser')"
   ]
  },
  {
   "cell_type": "code",
   "execution_count": 4,
   "metadata": {},
   "outputs": [
    {
     "data": {
      "text/plain": "DatasetDict({\n    train: Dataset({\n        features: ['id', 'id_1', 'id_2', 'text_1', 'text_2', 'class'],\n        num_rows: 7227\n    })\n    test: Dataset({\n        features: ['id', 'id_1', 'id_2', 'text_1', 'text_2', 'class'],\n        num_rows: 1924\n    })\n})"
     },
     "execution_count": 4,
     "metadata": {},
     "output_type": "execute_result"
    }
   ],
   "source": [
    "corpus"
   ]
  },
  {
   "cell_type": "code",
   "execution_count": 5,
   "metadata": {},
   "outputs": [],
   "source": [
    "model_name = \"IlyaGusev/xlm_roberta_large_headline_cause_simple\"\n",
    "batch_size = 16"
   ]
  },
  {
   "cell_type": "code",
   "execution_count": 6,
   "metadata": {},
   "outputs": [],
   "source": [
    "from transformers import AutoTokenizer, BertTokenizerFast\n",
    "\n",
    "tokenizer = AutoTokenizer.from_pretrained(model_name)"
   ]
  },
  {
   "cell_type": "code",
   "execution_count": 7,
   "metadata": {},
   "outputs": [
    {
     "data": {
      "text/plain": "['-1', '0', '1']"
     },
     "execution_count": 7,
     "metadata": {},
     "output_type": "execute_result"
    }
   ],
   "source": [
    "label_list = sorted(set(corpus['train']['class']))\n",
    "label_list"
   ]
  },
  {
   "cell_type": "code",
   "execution_count": 8,
   "metadata": {},
   "outputs": [
    {
     "data": {
      "text/plain": "{'-1': 0, '0': 1, '1': 2}"
     },
     "execution_count": 8,
     "metadata": {},
     "output_type": "execute_result"
    }
   ],
   "source": [
    "labels2id = { key:id for id, key in enumerate(label_list)}\n",
    "labels2id"
   ]
  },
  {
   "cell_type": "code",
   "execution_count": 9,
   "metadata": {},
   "outputs": [
    {
     "data": {
      "text/plain": "{0: '-1', 1: '0', 2: '1'}"
     },
     "execution_count": 9,
     "metadata": {},
     "output_type": "execute_result"
    }
   ],
   "source": [
    "id2labels = { id:key for id, key in enumerate(label_list)}\n",
    "id2labels"
   ]
  },
  {
   "cell_type": "code",
   "execution_count": 10,
   "metadata": {},
   "outputs": [],
   "source": [
    "def tokenize_and_align_labels(tokenizer, labels2id):\n",
    "    def tokenize_and_align_labels_(examples):\n",
    "        tokenized_inputs = tokenizer(examples['text_1'],examples['text_2'], truncation=True)\n",
    "        tokenized_inputs[\"labels\"] = [labels2id[label] for label in examples['class']]\n",
    "        return tokenized_inputs\n",
    "    return tokenize_and_align_labels_"
   ]
  },
  {
   "cell_type": "code",
   "execution_count": 11,
   "metadata": {},
   "outputs": [
    {
     "data": {
      "text/plain": "{'input_ids': [[0, 18449, 1068, 1951, 169066, 59, 42136, 59392, 529, 68056, 49869, 159288, 6, 32345, 14539, 25455, 5, 2, 2, 6, 144048, 145158, 184643, 18449, 28196, 529, 68056, 49869, 159288, 6, 32345, 14539, 25455, 5, 2], [0, 417, 33372, 526, 70847, 132653, 326, 175857, 529, 861, 29034, 7329, 155333, 24863, 5, 2, 2, 417, 33372, 526, 70847, 132653, 326, 175857, 529, 861, 29034, 534, 11591, 149673, 5, 2], [0, 417, 14100, 695, 1200, 49, 30037, 1269, 326, 3699, 108854, 1857, 56869, 90229, 546, 209, 9561, 5, 2, 2, 417, 68642, 69, 53177, 29, 108854, 1857, 47745, 49, 14100, 695, 1200, 90229, 546, 209, 9561, 5, 2], [0, 72085, 138109, 87830, 29, 23262, 2294, 90569, 11974, 24744, 59, 161679, 8568, 5, 2, 2, 69242, 64393, 41976, 4560, 1560, 182076, 29, 29230, 23262, 49, 72085, 138109, 5, 2]], 'attention_mask': [[1, 1, 1, 1, 1, 1, 1, 1, 1, 1, 1, 1, 1, 1, 1, 1, 1, 1, 1, 1, 1, 1, 1, 1, 1, 1, 1, 1, 1, 1, 1, 1, 1, 1, 1], [1, 1, 1, 1, 1, 1, 1, 1, 1, 1, 1, 1, 1, 1, 1, 1, 1, 1, 1, 1, 1, 1, 1, 1, 1, 1, 1, 1, 1, 1, 1, 1], [1, 1, 1, 1, 1, 1, 1, 1, 1, 1, 1, 1, 1, 1, 1, 1, 1, 1, 1, 1, 1, 1, 1, 1, 1, 1, 1, 1, 1, 1, 1, 1, 1, 1, 1, 1, 1, 1], [1, 1, 1, 1, 1, 1, 1, 1, 1, 1, 1, 1, 1, 1, 1, 1, 1, 1, 1, 1, 1, 1, 1, 1, 1, 1, 1, 1, 1, 1]], 'labels': [1, 2, 2, 2]}"
     },
     "execution_count": 11,
     "metadata": {},
     "output_type": "execute_result"
    }
   ],
   "source": [
    "tokenized_input = tokenize_and_align_labels(tokenizer, labels2id)(corpus['train'][20:24])\n",
    "tokenized_input"
   ]
  },
  {
   "cell_type": "code",
   "execution_count": 12,
   "metadata": {},
   "outputs": [
    {
     "name": "stdout",
     "output_type": "stream",
     "text": [
      "['<s>', '▁Че', 'ч', 'ня', '▁попросил', 'а', '▁национал', 'истов', '▁со', 'ставить', '▁кодекс', '▁поведения', '▁', 'кав', 'каз', 'цев', '.', '</s>', '</s>', '▁', 'Национал', 'исты', '▁помогут', '▁Че', 'чне', '▁со', 'ставить', '▁кодекс', '▁поведения', '▁', 'кав', 'каз', 'цев', '.', '</s>']\n"
     ]
    }
   ],
   "source": [
    "tokens = tokenizer.convert_ids_to_tokens(tokenized_input[\"input_ids\"][0])\n",
    "print(tokens)"
   ]
  },
  {
   "cell_type": "code",
   "execution_count": 13,
   "metadata": {},
   "outputs": [
    {
     "data": {
      "text/plain": "{'id': '21',\n 'id_1': '3',\n 'id_2': '4116',\n 'text_1': 'Чечня попросила националистов составить кодекс поведения кавказцев.',\n 'text_2': 'Националисты помогут Чечне составить кодекс поведения кавказцев.',\n 'class': '0'}"
     },
     "execution_count": 13,
     "metadata": {},
     "output_type": "execute_result"
    }
   ],
   "source": [
    "corpus['train'][20]"
   ]
  },
  {
   "cell_type": "code",
   "execution_count": 14,
   "metadata": {},
   "outputs": [
    {
     "name": "stderr",
     "output_type": "stream",
     "text": [
      "Loading cached processed dataset at C:/Users/nikit/.cache/huggingface/datasets/merionum___json/merionum--ru_paraphraser-e39dafb2b050eb83/0.0.0/e6070c77f18f01a5ad4551a8b7edfba20b8438b7cad4d94e6ad9378022ce4aab\\cache-7d1970e02f698707.arrow\n",
      "Loading cached processed dataset at C:/Users/nikit/.cache/huggingface/datasets/merionum___json/merionum--ru_paraphraser-e39dafb2b050eb83/0.0.0/e6070c77f18f01a5ad4551a8b7edfba20b8438b7cad4d94e6ad9378022ce4aab\\cache-c816f4ded8d8e856.arrow\n"
     ]
    }
   ],
   "source": [
    "tokenized_datasets = corpus.map(tokenize_and_align_labels(tokenizer, labels2id), batched=True)"
   ]
  },
  {
   "cell_type": "code",
   "execution_count": 15,
   "metadata": {},
   "outputs": [
    {
     "data": {
      "text/plain": "DatasetDict({\n    train: Dataset({\n        features: ['id', 'id_1', 'id_2', 'text_1', 'text_2', 'class', 'input_ids', 'attention_mask', 'labels'],\n        num_rows: 7227\n    })\n    test: Dataset({\n        features: ['id', 'id_1', 'id_2', 'text_1', 'text_2', 'class', 'input_ids', 'attention_mask', 'labels'],\n        num_rows: 1924\n    })\n})"
     },
     "execution_count": 15,
     "metadata": {},
     "output_type": "execute_result"
    }
   ],
   "source": [
    "tokenized_datasets"
   ]
  },
  {
   "cell_type": "code",
   "execution_count": 16,
   "metadata": {},
   "outputs": [],
   "source": [
    "from transformers import DataCollatorWithPadding\n",
    "\n",
    "data_collator = DataCollatorWithPadding(tokenizer=tokenizer)"
   ]
  },
  {
   "cell_type": "code",
   "execution_count": 17,
   "metadata": {},
   "outputs": [],
   "source": [
    "from transformers import AutoModelForSequenceClassification, BertForSequenceClassification, TrainingArguments, Trainer\n",
    "\n",
    "model = AutoModelForSequenceClassification.from_pretrained(model_name, num_labels=len(label_list))\n",
    "model.config.id2label = id2labels\n",
    "model.config.label2id = labels2id"
   ]
  },
  {
   "cell_type": "code",
   "execution_count": 18,
   "metadata": {},
   "outputs": [
    {
     "name": "stderr",
     "output_type": "stream",
     "text": [
      "C:\\Users\\nikit\\AppData\\Local\\Temp\\ipykernel_3036\\99795553.py:3: FutureWarning: load_metric is deprecated and will be removed in the next major version of datasets. Use 'evaluate.load' instead, from the new library 🤗 Evaluate: https://huggingface.co/docs/evaluate\n",
      "  metric = load_metric(\"accuracy\")\n"
     ]
    }
   ],
   "source": [
    "from datasets import load_metric\n",
    "\n",
    "metric = load_metric(\"accuracy\")"
   ]
  },
  {
   "cell_type": "code",
   "execution_count": 19,
   "metadata": {},
   "outputs": [],
   "source": [
    "def compute_metrics(eval_pred):\n",
    "\n",
    "    logits, labels = eval_pred\n",
    "\n",
    "    predictions = np.argmax(logits, axis=-1)\n",
    "\n",
    "    return metric.compute(predictions=predictions, references=labels)"
   ]
  },
  {
   "cell_type": "code",
   "execution_count": 20,
   "metadata": {},
   "outputs": [],
   "source": [
    "args = TrainingArguments(\n",
    "    \"paraphras\",\n",
    "    evaluation_strategy = \"epoch\",\n",
    "    learning_rate=2e-6,\n",
    "    per_device_train_batch_size=batch_size,\n",
    "    per_device_eval_batch_size=batch_size,\n",
    "    num_train_epochs=5,\n",
    "    weight_decay=0.05,\n",
    "    save_strategy='no',\n",
    "    report_to='none',\n",
    ")"
   ]
  },
  {
   "cell_type": "code",
   "execution_count": 21,
   "metadata": {},
   "outputs": [],
   "source": [
    "trainer = Trainer(\n",
    "    model,\n",
    "    args,\n",
    "    train_dataset=tokenized_datasets[\"train\"],\n",
    "    eval_dataset=tokenized_datasets[\"test\"],\n",
    "    data_collator=data_collator,\n",
    "    tokenizer=tokenizer,\n",
    "    compute_metrics=compute_metrics\n",
    ")"
   ]
  },
  {
   "cell_type": "code",
   "execution_count": 22,
   "metadata": {},
   "outputs": [
    {
     "name": "stderr",
     "output_type": "stream",
     "text": [
      "C:\\Users\\nikit\\.conda\\envs\\NLP\\lib\\site-packages\\transformers\\optimization.py:306: FutureWarning: This implementation of AdamW is deprecated and will be removed in a future version. Use the PyTorch implementation torch.optim.AdamW instead, or set `no_deprecation_warning=True` to disable this warning\n",
      "  warnings.warn(\n",
      "You're using a XLMRobertaTokenizerFast tokenizer. Please note that with a fast tokenizer, using the `__call__` method is faster than using a method to encode the text followed by a call to the `pad` method to get a padded encoding.\n"
     ]
    },
    {
     "data": {
      "text/plain": "<IPython.core.display.HTML object>",
      "text/html": "\n    <div>\n      \n      <progress value='2' max='2260' style='width:300px; height:20px; vertical-align: middle;'></progress>\n      [   2/2260 : < :, Epoch 0.00/5]\n    </div>\n    <table border=\"1\" class=\"dataframe\">\n  <thead>\n <tr style=\"text-align: left;\">\n      <th>Epoch</th>\n      <th>Training Loss</th>\n      <th>Validation Loss</th>\n    </tr>\n  </thead>\n  <tbody>\n  </tbody>\n</table><p>"
     },
     "metadata": {},
     "output_type": "display_data"
    },
    {
     "data": {
      "text/plain": "TrainOutput(global_step=2260, training_loss=0.5833041233299053, metrics={'train_runtime': 29037.5976, 'train_samples_per_second': 1.244, 'train_steps_per_second': 0.078, 'total_flos': 3034369670565798.0, 'train_loss': 0.5833041233299053, 'epoch': 5.0})"
     },
     "execution_count": 22,
     "metadata": {},
     "output_type": "execute_result"
    }
   ],
   "source": [
    "trainer.train()"
   ]
  },
  {
   "cell_type": "code",
   "execution_count": 23,
   "metadata": {},
   "outputs": [],
   "source": [
    "example = tokenized_datasets[\"test\"][40:80]"
   ]
  },
  {
   "cell_type": "code",
   "execution_count": 25,
   "metadata": {},
   "outputs": [],
   "source": [
    "import torch\n",
    "tokens = tokenizer(example['text_1'], example['text_1'], padding=True, truncation=True, return_tensors='pt')\n",
    "#tokens = tokens.to('cuda:0')\n",
    "\n",
    "with torch.no_grad():\n",
    "    outputs = model(**tokens)\n",
    "\n",
    "predicted = outputs.logits.argmax(dim=-1).cpu().numpy()\n",
    "classes = [id2labels[id_label] for id_label in predicted]"
   ]
  },
  {
   "cell_type": "code",
   "execution_count": 26,
   "metadata": {},
   "outputs": [
    {
     "data": {
      "text/plain": "                                               text_1  \\\n0   Владимир Путин освободил от должности почти 20...   \n1   Источник: Якунин озвучил свою месячную зарплат...   \n2            Apple получила патент на социальную сеть   \n3   Подвесной потолок обрушился в аэропорту Стамбу...   \n4        Россия представляет принципиально новый танк   \n5   Генсек ООН и премьер Украины обсудили минские ...   \n6   Результаты выборов в Великобритании укрепили фунт   \n7   Николич: Сербия не говорила о нежелании строит...   \n8   СМИ сообщают об обысках в Минкульте по делу о ...   \n9    Любляна отпразднует День Победы вместе с Москвой   \n10  Премьер Словакии прибыл в Москву для участия в...   \n11  Кремль: Порошенко не был приглашен в Москву на...   \n12                «Прогресс» сгорел над Тихим океаном   \n13  Дворнику на Римского-Корсакова подкинули трехм...   \n14  СМИ: украинский боксер разгневал своих фанатов...   \n15  Самолеты коалиции начали бомбардировку йеменск...   \n16  Греция подтвердила США интерес к газопроводу о...   \n17  Хаджииоанну: США могут предложить Греции лишь ...   \n18     Разговор о роли России во Второй мировой войне   \n19  Путеводитель по Дню Победы: как провести 9 мая...   \n20  Коморовский: отсутствие Меркель в Москве 9 мая...   \n21  Аваков уволил 15 руководителей МВД Украины в р...   \n22  Бывший ядерщик обвинен в США за попытку кражи ...   \n23  Бывший ядерщик обвинен в США за попытку кражи ...   \n24  Бывший ядерщик обвинен в США за попытку кражи ...   \n25  Четыре человека погибли при крушении легкомото...   \n26  Легкомоторный самолет упал в штате Вашингтон, ...   \n27  КНДР заявила о проведении подводного запуска б...   \n28  КНДР провела испытательный подводный пуск балл...   \n29  КНДР заявила о проведении подводного запуска б...   \n30  Путеводитель по Дню Победы: как провести 9 мая...   \n31  Облака над Москвой в День Победы разгонят девя...   \n32                        День Победы в режиме онлайн   \n33              Около 40 китов погибли у берегов Чили   \n34  Принц Чарльз надеется, что внучка будет заботи...   \n35  Апакан призвал стороны украинского конфликта с...   \n36  Пентагон: США считают вероятным приобретение К...   \n37  Вице-президент Гватемалы ушла в отставку из-за...   \n38            СМИ: скончался бас-гитарист группы ABBA   \n39            СМИ: скончался бас-гитарист группы ABBA   \n\n                                               text_2 class predict  \n0   Путин снял с должностей более 20 руководителей...     0       1  \n1                 Якунин назвал размер своей зарплаты     0       1  \n2        Apple получила патент на собственную соцсеть     1       1  \n3   Четверо пострадали при обрушении подвесного по...     1       1  \n4         Вашингтон пригрозил России новыми санкциями    -1       1  \n5   Генсек ООН и премьер-министр Украины обсудили ...     1       1  \n6   Стали известны окончательные результаты выборо...    -1       1  \n7   Президент Сербии опроверг свои слова об отказе...     0       1  \n8   Минкультуры отчиталось перед следствием по дел...    -1       1  \n9   Путеводитель по Дню Победы: как провести 9 мая...    -1       1  \n10  Путеводитель по Дню Победы: как провести 9 мая...    -1       1  \n11  Путеводитель по Дню Победы: как провести 9 мая...    -1       1  \n12  Путин: кооперация с Китаем поспособствует прит...    -1       1  \n13   Светлана Медведева награждена высшим орденом РПЦ    -1       1  \n14  Украинский боксер удалил фотографию с георгиев...    -1       1  \n15  Самолеты Арабской коалиции начали бомбить йеме...     1       1  \n16  США предложили Греции отказаться от участия в ...    -1       1  \n17  США предложили Греции отказаться от участия в ...    -1       1  \n18  Консервативная партия получила большинство в б...    -1       1  \n19  Лукашенко назвал надуманной проблему своего от...    -1       0  \n20  Лукашенко назвал надуманной проблему своего от...    -1       1  \n21  Аваков уволил 15 региональных руководителей МВ...     0       1  \n22  Бывший ядерщик обвинен в США за попытку кражи ...     0       1  \n23  Бывший американский чиновник обвинен в попытке...     0       1  \n24  Бывший американский чиновник обвинен в попытке...     0       1  \n25  В США 4 человека погибли при крушении легкомот...     1       1  \n26  В США 4 человека погибли при крушении легкомот...    -1       1  \n27  КНДР провела испытательный подводный пуск балл...     1       1  \n28  КНДР сообщила о пробном запуске баллистической...     0       1  \n29  КНДР сообщила о пробном запуске баллистической...     1       1  \n30  В Москве ограничат движение в связи с Днем Победы    -1       0  \n31  В Москве ограничат движение в связи с Днем Победы    -1       1  \n32  В Москве ограничат движение в связи с Днем Победы    -1       0  \n33    Около 40 китов выбросились на берег на юге Чили     1       1  \n34      Принц Чарльз: Внучка будет заботиться обо мне     0       0  \n35            В ОБСЕ призвали к миру на Украине 9 Мая     0       1  \n36  В Пентагоне сочли вероятным приобретение Китае...     1       1  \n37  Вице-президент Гватемалы оставит свой пост из-...     0       1  \n38        В Швеции скончался бас-гитарист группы ABBA     1       1  \n39        В Швеции скончался бас-гитарист группы ABBA     1       1  ",
      "text/html": "<div>\n<style scoped>\n    .dataframe tbody tr th:only-of-type {\n        vertical-align: middle;\n    }\n\n    .dataframe tbody tr th {\n        vertical-align: top;\n    }\n\n    .dataframe thead th {\n        text-align: right;\n    }\n</style>\n<table border=\"1\" class=\"dataframe\">\n  <thead>\n    <tr style=\"text-align: right;\">\n      <th></th>\n      <th>text_1</th>\n      <th>text_2</th>\n      <th>class</th>\n      <th>predict</th>\n    </tr>\n  </thead>\n  <tbody>\n    <tr>\n      <th>0</th>\n      <td>Владимир Путин освободил от должности почти 20...</td>\n      <td>Путин снял с должностей более 20 руководителей...</td>\n      <td>0</td>\n      <td>1</td>\n    </tr>\n    <tr>\n      <th>1</th>\n      <td>Источник: Якунин озвучил свою месячную зарплат...</td>\n      <td>Якунин назвал размер своей зарплаты</td>\n      <td>0</td>\n      <td>1</td>\n    </tr>\n    <tr>\n      <th>2</th>\n      <td>Apple получила патент на социальную сеть</td>\n      <td>Apple получила патент на собственную соцсеть</td>\n      <td>1</td>\n      <td>1</td>\n    </tr>\n    <tr>\n      <th>3</th>\n      <td>Подвесной потолок обрушился в аэропорту Стамбу...</td>\n      <td>Четверо пострадали при обрушении подвесного по...</td>\n      <td>1</td>\n      <td>1</td>\n    </tr>\n    <tr>\n      <th>4</th>\n      <td>Россия представляет принципиально новый танк</td>\n      <td>Вашингтон пригрозил России новыми санкциями</td>\n      <td>-1</td>\n      <td>1</td>\n    </tr>\n    <tr>\n      <th>5</th>\n      <td>Генсек ООН и премьер Украины обсудили минские ...</td>\n      <td>Генсек ООН и премьер-министр Украины обсудили ...</td>\n      <td>1</td>\n      <td>1</td>\n    </tr>\n    <tr>\n      <th>6</th>\n      <td>Результаты выборов в Великобритании укрепили фунт</td>\n      <td>Стали известны окончательные результаты выборо...</td>\n      <td>-1</td>\n      <td>1</td>\n    </tr>\n    <tr>\n      <th>7</th>\n      <td>Николич: Сербия не говорила о нежелании строит...</td>\n      <td>Президент Сербии опроверг свои слова об отказе...</td>\n      <td>0</td>\n      <td>1</td>\n    </tr>\n    <tr>\n      <th>8</th>\n      <td>СМИ сообщают об обысках в Минкульте по делу о ...</td>\n      <td>Минкультуры отчиталось перед следствием по дел...</td>\n      <td>-1</td>\n      <td>1</td>\n    </tr>\n    <tr>\n      <th>9</th>\n      <td>Любляна отпразднует День Победы вместе с Москвой</td>\n      <td>Путеводитель по Дню Победы: как провести 9 мая...</td>\n      <td>-1</td>\n      <td>1</td>\n    </tr>\n    <tr>\n      <th>10</th>\n      <td>Премьер Словакии прибыл в Москву для участия в...</td>\n      <td>Путеводитель по Дню Победы: как провести 9 мая...</td>\n      <td>-1</td>\n      <td>1</td>\n    </tr>\n    <tr>\n      <th>11</th>\n      <td>Кремль: Порошенко не был приглашен в Москву на...</td>\n      <td>Путеводитель по Дню Победы: как провести 9 мая...</td>\n      <td>-1</td>\n      <td>1</td>\n    </tr>\n    <tr>\n      <th>12</th>\n      <td>«Прогресс» сгорел над Тихим океаном</td>\n      <td>Путин: кооперация с Китаем поспособствует прит...</td>\n      <td>-1</td>\n      <td>1</td>\n    </tr>\n    <tr>\n      <th>13</th>\n      <td>Дворнику на Римского-Корсакова подкинули трехм...</td>\n      <td>Светлана Медведева награждена высшим орденом РПЦ</td>\n      <td>-1</td>\n      <td>1</td>\n    </tr>\n    <tr>\n      <th>14</th>\n      <td>СМИ: украинский боксер разгневал своих фанатов...</td>\n      <td>Украинский боксер удалил фотографию с георгиев...</td>\n      <td>-1</td>\n      <td>1</td>\n    </tr>\n    <tr>\n      <th>15</th>\n      <td>Самолеты коалиции начали бомбардировку йеменск...</td>\n      <td>Самолеты Арабской коалиции начали бомбить йеме...</td>\n      <td>1</td>\n      <td>1</td>\n    </tr>\n    <tr>\n      <th>16</th>\n      <td>Греция подтвердила США интерес к газопроводу о...</td>\n      <td>США предложили Греции отказаться от участия в ...</td>\n      <td>-1</td>\n      <td>1</td>\n    </tr>\n    <tr>\n      <th>17</th>\n      <td>Хаджииоанну: США могут предложить Греции лишь ...</td>\n      <td>США предложили Греции отказаться от участия в ...</td>\n      <td>-1</td>\n      <td>1</td>\n    </tr>\n    <tr>\n      <th>18</th>\n      <td>Разговор о роли России во Второй мировой войне</td>\n      <td>Консервативная партия получила большинство в б...</td>\n      <td>-1</td>\n      <td>1</td>\n    </tr>\n    <tr>\n      <th>19</th>\n      <td>Путеводитель по Дню Победы: как провести 9 мая...</td>\n      <td>Лукашенко назвал надуманной проблему своего от...</td>\n      <td>-1</td>\n      <td>0</td>\n    </tr>\n    <tr>\n      <th>20</th>\n      <td>Коморовский: отсутствие Меркель в Москве 9 мая...</td>\n      <td>Лукашенко назвал надуманной проблему своего от...</td>\n      <td>-1</td>\n      <td>1</td>\n    </tr>\n    <tr>\n      <th>21</th>\n      <td>Аваков уволил 15 руководителей МВД Украины в р...</td>\n      <td>Аваков уволил 15 региональных руководителей МВ...</td>\n      <td>0</td>\n      <td>1</td>\n    </tr>\n    <tr>\n      <th>22</th>\n      <td>Бывший ядерщик обвинен в США за попытку кражи ...</td>\n      <td>Бывший ядерщик обвинен в США за попытку кражи ...</td>\n      <td>0</td>\n      <td>1</td>\n    </tr>\n    <tr>\n      <th>23</th>\n      <td>Бывший ядерщик обвинен в США за попытку кражи ...</td>\n      <td>Бывший американский чиновник обвинен в попытке...</td>\n      <td>0</td>\n      <td>1</td>\n    </tr>\n    <tr>\n      <th>24</th>\n      <td>Бывший ядерщик обвинен в США за попытку кражи ...</td>\n      <td>Бывший американский чиновник обвинен в попытке...</td>\n      <td>0</td>\n      <td>1</td>\n    </tr>\n    <tr>\n      <th>25</th>\n      <td>Четыре человека погибли при крушении легкомото...</td>\n      <td>В США 4 человека погибли при крушении легкомот...</td>\n      <td>1</td>\n      <td>1</td>\n    </tr>\n    <tr>\n      <th>26</th>\n      <td>Легкомоторный самолет упал в штате Вашингтон, ...</td>\n      <td>В США 4 человека погибли при крушении легкомот...</td>\n      <td>-1</td>\n      <td>1</td>\n    </tr>\n    <tr>\n      <th>27</th>\n      <td>КНДР заявила о проведении подводного запуска б...</td>\n      <td>КНДР провела испытательный подводный пуск балл...</td>\n      <td>1</td>\n      <td>1</td>\n    </tr>\n    <tr>\n      <th>28</th>\n      <td>КНДР провела испытательный подводный пуск балл...</td>\n      <td>КНДР сообщила о пробном запуске баллистической...</td>\n      <td>0</td>\n      <td>1</td>\n    </tr>\n    <tr>\n      <th>29</th>\n      <td>КНДР заявила о проведении подводного запуска б...</td>\n      <td>КНДР сообщила о пробном запуске баллистической...</td>\n      <td>1</td>\n      <td>1</td>\n    </tr>\n    <tr>\n      <th>30</th>\n      <td>Путеводитель по Дню Победы: как провести 9 мая...</td>\n      <td>В Москве ограничат движение в связи с Днем Победы</td>\n      <td>-1</td>\n      <td>0</td>\n    </tr>\n    <tr>\n      <th>31</th>\n      <td>Облака над Москвой в День Победы разгонят девя...</td>\n      <td>В Москве ограничат движение в связи с Днем Победы</td>\n      <td>-1</td>\n      <td>1</td>\n    </tr>\n    <tr>\n      <th>32</th>\n      <td>День Победы в режиме онлайн</td>\n      <td>В Москве ограничат движение в связи с Днем Победы</td>\n      <td>-1</td>\n      <td>0</td>\n    </tr>\n    <tr>\n      <th>33</th>\n      <td>Около 40 китов погибли у берегов Чили</td>\n      <td>Около 40 китов выбросились на берег на юге Чили</td>\n      <td>1</td>\n      <td>1</td>\n    </tr>\n    <tr>\n      <th>34</th>\n      <td>Принц Чарльз надеется, что внучка будет заботи...</td>\n      <td>Принц Чарльз: Внучка будет заботиться обо мне</td>\n      <td>0</td>\n      <td>0</td>\n    </tr>\n    <tr>\n      <th>35</th>\n      <td>Апакан призвал стороны украинского конфликта с...</td>\n      <td>В ОБСЕ призвали к миру на Украине 9 Мая</td>\n      <td>0</td>\n      <td>1</td>\n    </tr>\n    <tr>\n      <th>36</th>\n      <td>Пентагон: США считают вероятным приобретение К...</td>\n      <td>В Пентагоне сочли вероятным приобретение Китае...</td>\n      <td>1</td>\n      <td>1</td>\n    </tr>\n    <tr>\n      <th>37</th>\n      <td>Вице-президент Гватемалы ушла в отставку из-за...</td>\n      <td>Вице-президент Гватемалы оставит свой пост из-...</td>\n      <td>0</td>\n      <td>1</td>\n    </tr>\n    <tr>\n      <th>38</th>\n      <td>СМИ: скончался бас-гитарист группы ABBA</td>\n      <td>В Швеции скончался бас-гитарист группы ABBA</td>\n      <td>1</td>\n      <td>1</td>\n    </tr>\n    <tr>\n      <th>39</th>\n      <td>СМИ: скончался бас-гитарист группы ABBA</td>\n      <td>В Швеции скончался бас-гитарист группы ABBA</td>\n      <td>1</td>\n      <td>1</td>\n    </tr>\n  </tbody>\n</table>\n</div>"
     },
     "execution_count": 26,
     "metadata": {},
     "output_type": "execute_result"
    }
   ],
   "source": [
    "df_example =pd.DataFrame({'text_1':example['text_1'], 'text_2':example['text_2'], 'class':example['class'], 'predict':classes})\n",
    "df_example"
   ]
  },
  {
   "cell_type": "code",
   "execution_count": null,
   "metadata": {},
   "outputs": [],
   "source": []
  }
 ],
 "metadata": {
  "kernelspec": {
   "display_name": "Python 3 (ipykernel)",
   "language": "python",
   "name": "python3"
  },
  "language_info": {
   "codemirror_mode": {
    "name": "ipython",
    "version": 3
   },
   "file_extension": ".py",
   "mimetype": "text/x-python",
   "name": "python",
   "nbconvert_exporter": "python",
   "pygments_lexer": "ipython3",
   "version": "3.9.13"
  }
 },
 "nbformat": 4,
 "nbformat_minor": 1
}
